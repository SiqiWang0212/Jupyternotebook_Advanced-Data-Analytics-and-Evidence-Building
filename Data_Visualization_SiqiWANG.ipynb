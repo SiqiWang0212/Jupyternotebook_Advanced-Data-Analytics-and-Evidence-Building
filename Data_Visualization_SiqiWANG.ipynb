{
 "cells": [
  {
   "cell_type": "markdown",
   "metadata": {
    "id": "1B6StSr2I7Wl"
   },
   "source": [
    "# Data Visualization\n",
    "By Maryah Garner"
   ]
  },
  {
   "cell_type": "markdown",
   "metadata": {
    "id": "InBwAt7MI7Wn"
   },
   "source": [
    "## Table of Contents\n",
    "* [Choosing a Data Visualization Package](#Choosing_Package)\n",
    "* [Setup - Load Python Packages](#setup)\n",
    "* [Read in Projects Data from 2012-2021](#read)\n",
    "* [Checkpoint 1](#cp1) \n",
    "* [Visualizations](#visualizations)  \n",
    "* [Barplots](#barplots)\n",
    "* [Presentation Ready Figures](#presentation)    \n",
    "* [Checkpoint 2](#cp2)\n",
    "* [Percentage of Core Cancer projects over time](#cancer_pi)\n",
    "* [Stacked Barplot](#stacked)   \n",
    "* [Geopandas](#geopandas)\n",
    "* [Heat Map of the United States ](#hm)\n",
    "* [More visuals](#More)\n",
    "    * [Lineplots](#lineplots)\n",
    "    * [Histagram](#Histagram)\n",
    "    * [Layering in Matplotlib](#Layering)\n",
    "* [Checkpoint 3](#cp3)\n",
    "* [More Resources](#Resources)\n",
    "* [Other Python Visualization Libraries](#Other)"
   ]
  },
  {
   "cell_type": "markdown",
   "metadata": {
    "id": "VEb1J4CLI7Wn"
   },
   "source": [
    "## Choosing a Data Visualization Package <a class=\"anchor\" id=\"Choosing_Package\"></a>\n",
    "\n",
    "There are many excellent data visualiation modules available in Python, but for the tutorial we will stick to the tried and true combination of **matplotlib** and **seaborn**. You can read more about different options for data visualization in Python in the [More Resources](#More-Resources:) section at the bottom of this notebook. \n",
    "\n",
    "### Matplotlib\n",
    "**matplotlib** is very expressive, meaning it has functionality that can easily account for fine-tuned graph creation and adjustment. However, this also means that **matplotlib** is somewhat more complex to code. The basic steps to create graphs with this package are:\n",
    "1. Prepare your data\n",
    "2. Create the plot\n",
    "3. Plot the plot\n",
    "4. Customize plot\n",
    "5. Save and show plot\n",
    "\n",
    "More info can be found here:https://matplotlib.org/users/beginner.html\n",
    "\n",
    "### Seaborn\n",
    "**seaborn** is a higher-level visualization module, which means it is much less expressive and flexible than matplotlib, but far more concise and easier to code. In addition to matlab, this package makes it easier to\n",
    "1. Use default themes that are aesthetically pleasing\n",
    "2. Set custom color palettes\n",
    "3. Make attractive statistical plots\n",
    "4. Easily and flexibly displaying distributions\n",
    "5. Visualize information from matrices and DataFrames\n",
    "\n",
    "You can see it as a complement, not a substitute, for Matplotlib. There are some tweaks that still require Matplotlib.\n",
    "More info can be found here: http://seaborn.pydata.org/api.html#api-ref\n",
    "\n",
    "It may seem like we need to choose between these two approaches, but this is not the case! Since `seaborn` is itself written in **matplotlib** (you will sometimes see **seaborn** be called a **matplotlib** 'wrapper'), we can use **seaborn** for making graphs quickly and then **matplotlib** for specific adjustments. When you see `plt` referenced in the code below, we are using **matplotlib's** pyplot submodule.\n",
    "\n",
    "\n",
    "**seaborn** also improves on **matplotlib** in important ways, such as the ability to more easily visualize regression model results, creating small multiples, enabling better color palettes, and improve default aesthetics. From [**seaborn**'s documentation](https://seaborn.pydata.org/introduction.html):\n",
    "\n",
    "> If matplotlib 'tries to make easy things easy and hard things possible', seaborn tries to make a well-defined set of hard things easy too. "
   ]
  },
  {
   "cell_type": "markdown",
   "metadata": {
    "id": "dVj3H45bI7Wo"
   },
   "source": [
    "## Setup - Load Python Packages <a class=\"anchor\" id=\"setup\"></a>"
   ]
  },
  {
   "cell_type": "markdown",
   "metadata": {
    "id": "mCeRc1DoI7Wo"
   },
   "source": [
    "### Installation of Packages\n",
    "The enviroment has the most commonly used packages installed so you are able to directly import them. Other packages might not be installed so we need to install them before we can import them. In this notebook we will be using the plotnine package which is not pre-installed. We can use the pip install command to install the package. On your home computer you only have to do this once. As our environment is only active for the current session we have to do this everytime we open the binder."
   ]
  },
  {
   "cell_type": "code",
   "execution_count": 1,
   "metadata": {
    "colab": {
     "base_uri": "https://localhost:8080/"
    },
    "id": "QH2bZrxpI7Wo",
    "outputId": "90329a65-652d-422e-b994-832f6775c078"
   },
   "outputs": [
    {
     "name": "stdout",
     "output_type": "stream",
     "text": [
      "Requirement already satisfied: geopandas in /Users/wsq/opt/anaconda3/lib/python3.9/site-packages (0.12.2)\n",
      "Requirement already satisfied: pandas>=1.0.0 in /Users/wsq/opt/anaconda3/lib/python3.9/site-packages (from geopandas) (1.4.4)\n",
      "Requirement already satisfied: pyproj>=2.6.1.post1 in /Users/wsq/opt/anaconda3/lib/python3.9/site-packages (from geopandas) (3.4.1)\n",
      "Requirement already satisfied: packaging in /Users/wsq/opt/anaconda3/lib/python3.9/site-packages (from geopandas) (21.3)\n",
      "Requirement already satisfied: fiona>=1.8 in /Users/wsq/opt/anaconda3/lib/python3.9/site-packages (from geopandas) (1.9.1)\n",
      "Requirement already satisfied: shapely>=1.7 in /Users/wsq/opt/anaconda3/lib/python3.9/site-packages (from geopandas) (2.0.1)\n",
      "Requirement already satisfied: attrs>=19.2.0 in /Users/wsq/opt/anaconda3/lib/python3.9/site-packages (from fiona>=1.8->geopandas) (21.4.0)\n",
      "Requirement already satisfied: click~=8.0 in /Users/wsq/opt/anaconda3/lib/python3.9/site-packages (from fiona>=1.8->geopandas) (8.0.4)\n",
      "Requirement already satisfied: munch>=2.3.2 in /Users/wsq/opt/anaconda3/lib/python3.9/site-packages (from fiona>=1.8->geopandas) (2.5.0)\n",
      "Requirement already satisfied: setuptools in /Users/wsq/opt/anaconda3/lib/python3.9/site-packages (from fiona>=1.8->geopandas) (63.4.1)\n",
      "Requirement already satisfied: certifi in /Users/wsq/opt/anaconda3/lib/python3.9/site-packages (from fiona>=1.8->geopandas) (2022.9.24)\n",
      "Requirement already satisfied: click-plugins>=1.0 in /Users/wsq/opt/anaconda3/lib/python3.9/site-packages (from fiona>=1.8->geopandas) (1.1.1)\n",
      "Requirement already satisfied: cligj>=0.5 in /Users/wsq/opt/anaconda3/lib/python3.9/site-packages (from fiona>=1.8->geopandas) (0.7.2)\n",
      "Requirement already satisfied: python-dateutil>=2.8.1 in /Users/wsq/opt/anaconda3/lib/python3.9/site-packages (from pandas>=1.0.0->geopandas) (2.8.2)\n",
      "Requirement already satisfied: pytz>=2020.1 in /Users/wsq/opt/anaconda3/lib/python3.9/site-packages (from pandas>=1.0.0->geopandas) (2022.1)\n",
      "Requirement already satisfied: numpy>=1.18.5 in /Users/wsq/opt/anaconda3/lib/python3.9/site-packages (from pandas>=1.0.0->geopandas) (1.21.5)\n",
      "Requirement already satisfied: pyparsing!=3.0.5,>=2.0.2 in /Users/wsq/opt/anaconda3/lib/python3.9/site-packages (from packaging->geopandas) (3.0.9)\n",
      "Requirement already satisfied: six in /Users/wsq/opt/anaconda3/lib/python3.9/site-packages (from munch>=2.3.2->fiona>=1.8->geopandas) (1.16.0)\n",
      "Note: you may need to restart the kernel to use updated packages.\n",
      "Requirement already satisfied: us in /Users/wsq/opt/anaconda3/lib/python3.9/site-packages (2.0.2)\n",
      "Requirement already satisfied: jellyfish==0.6.1 in /Users/wsq/opt/anaconda3/lib/python3.9/site-packages (from us) (0.6.1)\n",
      "Note: you may need to restart the kernel to use updated packages.\n"
     ]
    }
   ],
   "source": [
    "# Use pip to intall packages\n",
    "# We will use the geopandas package to make a beautiful heat map of the US and the us package\n",
    "%pip install geopandas\n",
    "%pip install us"
   ]
  },
  {
   "cell_type": "code",
   "execution_count": 2,
   "metadata": {
    "id": "bTPqYfIKI7Wq"
   },
   "outputs": [],
   "source": [
    "import pandas as pd\n",
    "import numpy as np\n",
    "import os\n",
    "import glob\n",
    "#from plotnine import *\n",
    "\n",
    "import matplotlib as mplib\n",
    "import matplotlib.pyplot as plt # visualization package 1\n",
    "import seaborn as sns           # visualization package 2\n",
    "\n",
    "\n",
    "import geopandas          #  geospatial data package 1\n",
    "import us                 #  geospatial data package 2\n",
    "\n",
    "# so images get plotted in the notebook\n",
    "%matplotlib inline"
   ]
  },
  {
   "cell_type": "markdown",
   "metadata": {
    "id": "l4-IO-_VI7Wq"
   },
   "source": [
    "## Read in Projects Data from 2012-2021  <a class=\"anchor\" id=\"read\"></a>"
   ]
  },
  {
   "cell_type": "code",
   "execution_count": 3,
   "metadata": {
    "id": "Eqc3vnwtI7Wq"
   },
   "outputs": [],
   "source": [
    "# Specify a path with the data folder\n",
    "# Change \"NAME\" to your name as recorded on your computer\n",
    "# path = 'C:/Users/NAME/PADM-GP_2505/Data/'\n",
    "Path = '/Users/wsq/Desktop/Advanced Data Analytics and Evidence Building/PADM-GP_2505/Data'\n"
   ]
  },
  {
   "cell_type": "markdown",
   "metadata": {
    "id": "VLe2jkazI7Wq"
   },
   "source": [
    "#### Set working directory\n",
    "We will change the working directory to the Projects folder. We need to do this so we can read in all of the projects files at once."
   ]
  },
  {
   "cell_type": "code",
   "execution_count": 4,
   "metadata": {
    "id": "kGS1JjO3I7Wq",
    "scrolled": true
   },
   "outputs": [],
   "source": [
    "# use the chdir funftion from the os package to sed your working directory \n",
    "os.chdir(Path + \"/Projects\")"
   ]
  },
  {
   "cell_type": "code",
   "execution_count": 5,
   "metadata": {
    "colab": {
     "base_uri": "https://localhost:8080/"
    },
    "id": "EQDC9UB4I7Wr",
    "outputId": "589a07ac-64a1-4d5b-8061-67cbe420e9c1"
   },
   "outputs": [
    {
     "name": "stdout",
     "output_type": "stream",
     "text": [
      "0 RePORTER_PRJ_C_FY2017_new.csv\n"
     ]
    },
    {
     "name": "stderr",
     "output_type": "stream",
     "text": [
      "/var/folders/rl/4_s3mzkj6ll5h2_4qxy9sftw0000gn/T/ipykernel_13503/477606033.py:16: FutureWarning: The frame.append method is deprecated and will be removed from pandas in a future version. Use pandas.concat instead.\n",
      "  all_projects = all_projects.append(projects)\n"
     ]
    },
    {
     "name": "stdout",
     "output_type": "stream",
     "text": [
      "1 RePORTER_PRJ_C_FY2021_new.csv\n"
     ]
    },
    {
     "name": "stderr",
     "output_type": "stream",
     "text": [
      "/var/folders/rl/4_s3mzkj6ll5h2_4qxy9sftw0000gn/T/ipykernel_13503/477606033.py:16: FutureWarning: The frame.append method is deprecated and will be removed from pandas in a future version. Use pandas.concat instead.\n",
      "  all_projects = all_projects.append(projects)\n"
     ]
    },
    {
     "name": "stdout",
     "output_type": "stream",
     "text": [
      "2 RePORTER_PRJ_C_FY2020_new.csv\n"
     ]
    },
    {
     "name": "stderr",
     "output_type": "stream",
     "text": [
      "/var/folders/rl/4_s3mzkj6ll5h2_4qxy9sftw0000gn/T/ipykernel_13503/477606033.py:16: FutureWarning: The frame.append method is deprecated and will be removed from pandas in a future version. Use pandas.concat instead.\n",
      "  all_projects = all_projects.append(projects)\n"
     ]
    },
    {
     "name": "stdout",
     "output_type": "stream",
     "text": [
      "3 RePORTER_PRJ_C_FY2016_new.csv\n"
     ]
    },
    {
     "name": "stderr",
     "output_type": "stream",
     "text": [
      "/var/folders/rl/4_s3mzkj6ll5h2_4qxy9sftw0000gn/T/ipykernel_13503/477606033.py:16: FutureWarning: The frame.append method is deprecated and will be removed from pandas in a future version. Use pandas.concat instead.\n",
      "  all_projects = all_projects.append(projects)\n"
     ]
    },
    {
     "name": "stdout",
     "output_type": "stream",
     "text": [
      "4 RePORTER_PRJ_C_FY2014_new.csv\n"
     ]
    },
    {
     "name": "stderr",
     "output_type": "stream",
     "text": [
      "/var/folders/rl/4_s3mzkj6ll5h2_4qxy9sftw0000gn/T/ipykernel_13503/477606033.py:16: FutureWarning: The frame.append method is deprecated and will be removed from pandas in a future version. Use pandas.concat instead.\n",
      "  all_projects = all_projects.append(projects)\n"
     ]
    },
    {
     "name": "stdout",
     "output_type": "stream",
     "text": [
      "5 RePORTER_PRJ_C_FY2015_new.csv\n"
     ]
    },
    {
     "name": "stderr",
     "output_type": "stream",
     "text": [
      "/var/folders/rl/4_s3mzkj6ll5h2_4qxy9sftw0000gn/T/ipykernel_13503/477606033.py:16: FutureWarning: The frame.append method is deprecated and will be removed from pandas in a future version. Use pandas.concat instead.\n",
      "  all_projects = all_projects.append(projects)\n"
     ]
    },
    {
     "name": "stdout",
     "output_type": "stream",
     "text": [
      "6 RePORTER_PRJ_C_FY2019_new.csv\n"
     ]
    },
    {
     "name": "stderr",
     "output_type": "stream",
     "text": [
      "/var/folders/rl/4_s3mzkj6ll5h2_4qxy9sftw0000gn/T/ipykernel_13503/477606033.py:16: FutureWarning: The frame.append method is deprecated and will be removed from pandas in a future version. Use pandas.concat instead.\n",
      "  all_projects = all_projects.append(projects)\n"
     ]
    },
    {
     "name": "stdout",
     "output_type": "stream",
     "text": [
      "7 RePORTER_PRJ_C_FY2018_new.csv\n"
     ]
    },
    {
     "name": "stderr",
     "output_type": "stream",
     "text": [
      "/var/folders/rl/4_s3mzkj6ll5h2_4qxy9sftw0000gn/T/ipykernel_13503/477606033.py:16: FutureWarning: The frame.append method is deprecated and will be removed from pandas in a future version. Use pandas.concat instead.\n",
      "  all_projects = all_projects.append(projects)\n"
     ]
    },
    {
     "name": "stdout",
     "output_type": "stream",
     "text": [
      "8 RePORTER_PRJ_C_FY2013_new.csv\n"
     ]
    },
    {
     "name": "stderr",
     "output_type": "stream",
     "text": [
      "/var/folders/rl/4_s3mzkj6ll5h2_4qxy9sftw0000gn/T/ipykernel_13503/477606033.py:16: FutureWarning: The frame.append method is deprecated and will be removed from pandas in a future version. Use pandas.concat instead.\n",
      "  all_projects = all_projects.append(projects)\n"
     ]
    },
    {
     "name": "stdout",
     "output_type": "stream",
     "text": [
      "9 RePORTER_PRJ_C_FY2012_new.csv\n"
     ]
    },
    {
     "name": "stderr",
     "output_type": "stream",
     "text": [
      "/var/folders/rl/4_s3mzkj6ll5h2_4qxy9sftw0000gn/T/ipykernel_13503/477606033.py:16: FutureWarning: The frame.append method is deprecated and will be removed from pandas in a future version. Use pandas.concat instead.\n",
      "  all_projects = all_projects.append(projects)\n"
     ]
    }
   ],
   "source": [
    "# Generate an empty dataframe that will hold all the patent data we have\n",
    "all_projects = pd.DataFrame([])\n",
    "\n",
    "# Now loop through each file in the folder that starts with RePORTER\n",
    "# Read that file using only the columns we need\n",
    "# And append it to the dataframe that we created above\n",
    "# This might take a little while to run (no more than 1 minute)\n",
    "for counter, file in enumerate(glob.glob(\"RePORTER*?\")):\n",
    "    print(counter,file)\n",
    "    projects = pd.read_csv(file, usecols=['APPLICATION_ID','TOTAL_COST','CORE_PROJECT_NUM','FULL_PROJECT_NUM', 'FY', 'IC_NAME', \n",
    "                                          'ORG_NAME', 'ORG_STATE','PI_NAMEs','PI_NAMEs','PROJECT_START',\n",
    "                                          'PROJECT_END','PROJECT_TITLE','NIH_SPENDING_CATS'], \n",
    "                           encoding='latin-1')\n",
    "    projects['ORG_STATE'] = projects['ORG_STATE'].astype(str)\n",
    "    projects['TOTAL_COST'] = projects['TOTAL_COST'].astype(str)\n",
    "    all_projects = all_projects.append(projects)"
   ]
  },
  {
   "cell_type": "markdown",
   "metadata": {
    "id": "zDh6k8D9I7Wr"
   },
   "source": [
    "#### Subset for Cancer Projects\n",
    "In this notebook we want to focus on Cancer research. In the previous notebooks we have focuesd on projects funded by the `NATIONAL CANCER INSTITUTE `. In this notebook we will select all Projects that have the word Cancer in the NIH_SPENDING_CATS. "
   ]
  },
  {
   "cell_type": "code",
   "execution_count": 6,
   "metadata": {
    "colab": {
     "base_uri": "https://localhost:8080/",
     "height": 583
    },
    "id": "M5ONMbcsI7Wr",
    "outputId": "4533caf5-e612-4f3b-e43d-8ce83e9247f4"
   },
   "outputs": [
    {
     "data": {
      "text/html": [
       "<div>\n",
       "<style scoped>\n",
       "    .dataframe tbody tr th:only-of-type {\n",
       "        vertical-align: middle;\n",
       "    }\n",
       "\n",
       "    .dataframe tbody tr th {\n",
       "        vertical-align: top;\n",
       "    }\n",
       "\n",
       "    .dataframe thead th {\n",
       "        text-align: right;\n",
       "    }\n",
       "</style>\n",
       "<table border=\"1\" class=\"dataframe\">\n",
       "  <thead>\n",
       "    <tr style=\"text-align: right;\">\n",
       "      <th></th>\n",
       "      <th>index</th>\n",
       "      <th>APPLICATION_ID</th>\n",
       "      <th>CORE_PROJECT_NUM</th>\n",
       "      <th>FULL_PROJECT_NUM</th>\n",
       "      <th>FY</th>\n",
       "      <th>IC_NAME</th>\n",
       "      <th>NIH_SPENDING_CATS</th>\n",
       "      <th>ORG_NAME</th>\n",
       "      <th>ORG_STATE</th>\n",
       "      <th>PI_NAMEs</th>\n",
       "      <th>PROJECT_START</th>\n",
       "      <th>PROJECT_END</th>\n",
       "      <th>PROJECT_TITLE</th>\n",
       "      <th>TOTAL_COST</th>\n",
       "    </tr>\n",
       "  </thead>\n",
       "  <tbody>\n",
       "    <tr>\n",
       "      <th>0</th>\n",
       "      <td>0</td>\n",
       "      <td>9471696</td>\n",
       "      <td>R13MD012457</td>\n",
       "      <td>1R13MD012457-01</td>\n",
       "      <td>2017</td>\n",
       "      <td>National Institute on Minority Health and Heal...</td>\n",
       "      <td>Cancer; Health Disparities; Minority Health; P...</td>\n",
       "      <td>UNIVERSITY OF TEXAS HLTH SCIENCE CENTER</td>\n",
       "      <td>TX</td>\n",
       "      <td>RAMIREZ, AMELIE G;</td>\n",
       "      <td>9/19/17</td>\n",
       "      <td>8/31/19</td>\n",
       "      <td>Advancing the Science of Cancer in Latinos</td>\n",
       "      <td>49935.0</td>\n",
       "    </tr>\n",
       "    <tr>\n",
       "      <th>1</th>\n",
       "      <td>10</td>\n",
       "      <td>9275240</td>\n",
       "      <td>F30CA206240</td>\n",
       "      <td>5F30CA206240-02</td>\n",
       "      <td>2017</td>\n",
       "      <td>NATIONAL CANCER INSTITUTE</td>\n",
       "      <td>Cancer; Digestive Diseases; Genetics; Pancreat...</td>\n",
       "      <td>STATE UNIVERSITY NEW YORK STONY BROOK</td>\n",
       "      <td>NY</td>\n",
       "      <td>HE, PING ;</td>\n",
       "      <td>6/1/16</td>\n",
       "      <td>5/31/20</td>\n",
       "      <td>Mechanisms of Pancreatic Carcinogenesis</td>\n",
       "      <td>31678.0</td>\n",
       "    </tr>\n",
       "    <tr>\n",
       "      <th>2</th>\n",
       "      <td>15</td>\n",
       "      <td>9308912</td>\n",
       "      <td>K99CA207744</td>\n",
       "      <td>5K99CA207744-02</td>\n",
       "      <td>2017</td>\n",
       "      <td>NATIONAL CANCER INSTITUTE</td>\n",
       "      <td>Bioengineering; Biomedical Imaging; Breast Can...</td>\n",
       "      <td>MASSACHUSETTS GENERAL HOSPITAL</td>\n",
       "      <td>MA</td>\n",
       "      <td>MILLER, MILES A;</td>\n",
       "      <td>7/1/16</td>\n",
       "      <td>6/30/18</td>\n",
       "      <td>Single Cell In Vivo Imaging Technology to Anal...</td>\n",
       "      <td>179280.0</td>\n",
       "    </tr>\n",
       "    <tr>\n",
       "      <th>3</th>\n",
       "      <td>21</td>\n",
       "      <td>9189691</td>\n",
       "      <td>R01CA174683</td>\n",
       "      <td>5R01CA174683-04</td>\n",
       "      <td>2017</td>\n",
       "      <td>NATIONAL CANCER INSTITUTE</td>\n",
       "      <td>Behavioral and Social Science; Cancer; Childho...</td>\n",
       "      <td>UNIVERSITY OF ALABAMA AT BIRMINGHAM</td>\n",
       "      <td>AL</td>\n",
       "      <td>BHATIA, SMITA  (contact); LANDIER, WENDY ;</td>\n",
       "      <td>1/7/14</td>\n",
       "      <td>12/31/18</td>\n",
       "      <td>Comprehensive Approach to Improve Medicine Adh...</td>\n",
       "      <td>606475.0</td>\n",
       "    </tr>\n",
       "    <tr>\n",
       "      <th>4</th>\n",
       "      <td>61</td>\n",
       "      <td>9212114</td>\n",
       "      <td>F31CA189437</td>\n",
       "      <td>5F31CA189437-03</td>\n",
       "      <td>2017</td>\n",
       "      <td>NATIONAL CANCER INSTITUTE</td>\n",
       "      <td>Biotechnology; Cancer; Cancer Genomics; Geneti...</td>\n",
       "      <td>MASSACHUSETTS INSTITUTE OF TECHNOLOGY</td>\n",
       "      <td>MA</td>\n",
       "      <td>WANG, TIM ;</td>\n",
       "      <td>3/15/15</td>\n",
       "      <td>5/1/17</td>\n",
       "      <td>Improving targeted therapies through functiona...</td>\n",
       "      <td>21152.0</td>\n",
       "    </tr>\n",
       "  </tbody>\n",
       "</table>\n",
       "</div>"
      ],
      "text/plain": [
       "   index  APPLICATION_ID CORE_PROJECT_NUM FULL_PROJECT_NUM    FY  \\\n",
       "0      0         9471696      R13MD012457  1R13MD012457-01  2017   \n",
       "1     10         9275240      F30CA206240  5F30CA206240-02  2017   \n",
       "2     15         9308912      K99CA207744  5K99CA207744-02  2017   \n",
       "3     21         9189691      R01CA174683  5R01CA174683-04  2017   \n",
       "4     61         9212114      F31CA189437  5F31CA189437-03  2017   \n",
       "\n",
       "                                             IC_NAME  \\\n",
       "0  National Institute on Minority Health and Heal...   \n",
       "1                          NATIONAL CANCER INSTITUTE   \n",
       "2                          NATIONAL CANCER INSTITUTE   \n",
       "3                          NATIONAL CANCER INSTITUTE   \n",
       "4                          NATIONAL CANCER INSTITUTE   \n",
       "\n",
       "                                   NIH_SPENDING_CATS  \\\n",
       "0  Cancer; Health Disparities; Minority Health; P...   \n",
       "1  Cancer; Digestive Diseases; Genetics; Pancreat...   \n",
       "2  Bioengineering; Biomedical Imaging; Breast Can...   \n",
       "3  Behavioral and Social Science; Cancer; Childho...   \n",
       "4  Biotechnology; Cancer; Cancer Genomics; Geneti...   \n",
       "\n",
       "                                  ORG_NAME ORG_STATE  \\\n",
       "0  UNIVERSITY OF TEXAS HLTH SCIENCE CENTER        TX   \n",
       "1    STATE UNIVERSITY NEW YORK STONY BROOK        NY   \n",
       "2           MASSACHUSETTS GENERAL HOSPITAL        MA   \n",
       "3      UNIVERSITY OF ALABAMA AT BIRMINGHAM        AL   \n",
       "4    MASSACHUSETTS INSTITUTE OF TECHNOLOGY        MA   \n",
       "\n",
       "                                     PI_NAMEs PROJECT_START PROJECT_END  \\\n",
       "0                          RAMIREZ, AMELIE G;       9/19/17     8/31/19   \n",
       "1                                  HE, PING ;        6/1/16     5/31/20   \n",
       "2                            MILLER, MILES A;        7/1/16     6/30/18   \n",
       "3  BHATIA, SMITA  (contact); LANDIER, WENDY ;        1/7/14    12/31/18   \n",
       "4                                 WANG, TIM ;       3/15/15      5/1/17   \n",
       "\n",
       "                                       PROJECT_TITLE TOTAL_COST  \n",
       "0         Advancing the Science of Cancer in Latinos    49935.0  \n",
       "1            Mechanisms of Pancreatic Carcinogenesis    31678.0  \n",
       "2  Single Cell In Vivo Imaging Technology to Anal...   179280.0  \n",
       "3  Comprehensive Approach to Improve Medicine Adh...   606475.0  \n",
       "4  Improving targeted therapies through functiona...    21152.0  "
      ]
     },
     "execution_count": 6,
     "metadata": {},
     "output_type": "execute_result"
    }
   ],
   "source": [
    "# Subsetting by a keyword in a string using str.contains()\n",
    "# Show all projects which contain word \"Cancer\" in the NIH_SPENDING_CATS variable\n",
    "cancer_projects = all_projects[all_projects['NIH_SPENDING_CATS'].str.contains('Cancer', na = False)]\n",
    "\n",
    "# Reset index\n",
    "cancer_projects = cancer_projects.reset_index()\n",
    "\n",
    "# view the first 5 observations\n",
    "cancer_projects.head()"
   ]
  },
  {
   "cell_type": "markdown",
   "metadata": {
    "id": "6Hm_hKuDI7Wr"
   },
   "source": [
    "# Checkpoint 1: Subset data for your project  <a class=\"anchor\" id=\"cp1\"></a>\n",
    "\n",
    "Make a dataframe called Project_data that is a subset of the all_projects data frame where the NIH_SPENDING_CATS is equal to a specific spending category, or the string contains a specific key ward (as we did above with Cancer). (1 point)\n",
    "\n",
    "Use the FY variable to subset your Project_data dataframe to the fiscal years you would like to include in the analysis for your project. (Please keep this dataframe named Project_data). (1 point) "
   ]
  },
  {
   "cell_type": "markdown",
   "metadata": {},
   "source": [
    "### <div class=\"alert alert-success\">I chose the specific NIH spending category of \"HPV and/or Cervical Cancer Vaccines\".</div>"
   ]
  },
  {
   "cell_type": "code",
   "execution_count": 7,
   "metadata": {},
   "outputs": [
    {
     "data": {
      "text/html": [
       "<div>\n",
       "<style scoped>\n",
       "    .dataframe tbody tr th:only-of-type {\n",
       "        vertical-align: middle;\n",
       "    }\n",
       "\n",
       "    .dataframe tbody tr th {\n",
       "        vertical-align: top;\n",
       "    }\n",
       "\n",
       "    .dataframe thead th {\n",
       "        text-align: right;\n",
       "    }\n",
       "</style>\n",
       "<table border=\"1\" class=\"dataframe\">\n",
       "  <thead>\n",
       "    <tr style=\"text-align: right;\">\n",
       "      <th></th>\n",
       "      <th>index</th>\n",
       "      <th>APPLICATION_ID</th>\n",
       "      <th>CORE_PROJECT_NUM</th>\n",
       "      <th>FULL_PROJECT_NUM</th>\n",
       "      <th>FY</th>\n",
       "      <th>IC_NAME</th>\n",
       "      <th>NIH_SPENDING_CATS</th>\n",
       "      <th>ORG_NAME</th>\n",
       "      <th>ORG_STATE</th>\n",
       "      <th>PI_NAMEs</th>\n",
       "      <th>PROJECT_START</th>\n",
       "      <th>PROJECT_END</th>\n",
       "      <th>PROJECT_TITLE</th>\n",
       "      <th>TOTAL_COST</th>\n",
       "    </tr>\n",
       "  </thead>\n",
       "  <tbody>\n",
       "    <tr>\n",
       "      <th>0</th>\n",
       "      <td>506</td>\n",
       "      <td>9446869</td>\n",
       "      <td>NaN</td>\n",
       "      <td>272200800005C-25-0-6</td>\n",
       "      <td>2017</td>\n",
       "      <td>NATIONAL INSTITUTE OF ALLERGY AND INFECTIOUS D...</td>\n",
       "      <td>Biotechnology; Cancer; Clinical Research; Clin...</td>\n",
       "      <td>EMORY UNIVERSITY</td>\n",
       "      <td>GA</td>\n",
       "      <td>MULLIGAN, MARK ;</td>\n",
       "      <td>11/1/07</td>\n",
       "      <td>6/30/17</td>\n",
       "      <td>VACCINE AND EVALUTION TREATMENT UNITS:PHASE I ...</td>\n",
       "      <td>3039.0</td>\n",
       "    </tr>\n",
       "    <tr>\n",
       "      <th>1</th>\n",
       "      <td>2221</td>\n",
       "      <td>9212635</td>\n",
       "      <td>K01AI106961</td>\n",
       "      <td>5K01AI106961-04</td>\n",
       "      <td>2017</td>\n",
       "      <td>NATIONAL INSTITUTE OF ALLERGY AND INFECTIOUS D...</td>\n",
       "      <td>Behavioral and Social Science; Biotechnology; ...</td>\n",
       "      <td>EMORY UNIVERSITY</td>\n",
       "      <td>GA</td>\n",
       "      <td>BEDNARCZYK, ROBERT A.;</td>\n",
       "      <td>2/1/14</td>\n",
       "      <td>1/31/19</td>\n",
       "      <td>A Practice-Provider-Parent-Adolescent interven...</td>\n",
       "      <td>114370.0</td>\n",
       "    </tr>\n",
       "    <tr>\n",
       "      <th>2</th>\n",
       "      <td>3329</td>\n",
       "      <td>9220396</td>\n",
       "      <td>R01CA213130</td>\n",
       "      <td>1R01CA213130-01</td>\n",
       "      <td>2017</td>\n",
       "      <td>NATIONAL CANCER INSTITUTE</td>\n",
       "      <td>Biotechnology; Cancer; Clinical Research; Clin...</td>\n",
       "      <td>FRED HUTCHINSON CANCER RESEARCH CENTER</td>\n",
       "      <td>WA</td>\n",
       "      <td>MADELEINE, MARGARET M (contact); WALD, ANNA ;</td>\n",
       "      <td>2/22/17</td>\n",
       "      <td>1/31/22</td>\n",
       "      <td>Therapeutic use of HPV L1 Vaccine in Anogenita...</td>\n",
       "      <td>767849.0</td>\n",
       "    </tr>\n",
       "    <tr>\n",
       "      <th>3</th>\n",
       "      <td>3555</td>\n",
       "      <td>9322033</td>\n",
       "      <td>S06GM123547</td>\n",
       "      <td>1S06GM123547-01</td>\n",
       "      <td>2017</td>\n",
       "      <td>NATIONAL INSTITUTE OF GENERAL MEDICAL SCIENCES</td>\n",
       "      <td>Adolescent Sexual Activity; American Indian or...</td>\n",
       "      <td>WHITE MOUNTAIN APACHE TRIBE</td>\n",
       "      <td>AZ</td>\n",
       "      <td>CRAIG, MARIDDIE J;</td>\n",
       "      <td>NaN</td>\n",
       "      <td>NaN</td>\n",
       "      <td>My Health, My Future: Promotion of Protective ...</td>\n",
       "      <td>nan</td>\n",
       "    </tr>\n",
       "    <tr>\n",
       "      <th>4</th>\n",
       "      <td>3716</td>\n",
       "      <td>9232059</td>\n",
       "      <td>R21AI121822</td>\n",
       "      <td>5R21AI121822-02</td>\n",
       "      <td>2017</td>\n",
       "      <td>NATIONAL INSTITUTE OF ALLERGY AND INFECTIOUS D...</td>\n",
       "      <td>Cancer; Cervical Cancer; Contraception/Reprodu...</td>\n",
       "      <td>PENNSYLVANIA STATE UNIV HERSHEY MED CTR</td>\n",
       "      <td>PA</td>\n",
       "      <td>CHRISTENSEN, NEIL D (contact); HU, JIAFEN ;</td>\n",
       "      <td>3/1/16</td>\n",
       "      <td>2/28/19</td>\n",
       "      <td>Role of estrous cycle and contraceptives in an...</td>\n",
       "      <td>193375.0</td>\n",
       "    </tr>\n",
       "  </tbody>\n",
       "</table>\n",
       "</div>"
      ],
      "text/plain": [
       "   index  APPLICATION_ID CORE_PROJECT_NUM      FULL_PROJECT_NUM    FY  \\\n",
       "0    506         9446869              NaN  272200800005C-25-0-6  2017   \n",
       "1   2221         9212635      K01AI106961       5K01AI106961-04  2017   \n",
       "2   3329         9220396      R01CA213130       1R01CA213130-01  2017   \n",
       "3   3555         9322033      S06GM123547       1S06GM123547-01  2017   \n",
       "4   3716         9232059      R21AI121822       5R21AI121822-02  2017   \n",
       "\n",
       "                                             IC_NAME  \\\n",
       "0  NATIONAL INSTITUTE OF ALLERGY AND INFECTIOUS D...   \n",
       "1  NATIONAL INSTITUTE OF ALLERGY AND INFECTIOUS D...   \n",
       "2                          NATIONAL CANCER INSTITUTE   \n",
       "3     NATIONAL INSTITUTE OF GENERAL MEDICAL SCIENCES   \n",
       "4  NATIONAL INSTITUTE OF ALLERGY AND INFECTIOUS D...   \n",
       "\n",
       "                                   NIH_SPENDING_CATS  \\\n",
       "0  Biotechnology; Cancer; Clinical Research; Clin...   \n",
       "1  Behavioral and Social Science; Biotechnology; ...   \n",
       "2  Biotechnology; Cancer; Clinical Research; Clin...   \n",
       "3  Adolescent Sexual Activity; American Indian or...   \n",
       "4  Cancer; Cervical Cancer; Contraception/Reprodu...   \n",
       "\n",
       "                                  ORG_NAME ORG_STATE  \\\n",
       "0                         EMORY UNIVERSITY        GA   \n",
       "1                         EMORY UNIVERSITY        GA   \n",
       "2   FRED HUTCHINSON CANCER RESEARCH CENTER        WA   \n",
       "3              WHITE MOUNTAIN APACHE TRIBE        AZ   \n",
       "4  PENNSYLVANIA STATE UNIV HERSHEY MED CTR        PA   \n",
       "\n",
       "                                        PI_NAMEs PROJECT_START PROJECT_END  \\\n",
       "0                               MULLIGAN, MARK ;       11/1/07     6/30/17   \n",
       "1                         BEDNARCZYK, ROBERT A.;        2/1/14     1/31/19   \n",
       "2  MADELEINE, MARGARET M (contact); WALD, ANNA ;       2/22/17     1/31/22   \n",
       "3                             CRAIG, MARIDDIE J;           NaN         NaN   \n",
       "4    CHRISTENSEN, NEIL D (contact); HU, JIAFEN ;        3/1/16     2/28/19   \n",
       "\n",
       "                                       PROJECT_TITLE TOTAL_COST  \n",
       "0  VACCINE AND EVALUTION TREATMENT UNITS:PHASE I ...     3039.0  \n",
       "1  A Practice-Provider-Parent-Adolescent interven...   114370.0  \n",
       "2  Therapeutic use of HPV L1 Vaccine in Anogenita...   767849.0  \n",
       "3  My Health, My Future: Promotion of Protective ...        nan  \n",
       "4  Role of estrous cycle and contraceptives in an...   193375.0  "
      ]
     },
     "execution_count": 7,
     "metadata": {},
     "output_type": "execute_result"
    }
   ],
   "source": [
    "# Subsetting by a keyword in a string using str.contains()\n",
    "# Show all projects which contain word \"HPV\" in the NIH_SPENDING_CATS variable\n",
    "Project_data = all_projects[all_projects['NIH_SPENDING_CATS'].str.contains('HPV and/or Cervical Cancer Vaccines', na = False)]\n",
    "# Reset index\n",
    "Project_data = Project_data.reset_index()\n",
    "\n",
    "Project_data.head()"
   ]
  },
  {
   "cell_type": "markdown",
   "metadata": {},
   "source": [
    "### <div class=\"alert alert-success\">I included the fiscal years from 2015 to 2021.</div>"
   ]
  },
  {
   "cell_type": "code",
   "execution_count": 8,
   "metadata": {},
   "outputs": [
    {
     "data": {
      "text/html": [
       "<div>\n",
       "<style scoped>\n",
       "    .dataframe tbody tr th:only-of-type {\n",
       "        vertical-align: middle;\n",
       "    }\n",
       "\n",
       "    .dataframe tbody tr th {\n",
       "        vertical-align: top;\n",
       "    }\n",
       "\n",
       "    .dataframe thead th {\n",
       "        text-align: right;\n",
       "    }\n",
       "</style>\n",
       "<table border=\"1\" class=\"dataframe\">\n",
       "  <thead>\n",
       "    <tr style=\"text-align: right;\">\n",
       "      <th></th>\n",
       "      <th>index</th>\n",
       "      <th>APPLICATION_ID</th>\n",
       "      <th>CORE_PROJECT_NUM</th>\n",
       "      <th>FULL_PROJECT_NUM</th>\n",
       "      <th>FY</th>\n",
       "      <th>IC_NAME</th>\n",
       "      <th>NIH_SPENDING_CATS</th>\n",
       "      <th>ORG_NAME</th>\n",
       "      <th>ORG_STATE</th>\n",
       "      <th>PI_NAMEs</th>\n",
       "      <th>PROJECT_START</th>\n",
       "      <th>PROJECT_END</th>\n",
       "      <th>PROJECT_TITLE</th>\n",
       "      <th>TOTAL_COST</th>\n",
       "    </tr>\n",
       "  </thead>\n",
       "  <tbody>\n",
       "    <tr>\n",
       "      <th>0</th>\n",
       "      <td>506</td>\n",
       "      <td>9446869</td>\n",
       "      <td>NaN</td>\n",
       "      <td>272200800005C-25-0-6</td>\n",
       "      <td>2017</td>\n",
       "      <td>NATIONAL INSTITUTE OF ALLERGY AND INFECTIOUS D...</td>\n",
       "      <td>Biotechnology; Cancer; Clinical Research; Clin...</td>\n",
       "      <td>EMORY UNIVERSITY</td>\n",
       "      <td>GA</td>\n",
       "      <td>MULLIGAN, MARK ;</td>\n",
       "      <td>11/1/07</td>\n",
       "      <td>6/30/17</td>\n",
       "      <td>VACCINE AND EVALUTION TREATMENT UNITS:PHASE I ...</td>\n",
       "      <td>3039.0</td>\n",
       "    </tr>\n",
       "    <tr>\n",
       "      <th>1</th>\n",
       "      <td>2221</td>\n",
       "      <td>9212635</td>\n",
       "      <td>K01AI106961</td>\n",
       "      <td>5K01AI106961-04</td>\n",
       "      <td>2017</td>\n",
       "      <td>NATIONAL INSTITUTE OF ALLERGY AND INFECTIOUS D...</td>\n",
       "      <td>Behavioral and Social Science; Biotechnology; ...</td>\n",
       "      <td>EMORY UNIVERSITY</td>\n",
       "      <td>GA</td>\n",
       "      <td>BEDNARCZYK, ROBERT A.;</td>\n",
       "      <td>2/1/14</td>\n",
       "      <td>1/31/19</td>\n",
       "      <td>A Practice-Provider-Parent-Adolescent interven...</td>\n",
       "      <td>114370.0</td>\n",
       "    </tr>\n",
       "  </tbody>\n",
       "</table>\n",
       "</div>"
      ],
      "text/plain": [
       "   index  APPLICATION_ID CORE_PROJECT_NUM      FULL_PROJECT_NUM    FY  \\\n",
       "0    506         9446869              NaN  272200800005C-25-0-6  2017   \n",
       "1   2221         9212635      K01AI106961       5K01AI106961-04  2017   \n",
       "\n",
       "                                             IC_NAME  \\\n",
       "0  NATIONAL INSTITUTE OF ALLERGY AND INFECTIOUS D...   \n",
       "1  NATIONAL INSTITUTE OF ALLERGY AND INFECTIOUS D...   \n",
       "\n",
       "                                   NIH_SPENDING_CATS          ORG_NAME  \\\n",
       "0  Biotechnology; Cancer; Clinical Research; Clin...  EMORY UNIVERSITY   \n",
       "1  Behavioral and Social Science; Biotechnology; ...  EMORY UNIVERSITY   \n",
       "\n",
       "  ORG_STATE                PI_NAMEs PROJECT_START PROJECT_END  \\\n",
       "0        GA        MULLIGAN, MARK ;       11/1/07     6/30/17   \n",
       "1        GA  BEDNARCZYK, ROBERT A.;        2/1/14     1/31/19   \n",
       "\n",
       "                                       PROJECT_TITLE TOTAL_COST  \n",
       "0  VACCINE AND EVALUTION TREATMENT UNITS:PHASE I ...     3039.0  \n",
       "1  A Practice-Provider-Parent-Adolescent interven...   114370.0  "
      ]
     },
     "execution_count": 8,
     "metadata": {},
     "output_type": "execute_result"
    }
   ],
   "source": [
    "Project_data = Project_data[Project_data.FY.isin([2015,2016,2017,2018,2019,2020,2021])]\n",
    "Project_data.head(2)"
   ]
  },
  {
   "cell_type": "code",
   "execution_count": 9,
   "metadata": {},
   "outputs": [
    {
     "data": {
      "text/html": [
       "<div>\n",
       "<style scoped>\n",
       "    .dataframe tbody tr th:only-of-type {\n",
       "        vertical-align: middle;\n",
       "    }\n",
       "\n",
       "    .dataframe tbody tr th {\n",
       "        vertical-align: top;\n",
       "    }\n",
       "\n",
       "    .dataframe thead th {\n",
       "        text-align: right;\n",
       "    }\n",
       "</style>\n",
       "<table border=\"1\" class=\"dataframe\">\n",
       "  <thead>\n",
       "    <tr style=\"text-align: right;\">\n",
       "      <th></th>\n",
       "      <th>index</th>\n",
       "      <th>APPLICATION_ID</th>\n",
       "      <th>CORE_PROJECT_NUM</th>\n",
       "      <th>FULL_PROJECT_NUM</th>\n",
       "      <th>FY</th>\n",
       "      <th>IC_NAME</th>\n",
       "      <th>NIH_SPENDING_CATS</th>\n",
       "      <th>ORG_NAME</th>\n",
       "      <th>ORG_STATE</th>\n",
       "      <th>PI_NAMEs</th>\n",
       "      <th>PROJECT_START</th>\n",
       "      <th>PROJECT_END</th>\n",
       "      <th>PROJECT_TITLE</th>\n",
       "      <th>TOTAL_COST</th>\n",
       "    </tr>\n",
       "  </thead>\n",
       "  <tbody>\n",
       "    <tr>\n",
       "      <th>593</th>\n",
       "      <td>76422</td>\n",
       "      <td>9554792</td>\n",
       "      <td>U54CA143727</td>\n",
       "      <td>5U54CA143727-09</td>\n",
       "      <td>2018</td>\n",
       "      <td>NATIONAL CANCER INSTITUTE</td>\n",
       "      <td>Burden of Illness; Cancer; Cervical Cancer; Cl...</td>\n",
       "      <td>UNIVERSITY OF HAWAII AT MANOA</td>\n",
       "      <td>HI</td>\n",
       "      <td>PALAFOX, NEAL A.;</td>\n",
       "      <td>NaN</td>\n",
       "      <td>NaN</td>\n",
       "      <td>Outreach Core</td>\n",
       "      <td>nan</td>\n",
       "    </tr>\n",
       "    <tr>\n",
       "      <th>594</th>\n",
       "      <td>77785</td>\n",
       "      <td>9537431</td>\n",
       "      <td>R01AI123204</td>\n",
       "      <td>5R01AI123204-02</td>\n",
       "      <td>2018</td>\n",
       "      <td>NATIONAL INSTITUTE OF ALLERGY AND INFECTIOUS D...</td>\n",
       "      <td>Cancer; Cervical Cancer; Clinical Research; Cl...</td>\n",
       "      <td>YALE UNIVERSITY</td>\n",
       "      <td>CT</td>\n",
       "      <td>NICCOLAI, LINDA M;</td>\n",
       "      <td>08/01/2017</td>\n",
       "      <td>07/31/2021</td>\n",
       "      <td>Effectiveness of HPV Vaccine by Age at Immuniz...</td>\n",
       "      <td>444738.0</td>\n",
       "    </tr>\n",
       "  </tbody>\n",
       "</table>\n",
       "</div>"
      ],
      "text/plain": [
       "     index  APPLICATION_ID CORE_PROJECT_NUM FULL_PROJECT_NUM    FY  \\\n",
       "593  76422         9554792      U54CA143727  5U54CA143727-09  2018   \n",
       "594  77785         9537431      R01AI123204  5R01AI123204-02  2018   \n",
       "\n",
       "                                               IC_NAME  \\\n",
       "593                          NATIONAL CANCER INSTITUTE   \n",
       "594  NATIONAL INSTITUTE OF ALLERGY AND INFECTIOUS D...   \n",
       "\n",
       "                                     NIH_SPENDING_CATS  \\\n",
       "593  Burden of Illness; Cancer; Cervical Cancer; Cl...   \n",
       "594  Cancer; Cervical Cancer; Clinical Research; Cl...   \n",
       "\n",
       "                          ORG_NAME ORG_STATE            PI_NAMEs  \\\n",
       "593  UNIVERSITY OF HAWAII AT MANOA        HI   PALAFOX, NEAL A.;   \n",
       "594                YALE UNIVERSITY        CT  NICCOLAI, LINDA M;   \n",
       "\n",
       "    PROJECT_START PROJECT_END  \\\n",
       "593           NaN         NaN   \n",
       "594    08/01/2017  07/31/2021   \n",
       "\n",
       "                                         PROJECT_TITLE TOTAL_COST  \n",
       "593                                      Outreach Core        nan  \n",
       "594  Effectiveness of HPV Vaccine by Age at Immuniz...   444738.0  "
      ]
     },
     "execution_count": 9,
     "metadata": {},
     "output_type": "execute_result"
    }
   ],
   "source": [
    "Project_data.tail(2)"
   ]
  },
  {
   "cell_type": "markdown",
   "metadata": {
    "id": "gk3UAzQ3I7Wr"
   },
   "source": [
    "# Visualizations  <a class=\"anchor\" id=\"visualizations\"></a>\n",
    "Before generating the graph you first want to think about the information you are trying to convey and what your visualization should look like. It might help to draw a sketch on paper first. Once you know what type of graph is best suited to illustrate what you want to show, you will need to think about how to prepare the data you need for the graph. For your presentations, you should only include figures that serve a purpose, and convey important information to your audience."
   ]
  },
  {
   "cell_type": "markdown",
   "metadata": {
    "id": "nWUoK7JCI7Wt"
   },
   "source": [
    "# Checkpoint 2: Make a Barplot  <a class=\"anchor\" id=\"cp2\"></a>\n",
    "Using your `Project_data` dataframe make a Presentation ready barplot.  \n",
    "- Prepare the data to make your barplot. You can graph the number of core projects each year as we did above, but you don't have to. You can be more creative with your barplot to depict an important aspect of your research project. (1 point)\n",
    "- Give your barplot a title that tells your audience the important take away of your visualization (1 point)\n",
    "- Change the color of the bars (1 point)\n",
    "- Change the x and y axis labels and make sure you include a data source. (1 point)\n"
   ]
  },
  {
   "cell_type": "markdown",
   "metadata": {},
   "source": [
    "### <div class=\"alert alert-success\"> This is my data preparation process. </div>"
   ]
  },
  {
   "cell_type": "markdown",
   "metadata": {
    "id": "RV4L9c0oI7Ws"
   },
   "source": [
    "## Barplots  <a class=\"anchor\" id=\"barplots \"></a>"
   ]
  },
  {
   "cell_type": "code",
   "execution_count": 10,
   "metadata": {
    "colab": {
     "base_uri": "https://localhost:8080/",
     "height": 206
    },
    "id": "S3aHmW3zI7Ws",
    "outputId": "9bf01650-e5cd-4265-8937-0d83d48aba47"
   },
   "outputs": [
    {
     "data": {
      "text/html": [
       "<div>\n",
       "<style scoped>\n",
       "    .dataframe tbody tr th:only-of-type {\n",
       "        vertical-align: middle;\n",
       "    }\n",
       "\n",
       "    .dataframe tbody tr th {\n",
       "        vertical-align: top;\n",
       "    }\n",
       "\n",
       "    .dataframe thead th {\n",
       "        text-align: right;\n",
       "    }\n",
       "</style>\n",
       "<table border=\"1\" class=\"dataframe\">\n",
       "  <thead>\n",
       "    <tr style=\"text-align: right;\">\n",
       "      <th></th>\n",
       "      <th>IC_NAME</th>\n",
       "      <th>Total_Project_data</th>\n",
       "    </tr>\n",
       "  </thead>\n",
       "  <tbody>\n",
       "    <tr>\n",
       "      <th>0</th>\n",
       "      <td>NATIONAL CANCER INSTITUTE</td>\n",
       "      <td>125</td>\n",
       "    </tr>\n",
       "    <tr>\n",
       "      <th>1</th>\n",
       "      <td>NATIONAL INSTITUTE OF ALLERGY AND INFECTIOUS D...</td>\n",
       "      <td>20</td>\n",
       "    </tr>\n",
       "    <tr>\n",
       "      <th>2</th>\n",
       "      <td>EUNICE KENNEDY SHRIVER NATIONAL INSTITUTE OF C...</td>\n",
       "      <td>9</td>\n",
       "    </tr>\n",
       "    <tr>\n",
       "      <th>3</th>\n",
       "      <td>National Institute on Minority Health and Heal...</td>\n",
       "      <td>9</td>\n",
       "    </tr>\n",
       "    <tr>\n",
       "      <th>4</th>\n",
       "      <td>FOGARTY INTERNATIONAL CENTER</td>\n",
       "      <td>2</td>\n",
       "    </tr>\n",
       "  </tbody>\n",
       "</table>\n",
       "</div>"
      ],
      "text/plain": [
       "                                             IC_NAME  Total_Project_data\n",
       "0                          NATIONAL CANCER INSTITUTE                 125\n",
       "1  NATIONAL INSTITUTE OF ALLERGY AND INFECTIOUS D...                  20\n",
       "2  EUNICE KENNEDY SHRIVER NATIONAL INSTITUTE OF C...                   9\n",
       "3  National Institute on Minority Health and Heal...                   9\n",
       "4                       FOGARTY INTERNATIONAL CENTER                   2"
      ]
     },
     "execution_count": 10,
     "metadata": {},
     "output_type": "execute_result"
    }
   ],
   "source": [
    "# calculate how many \"HPV and/or Cervical Cancer Vaccines\" Projects each IC has\n",
    "IC = Project_data.groupby(['IC_NAME'])['CORE_PROJECT_NUM'].nunique().sort_values(ascending=False)\n",
    "\n",
    "# Convert into a dataframe and reset index\n",
    "IC = IC.to_frame().reset_index()\n",
    "\n",
    "# Rename FULL_PROJECT_NUM to Total_Projects\n",
    "IC.rename(columns={'CORE_PROJECT_NUM':'Total_Project_data'}, inplace = True)\n",
    "\n",
    "# View the first 8 observations \n",
    "IC.head()"
   ]
  },
  {
   "cell_type": "markdown",
   "metadata": {
    "id": "xkwrzIIGI7Ws"
   },
   "source": [
    "We can see that the NATIONAL CANCER INSTITUTE sponsors the most \"HPV and/or Cervical Cancer Vaccines\" projects by far, but we can create a visualization to process this information easier. This visualization will be used for data exploration, so we will not take time to make it pretty."
   ]
  },
  {
   "cell_type": "code",
   "execution_count": 11,
   "metadata": {
    "colab": {
     "base_uri": "https://localhost:8080/",
     "height": 733
    },
    "id": "ySpFClnzI7Ws",
    "outputId": "4c413b2e-31df-4efd-8184-19664ffbb4f7"
   },
   "outputs": [],
   "source": [
    "## Barplot function\n",
    "# Note we can reference column names (in quotes) in the specified data:\n",
    "#sns.barplot(x='IC_NAME', \n",
    "            #y='Total_Project_data', \n",
    "            #data = IC,\n",
    "            #color='#58CE8C')\n",
    "\n",
    "# Rotate the CI names on the x-axis 90 degrees\n",
    "#plt.xticks(rotation=90, ha='right')\n",
    "#plt.show()"
   ]
  },
  {
   "cell_type": "markdown",
   "metadata": {
    "id": "jHMTYK4iI7Ws"
   },
   "source": [
    "From this visual, we can see that only looking at projects sponsored by the NCI will cover most Cancer projects, but we might not want to leave out those other projects. In this notebook we will not be subsetting for NCI projects.\n",
    "\n",
    "This visual is just used to help us understand our data, so we will not waste time on perfecting it. "
   ]
  },
  {
   "cell_type": "markdown",
   "metadata": {
    "id": "KPef_ECNI7Ws"
   },
   "source": [
    "### Number of Core \"HPV and/or Cervical Cancer Vaccines\" Projects Annually \n",
    "Next we want to see how the number of Cancer projets changes over the years. \n",
    "We will begin with preparing the data, then we will make a quick and easy graph. After that, we will update the figure to get it presentation ready."
   ]
  },
  {
   "cell_type": "markdown",
   "metadata": {
    "id": "zfeelpjEI7Ws"
   },
   "source": [
    "#### Preparing the Annual HPVCCV data"
   ]
  },
  {
   "cell_type": "code",
   "execution_count": 12,
   "metadata": {
    "colab": {
     "base_uri": "https://localhost:8080/",
     "height": 206
    },
    "id": "cbRH8GXVI7Ws",
    "outputId": "f457ba2f-2354-40ee-c80a-6c0a790262b3",
    "scrolled": true
   },
   "outputs": [
    {
     "data": {
      "text/html": [
       "<div>\n",
       "<style scoped>\n",
       "    .dataframe tbody tr th:only-of-type {\n",
       "        vertical-align: middle;\n",
       "    }\n",
       "\n",
       "    .dataframe tbody tr th {\n",
       "        vertical-align: top;\n",
       "    }\n",
       "\n",
       "    .dataframe thead th {\n",
       "        text-align: right;\n",
       "    }\n",
       "</style>\n",
       "<table border=\"1\" class=\"dataframe\">\n",
       "  <thead>\n",
       "    <tr style=\"text-align: right;\">\n",
       "      <th></th>\n",
       "      <th>FY</th>\n",
       "      <th>Core_Projects</th>\n",
       "    </tr>\n",
       "  </thead>\n",
       "  <tbody>\n",
       "    <tr>\n",
       "      <th>0</th>\n",
       "      <td>2015</td>\n",
       "      <td>56</td>\n",
       "    </tr>\n",
       "    <tr>\n",
       "      <th>1</th>\n",
       "      <td>2016</td>\n",
       "      <td>57</td>\n",
       "    </tr>\n",
       "    <tr>\n",
       "      <th>2</th>\n",
       "      <td>2017</td>\n",
       "      <td>61</td>\n",
       "    </tr>\n",
       "    <tr>\n",
       "      <th>3</th>\n",
       "      <td>2018</td>\n",
       "      <td>52</td>\n",
       "    </tr>\n",
       "    <tr>\n",
       "      <th>4</th>\n",
       "      <td>2019</td>\n",
       "      <td>61</td>\n",
       "    </tr>\n",
       "    <tr>\n",
       "      <th>5</th>\n",
       "      <td>2020</td>\n",
       "      <td>66</td>\n",
       "    </tr>\n",
       "    <tr>\n",
       "      <th>6</th>\n",
       "      <td>2021</td>\n",
       "      <td>70</td>\n",
       "    </tr>\n",
       "  </tbody>\n",
       "</table>\n",
       "</div>"
      ],
      "text/plain": [
       "     FY  Core_Projects\n",
       "0  2015             56\n",
       "1  2016             57\n",
       "2  2017             61\n",
       "3  2018             52\n",
       "4  2019             61\n",
       "5  2020             66\n",
       "6  2021             70"
      ]
     },
     "execution_count": 12,
     "metadata": {},
     "output_type": "execute_result"
    }
   ],
   "source": [
    "# calculate how many Cancer Core Projects each fiscal year\n",
    "Projects_Annual = Project_data.groupby(['FY'])['CORE_PROJECT_NUM'].nunique()\n",
    "\n",
    "# Convert into a dataframe and reset index\n",
    "Projects_Annual = Projects_Annual.to_frame().reset_index()\n",
    "\n",
    "# Rename CORE_PROJECT_NUM to Cancer_Core_Projects\n",
    "Projects_Annual.rename(columns={'CORE_PROJECT_NUM':'Core_Projects'}, inplace = True)\n",
    "\n",
    "# View the first 8 observations \n",
    "Projects_Annual.head(10)"
   ]
  },
  {
   "cell_type": "markdown",
   "metadata": {
    "id": "cf772xr9I7Ws"
   },
   "source": [
    "#### Make a quick and easy barplot"
   ]
  },
  {
   "cell_type": "code",
   "execution_count": 13,
   "metadata": {
    "colab": {
     "base_uri": "https://localhost:8080/",
     "height": 279
    },
    "id": "OQL0WEQDI7Wt",
    "outputId": "f8dedf42-075f-46dc-b2f7-d2ca4b60bdf4",
    "scrolled": true
   },
   "outputs": [],
   "source": [
    "## Barplot function\n",
    "# Note we can reference column names (in quotes) in the specified data:\n",
    "#sns.barplot(x = 'FY', \n",
    "           # y = 'Core_Projects', \n",
    "           # data = Projects_Annual,\n",
    "           # color='#58CE8C')\n",
    "#plt.show()"
   ]
  },
  {
   "cell_type": "markdown",
   "metadata": {
    "id": "8peG3pYNI7Wt"
   },
   "source": [
    "## Presentation Ready Figures <a class=\"anchor\" id=\"presentation\"></a>\n",
    "\n",
    "### An Important Note on Graph Titles:\n",
    "\n",
    "The title of a visualization occupies the most valuable real estate on the page. If nothing else, you can be reasonably sure a viewer will at least read the title and glance at your visualization. This is why you want to put thought into making a clear and effective title that acts as a **narrative** for your chart highlighting the **Important takeaway** of the figure. Many novice visualizers default to an **explanatory** title, something like: \"Average Projects over Time (2012-2021)\". This title is correct - it just isn't very useful. This is particularly true since any good graph will have explained what the visualization is through the axes and legends. Instead, use the title to reinforce and explain the core point of the visualization. It should answer the question \"Why is this graph important?\" and focus the viewer onto the most critical take-away.\n",
    "\n",
    "### A Note on Data Sourcing\n",
    "\n",
    "Data sourcing is a critical aspect of any data visualization. Although here we are simply referencing the agencies that created the data, it is ideal to provide as direct of a path as possible for the viewer to find the data the graph is based on. When this is not possible (e.g. the data is sequestered), directing the viewer to documentation or methodology for the data is a good alternative. Regardless, providing clear sourcing for the underlying data is an **absolutely requirement** of any respectable visualization, and further builds trusts and enables reproducibility.\n",
    "\n",
    "#### A Note on Colors Selection\n",
    "The colors used in your visualization should convey meaning. Using different colors without purpose can lead to un-necessary confusion where your audience will start looking for meaning in the colors. \n"
   ]
  },
  {
   "cell_type": "markdown",
   "metadata": {},
   "source": [
    "### <div class=\"alert alert-success\">This is my Checkpoint 1 bar plot. HPVCCV stands for \"HPV and/or Cervical Cancer Vaccines\".</div>\n"
   ]
  },
  {
   "cell_type": "code",
   "execution_count": 14,
   "metadata": {
    "colab": {
     "base_uri": "https://localhost:8080/",
     "height": 310
    },
    "id": "c9pLSf0rI7Wt",
    "outputId": "ed116896-7ea4-4f18-b75a-5d863230c447"
   },
   "outputs": [
    {
     "data": {
      "image/png": "[encoded data removed]",
      "text/plain": [
       "<Figure size 640x480 with 1 Axes>"
      ]
     },
     "metadata": {},
     "output_type": "display_data"
    }
   ],
   "source": [
    "## Barplot function\n",
    "# Note we can reference column names (in quotes) in the specified data:\n",
    "# Change the color to a lovely green color\n",
    "yearly_projects = sns.barplot(x = 'FY', \n",
    "                             y = 'Core_Projects', \n",
    "                             data = Projects_Annual, \n",
    "                             color='#58CE8C')\n",
    "# Change the x-axis label\n",
    "yearly_projects.set(xlabel =\"Fiscal Year\", \n",
    "# Change the y-axis label\n",
    "                    ylabel = \"Number of HPVCCV Core Projects\",\n",
    "# Change the title\n",
    "                    title = \"The Number of PIs working on HPVCCV Projects Has Increased from FY 2018 to 2021,\\n Which May Be Caused by the Time Lag Effect of the Launch of Cancer Moonshot since December of FY2016.\")\n",
    "\n",
    "# Add a vertical year in 2018\n",
    "plt.vlines(x = 3, ymin = 0, ymax = 75, color = 'gray', linewidth=3)\n",
    "\n",
    "# add a data source \n",
    "# xy are measured in percent of axes length, from bottom left of graph:\n",
    "plt.annotate('Source: NIH RePORTER', xy=(0.95,-0.20), xycoords=\"axes fraction\")\n",
    "\n",
    "plt.show()"
   ]
  },
  {
   "cell_type": "markdown",
   "metadata": {
    "id": "r8z_PhAqI7Wt"
   },
   "source": [
    "### Getting the barplot Presentation ready <a class=\"anchor\" id=\"barplot_presentation\"></a>\n",
    "You may want to include a figure like this in your presentation. As is, this figure is inadequate for conveying information to your audience.\n",
    "- First, we want to change the color\n",
    "- Second, We will change the x- and y-axis labels\n",
    "- Next, we will give the figure a title that tells the audience what you are trying to convey with the figure\n",
    "- Next, we will add a black line to indicate what year the Cancer Moonshot began.\n",
    "- Finally, we will add a source to the data"
   ]
  },
  {
   "cell_type": "markdown",
   "metadata": {
    "id": "g5wCtxPUI7Wt"
   },
   "source": [
    "#### Using Hex Codes for Color\n",
    "In the graph above, you can see I set the color of the graph with pund sign `#` followed by a series of six numbers. This is a hexcode - which is short for hexadecimal code. A hexadecimal code lets you specify one of over 16 million colors using combinations of red, green, and blue. It first has two digits for red, then two digits for green, and lastly two digits for blue: `#RRGGBB`"
   ]
  },
  {
   "cell_type": "markdown",
   "metadata": {
    "id": "GKm-xkvTI7Wu"
   },
   "source": [
    "### Percentage of Core Cancer projects over time  <a class=\"anchor\" id=\"cancer_pi\"></a>\n",
    "Next we will look at the number of PIs working on Cancer projects over time and how it compares to the number of PIs working on non-cancer projects"
   ]
  },
  {
   "cell_type": "markdown",
   "metadata": {
    "id": "TTvjUwcQI7Wy"
   },
   "source": [
    "# Checkpoint 3 Visualization of you choice  <a class=\"anchor\" id=\"cp3\"></a>\n",
    "Create another presentation ready visualization using your `projects_data` (any type of graph except a barplot (because you have already done that) or a pie chart (because they are not good at conveying information). \n",
    "- Prepare the data for your visualization (1 point)\n",
    "- Give your barplot a title that tells your audience the important take away of your visualization (1 point)\n",
    "- Change the color of the visualization (1 point)\n",
    "- Change the x and y axis labels and make sure you include a data source. (1 point)\n"
   ]
  },
  {
   "cell_type": "markdown",
   "metadata": {},
   "source": [
    "### <div class=\"alert alert-success\"> This is my data preparation process. </div>"
   ]
  },
  {
   "cell_type": "markdown",
   "metadata": {
    "id": "TMiXIWGmI7Wu"
   },
   "source": [
    "### Cleaning PI_NAMEs  <a class=\"anchor\" id=\"pi\"></a>\n",
    "Using the same code in the `Record_Linkage_and_measurement.ipynb` notebook we will clean the PI names "
   ]
  },
  {
   "cell_type": "code",
   "execution_count": 15,
   "metadata": {
    "colab": {
     "base_uri": "https://localhost:8080/",
     "height": 242
    },
    "id": "uDOfMDPcI7Wu",
    "outputId": "94856306-bfc9-4e3c-8bbd-dc7855eff432",
    "scrolled": true
   },
   "outputs": [
    {
     "name": "stderr",
     "output_type": "stream",
     "text": [
      "/var/folders/rl/4_s3mzkj6ll5h2_4qxy9sftw0000gn/T/ipykernel_13503/2786476199.py:12: FutureWarning: The default value of regex will change from True to False in a future version.\n",
      "  temp['PI_NAME'] = temp['PI_NAME'].str.replace(' \\(contact\\)', '')\n"
     ]
    },
    {
     "data": {
      "text/html": [
       "<div>\n",
       "<style scoped>\n",
       "    .dataframe tbody tr th:only-of-type {\n",
       "        vertical-align: middle;\n",
       "    }\n",
       "\n",
       "    .dataframe tbody tr th {\n",
       "        vertical-align: top;\n",
       "    }\n",
       "\n",
       "    .dataframe thead th {\n",
       "        text-align: right;\n",
       "    }\n",
       "</style>\n",
       "<table border=\"1\" class=\"dataframe\">\n",
       "  <thead>\n",
       "    <tr style=\"text-align: right;\">\n",
       "      <th></th>\n",
       "      <th>index</th>\n",
       "      <th>PI_NAME</th>\n",
       "    </tr>\n",
       "  </thead>\n",
       "  <tbody>\n",
       "    <tr>\n",
       "      <th>0</th>\n",
       "      <td>0</td>\n",
       "      <td>MULLIGAN, MARK</td>\n",
       "    </tr>\n",
       "    <tr>\n",
       "      <th>2</th>\n",
       "      <td>1</td>\n",
       "      <td>BEDNARCZYK, ROBERT A.</td>\n",
       "    </tr>\n",
       "    <tr>\n",
       "      <th>4</th>\n",
       "      <td>2</td>\n",
       "      <td>MADELEINE, MARGARET M</td>\n",
       "    </tr>\n",
       "    <tr>\n",
       "      <th>5</th>\n",
       "      <td>2</td>\n",
       "      <td>WALD, ANNA</td>\n",
       "    </tr>\n",
       "    <tr>\n",
       "      <th>7</th>\n",
       "      <td>3</td>\n",
       "      <td>CRAIG, MARIDDIE J</td>\n",
       "    </tr>\n",
       "  </tbody>\n",
       "</table>\n",
       "</div>"
      ],
      "text/plain": [
       "   index                PI_NAME\n",
       "0      0        MULLIGAN, MARK \n",
       "2      1  BEDNARCZYK, ROBERT A.\n",
       "4      2  MADELEINE, MARGARET M\n",
       "5      2            WALD, ANNA \n",
       "7      3      CRAIG, MARIDDIE J"
      ]
     },
     "execution_count": 15,
     "metadata": {},
     "output_type": "execute_result"
    }
   ],
   "source": [
    "# Make a temperary dataframe that creates an observation for each PI. \n",
    "# Use the explode function to split the PI_Names at the ;\n",
    "temp = Project_data['PI_NAMEs'].str.split(';').explode().reset_index()\n",
    "\n",
    "# Rename the PI_NAMEs variable\n",
    "temp = temp.rename(columns = {'PI_NAMEs': 'PI_NAME'})\n",
    "\n",
    "# Only keep observations in the temp dataframe where PI_NAME is not an empty string\n",
    "temp = temp[temp['PI_NAME'] !=\"\"]\n",
    "\n",
    "# For the the PI_NAME variable, use the str.replace fundtion to replace ` (contact)` with nothing \n",
    "temp['PI_NAME'] = temp['PI_NAME'].str.replace(' \\(contact\\)', '')\n",
    "\n",
    "# look at the first 5 observations\n",
    "temp.head()"
   ]
  },
  {
   "cell_type": "code",
   "execution_count": 16,
   "metadata": {
    "colab": {
     "base_uri": "https://localhost:8080/",
     "height": 363
    },
    "id": "ebc3KFCRI7Wu",
    "outputId": "9a15fcf1-928d-4457-d83b-89f0a9cb1e51"
   },
   "outputs": [
    {
     "data": {
      "text/html": [
       "<div>\n",
       "<style scoped>\n",
       "    .dataframe tbody tr th:only-of-type {\n",
       "        vertical-align: middle;\n",
       "    }\n",
       "\n",
       "    .dataframe tbody tr th {\n",
       "        vertical-align: top;\n",
       "    }\n",
       "\n",
       "    .dataframe thead th {\n",
       "        text-align: right;\n",
       "    }\n",
       "</style>\n",
       "<table border=\"1\" class=\"dataframe\">\n",
       "  <thead>\n",
       "    <tr style=\"text-align: right;\">\n",
       "      <th></th>\n",
       "      <th>index</th>\n",
       "      <th>APPLICATION_ID</th>\n",
       "      <th>PI_NAMEs</th>\n",
       "    </tr>\n",
       "  </thead>\n",
       "  <tbody>\n",
       "    <tr>\n",
       "      <th>0</th>\n",
       "      <td>506</td>\n",
       "      <td>9446869</td>\n",
       "      <td>MULLIGAN, MARK ;</td>\n",
       "    </tr>\n",
       "    <tr>\n",
       "      <th>1</th>\n",
       "      <td>2221</td>\n",
       "      <td>9212635</td>\n",
       "      <td>BEDNARCZYK, ROBERT A.;</td>\n",
       "    </tr>\n",
       "    <tr>\n",
       "      <th>2</th>\n",
       "      <td>3329</td>\n",
       "      <td>9220396</td>\n",
       "      <td>MADELEINE, MARGARET M (contact); WALD, ANNA ;</td>\n",
       "    </tr>\n",
       "    <tr>\n",
       "      <th>3</th>\n",
       "      <td>3555</td>\n",
       "      <td>9322033</td>\n",
       "      <td>CRAIG, MARIDDIE J;</td>\n",
       "    </tr>\n",
       "    <tr>\n",
       "      <th>4</th>\n",
       "      <td>3716</td>\n",
       "      <td>9232059</td>\n",
       "      <td>CHRISTENSEN, NEIL D (contact); HU, JIAFEN ;</td>\n",
       "    </tr>\n",
       "    <tr>\n",
       "      <th>5</th>\n",
       "      <td>4748</td>\n",
       "      <td>9333200</td>\n",
       "      <td>GARCEA, ROBERT L;</td>\n",
       "    </tr>\n",
       "    <tr>\n",
       "      <th>6</th>\n",
       "      <td>5159</td>\n",
       "      <td>9349470</td>\n",
       "      <td>GUPTA, SAMIR ;</td>\n",
       "    </tr>\n",
       "    <tr>\n",
       "      <th>7</th>\n",
       "      <td>5835</td>\n",
       "      <td>9339317</td>\n",
       "      <td>KEMPE, ALLISON ; SZILAGYI, PETER G (contact);</td>\n",
       "    </tr>\n",
       "    <tr>\n",
       "      <th>8</th>\n",
       "      <td>6467</td>\n",
       "      <td>9317451</td>\n",
       "      <td>WOODALL, W GILL;</td>\n",
       "    </tr>\n",
       "    <tr>\n",
       "      <th>9</th>\n",
       "      <td>7553</td>\n",
       "      <td>9265795</td>\n",
       "      <td>BALDWIN, AUSTIN S; TIRO, JASMIN ANITA (contact);</td>\n",
       "    </tr>\n",
       "  </tbody>\n",
       "</table>\n",
       "</div>"
      ],
      "text/plain": [
       "   index  APPLICATION_ID                                          PI_NAMEs\n",
       "0    506         9446869                                  MULLIGAN, MARK ;\n",
       "1   2221         9212635                            BEDNARCZYK, ROBERT A.;\n",
       "2   3329         9220396     MADELEINE, MARGARET M (contact); WALD, ANNA ;\n",
       "3   3555         9322033                                CRAIG, MARIDDIE J;\n",
       "4   3716         9232059       CHRISTENSEN, NEIL D (contact); HU, JIAFEN ;\n",
       "5   4748         9333200                                 GARCEA, ROBERT L;\n",
       "6   5159         9349470                                    GUPTA, SAMIR ;\n",
       "7   5835         9339317     KEMPE, ALLISON ; SZILAGYI, PETER G (contact);\n",
       "8   6467         9317451                                  WOODALL, W GILL;\n",
       "9   7553         9265795  BALDWIN, AUSTIN S; TIRO, JASMIN ANITA (contact);"
      ]
     },
     "execution_count": 16,
     "metadata": {},
     "output_type": "execute_result"
    }
   ],
   "source": [
    "# Reset the index\n",
    "Project_data2 = Project_data.reset_index()\n",
    "\n",
    "Project_data2[['index','APPLICATION_ID','PI_NAMEs']].head(10)"
   ]
  },
  {
   "cell_type": "code",
   "execution_count": 17,
   "metadata": {
    "id": "VOO1vJJtI7Wu"
   },
   "outputs": [],
   "source": [
    "Project_data2 = Project_data2.reset_index(drop=True)"
   ]
  },
  {
   "cell_type": "code",
   "execution_count": 18,
   "metadata": {
    "colab": {
     "base_uri": "https://localhost:8080/",
     "height": 363
    },
    "id": "XF6kWm8YI7Wu",
    "outputId": "7b83bdf8-cd24-44bd-effb-8f54f5673e85"
   },
   "outputs": [
    {
     "data": {
      "text/html": [
       "<div>\n",
       "<style scoped>\n",
       "    .dataframe tbody tr th:only-of-type {\n",
       "        vertical-align: middle;\n",
       "    }\n",
       "\n",
       "    .dataframe tbody tr th {\n",
       "        vertical-align: top;\n",
       "    }\n",
       "\n",
       "    .dataframe thead th {\n",
       "        text-align: right;\n",
       "    }\n",
       "</style>\n",
       "<table border=\"1\" class=\"dataframe\">\n",
       "  <thead>\n",
       "    <tr style=\"text-align: right;\">\n",
       "      <th></th>\n",
       "      <th>level_0</th>\n",
       "      <th>index</th>\n",
       "      <th>APPLICATION_ID</th>\n",
       "      <th>PI_NAMEs</th>\n",
       "    </tr>\n",
       "  </thead>\n",
       "  <tbody>\n",
       "    <tr>\n",
       "      <th>0</th>\n",
       "      <td>0</td>\n",
       "      <td>506</td>\n",
       "      <td>9446869</td>\n",
       "      <td>MULLIGAN, MARK ;</td>\n",
       "    </tr>\n",
       "    <tr>\n",
       "      <th>1</th>\n",
       "      <td>1</td>\n",
       "      <td>2221</td>\n",
       "      <td>9212635</td>\n",
       "      <td>BEDNARCZYK, ROBERT A.;</td>\n",
       "    </tr>\n",
       "    <tr>\n",
       "      <th>2</th>\n",
       "      <td>2</td>\n",
       "      <td>3329</td>\n",
       "      <td>9220396</td>\n",
       "      <td>MADELEINE, MARGARET M (contact); WALD, ANNA ;</td>\n",
       "    </tr>\n",
       "    <tr>\n",
       "      <th>3</th>\n",
       "      <td>3</td>\n",
       "      <td>3555</td>\n",
       "      <td>9322033</td>\n",
       "      <td>CRAIG, MARIDDIE J;</td>\n",
       "    </tr>\n",
       "    <tr>\n",
       "      <th>4</th>\n",
       "      <td>4</td>\n",
       "      <td>3716</td>\n",
       "      <td>9232059</td>\n",
       "      <td>CHRISTENSEN, NEIL D (contact); HU, JIAFEN ;</td>\n",
       "    </tr>\n",
       "    <tr>\n",
       "      <th>5</th>\n",
       "      <td>5</td>\n",
       "      <td>4748</td>\n",
       "      <td>9333200</td>\n",
       "      <td>GARCEA, ROBERT L;</td>\n",
       "    </tr>\n",
       "    <tr>\n",
       "      <th>6</th>\n",
       "      <td>6</td>\n",
       "      <td>5159</td>\n",
       "      <td>9349470</td>\n",
       "      <td>GUPTA, SAMIR ;</td>\n",
       "    </tr>\n",
       "    <tr>\n",
       "      <th>7</th>\n",
       "      <td>7</td>\n",
       "      <td>5835</td>\n",
       "      <td>9339317</td>\n",
       "      <td>KEMPE, ALLISON ; SZILAGYI, PETER G (contact);</td>\n",
       "    </tr>\n",
       "    <tr>\n",
       "      <th>8</th>\n",
       "      <td>8</td>\n",
       "      <td>6467</td>\n",
       "      <td>9317451</td>\n",
       "      <td>WOODALL, W GILL;</td>\n",
       "    </tr>\n",
       "    <tr>\n",
       "      <th>9</th>\n",
       "      <td>9</td>\n",
       "      <td>7553</td>\n",
       "      <td>9265795</td>\n",
       "      <td>BALDWIN, AUSTIN S; TIRO, JASMIN ANITA (contact);</td>\n",
       "    </tr>\n",
       "  </tbody>\n",
       "</table>\n",
       "</div>"
      ],
      "text/plain": [
       "   level_0  index  APPLICATION_ID  \\\n",
       "0        0    506         9446869   \n",
       "1        1   2221         9212635   \n",
       "2        2   3329         9220396   \n",
       "3        3   3555         9322033   \n",
       "4        4   3716         9232059   \n",
       "5        5   4748         9333200   \n",
       "6        6   5159         9349470   \n",
       "7        7   5835         9339317   \n",
       "8        8   6467         9317451   \n",
       "9        9   7553         9265795   \n",
       "\n",
       "                                           PI_NAMEs  \n",
       "0                                  MULLIGAN, MARK ;  \n",
       "1                            BEDNARCZYK, ROBERT A.;  \n",
       "2     MADELEINE, MARGARET M (contact); WALD, ANNA ;  \n",
       "3                                CRAIG, MARIDDIE J;  \n",
       "4       CHRISTENSEN, NEIL D (contact); HU, JIAFEN ;  \n",
       "5                                 GARCEA, ROBERT L;  \n",
       "6                                    GUPTA, SAMIR ;  \n",
       "7     KEMPE, ALLISON ; SZILAGYI, PETER G (contact);  \n",
       "8                                  WOODALL, W GILL;  \n",
       "9  BALDWIN, AUSTIN S; TIRO, JASMIN ANITA (contact);  "
      ]
     },
     "execution_count": 18,
     "metadata": {},
     "output_type": "execute_result"
    }
   ],
   "source": [
    "Project_data2[['level_0','index','APPLICATION_ID','PI_NAMEs']].head(10)"
   ]
  },
  {
   "cell_type": "code",
   "execution_count": 19,
   "metadata": {
    "colab": {
     "base_uri": "https://localhost:8080/",
     "height": 419
    },
    "id": "CcGgMuY8I7Wu",
    "outputId": "345ff0bb-82fa-42af-99e5-0c674833c97a"
   },
   "outputs": [
    {
     "data": {
      "text/html": [
       "<div>\n",
       "<style scoped>\n",
       "    .dataframe tbody tr th:only-of-type {\n",
       "        vertical-align: middle;\n",
       "    }\n",
       "\n",
       "    .dataframe tbody tr th {\n",
       "        vertical-align: top;\n",
       "    }\n",
       "\n",
       "    .dataframe thead th {\n",
       "        text-align: right;\n",
       "    }\n",
       "</style>\n",
       "<table border=\"1\" class=\"dataframe\">\n",
       "  <thead>\n",
       "    <tr style=\"text-align: right;\">\n",
       "      <th></th>\n",
       "      <th>level_0</th>\n",
       "      <th>index_x</th>\n",
       "      <th>APPLICATION_ID</th>\n",
       "      <th>CORE_PROJECT_NUM</th>\n",
       "      <th>FULL_PROJECT_NUM</th>\n",
       "      <th>FY</th>\n",
       "      <th>IC_NAME</th>\n",
       "      <th>NIH_SPENDING_CATS</th>\n",
       "      <th>ORG_NAME</th>\n",
       "      <th>ORG_STATE</th>\n",
       "      <th>PI_NAMEs</th>\n",
       "      <th>PROJECT_START</th>\n",
       "      <th>PROJECT_END</th>\n",
       "      <th>PROJECT_TITLE</th>\n",
       "      <th>TOTAL_COST</th>\n",
       "      <th>index_y</th>\n",
       "      <th>PI_NAME</th>\n",
       "    </tr>\n",
       "  </thead>\n",
       "  <tbody>\n",
       "    <tr>\n",
       "      <th>0</th>\n",
       "      <td>0</td>\n",
       "      <td>506</td>\n",
       "      <td>9446869</td>\n",
       "      <td>NaN</td>\n",
       "      <td>272200800005C-25-0-6</td>\n",
       "      <td>2017</td>\n",
       "      <td>NATIONAL INSTITUTE OF ALLERGY AND INFECTIOUS D...</td>\n",
       "      <td>Biotechnology; Cancer; Clinical Research; Clin...</td>\n",
       "      <td>EMORY UNIVERSITY</td>\n",
       "      <td>GA</td>\n",
       "      <td>MULLIGAN, MARK ;</td>\n",
       "      <td>11/1/07</td>\n",
       "      <td>6/30/17</td>\n",
       "      <td>VACCINE AND EVALUTION TREATMENT UNITS:PHASE I ...</td>\n",
       "      <td>3039.0</td>\n",
       "      <td>0</td>\n",
       "      <td>MULLIGAN, MARK</td>\n",
       "    </tr>\n",
       "    <tr>\n",
       "      <th>1</th>\n",
       "      <td>1</td>\n",
       "      <td>2221</td>\n",
       "      <td>9212635</td>\n",
       "      <td>K01AI106961</td>\n",
       "      <td>5K01AI106961-04</td>\n",
       "      <td>2017</td>\n",
       "      <td>NATIONAL INSTITUTE OF ALLERGY AND INFECTIOUS D...</td>\n",
       "      <td>Behavioral and Social Science; Biotechnology; ...</td>\n",
       "      <td>EMORY UNIVERSITY</td>\n",
       "      <td>GA</td>\n",
       "      <td>BEDNARCZYK, ROBERT A.;</td>\n",
       "      <td>2/1/14</td>\n",
       "      <td>1/31/19</td>\n",
       "      <td>A Practice-Provider-Parent-Adolescent interven...</td>\n",
       "      <td>114370.0</td>\n",
       "      <td>1</td>\n",
       "      <td>BEDNARCZYK, ROBERT A.</td>\n",
       "    </tr>\n",
       "  </tbody>\n",
       "</table>\n",
       "</div>"
      ],
      "text/plain": [
       "   level_0  index_x  APPLICATION_ID CORE_PROJECT_NUM      FULL_PROJECT_NUM  \\\n",
       "0        0      506         9446869              NaN  272200800005C-25-0-6   \n",
       "1        1     2221         9212635      K01AI106961       5K01AI106961-04   \n",
       "\n",
       "     FY                                            IC_NAME  \\\n",
       "0  2017  NATIONAL INSTITUTE OF ALLERGY AND INFECTIOUS D...   \n",
       "1  2017  NATIONAL INSTITUTE OF ALLERGY AND INFECTIOUS D...   \n",
       "\n",
       "                                   NIH_SPENDING_CATS          ORG_NAME  \\\n",
       "0  Biotechnology; Cancer; Clinical Research; Clin...  EMORY UNIVERSITY   \n",
       "1  Behavioral and Social Science; Biotechnology; ...  EMORY UNIVERSITY   \n",
       "\n",
       "  ORG_STATE                PI_NAMEs PROJECT_START PROJECT_END  \\\n",
       "0        GA        MULLIGAN, MARK ;       11/1/07     6/30/17   \n",
       "1        GA  BEDNARCZYK, ROBERT A.;        2/1/14     1/31/19   \n",
       "\n",
       "                                       PROJECT_TITLE TOTAL_COST  index_y  \\\n",
       "0  VACCINE AND EVALUTION TREATMENT UNITS:PHASE I ...     3039.0        0   \n",
       "1  A Practice-Provider-Parent-Adolescent interven...   114370.0        1   \n",
       "\n",
       "                 PI_NAME  \n",
       "0        MULLIGAN, MARK   \n",
       "1  BEDNARCZYK, ROBERT A.  "
      ]
     },
     "execution_count": 19,
     "metadata": {},
     "output_type": "execute_result"
    }
   ],
   "source": [
    "# Merge this temperary dataframe with cancer_projects2\n",
    "# Reset the index\n",
    "Project_data3 = Project_data2.merge(temp, left_on = 'level_0', right_on='index') \n",
    "\n",
    "# look at the first 2 observations\n",
    "Project_data3.head(2)"
   ]
  },
  {
   "cell_type": "code",
   "execution_count": 20,
   "metadata": {
    "colab": {
     "base_uri": "https://localhost:8080/",
     "height": 238
    },
    "id": "AAD9faN4I7Wu",
    "outputId": "1d3421c1-e488-4e65-e984-958dfb89362a"
   },
   "outputs": [
    {
     "data": {
      "text/html": [
       "<div>\n",
       "<style scoped>\n",
       "    .dataframe tbody tr th:only-of-type {\n",
       "        vertical-align: middle;\n",
       "    }\n",
       "\n",
       "    .dataframe tbody tr th {\n",
       "        vertical-align: top;\n",
       "    }\n",
       "\n",
       "    .dataframe thead th {\n",
       "        text-align: right;\n",
       "    }\n",
       "</style>\n",
       "<table border=\"1\" class=\"dataframe\">\n",
       "  <thead>\n",
       "    <tr style=\"text-align: right;\">\n",
       "      <th></th>\n",
       "      <th>APPLICATION_ID</th>\n",
       "      <th>PI_NAMEs</th>\n",
       "      <th>PI_NAME</th>\n",
       "    </tr>\n",
       "  </thead>\n",
       "  <tbody>\n",
       "    <tr>\n",
       "      <th>0</th>\n",
       "      <td>9446869</td>\n",
       "      <td>MULLIGAN, MARK ;</td>\n",
       "      <td>MULLIGAN, MARK</td>\n",
       "    </tr>\n",
       "    <tr>\n",
       "      <th>1</th>\n",
       "      <td>9212635</td>\n",
       "      <td>BEDNARCZYK, ROBERT A.;</td>\n",
       "      <td>BEDNARCZYK, ROBERT A.</td>\n",
       "    </tr>\n",
       "    <tr>\n",
       "      <th>2</th>\n",
       "      <td>9220396</td>\n",
       "      <td>MADELEINE, MARGARET M (contact); WALD, ANNA ;</td>\n",
       "      <td>MADELEINE, MARGARET M</td>\n",
       "    </tr>\n",
       "    <tr>\n",
       "      <th>3</th>\n",
       "      <td>9220396</td>\n",
       "      <td>MADELEINE, MARGARET M (contact); WALD, ANNA ;</td>\n",
       "      <td>WALD, ANNA</td>\n",
       "    </tr>\n",
       "    <tr>\n",
       "      <th>4</th>\n",
       "      <td>9322033</td>\n",
       "      <td>CRAIG, MARIDDIE J;</td>\n",
       "      <td>CRAIG, MARIDDIE J</td>\n",
       "    </tr>\n",
       "    <tr>\n",
       "      <th>5</th>\n",
       "      <td>9232059</td>\n",
       "      <td>CHRISTENSEN, NEIL D (contact); HU, JIAFEN ;</td>\n",
       "      <td>CHRISTENSEN, NEIL D</td>\n",
       "    </tr>\n",
       "  </tbody>\n",
       "</table>\n",
       "</div>"
      ],
      "text/plain": [
       "   APPLICATION_ID                                       PI_NAMEs  \\\n",
       "0         9446869                               MULLIGAN, MARK ;   \n",
       "1         9212635                         BEDNARCZYK, ROBERT A.;   \n",
       "2         9220396  MADELEINE, MARGARET M (contact); WALD, ANNA ;   \n",
       "3         9220396  MADELEINE, MARGARET M (contact); WALD, ANNA ;   \n",
       "4         9322033                             CRAIG, MARIDDIE J;   \n",
       "5         9232059    CHRISTENSEN, NEIL D (contact); HU, JIAFEN ;   \n",
       "\n",
       "                 PI_NAME  \n",
       "0        MULLIGAN, MARK   \n",
       "1  BEDNARCZYK, ROBERT A.  \n",
       "2  MADELEINE, MARGARET M  \n",
       "3            WALD, ANNA   \n",
       "4      CRAIG, MARIDDIE J  \n",
       "5    CHRISTENSEN, NEIL D  "
      ]
     },
     "execution_count": 20,
     "metadata": {},
     "output_type": "execute_result"
    }
   ],
   "source": [
    "# Look at the first 6 observations for select variables\n",
    "Project_data3[['APPLICATION_ID','PI_NAMEs','PI_NAME']].head(6)"
   ]
  },
  {
   "cell_type": "code",
   "execution_count": 21,
   "metadata": {
    "id": "I7wcA4-eI7Wv"
   },
   "outputs": [],
   "source": [
    "# Convert scientific notation to a full float\n",
    "pd.set_option('display.float_format', '{:.2f}'.format)"
   ]
  },
  {
   "cell_type": "markdown",
   "metadata": {
    "id": "EeoAnbUwI7Wv"
   },
   "source": [
    "#### Number of PI's working on Cancer projects each year\n",
    "We will calculate the number of PI's working on Cancer projects each fiscal year"
   ]
  },
  {
   "cell_type": "code",
   "execution_count": 22,
   "metadata": {
    "colab": {
     "base_uri": "https://localhost:8080/",
     "height": 206
    },
    "id": "lkTohclQI7Wv",
    "outputId": "6d8b3c48-4565-47fd-b4f1-faa61738f033"
   },
   "outputs": [
    {
     "data": {
      "text/html": [
       "<div>\n",
       "<style scoped>\n",
       "    .dataframe tbody tr th:only-of-type {\n",
       "        vertical-align: middle;\n",
       "    }\n",
       "\n",
       "    .dataframe tbody tr th {\n",
       "        vertical-align: top;\n",
       "    }\n",
       "\n",
       "    .dataframe thead th {\n",
       "        text-align: right;\n",
       "    }\n",
       "</style>\n",
       "<table border=\"1\" class=\"dataframe\">\n",
       "  <thead>\n",
       "    <tr style=\"text-align: right;\">\n",
       "      <th></th>\n",
       "      <th>FY</th>\n",
       "      <th>Project_PIs</th>\n",
       "    </tr>\n",
       "  </thead>\n",
       "  <tbody>\n",
       "    <tr>\n",
       "      <th>0</th>\n",
       "      <td>2015</td>\n",
       "      <td>56</td>\n",
       "    </tr>\n",
       "    <tr>\n",
       "      <th>1</th>\n",
       "      <td>2016</td>\n",
       "      <td>66</td>\n",
       "    </tr>\n",
       "    <tr>\n",
       "      <th>2</th>\n",
       "      <td>2017</td>\n",
       "      <td>65</td>\n",
       "    </tr>\n",
       "    <tr>\n",
       "      <th>3</th>\n",
       "      <td>2018</td>\n",
       "      <td>56</td>\n",
       "    </tr>\n",
       "    <tr>\n",
       "      <th>4</th>\n",
       "      <td>2019</td>\n",
       "      <td>63</td>\n",
       "    </tr>\n",
       "    <tr>\n",
       "      <th>5</th>\n",
       "      <td>2020</td>\n",
       "      <td>68</td>\n",
       "    </tr>\n",
       "    <tr>\n",
       "      <th>6</th>\n",
       "      <td>2021</td>\n",
       "      <td>82</td>\n",
       "    </tr>\n",
       "  </tbody>\n",
       "</table>\n",
       "</div>"
      ],
      "text/plain": [
       "     FY  Project_PIs\n",
       "0  2015           56\n",
       "1  2016           66\n",
       "2  2017           65\n",
       "3  2018           56\n",
       "4  2019           63\n",
       "5  2020           68\n",
       "6  2021           82"
      ]
     },
     "execution_count": 22,
     "metadata": {},
     "output_type": "execute_result"
    }
   ],
   "source": [
    "# calculate how many PIs are working on Cancer Projects each fiscal year\n",
    "Project_PI = Project_data3.groupby(['FY'])['PI_NAMEs'].nunique()\n",
    "\n",
    "# Convert into a dataframe and reset index\n",
    "Project_PI = Project_PI.to_frame().reset_index()\n",
    "\n",
    "# Rename CORE_PROJECT_NUM to Cancer_Core_Projects\n",
    "Project_PI.rename(columns={'PI_NAMEs':'Project_PIs'}, inplace = True)\n",
    "\n",
    "# View the first 8 observations \n",
    "Project_PI.head(10)"
   ]
  },
  {
   "cell_type": "markdown",
   "metadata": {
    "id": "quFT_suMI7Wv"
   },
   "source": [
    "#### Number of PI's working on projects each yeah\n",
    "We will calculate the number of PI's working on any project each fiscal year"
   ]
  },
  {
   "cell_type": "code",
   "execution_count": 23,
   "metadata": {
    "colab": {
     "base_uri": "https://localhost:8080/",
     "height": 206
    },
    "id": "lxb-WDEqI7Wv",
    "outputId": "3a3b301e-43bf-4846-b958-463bff1a8351"
   },
   "outputs": [
    {
     "data": {
      "text/html": [
       "<div>\n",
       "<style scoped>\n",
       "    .dataframe tbody tr th:only-of-type {\n",
       "        vertical-align: middle;\n",
       "    }\n",
       "\n",
       "    .dataframe tbody tr th {\n",
       "        vertical-align: top;\n",
       "    }\n",
       "\n",
       "    .dataframe thead th {\n",
       "        text-align: right;\n",
       "    }\n",
       "</style>\n",
       "<table border=\"1\" class=\"dataframe\">\n",
       "  <thead>\n",
       "    <tr style=\"text-align: right;\">\n",
       "      <th></th>\n",
       "      <th>FY</th>\n",
       "      <th>All_PIs</th>\n",
       "    </tr>\n",
       "  </thead>\n",
       "  <tbody>\n",
       "    <tr>\n",
       "      <th>3</th>\n",
       "      <td>2015</td>\n",
       "      <td>47624</td>\n",
       "    </tr>\n",
       "    <tr>\n",
       "      <th>4</th>\n",
       "      <td>2016</td>\n",
       "      <td>48115</td>\n",
       "    </tr>\n",
       "    <tr>\n",
       "      <th>5</th>\n",
       "      <td>2017</td>\n",
       "      <td>48925</td>\n",
       "    </tr>\n",
       "    <tr>\n",
       "      <th>6</th>\n",
       "      <td>2018</td>\n",
       "      <td>51501</td>\n",
       "    </tr>\n",
       "    <tr>\n",
       "      <th>7</th>\n",
       "      <td>2019</td>\n",
       "      <td>54112</td>\n",
       "    </tr>\n",
       "  </tbody>\n",
       "</table>\n",
       "</div>"
      ],
      "text/plain": [
       "     FY  All_PIs\n",
       "3  2015    47624\n",
       "4  2016    48115\n",
       "5  2017    48925\n",
       "6  2018    51501\n",
       "7  2019    54112"
      ]
     },
     "execution_count": 23,
     "metadata": {},
     "output_type": "execute_result"
    }
   ],
   "source": [
    "# calculate how many PIs are working on all Projects each fiscal year\n",
    "All_PI = all_projects.groupby(['FY'])['PI_NAMEs'].nunique()\n",
    "\n",
    "# Convert into a dataframe and reset index\n",
    "All_PI = All_PI.to_frame().reset_index()\n",
    "\n",
    "# Rename CORE_PROJECT_NUM to Cancer_Core_Projects\n",
    "All_PI.rename(columns={'PI_NAMEs':'All_PIs'}, inplace = True)\n",
    "\n",
    "# select All_PIs whose FY isin 2015-2021\n",
    "All_PI = All_PI[All_PI.FY.isin([2015,2016,2017,2018,2019,2020,2021])]\n",
    "\n",
    "# View the first 8 observations \n",
    "All_PI.head()"
   ]
  },
  {
   "cell_type": "markdown",
   "metadata": {
    "id": "fWtY5cSNI7Wv"
   },
   "source": [
    "#### Percentage of PIs working on Cancer Progects each year\n",
    "First we are going to merge together the All_PI dataframe and the Cancer_PI data frame, then we will calculate the percentage of all projects that are cancer projects and the percentage of all projects that are not cancer projects."
   ]
  },
  {
   "cell_type": "code",
   "execution_count": 24,
   "metadata": {
    "colab": {
     "base_uri": "https://localhost:8080/",
     "height": 363
    },
    "id": "UPJ72vtBI7Wv",
    "outputId": "7df45dad-f0ce-40d9-96e1-8951ac65404c"
   },
   "outputs": [
    {
     "data": {
      "text/html": [
       "<div>\n",
       "<style scoped>\n",
       "    .dataframe tbody tr th:only-of-type {\n",
       "        vertical-align: middle;\n",
       "    }\n",
       "\n",
       "    .dataframe tbody tr th {\n",
       "        vertical-align: top;\n",
       "    }\n",
       "\n",
       "    .dataframe thead th {\n",
       "        text-align: right;\n",
       "    }\n",
       "</style>\n",
       "<table border=\"1\" class=\"dataframe\">\n",
       "  <thead>\n",
       "    <tr style=\"text-align: right;\">\n",
       "      <th></th>\n",
       "      <th>FY</th>\n",
       "      <th>All_PIs</th>\n",
       "      <th>Project_PIs</th>\n",
       "    </tr>\n",
       "  </thead>\n",
       "  <tbody>\n",
       "    <tr>\n",
       "      <th>0</th>\n",
       "      <td>2015</td>\n",
       "      <td>47624</td>\n",
       "      <td>56</td>\n",
       "    </tr>\n",
       "    <tr>\n",
       "      <th>1</th>\n",
       "      <td>2016</td>\n",
       "      <td>48115</td>\n",
       "      <td>66</td>\n",
       "    </tr>\n",
       "    <tr>\n",
       "      <th>2</th>\n",
       "      <td>2017</td>\n",
       "      <td>48925</td>\n",
       "      <td>65</td>\n",
       "    </tr>\n",
       "    <tr>\n",
       "      <th>3</th>\n",
       "      <td>2018</td>\n",
       "      <td>51501</td>\n",
       "      <td>56</td>\n",
       "    </tr>\n",
       "    <tr>\n",
       "      <th>4</th>\n",
       "      <td>2019</td>\n",
       "      <td>54112</td>\n",
       "      <td>63</td>\n",
       "    </tr>\n",
       "    <tr>\n",
       "      <th>5</th>\n",
       "      <td>2020</td>\n",
       "      <td>56201</td>\n",
       "      <td>68</td>\n",
       "    </tr>\n",
       "    <tr>\n",
       "      <th>6</th>\n",
       "      <td>2021</td>\n",
       "      <td>57536</td>\n",
       "      <td>82</td>\n",
       "    </tr>\n",
       "  </tbody>\n",
       "</table>\n",
       "</div>"
      ],
      "text/plain": [
       "     FY  All_PIs  Project_PIs\n",
       "0  2015    47624           56\n",
       "1  2016    48115           66\n",
       "2  2017    48925           65\n",
       "3  2018    51501           56\n",
       "4  2019    54112           63\n",
       "5  2020    56201           68\n",
       "6  2021    57536           82"
      ]
     },
     "execution_count": 24,
     "metadata": {},
     "output_type": "execute_result"
    }
   ],
   "source": [
    "# Marge together  `All_Annual` and `Cancer_Annual on PI_NAME`, creating a new data frame called `Annual.`\n",
    "# Use an outer merge. \n",
    "Annual_PI = pd.merge(All_PI, Project_PI, on='FY', how = 'outer')\n",
    "\n",
    "# View the dataframe\n",
    "Annual_PI "
   ]
  },
  {
   "cell_type": "markdown",
   "metadata": {
    "id": "9hVXsB6DI7Wv"
   },
   "source": [
    "We are going to add a new column that reports the percent of all core projects that are cancer related "
   ]
  },
  {
   "cell_type": "code",
   "execution_count": 25,
   "metadata": {
    "colab": {
     "base_uri": "https://localhost:8080/",
     "height": 363
    },
    "id": "_tr9dxUXI7Wv",
    "outputId": "a38e2815-59ad-4dbb-d9da-fd0a22334437"
   },
   "outputs": [
    {
     "data": {
      "text/html": [
       "<div>\n",
       "<style scoped>\n",
       "    .dataframe tbody tr th:only-of-type {\n",
       "        vertical-align: middle;\n",
       "    }\n",
       "\n",
       "    .dataframe tbody tr th {\n",
       "        vertical-align: top;\n",
       "    }\n",
       "\n",
       "    .dataframe thead th {\n",
       "        text-align: right;\n",
       "    }\n",
       "</style>\n",
       "<table border=\"1\" class=\"dataframe\">\n",
       "  <thead>\n",
       "    <tr style=\"text-align: right;\">\n",
       "      <th></th>\n",
       "      <th>FY</th>\n",
       "      <th>Percent_Project</th>\n",
       "      <th>Percent_Not_Project</th>\n",
       "    </tr>\n",
       "  </thead>\n",
       "  <tbody>\n",
       "    <tr>\n",
       "      <th>0</th>\n",
       "      <td>2015</td>\n",
       "      <td>0.12</td>\n",
       "      <td>99.88</td>\n",
       "    </tr>\n",
       "    <tr>\n",
       "      <th>1</th>\n",
       "      <td>2016</td>\n",
       "      <td>0.14</td>\n",
       "      <td>99.86</td>\n",
       "    </tr>\n",
       "    <tr>\n",
       "      <th>2</th>\n",
       "      <td>2017</td>\n",
       "      <td>0.13</td>\n",
       "      <td>99.87</td>\n",
       "    </tr>\n",
       "    <tr>\n",
       "      <th>3</th>\n",
       "      <td>2018</td>\n",
       "      <td>0.11</td>\n",
       "      <td>99.89</td>\n",
       "    </tr>\n",
       "    <tr>\n",
       "      <th>4</th>\n",
       "      <td>2019</td>\n",
       "      <td>0.12</td>\n",
       "      <td>99.88</td>\n",
       "    </tr>\n",
       "    <tr>\n",
       "      <th>5</th>\n",
       "      <td>2020</td>\n",
       "      <td>0.12</td>\n",
       "      <td>99.88</td>\n",
       "    </tr>\n",
       "    <tr>\n",
       "      <th>6</th>\n",
       "      <td>2021</td>\n",
       "      <td>0.14</td>\n",
       "      <td>99.86</td>\n",
       "    </tr>\n",
       "  </tbody>\n",
       "</table>\n",
       "</div>"
      ],
      "text/plain": [
       "     FY  Percent_Project  Percent_Not_Project\n",
       "0  2015             0.12                99.88\n",
       "1  2016             0.14                99.86\n",
       "2  2017             0.13                99.87\n",
       "3  2018             0.11                99.89\n",
       "4  2019             0.12                99.88\n",
       "5  2020             0.12                99.88\n",
       "6  2021             0.14                99.86"
      ]
     },
     "execution_count": 25,
     "metadata": {},
     "output_type": "execute_result"
    }
   ],
   "source": [
    "# Calculate the percent of PIs who work on cancer research and round to the tenth decimal place \n",
    "Annual_PI['Percent_Project'] = round((Annual_PI['Project_PIs']/Annual_PI['All_PIs'])*100,2)\n",
    "\n",
    "# Calculate the percent of PIs who did not work on cancer research \n",
    "Annual_PI['Percent_Not_Project'] = 100 - Annual_PI['Percent_Project']\n",
    "\n",
    "# Save only the FY, Percent_Cancer and Percent_Not_Cancer variables\n",
    "Annual_PI2 = Annual_PI[['FY','Percent_Project', 'Percent_Not_Project']]\n",
    "\n",
    "# View the data frame\n",
    "Annual_PI2"
   ]
  },
  {
   "cell_type": "markdown",
   "metadata": {},
   "source": [
    "### <div class=\"alert alert-success\">This is not my plots for Check Point 3, but just an exploration. </div> \n"
   ]
  },
  {
   "cell_type": "markdown",
   "metadata": {
    "id": "vx8WOD-sI7Wv"
   },
   "source": [
    "## Stacked Barplot   <a class=\"anchor\" id=\"stacked\"></a>\n",
    "Below, we will produce a Stacked Barplot that depicts the percentage of PIs working on cancer projects in one color and the percentage of PIs not working on cancer progects in a different color."
   ]
  },
  {
   "cell_type": "code",
   "execution_count": 26,
   "metadata": {
    "colab": {
     "base_uri": "https://localhost:8080/",
     "height": 326
    },
    "id": "atLBg7F8I7Ww",
    "outputId": "217085af-7c78-4ade-befb-de534358cbd0"
   },
   "outputs": [
    {
     "data": {
      "image/png": "[encoded data removed]",
      "text/plain": [
       "<Figure size 640x480 with 1 Axes>"
      ]
     },
     "metadata": {},
     "output_type": "display_data"
    }
   ],
   "source": [
    "# Set the Background color (https://matplotlib.org/gallery/style_sheets/style_sheets_reference.html)\n",
    "plt.style.use('dark_background')\n",
    "\n",
    "# Create stacked bar chart\n",
    "yearly_PI = Annual_PI2.set_index('FY').plot(kind='bar', \n",
    "                                                  stacked=True, \n",
    "                                                  color=['#58CE8C', 'Grey'])\n",
    "# Add the x label\n",
    "plt.xlabel('Fiscal Year', fontsize=12, labelpad=15)\n",
    "# Add the y label\n",
    "plt.ylabel('Percentage of PIs Working on HPVCCV Projects', fontsize=10, labelpad=15)\n",
    "# Add the tile\n",
    "plt.title('The Percentage of PIs Working on HPVCCV Projects Remained Steadily Over Time Below 0.2%.', fontsize=15, fontweight='bold')\n",
    "\n",
    "# add a data source \n",
    "plt.annotate('Source: NIH RePORTER', xy=(0.95,-0.20), xycoords=\"axes fraction\")\n",
    "\n",
    "#rotate x-axis labels\n",
    "plt.xticks(rotation=45)\n",
    "\n",
    "\n",
    "## create legend and put it to the right mid way up the graph\n",
    "plt.legend((\"Percent Not HPVCCV\",\"Percent HPVCCV\", ), loc = (1.05,0.50)) \n",
    "plt.ylim((0,0.5))\n",
    "\n",
    "plt.show()"
   ]
  },
  {
   "cell_type": "code",
   "execution_count": 27,
   "metadata": {
    "id": "UHASWvRPI7Ww"
   },
   "outputs": [],
   "source": [
    "## Switch back to default style\n",
    "plt.rcParams.update(plt.rcParamsDefault)\n",
    "%matplotlib inline"
   ]
  },
  {
   "cell_type": "markdown",
   "metadata": {},
   "source": [
    "### <div class=\"alert alert-success\"> For Checkpoint3, I made 2 lineplots and 1 a heatmap below. </div> \n"
   ]
  },
  {
   "cell_type": "markdown",
   "metadata": {
    "id": "ugxQLob0I7Wx"
   },
   "source": [
    "### Lineplots  <a class=\"anchor\" id=\"lineplots\"></a>"
   ]
  },
  {
   "cell_type": "code",
   "execution_count": 28,
   "metadata": {
    "colab": {
     "base_uri": "https://localhost:8080/",
     "height": 279
    },
    "id": "l3htLUavI7Wy",
    "outputId": "b0d1f26b-8a4c-4477-ce43-5cd3af782e59"
   },
   "outputs": [
    {
     "data": {
      "image/png": "[encoded data removed]",
      "text/plain": [
       "<Figure size 640x480 with 1 Axes>"
      ]
     },
     "metadata": {},
     "output_type": "display_data"
    }
   ],
   "source": [
    "# calculate how many PIs are working on HPVCCV Projects each fiscal year\n",
    "yearly_PIs_line = sns.lineplot(x = 'FY', \n",
    "                             y = 'Project_PIs', \n",
    "                             data = Project_PI, \n",
    "                             color='#58CE8C')\n",
    "# Add the tile\n",
    "# Add a title\n",
    "yearly_PIs_line.set(xlabel =\"Fiscal Year\", \n",
    "# Change the y-axis label\n",
    "                    ylabel = \"Number of PIs working on HPVCCV Projects\",\n",
    "# Change the title\n",
    "                    title = \"The Number of PIs working on HPVCCV Projects Has Increased from FY 2018 to 2021,\\n Which May Be Caused by the Time Lag Effect of the Launch of Cancer Moonshot since December of FY2016. \")\n",
    "\n",
    "plt.show()"
   ]
  },
  {
   "cell_type": "code",
   "execution_count": 29,
   "metadata": {
    "colab": {
     "base_uri": "https://localhost:8080/",
     "height": 279
    },
    "id": "l3htLUavI7Wy",
    "outputId": "b0d1f26b-8a4c-4477-ce43-5cd3af782e59"
   },
   "outputs": [
    {
     "data": {
      "image/png": "[encoded data removed]",
      "text/plain": [
       "<Figure size 640x480 with 1 Axes>"
      ]
     },
     "metadata": {},
     "output_type": "display_data"
    }
   ],
   "source": [
    "yearly_projects_line = sns.lineplot(x = 'FY', \n",
    "                             y = 'Core_Projects', \n",
    "                             data = Projects_Annual, \n",
    "                             color='#58CE8C')\n",
    "# Add the tile\n",
    "# Add a title\n",
    "yearly_projects_line.set(xlabel =\"Fiscal Year\", \n",
    "# Change the y-axis label\n",
    "                    ylabel = \"Number of HPVCCV Core Projects\",\n",
    "# Change the title\n",
    "                    title = \"The Number of Funded HPVCCV Projects Has Increased from 2018 to 2021,\\n Which may Be Result From the Time Lag effect of the Launch of Cancer Moonshot since December of FY2016.\")\n",
    "\n",
    "plt.show()"
   ]
  },
  {
   "cell_type": "markdown",
   "metadata": {
    "id": "ytL5bmMBI7Ww"
   },
   "source": [
    "## Geopandas <a class=\"anchor\" id=\"geopandas\"></a>\n",
    "GeoPandas is an open-source project to make working with geospatial data in python easier. GeoPandas extends the datatypes used by pandas to allow spatial operations on geometric types. Geometric operations are performed by shapely. Geopandas further depends on fiona for file access and matplotlib for plotting.\n",
    "In this section we will use the geopandas along with matplotlib to produce geospatial heat maps."
   ]
  },
  {
   "cell_type": "markdown",
   "metadata": {
    "id": "pet3sg1qI7Ww"
   },
   "source": [
    "## Heat Map of the United States <a class=\"anchor\" id=\"hm\"></a>"
   ]
  },
  {
   "cell_type": "markdown",
   "metadata": {
    "id": "tPkINvkGI7Ww"
   },
   "source": [
    "#### Read in the Shape file\n",
    "Please download the [tl_rd22_us_state.zip](https://drive.google.com/file/d/1M01wosaxtywlT8ss3lS04GPkR4zogIuz/view?usp=share_link) folder from the google drive, un-zip it and move it to the Data folder inside the PADM-GP_2505 folder you made for this class. Note, while we only read in the .shp file, you need all of the files in this folder to make geospatial images. "
   ]
  },
  {
   "cell_type": "code",
   "execution_count": 30,
   "metadata": {
    "id": "T0bSoexrI7Ww",
    "outputId": "ebdf9201-9762-4d6b-ad3d-28f7942a4f14"
   },
   "outputs": [
    {
     "data": {
      "text/plain": [
       "geopandas.geodataframe.GeoDataFrame"
      ]
     },
     "execution_count": 30,
     "metadata": {},
     "output_type": "execute_result"
    }
   ],
   "source": [
    "# Use geopandas to read in the .shp file\n",
    "states = geopandas.read_file(Path + '/tl_rd22_us_state/tl_rd22_us_state.shp')\n",
    "type(states)"
   ]
  },
  {
   "cell_type": "code",
   "execution_count": 31,
   "metadata": {
    "colab": {
     "base_uri": "https://localhost:8080/",
     "height": 240
    },
    "id": "dvJ8n3C5I7Ww",
    "outputId": "3b4bfcae-96c2-4320-a468-836770ae9f43"
   },
   "outputs": [
    {
     "data": {
      "text/html": [
       "<div>\n",
       "<style scoped>\n",
       "    .dataframe tbody tr th:only-of-type {\n",
       "        vertical-align: middle;\n",
       "    }\n",
       "\n",
       "    .dataframe tbody tr th {\n",
       "        vertical-align: top;\n",
       "    }\n",
       "\n",
       "    .dataframe thead th {\n",
       "        text-align: right;\n",
       "    }\n",
       "</style>\n",
       "<table border=\"1\" class=\"dataframe\">\n",
       "  <thead>\n",
       "    <tr style=\"text-align: right;\">\n",
       "      <th></th>\n",
       "      <th>REGION</th>\n",
       "      <th>DIVISION</th>\n",
       "      <th>STATEFP</th>\n",
       "      <th>STATENS</th>\n",
       "      <th>GEOID</th>\n",
       "      <th>STUSPS</th>\n",
       "      <th>NAME</th>\n",
       "      <th>LSAD</th>\n",
       "      <th>MTFCC</th>\n",
       "      <th>FUNCSTAT</th>\n",
       "      <th>ALAND</th>\n",
       "      <th>AWATER</th>\n",
       "      <th>INTPTLAT</th>\n",
       "      <th>INTPTLON</th>\n",
       "      <th>geometry</th>\n",
       "    </tr>\n",
       "  </thead>\n",
       "  <tbody>\n",
       "    <tr>\n",
       "      <th>0</th>\n",
       "      <td>3</td>\n",
       "      <td>5</td>\n",
       "      <td>54</td>\n",
       "      <td>01779805</td>\n",
       "      <td>54</td>\n",
       "      <td>WV</td>\n",
       "      <td>West Virginia</td>\n",
       "      <td>00</td>\n",
       "      <td>G4000</td>\n",
       "      <td>A</td>\n",
       "      <td>62266296765</td>\n",
       "      <td>489206049</td>\n",
       "      <td>+38.6472854</td>\n",
       "      <td>-080.6183274</td>\n",
       "      <td>POLYGON ((-81.74725 39.09538, -81.74635 39.096...</td>\n",
       "    </tr>\n",
       "    <tr>\n",
       "      <th>1</th>\n",
       "      <td>3</td>\n",
       "      <td>5</td>\n",
       "      <td>12</td>\n",
       "      <td>00294478</td>\n",
       "      <td>12</td>\n",
       "      <td>FL</td>\n",
       "      <td>Florida</td>\n",
       "      <td>00</td>\n",
       "      <td>G4000</td>\n",
       "      <td>A</td>\n",
       "      <td>138958484319</td>\n",
       "      <td>45975808217</td>\n",
       "      <td>+28.3989775</td>\n",
       "      <td>-082.5143005</td>\n",
       "      <td>MULTIPOLYGON (((-86.39964 30.22696, -86.40262 ...</td>\n",
       "    </tr>\n",
       "    <tr>\n",
       "      <th>2</th>\n",
       "      <td>2</td>\n",
       "      <td>3</td>\n",
       "      <td>17</td>\n",
       "      <td>01779784</td>\n",
       "      <td>17</td>\n",
       "      <td>IL</td>\n",
       "      <td>Illinois</td>\n",
       "      <td>00</td>\n",
       "      <td>G4000</td>\n",
       "      <td>A</td>\n",
       "      <td>143778461053</td>\n",
       "      <td>6216594318</td>\n",
       "      <td>+40.1028754</td>\n",
       "      <td>-089.1526108</td>\n",
       "      <td>POLYGON ((-91.18529 40.63780, -91.17510 40.643...</td>\n",
       "    </tr>\n",
       "  </tbody>\n",
       "</table>\n",
       "</div>"
      ],
      "text/plain": [
       "  REGION DIVISION STATEFP   STATENS GEOID STUSPS           NAME LSAD  MTFCC  \\\n",
       "0      3        5      54  01779805    54     WV  West Virginia   00  G4000   \n",
       "1      3        5      12  00294478    12     FL        Florida   00  G4000   \n",
       "2      2        3      17  01779784    17     IL       Illinois   00  G4000   \n",
       "\n",
       "  FUNCSTAT         ALAND       AWATER     INTPTLAT      INTPTLON  \\\n",
       "0        A   62266296765    489206049  +38.6472854  -080.6183274   \n",
       "1        A  138958484319  45975808217  +28.3989775  -082.5143005   \n",
       "2        A  143778461053   6216594318  +40.1028754  -089.1526108   \n",
       "\n",
       "                                            geometry  \n",
       "0  POLYGON ((-81.74725 39.09538, -81.74635 39.096...  \n",
       "1  MULTIPOLYGON (((-86.39964 30.22696, -86.40262 ...  \n",
       "2  POLYGON ((-91.18529 40.63780, -91.17510 40.643...  "
      ]
     },
     "execution_count": 31,
     "metadata": {},
     "output_type": "execute_result"
    }
   ],
   "source": [
    "# Look at the first 3 observations\n",
    "states.head(3)"
   ]
  },
  {
   "cell_type": "markdown",
   "metadata": {
    "id": "JSxUqB1HI7Ww"
   },
   "source": [
    "### Number of projects by State\n",
    "We are going to creata a geospatial heat map of the U.S. where the color of each state depicts the nukber of Core Projects from the state. First we meed to prepair the data. "
   ]
  },
  {
   "cell_type": "code",
   "execution_count": 32,
   "metadata": {
    "colab": {
     "base_uri": "https://localhost:8080/",
     "height": 112
    },
    "id": "aD723cxAI7Ww",
    "outputId": "a024e0c8-4f35-470d-a458-cb1713214531",
    "scrolled": true
   },
   "outputs": [
    {
     "data": {
      "text/html": [
       "<div>\n",
       "<style scoped>\n",
       "    .dataframe tbody tr th:only-of-type {\n",
       "        vertical-align: middle;\n",
       "    }\n",
       "\n",
       "    .dataframe tbody tr th {\n",
       "        vertical-align: top;\n",
       "    }\n",
       "\n",
       "    .dataframe thead th {\n",
       "        text-align: right;\n",
       "    }\n",
       "</style>\n",
       "<table border=\"1\" class=\"dataframe\">\n",
       "  <thead>\n",
       "    <tr style=\"text-align: right;\">\n",
       "      <th></th>\n",
       "      <th>ORG_STATE</th>\n",
       "      <th>Total_Core_Projects</th>\n",
       "    </tr>\n",
       "  </thead>\n",
       "  <tbody>\n",
       "    <tr>\n",
       "      <th>0</th>\n",
       "      <td>CA</td>\n",
       "      <td>17</td>\n",
       "    </tr>\n",
       "    <tr>\n",
       "      <th>1</th>\n",
       "      <td>NY</td>\n",
       "      <td>13</td>\n",
       "    </tr>\n",
       "  </tbody>\n",
       "</table>\n",
       "</div>"
      ],
      "text/plain": [
       "  ORG_STATE  Total_Core_Projects\n",
       "0        CA                   17\n",
       "1        NY                   13"
      ]
     },
     "execution_count": 32,
     "metadata": {},
     "output_type": "execute_result"
    }
   ],
   "source": [
    "# Calculate how many Projects each state\n",
    "Project_st = Project_data.groupby(['ORG_STATE'])['CORE_PROJECT_NUM'].nunique().sort_values(ascending=False)\n",
    "# Convert into a dataframe and reset index\n",
    "Project_st = Project_st.to_frame().reset_index()\n",
    "\n",
    "# Rename APPLICATION_ID to Total_Projects_2015\n",
    "Project_st.rename(columns={'CORE_PROJECT_NUM':'Total_Core_Projects'}, inplace = True)\n",
    "\n",
    "# View the first 2 observations \n",
    "Project_st.head(2)"
   ]
  },
  {
   "cell_type": "markdown",
   "metadata": {
    "id": "w4Veau2bI7Wx"
   },
   "source": [
    "We need to link this data to the state geodataframe. Note, if we start with the `states` data and merge in the cancer_st data we end up with a geodataframe, however if we start with the cancer_st and merge in the states data we end up with a normal dataframe and not a geodataframe. This is important because we need a geodataframe to produce geospatial heat maps."
   ]
  },
  {
   "cell_type": "code",
   "execution_count": 33,
   "metadata": {
    "colab": {
     "base_uri": "https://localhost:8080/",
     "height": 398
    },
    "id": "ajbZzQjRI7Wx",
    "outputId": "f9c88a36-5dfb-40a0-adc7-b76efb5d46cd",
    "scrolled": true
   },
   "outputs": [
    {
     "data": {
      "text/html": [
       "<div>\n",
       "<style scoped>\n",
       "    .dataframe tbody tr th:only-of-type {\n",
       "        vertical-align: middle;\n",
       "    }\n",
       "\n",
       "    .dataframe tbody tr th {\n",
       "        vertical-align: top;\n",
       "    }\n",
       "\n",
       "    .dataframe thead th {\n",
       "        text-align: right;\n",
       "    }\n",
       "</style>\n",
       "<table border=\"1\" class=\"dataframe\">\n",
       "  <thead>\n",
       "    <tr style=\"text-align: right;\">\n",
       "      <th></th>\n",
       "      <th>REGION</th>\n",
       "      <th>DIVISION</th>\n",
       "      <th>STATEFP</th>\n",
       "      <th>STATENS</th>\n",
       "      <th>GEOID</th>\n",
       "      <th>STUSPS</th>\n",
       "      <th>NAME</th>\n",
       "      <th>LSAD</th>\n",
       "      <th>MTFCC</th>\n",
       "      <th>FUNCSTAT</th>\n",
       "      <th>ALAND</th>\n",
       "      <th>AWATER</th>\n",
       "      <th>INTPTLAT</th>\n",
       "      <th>INTPTLON</th>\n",
       "      <th>geometry</th>\n",
       "      <th>ORG_STATE</th>\n",
       "      <th>Total_Core_Projects</th>\n",
       "    </tr>\n",
       "  </thead>\n",
       "  <tbody>\n",
       "    <tr>\n",
       "      <th>0</th>\n",
       "      <td>3</td>\n",
       "      <td>5</td>\n",
       "      <td>12</td>\n",
       "      <td>00294478</td>\n",
       "      <td>12</td>\n",
       "      <td>FL</td>\n",
       "      <td>Florida</td>\n",
       "      <td>00</td>\n",
       "      <td>G4000</td>\n",
       "      <td>A</td>\n",
       "      <td>138958484319</td>\n",
       "      <td>45975808217</td>\n",
       "      <td>+28.3989775</td>\n",
       "      <td>-082.5143005</td>\n",
       "      <td>MULTIPOLYGON (((-86.39964 30.22696, -86.40262 ...</td>\n",
       "      <td>FL</td>\n",
       "      <td>4</td>\n",
       "    </tr>\n",
       "    <tr>\n",
       "      <th>1</th>\n",
       "      <td>2</td>\n",
       "      <td>3</td>\n",
       "      <td>17</td>\n",
       "      <td>01779784</td>\n",
       "      <td>17</td>\n",
       "      <td>IL</td>\n",
       "      <td>Illinois</td>\n",
       "      <td>00</td>\n",
       "      <td>G4000</td>\n",
       "      <td>A</td>\n",
       "      <td>143778461053</td>\n",
       "      <td>6216594318</td>\n",
       "      <td>+40.1028754</td>\n",
       "      <td>-089.1526108</td>\n",
       "      <td>POLYGON ((-91.18529 40.63780, -91.17510 40.643...</td>\n",
       "      <td>IL</td>\n",
       "      <td>6</td>\n",
       "    </tr>\n",
       "    <tr>\n",
       "      <th>2</th>\n",
       "      <td>2</td>\n",
       "      <td>4</td>\n",
       "      <td>27</td>\n",
       "      <td>00662849</td>\n",
       "      <td>27</td>\n",
       "      <td>MN</td>\n",
       "      <td>Minnesota</td>\n",
       "      <td>00</td>\n",
       "      <td>G4000</td>\n",
       "      <td>A</td>\n",
       "      <td>206232157570</td>\n",
       "      <td>18949864226</td>\n",
       "      <td>+46.3159573</td>\n",
       "      <td>-094.1996043</td>\n",
       "      <td>POLYGON ((-96.78438 46.63050, -96.78434 46.630...</td>\n",
       "      <td>MN</td>\n",
       "      <td>2</td>\n",
       "    </tr>\n",
       "  </tbody>\n",
       "</table>\n",
       "</div>"
      ],
      "text/plain": [
       "  REGION DIVISION STATEFP   STATENS GEOID STUSPS       NAME LSAD  MTFCC  \\\n",
       "0      3        5      12  00294478    12     FL    Florida   00  G4000   \n",
       "1      2        3      17  01779784    17     IL   Illinois   00  G4000   \n",
       "2      2        4      27  00662849    27     MN  Minnesota   00  G4000   \n",
       "\n",
       "  FUNCSTAT         ALAND       AWATER     INTPTLAT      INTPTLON  \\\n",
       "0        A  138958484319  45975808217  +28.3989775  -082.5143005   \n",
       "1        A  143778461053   6216594318  +40.1028754  -089.1526108   \n",
       "2        A  206232157570  18949864226  +46.3159573  -094.1996043   \n",
       "\n",
       "                                            geometry ORG_STATE  \\\n",
       "0  MULTIPOLYGON (((-86.39964 30.22696, -86.40262 ...        FL   \n",
       "1  POLYGON ((-91.18529 40.63780, -91.17510 40.643...        IL   \n",
       "2  POLYGON ((-96.78438 46.63050, -96.78434 46.630...        MN   \n",
       "\n",
       "   Total_Core_Projects  \n",
       "0                    4  \n",
       "1                    6  \n",
       "2                    2  "
      ]
     },
     "execution_count": 33,
     "metadata": {},
     "output_type": "execute_result"
    }
   ],
   "source": [
    "# Merge the cancer_st into the states data \n",
    "# where we use the STUSPS variable for the states data equals the ORG_STATE variable from the cancer_st data\n",
    "Project_st2 = pd.merge(states, Project_st, left_on=  ['STUSPS'],\n",
    "                   right_on= ['ORG_STATE'], how = 'inner')\n",
    "\n",
    "# View the first 3 observations \n",
    "Project_st2.head(3)           "
   ]
  },
  {
   "cell_type": "markdown",
   "metadata": {
    "id": "3Vp35G_pI7Wx"
   },
   "source": [
    "#### Make a quick heat map of the us"
   ]
  },
  {
   "cell_type": "code",
   "execution_count": 34,
   "metadata": {
    "colab": {
     "base_uri": "https://localhost:8080/",
     "height": 370
    },
    "id": "C-Zk-jNJI7Wx",
    "outputId": "4647972c-bf1d-4798-d7ec-f8ea2ab67733",
    "scrolled": true
   },
   "outputs": [
    {
     "data": {
      "text/plain": [
       "<AxesSubplot:>"
      ]
     },
     "execution_count": 34,
     "metadata": {},
     "output_type": "execute_result"
    },
    {
     "data": {
      "image/png": "[encoded data removed]",
      "text/plain": [
       "<Figure size 2000x800 with 1 Axes>"
      ]
     },
     "metadata": {},
     "output_type": "display_data"
    }
   ],
   "source": [
    "# Indicate the variable that should be used for the colors for the heat map\n",
    "col = 'Total_Core_Projects'\n",
    "\n",
    "# Create figure and axes for Matplotlib\n",
    "fig, ax = plt.subplots(1, figsize=(20, 8))\n",
    "\n",
    "# Create the heat map of the US\n",
    "Project_st2.plot(column = col, ax = ax, edgecolor='0.8', linewidth=1, cmap='viridis')\n"
   ]
  },
  {
   "cell_type": "markdown",
   "metadata": {
    "id": "DIld3-bKI7Wx"
   },
   "source": [
    "#### Focus on the continental U.S. \n",
    "When including the entire U.S. and all of its territories in the visual, it is difficult to make out specific states. Depending on your research question, it may be sufficient to focus on the continental U.S.."
   ]
  },
  {
   "cell_type": "code",
   "execution_count": 35,
   "metadata": {
    "id": "ipz-KbWeI7Wx"
   },
   "outputs": [],
   "source": [
    "# Remove all of the small islands\n",
    "Project_st3 = Project_st2[Project_st2['REGION'] != '9']\n",
    "# Remove Hawaii\n",
    "Project_st3 = Project_st3[Project_st3['STUSPS'] != 'HI']\n",
    "# Remove Alaska\n",
    "Project_st3 = Project_st3[Project_st3['STUSPS'] != 'AK']"
   ]
  },
  {
   "cell_type": "markdown",
   "metadata": {
    "id": "o_Zb9UcQI7Wx"
   },
   "source": [
    "### Make a Presentation Ready heat map of the us <a class=\"anchor\" id=\"presentation_hm\"></a>"
   ]
  },
  {
   "cell_type": "code",
   "execution_count": 36,
   "metadata": {
    "colab": {
     "base_uri": "https://localhost:8080/",
     "height": 580
    },
    "id": "90JaM7YwI7Wx",
    "outputId": "d7fc5696-b6b9-47c5-ea70-774fb6423bdf"
   },
   "outputs": [
    {
     "data": {
      "image/png": "[encoded data removed]",
      "text/plain": [
       "<Figure size 2000x800 with 2 Axes>"
      ]
     },
     "metadata": {},
     "output_type": "display_data"
    }
   ],
   "source": [
    "# Indicate the variable that should be used for the colors for the heat map\n",
    "col = 'Total_Core_Projects'\n",
    "\n",
    "\n",
    "# Create figure and axes for Matplotlib\n",
    "fig, ax = plt.subplots(1, figsize=(20, 8))\n",
    "\n",
    "# Remove the axis\n",
    "ax.axis('off')\n",
    "\n",
    "# Create the heat map of the US, use the viridis color palette \n",
    "Project_st3.plot(column=col, ax = ax, edgecolor = '0.8', linewidth = 1, cmap = 'YlGnBu')\n",
    "\n",
    "# Give your figure a title\n",
    "title = 'California had the Most Core HPVCCV Projects.'\n",
    "ax.set_title(title, fontdict={'fontsize': '25', 'fontweight': '3'})\n",
    "\n",
    "\n",
    "# add a data source \n",
    "# xy are measured in percent of axes length, from bottom left of graph:\n",
    "plt.annotate('Source: NIH RePORTER', xy=(0.95,-0.20), xycoords=\"axes fraction\")\n",
    "\n",
    "# identify the max and min number of Cancer projects \n",
    "vmin = Project_st3[col].min()\n",
    "vmax = Project_st3[col].max()\n",
    "            \n",
    "# Create colorbar as a legend\n",
    "sm = plt.cm.ScalarMappable(norm=plt.Normalize(vmin=vmin, vmax=vmax), cmap='YlGnBu')\n",
    "\n",
    "# Add the colorbar to the figure\n",
    "cbaxes = fig.add_axes([0.15, 0.25, 0.01, 0.4])\n",
    "cbar = fig.colorbar(sm, cax=cbaxes)"
   ]
  },
  {
   "cell_type": "markdown",
   "metadata": {
    "id": "EMhoe52rI7Wy"
   },
   "source": [
    "## More Resources  <a class=\"anchor\" id=\"Resources\"></a>\n",
    "\n",
    "* [A Thorough Comparison of Python's DataViz Modules](https://dsaber.com/2016/10/02/a-dramatic-tour-through-pythons-data-visualization-landscape-including-ggplot-and-altair)\n",
    "\n",
    "* [Seaborn Documentation](http://seaborn.pydata.org)\n",
    "\n",
    "* [Matplotlib Documentation](https://matplotlib.org)\n",
    "\n",
    "* [Advanced Functionality in Seaborn](blog.insightdatalabs.com/advanced-functionality-in-seaborn)"
   ]
  },
  {
   "cell_type": "markdown",
   "metadata": {
    "id": "i-8ZvHLWI7Wx"
   },
   "source": [
    "## More visuals  <a class=\"anchor\" id=\"More\"></a>\n",
    "Below are a few visual types you might want to include in your projects. These are just quick and easy graphs, but you can add the same code we added to the bar plot to make presentation ready."
   ]
  },
  {
   "cell_type": "markdown",
   "metadata": {
    "id": "blukCgLBI7Wy"
   },
   "source": [
    "### Histogram   <a class=\"anchor\" id=\"Histagram\"></a>"
   ]
  },
  {
   "cell_type": "code",
   "execution_count": 37,
   "metadata": {
    "id": "lreEYGQqI7Wy"
   },
   "outputs": [],
   "source": [
    "#### plt.hist(fund_lim[fund_lim[\"FY\"] == 2010].FY_TOTAL_COST, facecolor=\"y\", bins=50, alpha=0.5)"
   ]
  },
  {
   "cell_type": "code",
   "execution_count": 38,
   "metadata": {
    "colab": {
     "base_uri": "https://localhost:8080/"
    },
    "id": "xT_N87sJI7Wy",
    "outputId": "05561885-1442-4725-feff-9d768a4ec26b"
   },
   "outputs": [
    {
     "data": {
      "text/plain": [
       "Index(['index', 'APPLICATION_ID', 'CORE_PROJECT_NUM', 'FULL_PROJECT_NUM', 'FY',\n",
       "       'IC_NAME', 'NIH_SPENDING_CATS', 'ORG_NAME', 'ORG_STATE', 'PI_NAMEs',\n",
       "       'PROJECT_START', 'PROJECT_END', 'PROJECT_TITLE', 'TOTAL_COST'],\n",
       "      dtype='object')"
      ]
     },
     "execution_count": 38,
     "metadata": {},
     "output_type": "execute_result"
    }
   ],
   "source": [
    "Project_data.columns"
   ]
  },
  {
   "cell_type": "code",
   "execution_count": 39,
   "metadata": {
    "id": "g-Z1s4ObI7Wy"
   },
   "outputs": [],
   "source": [
    "# Remove all \n",
    "hist_data = Project_data[Project_data[\"TOTAL_COST\"].notnull()]\n",
    "hist_data_15 = hist_data[hist_data[\"FY\"] == 2015]\n",
    "hist_data_21 = hist_data[hist_data[\"FY\"] == 2021]"
   ]
  },
  {
   "cell_type": "code",
   "execution_count": 40,
   "metadata": {
    "colab": {
     "base_uri": "https://localhost:8080/",
     "height": 265
    },
    "id": "dLTpHg_AI7Wy",
    "outputId": "916c1d9c-088a-4db1-b3d9-746c1e478784"
   },
   "outputs": [
    {
     "data": {
      "image/png": "[encoded data removed]",
      "text/plain": [
       "<Figure size 640x480 with 1 Axes>"
      ]
     },
     "metadata": {},
     "output_type": "display_data"
    }
   ],
   "source": [
    "# Make a simple histogram:\n",
    "# The plt.hist function draws histograms. You have to give it the dataframe and variable you want to plot\n",
    "plt.hist(hist_data_15.TOTAL_COST)\n",
    "plt.show()"
   ]
  },
  {
   "cell_type": "markdown",
   "metadata": {
    "id": "yi533eDZI7Wy"
   },
   "source": [
    "### Layering in Matplotlib  <a class=\"anchor\" id=\"Layering\"></a>\n",
    "This functionality - where we can make consecutive changes to the same plot - also allows us to layer on multiple plots. By default, the first graph you create will be at the bottom, with ensuing graphs on top.\n",
    "\n",
    "Below, we see the 2010 histogram is beneath the 2015 histogram. You might also notice that the distribution of grant funding has shifted a bit over the years. "
   ]
  },
  {
   "cell_type": "code",
   "execution_count": 41,
   "metadata": {
    "colab": {
     "base_uri": "https://localhost:8080/",
     "height": 265
    },
    "id": "FaXs8tLJI7Wy",
    "outputId": "0a3ab2fb-c8bc-4caa-b6c2-949d86b141a7"
   },
   "outputs": [
    {
     "data": {
      "image/png": "[encoded data removed]",
      "text/plain": [
       "<Figure size 640x480 with 1 Axes>"
      ]
     },
     "metadata": {},
     "output_type": "display_data"
    }
   ],
   "source": [
    "## Layering plots\n",
    "plt.hist(hist_data_21.TOTAL_COST, facecolor=\"y\", bins=50, alpha=0.5)\n",
    "plt.hist(hist_data_15.TOTAL_COST, facecolor=\"olive\", bins=50, alpha=0.8)\n",
    "\n",
    "## create legend\n",
    "plt.legend((\"2021\", \"2015\"), loc='upper right') \n",
    "\n",
    "plt.show()"
   ]
  },
  {
   "cell_type": "markdown",
   "metadata": {
    "id": "0WVWRKYdI7Wy"
   },
   "source": [
    "## Other Python Visualization Libraries  <a class=\"anchor\" id=\"Other\"></a>\n",
    "\n",
    "* [Bokeh](http://bokeh.pydata.org)\n",
    "\n",
    "* [Altair](https://altair-viz.github.io)\n",
    "\n",
    "* [ggplot](http://ggplot.yhathq.com.com)\n",
    "\n",
    "* [Plotly](https://plot.ly)"
   ]
  },
  {
   "cell_type": "markdown",
   "metadata": {
    "id": "B4boHs_ZI7Wz"
   },
   "source": [
    "### Exporting Completed Graphs\n",
    "\n",
    "When you are satisfied with your visualization, you may want to save a a copy outside of your notebook. You can do this with `matplotlib`'s savefig function. You simply need to run:\n",
    "\n",
    "plt.savefig(\"fileName.fileExtension\")\n",
    "\n",
    "The file extension is actually surprisingly important. Image formats like png and jpeg are actually **not ideal**. These file formats store your graph as a giant grid of pixels, which is space-efficient, but can't be edited later. Saving your visualizations instead as a PDF is strongly advised. PDFs are a type of vector image, which means all the component of the graph will be maintained.\n",
    "\n",
    "With PDFs, you can later open the image in a program like Adobe Illustrator and make changes like the size or typeface of your text, move your legends, or adjust the colors of your visual encodings. All of this would be impossible with a png or jpeg."
   ]
  }
 ],
 "metadata": {
  "colab": {
   "provenance": []
  },
  "kernelspec": {
   "display_name": "Python 3 (ipykernel)",
   "language": "python",
   "name": "python3"
  },
  "language_info": {
   "codemirror_mode": {
    "name": "ipython",
    "version": 3
   },
   "file_extension": ".py",
   "mimetype": "text/x-python",
   "name": "python",
   "nbconvert_exporter": "python",
   "pygments_lexer": "ipython3",
   "version": "3.9.13"
  }
 },
 "nbformat": 4,
 "nbformat_minor": 1
}
