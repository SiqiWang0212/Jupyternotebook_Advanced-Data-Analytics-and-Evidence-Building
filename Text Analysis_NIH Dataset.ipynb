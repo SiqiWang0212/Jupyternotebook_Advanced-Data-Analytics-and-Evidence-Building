{
 "cells": [
  {
   "attachments": {},
   "cell_type": "markdown",
   "metadata": {},
   "source": [
    "# Text Analysis\n",
    "Checkpoints by SiqiWang, orignially designed by Maryah Garner, \n",
    "\n",
    "## Table of Contents\n",
    "* [Learning Outcomes](#CLearningOutcomes)\n",
    "* [Glossary of Terms](#Glossary)\n",
    "* [Setup - Load Python Packages](#setup)\n",
    "* [Motivation: Grant Proposal Abstracts ](#Motivation)\n",
    "    * [Load the Data](#Load)\n",
    "* [Prepair the Data](#Prepairing)\n",
    "* [Preparing Text Data for Natural Language Processing (NLP)](#Topic)\n",
    "* [Latent Dirichlet Allocation (LDA)](#LDA)\n",
    "* [N-grams](#N-grams)\n",
    "* [TF-IDF : Weighting terms based on frequency  ](#TF-IDF)\n",
    "* [Visualize the project by topic ](#Visualize)\n",
    "* [Checkpoints](#Checkpoints)"
   ]
  },
  {
   "cell_type": "markdown",
   "metadata": {},
   "source": [
    "# Checkpoints <a class=\"Checkpoints\" id=\"NLP\"></a>\n",
    "I would like you to turn in a notebook with only the checkpoints, ensuring that the notebook can run all the way through (you can hit the doubble arrow at the top of the notebook to restart the kernal and run the whole notebook through. 3 points will be automatically deducted if your notebook does not run all the way through after I change the Path\n",
    "- For the name of the notebook you submit to brightspace, please use your first and last name followed by Text Analysis (for example: Maryah Garner Text Analysis.ipynb)"
   ]
  },
  {
   "cell_type": "markdown",
   "metadata": {},
   "source": [
    "### 1) Install and import libraries (0 points, but if you don't include this your notebook will not run)"
   ]
  },
  {
   "cell_type": "code",
   "execution_count": 1,
   "metadata": {},
   "outputs": [
    {
     "name": "stdout",
     "output_type": "stream",
     "text": [
      "Requirement already satisfied: nltk in /Users/wsq/opt/anaconda3/lib/python3.9/site-packages (3.7)\n",
      "Requirement already satisfied: regex>=2021.8.3 in /Users/wsq/opt/anaconda3/lib/python3.9/site-packages (from nltk) (2022.7.9)\n",
      "Requirement already satisfied: tqdm in /Users/wsq/opt/anaconda3/lib/python3.9/site-packages (from nltk) (4.64.1)\n",
      "Requirement already satisfied: click in /Users/wsq/opt/anaconda3/lib/python3.9/site-packages (from nltk) (8.0.4)\n",
      "Requirement already satisfied: joblib in /Users/wsq/opt/anaconda3/lib/python3.9/site-packages (from nltk) (1.1.0)\n",
      "Note: you may need to restart the kernel to use updated packages.\n"
     ]
    }
   ],
   "source": [
    "# Install package for natural language processing\n",
    "%pip install nltk\n",
    "\n",
    "# data manipulation\n",
    "import pandas as pd\n",
    "import numpy as np\n",
    "import os\n",
    "\n",
    "# text analysis tools\n",
    "import nltk\n",
    "from sklearn.feature_extraction.text import CountVectorizer, TfidfTransformer\n",
    "from sklearn.decomposition import LatentDirichletAllocation\n",
    "from sklearn import preprocessing\n",
    "from nltk import SnowballStemmer\n",
    "import string\n",
    "\n",
    "# visualization tools\n",
    "import matplotlib as mplib\n",
    "import matplotlib.pyplot as plt \n",
    "import seaborn as sns  "
   ]
  },
  {
   "cell_type": "markdown",
   "metadata": {},
   "source": [
    "### 2) Create a path and read in the abstract data and project data for a year of your choice (0.5 points)"
   ]
  },
  {
   "cell_type": "markdown",
   "metadata": {},
   "source": [
    "#### Read in abstract data of year 2021"
   ]
  },
  {
   "cell_type": "code",
   "execution_count": 2,
   "metadata": {},
   "outputs": [],
   "source": [
    "# Specify a path with the data folder\n",
    "# Change \"NAME\" to your name as recorded on your computer\n",
    "# path = 'C:/Users/NAME/PADM-GP_2505/Data/'\n",
    "Path = \"/Users/wsq/Desktop/Advanced Data Analytics and Evidence Building/PADM-GP_2505/Data\"\n",
    "\n",
    "# Read-in a CSV file\n",
    "Abstracts_2021 = pd.read_csv(Path + '/Abstracts/RePORTER_PRJABS_C_FY2021.csv', encoding='latin-1')"
   ]
  },
  {
   "cell_type": "markdown",
   "metadata": {},
   "source": [
    "#### Read in project data of year 2021"
   ]
  },
  {
   "cell_type": "code",
   "execution_count": 3,
   "metadata": {},
   "outputs": [
    {
     "data": {
      "text/html": [
       "<div>\n",
       "<style scoped>\n",
       "    .dataframe tbody tr th:only-of-type {\n",
       "        vertical-align: middle;\n",
       "    }\n",
       "\n",
       "    .dataframe tbody tr th {\n",
       "        vertical-align: top;\n",
       "    }\n",
       "\n",
       "    .dataframe thead th {\n",
       "        text-align: right;\n",
       "    }\n",
       "</style>\n",
       "<table border=\"1\" class=\"dataframe\">\n",
       "  <thead>\n",
       "    <tr style=\"text-align: right;\">\n",
       "      <th></th>\n",
       "      <th>APPLICATION_ID</th>\n",
       "      <th>IC_NAME</th>\n",
       "      <th>TOTAL_COST</th>\n",
       "    </tr>\n",
       "  </thead>\n",
       "  <tbody>\n",
       "    <tr>\n",
       "      <th>0</th>\n",
       "      <td>10595864</td>\n",
       "      <td>NATIONAL INSTITUTE OF DIABETES AND DIGESTIVE A...</td>\n",
       "      <td>NaN</td>\n",
       "    </tr>\n",
       "    <tr>\n",
       "      <th>1</th>\n",
       "      <td>10101643</td>\n",
       "      <td>NATIONAL INSTITUTE ON DRUG ABUSE</td>\n",
       "      <td>618444.0</td>\n",
       "    </tr>\n",
       "    <tr>\n",
       "      <th>2</th>\n",
       "      <td>10189622</td>\n",
       "      <td>FOOD AND DRUG ADMINISTRATION</td>\n",
       "      <td>74000.0</td>\n",
       "    </tr>\n",
       "    <tr>\n",
       "      <th>3</th>\n",
       "      <td>10189608</td>\n",
       "      <td>FOOD AND DRUG ADMINISTRATION</td>\n",
       "      <td>52000.0</td>\n",
       "    </tr>\n",
       "    <tr>\n",
       "      <th>4</th>\n",
       "      <td>10076833</td>\n",
       "      <td>NATIONAL EYE INSTITUTE</td>\n",
       "      <td>540597.0</td>\n",
       "    </tr>\n",
       "    <tr>\n",
       "      <th>5</th>\n",
       "      <td>10084900</td>\n",
       "      <td>NATIONAL INSTITUTE OF BIOMEDICAL IMAGING AND B...</td>\n",
       "      <td>644204.0</td>\n",
       "    </tr>\n",
       "    <tr>\n",
       "      <th>6</th>\n",
       "      <td>10119627</td>\n",
       "      <td>NATIONAL INSTITUTE OF NEUROLOGICAL DISORDERS A...</td>\n",
       "      <td>655081.0</td>\n",
       "    </tr>\n",
       "    <tr>\n",
       "      <th>7</th>\n",
       "      <td>10485753</td>\n",
       "      <td>NATIONAL CENTER FOR ADVANCING TRANSLATIONAL SC...</td>\n",
       "      <td>201957.0</td>\n",
       "    </tr>\n",
       "    <tr>\n",
       "      <th>8</th>\n",
       "      <td>10490689</td>\n",
       "      <td>NATIONAL EYE INSTITUTE</td>\n",
       "      <td>31027.0</td>\n",
       "    </tr>\n",
       "    <tr>\n",
       "      <th>9</th>\n",
       "      <td>10449884</td>\n",
       "      <td>FOOD AND DRUG ADMINISTRATION</td>\n",
       "      <td>225000.0</td>\n",
       "    </tr>\n",
       "  </tbody>\n",
       "</table>\n",
       "</div>"
      ],
      "text/plain": [
       "   APPLICATION_ID                                            IC_NAME  \\\n",
       "0        10595864  NATIONAL INSTITUTE OF DIABETES AND DIGESTIVE A...   \n",
       "1        10101643                   NATIONAL INSTITUTE ON DRUG ABUSE   \n",
       "2        10189622                       FOOD AND DRUG ADMINISTRATION   \n",
       "3        10189608                       FOOD AND DRUG ADMINISTRATION   \n",
       "4        10076833                             NATIONAL EYE INSTITUTE   \n",
       "5        10084900  NATIONAL INSTITUTE OF BIOMEDICAL IMAGING AND B...   \n",
       "6        10119627  NATIONAL INSTITUTE OF NEUROLOGICAL DISORDERS A...   \n",
       "7        10485753  NATIONAL CENTER FOR ADVANCING TRANSLATIONAL SC...   \n",
       "8        10490689                             NATIONAL EYE INSTITUTE   \n",
       "9        10449884                       FOOD AND DRUG ADMINISTRATION   \n",
       "\n",
       "   TOTAL_COST  \n",
       "0         NaN  \n",
       "1    618444.0  \n",
       "2     74000.0  \n",
       "3     52000.0  \n",
       "4    540597.0  \n",
       "5    644204.0  \n",
       "6    655081.0  \n",
       "7    201957.0  \n",
       "8     31027.0  \n",
       "9    225000.0  "
      ]
     },
     "execution_count": 3,
     "metadata": {},
     "output_type": "execute_result"
    }
   ],
   "source": [
    "# Read-in the 2021 projects data\n",
    "grants_2021 = pd.read_csv('/Users/wsq/Desktop/Advanced Data Analytics and Evidence Building/PADM-GP_2505/Data/Projects/RePORTER_PRJ_C_FY2021_new.csv',\n",
    "                          usecols=['APPLICATION_ID','IC_NAME', 'TOTAL_COST'], encoding='latin-1')\n",
    "\n",
    "# View the first 5 observations \n",
    "grants_2021.head(10)"
   ]
  },
  {
   "cell_type": "markdown",
   "metadata": {},
   "source": [
    "### 3) Join together the abstract and projects data and filter for projects funded by the CI most apporpriate for your class project (0.5 points)"
   ]
  },
  {
   "cell_type": "markdown",
   "metadata": {},
   "source": [
    "#### Subset for NCI projects, because NCI is the most approprite CI for our group's class project."
   ]
  },
  {
   "cell_type": "code",
   "execution_count": 4,
   "metadata": {},
   "outputs": [
    {
     "data": {
      "text/html": [
       "<div>\n",
       "<style scoped>\n",
       "    .dataframe tbody tr th:only-of-type {\n",
       "        vertical-align: middle;\n",
       "    }\n",
       "\n",
       "    .dataframe tbody tr th {\n",
       "        vertical-align: top;\n",
       "    }\n",
       "\n",
       "    .dataframe thead th {\n",
       "        text-align: right;\n",
       "    }\n",
       "</style>\n",
       "<table border=\"1\" class=\"dataframe\">\n",
       "  <thead>\n",
       "    <tr style=\"text-align: right;\">\n",
       "      <th></th>\n",
       "      <th>index</th>\n",
       "      <th>APPLICATION_ID</th>\n",
       "      <th>IC_NAME</th>\n",
       "      <th>TOTAL_COST</th>\n",
       "    </tr>\n",
       "  </thead>\n",
       "  <tbody>\n",
       "    <tr>\n",
       "      <th>0</th>\n",
       "      <td>18</td>\n",
       "      <td>10406126</td>\n",
       "      <td>NATIONAL CANCER INSTITUTE</td>\n",
       "      <td>219626.0</td>\n",
       "    </tr>\n",
       "    <tr>\n",
       "      <th>1</th>\n",
       "      <td>29</td>\n",
       "      <td>10246936</td>\n",
       "      <td>NATIONAL CANCER INSTITUTE</td>\n",
       "      <td>636455.0</td>\n",
       "    </tr>\n",
       "    <tr>\n",
       "      <th>2</th>\n",
       "      <td>31</td>\n",
       "      <td>10131000</td>\n",
       "      <td>NATIONAL CANCER INSTITUTE</td>\n",
       "      <td>316405.0</td>\n",
       "    </tr>\n",
       "    <tr>\n",
       "      <th>3</th>\n",
       "      <td>35</td>\n",
       "      <td>10433611</td>\n",
       "      <td>NATIONAL CANCER INSTITUTE</td>\n",
       "      <td>35000.0</td>\n",
       "    </tr>\n",
       "    <tr>\n",
       "      <th>4</th>\n",
       "      <td>38</td>\n",
       "      <td>10118122</td>\n",
       "      <td>NATIONAL CANCER INSTITUTE</td>\n",
       "      <td>NaN</td>\n",
       "    </tr>\n",
       "  </tbody>\n",
       "</table>\n",
       "</div>"
      ],
      "text/plain": [
       "   index  APPLICATION_ID                    IC_NAME  TOTAL_COST\n",
       "0     18        10406126  NATIONAL CANCER INSTITUTE    219626.0\n",
       "1     29        10246936  NATIONAL CANCER INSTITUTE    636455.0\n",
       "2     31        10131000  NATIONAL CANCER INSTITUTE    316405.0\n",
       "3     35        10433611  NATIONAL CANCER INSTITUTE     35000.0\n",
       "4     38        10118122  NATIONAL CANCER INSTITUTE         NaN"
      ]
     },
     "execution_count": 4,
     "metadata": {},
     "output_type": "execute_result"
    }
   ],
   "source": [
    "# Use a conditional subset to select projects that have NATIONAL CANCER INSTITUTE as the IC_NAME\n",
    "NCI_projects = grants_2021[grants_2021['IC_NAME'] =='NATIONAL CANCER INSTITUTE']\n",
    "\n",
    "# Reset index\n",
    "NCI_projects = NCI_projects.reset_index()\n",
    "\n",
    "# view the first 5 observations\n",
    "NCI_projects.head()"
   ]
  },
  {
   "cell_type": "code",
   "execution_count": 5,
   "metadata": {},
   "outputs": [
    {
     "data": {
      "text/plain": [
       "(12595, 4)"
      ]
     },
     "execution_count": 5,
     "metadata": {},
     "output_type": "execute_result"
    }
   ],
   "source": [
    "NCI_projects.shape"
   ]
  },
  {
   "cell_type": "markdown",
   "metadata": {},
   "source": [
    "#### Connect the Abstract data to the NCI_projects dataframe"
   ]
  },
  {
   "cell_type": "code",
   "execution_count": 6,
   "metadata": {},
   "outputs": [
    {
     "data": {
      "text/plain": [
       "(12595, 5)"
      ]
     },
     "execution_count": 6,
     "metadata": {},
     "output_type": "execute_result"
    }
   ],
   "source": [
    "# Create a new dataframe by using an inn merge to merge the NCI_projects and Abstracts_2017 dataframes\n",
    "# merging on PI_NAME\n",
    "nci_abstracts = pd.merge(NCI_projects, Abstracts_2021, on='APPLICATION_ID', how = 'left')\n",
    "nci_abstracts.shape"
   ]
  },
  {
   "cell_type": "code",
   "execution_count": 7,
   "metadata": {},
   "outputs": [
    {
     "data": {
      "text/html": [
       "<div>\n",
       "<style scoped>\n",
       "    .dataframe tbody tr th:only-of-type {\n",
       "        vertical-align: middle;\n",
       "    }\n",
       "\n",
       "    .dataframe tbody tr th {\n",
       "        vertical-align: top;\n",
       "    }\n",
       "\n",
       "    .dataframe thead th {\n",
       "        text-align: right;\n",
       "    }\n",
       "</style>\n",
       "<table border=\"1\" class=\"dataframe\">\n",
       "  <thead>\n",
       "    <tr style=\"text-align: right;\">\n",
       "      <th></th>\n",
       "      <th>index</th>\n",
       "      <th>APPLICATION_ID</th>\n",
       "      <th>IC_NAME</th>\n",
       "      <th>TOTAL_COST</th>\n",
       "      <th>ABSTRACT_TEXT</th>\n",
       "    </tr>\n",
       "  </thead>\n",
       "  <tbody>\n",
       "    <tr>\n",
       "      <th>0</th>\n",
       "      <td>18</td>\n",
       "      <td>10406126</td>\n",
       "      <td>NATIONAL CANCER INSTITUTE</td>\n",
       "      <td>219626.0</td>\n",
       "      <td>Project Summary/Abstract Title: Caribbean Inve...</td>\n",
       "    </tr>\n",
       "    <tr>\n",
       "      <th>1</th>\n",
       "      <td>29</td>\n",
       "      <td>10246936</td>\n",
       "      <td>NATIONAL CANCER INSTITUTE</td>\n",
       "      <td>636455.0</td>\n",
       "      <td>ABSTRACT Glioblastoma multiforme (GBM) is the ...</td>\n",
       "    </tr>\n",
       "    <tr>\n",
       "      <th>2</th>\n",
       "      <td>31</td>\n",
       "      <td>10131000</td>\n",
       "      <td>NATIONAL CANCER INSTITUTE</td>\n",
       "      <td>316405.0</td>\n",
       "      <td>Gene silencing using small interfering RNA (si...</td>\n",
       "    </tr>\n",
       "    <tr>\n",
       "      <th>3</th>\n",
       "      <td>35</td>\n",
       "      <td>10433611</td>\n",
       "      <td>NATIONAL CANCER INSTITUTE</td>\n",
       "      <td>35000.0</td>\n",
       "      <td>Project Summary/Abstract This application is b...</td>\n",
       "    </tr>\n",
       "    <tr>\n",
       "      <th>4</th>\n",
       "      <td>38</td>\n",
       "      <td>10118122</td>\n",
       "      <td>NATIONAL CANCER INSTITUTE</td>\n",
       "      <td>NaN</td>\n",
       "      <td>ABSTRACT ? BIOREPOSITORY &amp; PRECISION PATHOLOGY...</td>\n",
       "    </tr>\n",
       "  </tbody>\n",
       "</table>\n",
       "</div>"
      ],
      "text/plain": [
       "   index  APPLICATION_ID                    IC_NAME  TOTAL_COST  \\\n",
       "0     18        10406126  NATIONAL CANCER INSTITUTE    219626.0   \n",
       "1     29        10246936  NATIONAL CANCER INSTITUTE    636455.0   \n",
       "2     31        10131000  NATIONAL CANCER INSTITUTE    316405.0   \n",
       "3     35        10433611  NATIONAL CANCER INSTITUTE     35000.0   \n",
       "4     38        10118122  NATIONAL CANCER INSTITUTE         NaN   \n",
       "\n",
       "                                       ABSTRACT_TEXT  \n",
       "0  Project Summary/Abstract Title: Caribbean Inve...  \n",
       "1  ABSTRACT Glioblastoma multiforme (GBM) is the ...  \n",
       "2  Gene silencing using small interfering RNA (si...  \n",
       "3  Project Summary/Abstract This application is b...  \n",
       "4  ABSTRACT ? BIOREPOSITORY & PRECISION PATHOLOGY...  "
      ]
     },
     "execution_count": 7,
     "metadata": {},
     "output_type": "execute_result"
    }
   ],
   "source": [
    "nci_abstracts.head()"
   ]
  },
  {
   "cell_type": "markdown",
   "metadata": {},
   "source": [
    "### 4) Identify how many projects have missing abstracts and then remove the projects with missing abstracts from your dataframe (0.5 points)\n"
   ]
  },
  {
   "cell_type": "code",
   "execution_count": 8,
   "metadata": {},
   "outputs": [
    {
     "data": {
      "text/plain": [
       "index             205\n",
       "APPLICATION_ID    205\n",
       "IC_NAME           205\n",
       "TOTAL_COST        139\n",
       "ABSTRACT_TEXT       0\n",
       "dtype: int64"
      ]
     },
     "execution_count": 8,
     "metadata": {},
     "output_type": "execute_result"
    }
   ],
   "source": [
    "nci_abstracts[pd.isnull(nci_abstracts['ABSTRACT_TEXT'])].count()"
   ]
  },
  {
   "cell_type": "markdown",
   "metadata": {},
   "source": [
    "#### Out of the 12595 Cancer projects, 205 of them do not have an abstract. This is about 1.6% of the total projects. "
   ]
  },
  {
   "cell_type": "code",
   "execution_count": 9,
   "metadata": {},
   "outputs": [
    {
     "data": {
      "text/plain": [
       "(12390, 5)"
      ]
     },
     "execution_count": 9,
     "metadata": {},
     "output_type": "execute_result"
    }
   ],
   "source": [
    "# Drop the projects with missing abstracts\n",
    "nci_abstracts = nci_abstracts.dropna(subset = ['ABSTRACT_TEXT'])\n",
    "\n",
    "# Look at the number of rows and columns of the data frame\n",
    "nci_abstracts.shape"
   ]
  },
  {
   "cell_type": "markdown",
   "metadata": {},
   "source": [
    "### 5) Save your abstracts to list (0.5 points)"
   ]
  },
  {
   "cell_type": "code",
   "execution_count": 10,
   "metadata": {},
   "outputs": [
    {
     "data": {
      "text/plain": [
       "'Project Summary/Abstract Title: Caribbean Investigation of Cancer Stigma and its effect on Cervical Cancer Screening and HPV Vaccination This application is being submitted in response to the Notice of Special Interest (NOSI) identified as NOT-CA-21-026 Cancer stigma is an understudied barrier to cancer treatment seeking, early diagnosis, screening and other prevention practices. In particular, cervical cancer (CCA) stigma must be prioritized for research as CCA is among the most deadly but highly preventable cancers. CCA is the fourth most common cancer in the world despite an accurate screening test and a preventive HPV vaccine. The Human papilloma Virus (HPV) causes 99% of cervical, as well as much of anal, penile and oral cancers. The burden of CCA persists, and CCA incidence and mortality are even increasing among Black women in low resourced countries globally. Specifically, CCA incidence is highest, and is the leading cause of premature mortality among Caribbean women. Despite heightened risk for HPV-related cancer, and readily available, low cost screening and HPV vaccination (HPVV), both CCA screening and HPV vaccine uptake in the Caribbean region is perilously low. Our prior, preliminary research suggest that CCA stigma is associated with inadequate screening, advanced cancer stage at diagnosis, and low uptake of the HPV vaccine among Caribbean populations, both in the Caribbean region and United States (US). However, both our preliminary studies as well as the literature on CCA-related stigma, suffer from a lack of population studies that employs qualitative and quantitative methods to rigorously quantify stigma, and measure stigma?s impact on CCA screening and HPVV. Therefore in an effort to further understand the impact of cancer stigma on CCA screening and HPVV for the Caribbean context, we aim to 1) culturally transcreate the existing validated Cancer Stigma Scale (CASS) for population appropriateness, 2) assess cancer stigma in a non-patient population of men and women using the culturally transcreated CASS in Jamaica and Grenada, 3) assess the association of stigma and a) cervical cancer screening among women and b) HPVV knowledge and practice --- for participants with HPVV eligible adolescents. For this study, social norms theory formed the theory, and we will use a mixed-methods design, rooted in the community engaged research approach. A community advisory council will be appointed in both Jamaica and Grenada, to inform the transcreation of CASS and overall cultural responsiveness of the study. The study will use qualitative methods with stakeholders to transcreate and modify CASS. The study survey with the modified CASS will be distributed via social media and electronic platforms to a population sample (n=1,240). Participants will complete the survey using a paper-based format and the Research Electronic Data Capture System (REDCap). Based on our preliminary findings and the lierature, we hypothesize similar stigma scores in the Caribbean (Grenada and Jamaica), and that Caribbean stigma scores will be higher compared to other countries, and higher stigma scores will be associated with less cancer screening and lower knowledge, acceptability, and uptake of the HPV vaccine (for those with age eligible children). The Caribbean region must be emphasized in global cancer research because of its close proximity to the US and Caribbean immigrants account for 12% of US Blacks. Therefore, the results will inform interventions to reduce stigma and increase cancer prevention e.g., CCA screening and HPVV among Caribbean populations both in the Caribbean region and among US Caribbean immigrants to ultimately reduce Black cancer disparities.'"
      ]
     },
     "execution_count": 10,
     "metadata": {},
     "output_type": "execute_result"
    }
   ],
   "source": [
    "# Save the abstracts to a list\n",
    "abstracts_list = nci_abstracts['ABSTRACT_TEXT'].values.tolist()\n",
    "\n",
    "# look at the first element of the list, which is the first abstract\n",
    "abstracts_list[0]"
   ]
  },
  {
   "cell_type": "markdown",
   "metadata": {},
   "source": [
    "### 6) Set stemmer at SnowballStemmer (0.5 points)"
   ]
  },
  {
   "cell_type": "code",
   "execution_count": 11,
   "metadata": {},
   "outputs": [
    {
     "name": "stdout",
     "output_type": "stream",
     "text": [
      "stigma\n",
      "molecular\n",
      "screen\n",
      "proxim\n",
      "cultur\n",
      "checkpoint\n"
     ]
    }
   ],
   "source": [
    "stemmer = SnowballStemmer(\"english\")\n",
    "# few examples of how SnowballStemmer works\n",
    "print(stemmer.stem('stigma'))\n",
    "print(stemmer.stem('molecular'))\n",
    "print(stemmer.stem('screening'))\n",
    "print(stemmer.stem('proximity'))\n",
    "print(stemmer.stem('culturally'))\n",
    "print(stemmer.stem('checkpoint'))\n"
   ]
  },
  {
   "cell_type": "markdown",
   "metadata": {},
   "source": [
    "### 7) Create a tokenize function (0.5 points)"
   ]
  },
  {
   "cell_type": "code",
   "execution_count": 12,
   "metadata": {},
   "outputs": [],
   "source": [
    "# Create a tokenize function\n",
    "def tokenize(text):\n",
    " # translator that replaces punctuation with empty spaces\n",
    "    translator = str.maketrans(string.punctuation, ' ' * len(string.punctuation)) \n",
    " # stemmer and tokenizing into words\n",
    "    return [stemmer.stem(i) for i in text.translate(translator).split()]  "
   ]
  },
  {
   "cell_type": "code",
   "execution_count": 13,
   "metadata": {},
   "outputs": [
    {
     "data": {
      "text/plain": [
       "['project',\n",
       " 'summari',\n",
       " 'abstract',\n",
       " 'titl',\n",
       " 'caribbean',\n",
       " 'investig',\n",
       " 'of',\n",
       " 'cancer',\n",
       " 'stigma',\n",
       " 'and']"
      ]
     },
     "execution_count": 13,
     "metadata": {},
     "output_type": "execute_result"
    }
   ],
   "source": [
    "tokenize(abstracts_list[0])[:10]"
   ]
  },
  {
   "cell_type": "markdown",
   "metadata": {},
   "source": [
    "### 8) Import and download stopwords form ltk.corpus (0.5 points)"
   ]
  },
  {
   "cell_type": "code",
   "execution_count": 14,
   "metadata": {},
   "outputs": [
    {
     "name": "stderr",
     "output_type": "stream",
     "text": [
      "[nltk_data] Downloading package stopwords to /Users/wsq/nltk_data...\n",
      "[nltk_data]   Package stopwords is already up-to-date!\n"
     ]
    },
    {
     "data": {
      "text/plain": [
       "True"
      ]
     },
     "execution_count": 14,
     "metadata": {},
     "output_type": "execute_result"
    }
   ],
   "source": [
    "# Import stopwords form ltk.corpus\n",
    "from nltk.corpus import stopwords\n",
    "# Download the stopwords\n",
    "nltk.download('stopwords')"
   ]
  },
  {
   "cell_type": "markdown",
   "metadata": {},
   "source": [
    "### 9) Set the correct stop words and Tokenize them (0.5 points)"
   ]
  },
  {
   "cell_type": "code",
   "execution_count": 15,
   "metadata": {},
   "outputs": [],
   "source": [
    "# Set the correct stop words \n",
    "stop_words = set(stopwords.words('english'))\n",
    "\n",
    "# Tokenize stop words and store them a stop_words list\n",
    "stop_words = [tokenize(s)[0] for s in stop_words]"
   ]
  },
  {
   "cell_type": "code",
   "execution_count": 16,
   "metadata": {},
   "outputs": [
    {
     "data": {
      "text/plain": [
       "list"
      ]
     },
     "execution_count": 16,
     "metadata": {},
     "output_type": "execute_result"
    }
   ],
   "source": [
    "type(stop_words)"
   ]
  },
  {
   "cell_type": "code",
   "execution_count": 17,
   "metadata": {},
   "outputs": [
    {
     "name": "stdout",
     "output_type": "stream",
     "text": [
      "['each', 'him', 'himself', 'herself', 'you', 'aren', 'hasn', 'into', 'needn', 'your', 'it', 'these', 'shouldn', 'ourselv', 'is', 'your', 'themselv', 'by', 'veri', 'd', 'doe', 'abov', 'shouldn', 'in', 'yourselv', 'won', 'onli', 'haven', 'me', 'dure', 'do', 'at', 'itself', 'which', 'other', 'that', 'weren', 'do', 'should', 'out', 'some', 'o', 'after', 'nor', 'then', 'than', 'haven', 'm', 'for', 'won', 'or', 'doesn', 'hadn', 'her', 'this', 'weren', 'just', 'whi', 'off', 'was', 'as', 'befor', 'wouldn', 'hadn', 's', 'it', 'where', 'no', 'up', 'be', 'she', 'onc', 'now', 'when', 'them', 'had', 'from', 'that', 'shan', 'down', 'my', 'a', 'below', 'needn', 'but', 'on', 'wasn', 'been', 'further', 'an', 'not', 'what', 'mightn', 'did', 'doesn', 'the', 'own', 've', 'it', 'they', 'to', 'with', 'hasn', 'am', 'shan', 'her', 'here', 'couldn', 'most', 'wasn', 'too', 'ain', 'while', 'over', 'wouldn', 'and', 'she', 'against', 'have', 'are', 'you', 'be', 'myself', 'mightn', 'ani', 'will', 'y', 'there', 'if', 'mustn', 'until', 'between', 'mustn', 'their', 'his', 'all', 'our', 'their', 'yourself', 'should', 'aren', 'isn', 'who', 'you', 'under', 'about', 'll', 'you', 'whom', 'both', 'have', 'he', 'can', 'same', 're', 'such', 'more', 'so', 'were', 'we', 'our', 'didn', 'you', 'those', 'through', 'isn', 'don', 'don', 'ma', 'again', 'few', 'of', 'how', 'becaus', 'i', 'couldn', 't', 'didn', 'has']\n"
     ]
    }
   ],
   "source": [
    "print(stop_words)"
   ]
  },
  {
   "cell_type": "markdown",
   "metadata": {},
   "source": [
    "### 10) Create a list of other stopwords that you think might be useful to remove in order to create more meaningful topics (0.5 points)\n"
   ]
  },
  {
   "cell_type": "code",
   "execution_count": 18,
   "metadata": {},
   "outputs": [],
   "source": [
    "stop = stop_words + ['checkpoint','emphas','cultur','applic','report','provid','use','studi', 'research','program','abstract', 'project', 'e', 'g','propos','such','intervent','implement' ]\n",
    "full_stopwords = [tokenize(s)[0] for s in stop]"
   ]
  },
  {
   "cell_type": "markdown",
   "metadata": {},
   "source": [
    "### 11) Create the `vectorizer` object with the following specifications (0.5 points)\n",
    "    - unit of features are single words rather than characters\n",
    "    - function to create tokens\n",
    "    - allow for bigrams\n",
    "    - remove accent characters\n",
    "    - remove stopwords\n",
    "    - only include words with minimum frequency of 0.05\n",
    "    - only include words with maximum frequency of 0.95"
   ]
  },
  {
   "cell_type": "code",
   "execution_count": 19,
   "metadata": {},
   "outputs": [],
   "source": [
    "vectorizer = CountVectorizer(analyzer=\"word\",        # unit of features are single words rather than characters\n",
    "                            tokenizer=tokenize,      # function to create tokens\n",
    "                            ngram_range=(0,2),       # bigrams - two words\n",
    "                            strip_accents='unicode', # remove accent characters\n",
    "                            stop_words = stop_words, # remove stopwords\n",
    "                            min_df = 0.05,           # only include words with minimum frequency of 0.05\n",
    "                            max_df = 0.95)           # only include words with maximum frequency of 0.95"
   ]
  },
  {
   "cell_type": "markdown",
   "metadata": {},
   "source": [
    "### 12) Create a bag of words/bigrams by fitting the vectorizer to your abstract list (0.5 points)"
   ]
  },
  {
   "cell_type": "code",
   "execution_count": 20,
   "metadata": {
    "scrolled": true
   },
   "outputs": [
    {
     "name": "stderr",
     "output_type": "stream",
     "text": [
      "/Users/wsq/opt/anaconda3/lib/python3.9/site-packages/sklearn/utils/deprecation.py:87: FutureWarning: Function get_feature_names is deprecated; get_feature_names is deprecated in 1.0 and will be removed in 1.2. Please use get_feature_names_out instead.\n",
      "  warnings.warn(msg, category=FutureWarning)\n"
     ]
    }
   ],
   "source": [
    "# Creating bag of words\n",
    "bag_of_words = vectorizer.fit_transform(abstracts_list)  # transform our corpus as a bag of words\n",
    "features = vectorizer.get_feature_names()                # get features (words)"
   ]
  },
  {
   "cell_type": "code",
   "execution_count": 21,
   "metadata": {},
   "outputs": [
    {
     "data": {
      "text/plain": [
       "scipy.sparse._csr.csr_matrix"
      ]
     },
     "execution_count": 21,
     "metadata": {},
     "output_type": "execute_result"
    }
   ],
   "source": [
    "type(bag_of_words)"
   ]
  },
  {
   "cell_type": "code",
   "execution_count": 22,
   "metadata": {},
   "outputs": [
    {
     "name": "stdout",
     "output_type": "stream",
     "text": [
      "  (0, 541)\t1\n",
      "  (0, 666)\t1\n",
      "  (0, 20)\t1\n",
      "  (0, 370)\t1\n",
      "  (0, 107)\t18\n",
      "  (0, 236)\t1\n",
      "  (0, 612)\t11\n",
      "  (0, 68)\t1\n",
      "  (0, 596)\t2\n",
      "  (0, 640)\t1\n",
      "  (0, 366)\t1\n",
      "  (0, 332)\t1\n",
      "  (0, 83)\t1\n",
      "  (0, 708)\t1\n",
      "  (0, 614)\t1\n",
      "  (0, 234)\t1\n",
      "  (0, 208)\t2\n",
      "  (0, 530)\t4\n",
      "  (0, 521)\t2\n",
      "  (0, 492)\t1\n",
      "  (0, 589)\t5\n",
      "  (0, 57)\t7\n",
      "  (0, 323)\t1\n",
      "  (0, 153)\t1\n",
      "  (0, 199)\t2\n",
      "  :\t:\n",
      "  (12389, 35)\t1\n",
      "  (12389, 166)\t4\n",
      "  (12389, 439)\t1\n",
      "  (12389, 706)\t1\n",
      "  (12389, 371)\t1\n",
      "  (12389, 412)\t3\n",
      "  (12389, 60)\t1\n",
      "  (12389, 43)\t1\n",
      "  (12389, 321)\t1\n",
      "  (12389, 58)\t1\n",
      "  (12389, 466)\t1\n",
      "  (12389, 560)\t1\n",
      "  (12389, 299)\t1\n",
      "  (12389, 747)\t2\n",
      "  (12389, 190)\t1\n",
      "  (12389, 524)\t5\n",
      "  (12389, 31)\t1\n",
      "  (12389, 253)\t1\n",
      "  (12389, 213)\t2\n",
      "  (12389, 16)\t1\n",
      "  (12389, 398)\t1\n",
      "  (12389, 143)\t1\n",
      "  (12389, 74)\t1\n",
      "  (12389, 648)\t1\n",
      "  (12389, 78)\t1\n"
     ]
    }
   ],
   "source": [
    "print(bag_of_words)"
   ]
  },
  {
   "cell_type": "markdown",
   "metadata": {},
   "source": [
    "### 13) Use TfidfTransformer to re-weight your bag of words (0.5 points)"
   ]
  },
  {
   "cell_type": "code",
   "execution_count": 23,
   "metadata": {},
   "outputs": [],
   "source": [
    "# Use TfidfTransformer to re-weight bag of words\n",
    "transformer = TfidfTransformer(norm = None, smooth_idf = True, sublinear_tf = True)\n",
    "tfidf = transformer.fit_transform(bag_of_words)"
   ]
  },
  {
   "cell_type": "markdown",
   "metadata": {},
   "source": [
    "### 14) Fit your transormend data to an LDA model and store your results (0.5 points)"
   ]
  },
  {
   "cell_type": "code",
   "execution_count": 24,
   "metadata": {},
   "outputs": [],
   "source": [
    "# Fitting LDA model to your data\n",
    "# We set n_components = 10 to produce 10 topics\n",
    "lda = LatentDirichletAllocation(n_components = 10, learning_method='online')\n",
    "\n",
    "# store your results \n",
    "doctopic = lda.fit_transform(tfidf)"
   ]
  },
  {
   "cell_type": "markdown",
   "metadata": {},
   "source": [
    "### 15) Pull out  the top keywords in each topic (0.5 points)"
   ]
  },
  {
   "cell_type": "code",
   "execution_count": 25,
   "metadata": {},
   "outputs": [
    {
     "name": "stdout",
     "output_type": "stream",
     "text": [
      "0 imag, technolog, method, tissu, analysi, use, quantit, sampl\n",
      "1 research, program, fund, train, career, member, cancer research, center\n",
      "2 patient, breast, breast cancer, biomark, tumor, predict, lung, clinic\n",
      "3 health, intervent, care, dispar, communiti, implement, outcom, cancer\n",
      "4 cell, genom, singl cell, gene, understand, biolog, tumor, singl\n",
      "5 regul, cell, signal, role, mechan, express, protein, pathway\n",
      "6 risk, women, infect, associ, studi, age, e, relat\n",
      "7 immun, tumor, anti, immunotherapi, therapi, cell, respons, efficaci\n",
      "8 core, administr, support, resourc, share, servic, manag, provid\n",
      "9 inhibitor, drug, resist, prostat, target, leukemia, prostat cancer, molecul\n"
     ]
    }
   ],
   "source": [
    "# Pull out the top 8 keywords in each topic\n",
    "ls_keywords = []\n",
    "for i,topic in enumerate(lda.components_):\n",
    "    word_idx = np.argsort(topic)[::-1][:8]\n",
    "    keywords = ', '.join(features[i] for i in word_idx)\n",
    "    ls_keywords.append(keywords)\n",
    "    print(i, keywords)"
   ]
  },
  {
   "cell_type": "markdown",
   "metadata": {},
   "source": [
    "### 16) Save the results as a data frame with the top words for each topic as the colunn names  (0.5 points)"
   ]
  },
  {
   "cell_type": "code",
   "execution_count": 26,
   "metadata": {},
   "outputs": [
    {
     "data": {
      "text/html": [
       "<div>\n",
       "<style scoped>\n",
       "    .dataframe tbody tr th:only-of-type {\n",
       "        vertical-align: middle;\n",
       "    }\n",
       "\n",
       "    .dataframe tbody tr th {\n",
       "        vertical-align: top;\n",
       "    }\n",
       "\n",
       "    .dataframe thead th {\n",
       "        text-align: right;\n",
       "    }\n",
       "</style>\n",
       "<table border=\"1\" class=\"dataframe\">\n",
       "  <thead>\n",
       "    <tr style=\"text-align: right;\">\n",
       "      <th></th>\n",
       "      <th>Topics</th>\n",
       "    </tr>\n",
       "  </thead>\n",
       "  <tbody>\n",
       "    <tr>\n",
       "      <th>0</th>\n",
       "      <td>imag, technolog, method, tissu, analysi, use, ...</td>\n",
       "    </tr>\n",
       "    <tr>\n",
       "      <th>1</th>\n",
       "      <td>research, program, fund, train, career, member...</td>\n",
       "    </tr>\n",
       "    <tr>\n",
       "      <th>2</th>\n",
       "      <td>patient, breast, breast cancer, biomark, tumor...</td>\n",
       "    </tr>\n",
       "    <tr>\n",
       "      <th>3</th>\n",
       "      <td>health, intervent, care, dispar, communiti, im...</td>\n",
       "    </tr>\n",
       "    <tr>\n",
       "      <th>4</th>\n",
       "      <td>cell, genom, singl cell, gene, understand, bio...</td>\n",
       "    </tr>\n",
       "    <tr>\n",
       "      <th>5</th>\n",
       "      <td>regul, cell, signal, role, mechan, express, pr...</td>\n",
       "    </tr>\n",
       "    <tr>\n",
       "      <th>6</th>\n",
       "      <td>risk, women, infect, associ, studi, age, e, relat</td>\n",
       "    </tr>\n",
       "    <tr>\n",
       "      <th>7</th>\n",
       "      <td>immun, tumor, anti, immunotherapi, therapi, ce...</td>\n",
       "    </tr>\n",
       "    <tr>\n",
       "      <th>8</th>\n",
       "      <td>core, administr, support, resourc, share, serv...</td>\n",
       "    </tr>\n",
       "    <tr>\n",
       "      <th>9</th>\n",
       "      <td>inhibitor, drug, resist, prostat, target, leuk...</td>\n",
       "    </tr>\n",
       "  </tbody>\n",
       "</table>\n",
       "</div>"
      ],
      "text/plain": [
       "                                              Topics\n",
       "0  imag, technolog, method, tissu, analysi, use, ...\n",
       "1  research, program, fund, train, career, member...\n",
       "2  patient, breast, breast cancer, biomark, tumor...\n",
       "3  health, intervent, care, dispar, communiti, im...\n",
       "4  cell, genom, singl cell, gene, understand, bio...\n",
       "5  regul, cell, signal, role, mechan, express, pr...\n",
       "6  risk, women, infect, associ, studi, age, e, relat\n",
       "7  immun, tumor, anti, immunotherapi, therapi, ce...\n",
       "8  core, administr, support, resourc, share, serv...\n",
       "9  inhibitor, drug, resist, prostat, target, leuk..."
      ]
     },
     "execution_count": 26,
     "metadata": {},
     "output_type": "execute_result"
    }
   ],
   "source": [
    "# Save the topics to a dataframe\n",
    "Topics = pd.DataFrame(ls_keywords)\n",
    "\n",
    "# Rename the column Topics\n",
    "Topics.rename(columns={0:'Topics'}, inplace = True)\n",
    "\n",
    "# View the dataframe\n",
    "Topics"
   ]
  },
  {
   "cell_type": "code",
   "execution_count": 27,
   "metadata": {},
   "outputs": [
    {
     "data": {
      "text/html": [
       "<div>\n",
       "<style scoped>\n",
       "    .dataframe tbody tr th:only-of-type {\n",
       "        vertical-align: middle;\n",
       "    }\n",
       "\n",
       "    .dataframe tbody tr th {\n",
       "        vertical-align: top;\n",
       "    }\n",
       "\n",
       "    .dataframe thead th {\n",
       "        text-align: right;\n",
       "    }\n",
       "</style>\n",
       "<table border=\"1\" class=\"dataframe\">\n",
       "  <thead>\n",
       "    <tr style=\"text-align: right;\">\n",
       "      <th></th>\n",
       "      <th>imag, technolog, method, tissu, analysi, use, quantit, sampl</th>\n",
       "      <th>research, program, fund, train, career, member, cancer research, center</th>\n",
       "      <th>patient, breast, breast cancer, biomark, tumor, predict, lung, clinic</th>\n",
       "      <th>health, intervent, care, dispar, communiti, implement, outcom, cancer</th>\n",
       "      <th>cell, genom, singl cell, gene, understand, biolog, tumor, singl</th>\n",
       "      <th>regul, cell, signal, role, mechan, express, protein, pathway</th>\n",
       "      <th>risk, women, infect, associ, studi, age, e, relat</th>\n",
       "      <th>immun, tumor, anti, immunotherapi, therapi, cell, respons, efficaci</th>\n",
       "      <th>core, administr, support, resourc, share, servic, manag, provid</th>\n",
       "      <th>inhibitor, drug, resist, prostat, target, leukemia, prostat cancer, molecul</th>\n",
       "    </tr>\n",
       "  </thead>\n",
       "  <tbody>\n",
       "    <tr>\n",
       "      <th>0</th>\n",
       "      <td>0.094005</td>\n",
       "      <td>0.000216</td>\n",
       "      <td>0.000216</td>\n",
       "      <td>0.528912</td>\n",
       "      <td>0.000216</td>\n",
       "      <td>0.000216</td>\n",
       "      <td>0.353162</td>\n",
       "      <td>0.000216</td>\n",
       "      <td>0.022623</td>\n",
       "      <td>0.000216</td>\n",
       "    </tr>\n",
       "    <tr>\n",
       "      <th>1</th>\n",
       "      <td>0.000234</td>\n",
       "      <td>0.088802</td>\n",
       "      <td>0.000234</td>\n",
       "      <td>0.000234</td>\n",
       "      <td>0.096908</td>\n",
       "      <td>0.000234</td>\n",
       "      <td>0.025144</td>\n",
       "      <td>0.724016</td>\n",
       "      <td>0.000234</td>\n",
       "      <td>0.063962</td>\n",
       "    </tr>\n",
       "    <tr>\n",
       "      <th>2</th>\n",
       "      <td>0.094845</td>\n",
       "      <td>0.000254</td>\n",
       "      <td>0.000254</td>\n",
       "      <td>0.000254</td>\n",
       "      <td>0.000254</td>\n",
       "      <td>0.244047</td>\n",
       "      <td>0.000254</td>\n",
       "      <td>0.435670</td>\n",
       "      <td>0.000254</td>\n",
       "      <td>0.223914</td>\n",
       "    </tr>\n",
       "    <tr>\n",
       "      <th>3</th>\n",
       "      <td>0.000445</td>\n",
       "      <td>0.652497</td>\n",
       "      <td>0.000445</td>\n",
       "      <td>0.000445</td>\n",
       "      <td>0.000445</td>\n",
       "      <td>0.000445</td>\n",
       "      <td>0.000445</td>\n",
       "      <td>0.073519</td>\n",
       "      <td>0.270870</td>\n",
       "      <td>0.000445</td>\n",
       "    </tr>\n",
       "    <tr>\n",
       "      <th>4</th>\n",
       "      <td>0.362122</td>\n",
       "      <td>0.138811</td>\n",
       "      <td>0.087666</td>\n",
       "      <td>0.000221</td>\n",
       "      <td>0.063087</td>\n",
       "      <td>0.000221</td>\n",
       "      <td>0.018844</td>\n",
       "      <td>0.000221</td>\n",
       "      <td>0.328585</td>\n",
       "      <td>0.000221</td>\n",
       "    </tr>\n",
       "    <tr>\n",
       "      <th>...</th>\n",
       "      <td>...</td>\n",
       "      <td>...</td>\n",
       "      <td>...</td>\n",
       "      <td>...</td>\n",
       "      <td>...</td>\n",
       "      <td>...</td>\n",
       "      <td>...</td>\n",
       "      <td>...</td>\n",
       "      <td>...</td>\n",
       "      <td>...</td>\n",
       "    </tr>\n",
       "    <tr>\n",
       "      <th>12385</th>\n",
       "      <td>0.033939</td>\n",
       "      <td>0.000290</td>\n",
       "      <td>0.000290</td>\n",
       "      <td>0.000290</td>\n",
       "      <td>0.184027</td>\n",
       "      <td>0.603770</td>\n",
       "      <td>0.128300</td>\n",
       "      <td>0.000290</td>\n",
       "      <td>0.000290</td>\n",
       "      <td>0.048514</td>\n",
       "    </tr>\n",
       "    <tr>\n",
       "      <th>12386</th>\n",
       "      <td>0.000215</td>\n",
       "      <td>0.000215</td>\n",
       "      <td>0.064937</td>\n",
       "      <td>0.000215</td>\n",
       "      <td>0.000215</td>\n",
       "      <td>0.265210</td>\n",
       "      <td>0.056512</td>\n",
       "      <td>0.612050</td>\n",
       "      <td>0.000215</td>\n",
       "      <td>0.000215</td>\n",
       "    </tr>\n",
       "    <tr>\n",
       "      <th>12387</th>\n",
       "      <td>0.181798</td>\n",
       "      <td>0.001075</td>\n",
       "      <td>0.001075</td>\n",
       "      <td>0.001075</td>\n",
       "      <td>0.001075</td>\n",
       "      <td>0.751026</td>\n",
       "      <td>0.001075</td>\n",
       "      <td>0.059650</td>\n",
       "      <td>0.001075</td>\n",
       "      <td>0.001075</td>\n",
       "    </tr>\n",
       "    <tr>\n",
       "      <th>12388</th>\n",
       "      <td>0.075344</td>\n",
       "      <td>0.000700</td>\n",
       "      <td>0.000700</td>\n",
       "      <td>0.554045</td>\n",
       "      <td>0.000700</td>\n",
       "      <td>0.000700</td>\n",
       "      <td>0.000700</td>\n",
       "      <td>0.000700</td>\n",
       "      <td>0.365714</td>\n",
       "      <td>0.000700</td>\n",
       "    </tr>\n",
       "    <tr>\n",
       "      <th>12389</th>\n",
       "      <td>0.224415</td>\n",
       "      <td>0.149401</td>\n",
       "      <td>0.005691</td>\n",
       "      <td>0.000230</td>\n",
       "      <td>0.000230</td>\n",
       "      <td>0.000230</td>\n",
       "      <td>0.000230</td>\n",
       "      <td>0.000230</td>\n",
       "      <td>0.406253</td>\n",
       "      <td>0.213092</td>\n",
       "    </tr>\n",
       "  </tbody>\n",
       "</table>\n",
       "<p>12390 rows × 10 columns</p>\n",
       "</div>"
      ],
      "text/plain": [
       "       imag, technolog, method, tissu, analysi, use, quantit, sampl  \\\n",
       "0                                               0.094005              \n",
       "1                                               0.000234              \n",
       "2                                               0.094845              \n",
       "3                                               0.000445              \n",
       "4                                               0.362122              \n",
       "...                                                  ...              \n",
       "12385                                           0.033939              \n",
       "12386                                           0.000215              \n",
       "12387                                           0.181798              \n",
       "12388                                           0.075344              \n",
       "12389                                           0.224415              \n",
       "\n",
       "       research, program, fund, train, career, member, cancer research, center  \\\n",
       "0                                               0.000216                         \n",
       "1                                               0.088802                         \n",
       "2                                               0.000254                         \n",
       "3                                               0.652497                         \n",
       "4                                               0.138811                         \n",
       "...                                                  ...                         \n",
       "12385                                           0.000290                         \n",
       "12386                                           0.000215                         \n",
       "12387                                           0.001075                         \n",
       "12388                                           0.000700                         \n",
       "12389                                           0.149401                         \n",
       "\n",
       "       patient, breast, breast cancer, biomark, tumor, predict, lung, clinic  \\\n",
       "0                                               0.000216                       \n",
       "1                                               0.000234                       \n",
       "2                                               0.000254                       \n",
       "3                                               0.000445                       \n",
       "4                                               0.087666                       \n",
       "...                                                  ...                       \n",
       "12385                                           0.000290                       \n",
       "12386                                           0.064937                       \n",
       "12387                                           0.001075                       \n",
       "12388                                           0.000700                       \n",
       "12389                                           0.005691                       \n",
       "\n",
       "       health, intervent, care, dispar, communiti, implement, outcom, cancer  \\\n",
       "0                                               0.528912                       \n",
       "1                                               0.000234                       \n",
       "2                                               0.000254                       \n",
       "3                                               0.000445                       \n",
       "4                                               0.000221                       \n",
       "...                                                  ...                       \n",
       "12385                                           0.000290                       \n",
       "12386                                           0.000215                       \n",
       "12387                                           0.001075                       \n",
       "12388                                           0.554045                       \n",
       "12389                                           0.000230                       \n",
       "\n",
       "       cell, genom, singl cell, gene, understand, biolog, tumor, singl  \\\n",
       "0                                               0.000216                 \n",
       "1                                               0.096908                 \n",
       "2                                               0.000254                 \n",
       "3                                               0.000445                 \n",
       "4                                               0.063087                 \n",
       "...                                                  ...                 \n",
       "12385                                           0.184027                 \n",
       "12386                                           0.000215                 \n",
       "12387                                           0.001075                 \n",
       "12388                                           0.000700                 \n",
       "12389                                           0.000230                 \n",
       "\n",
       "       regul, cell, signal, role, mechan, express, protein, pathway  \\\n",
       "0                                               0.000216              \n",
       "1                                               0.000234              \n",
       "2                                               0.244047              \n",
       "3                                               0.000445              \n",
       "4                                               0.000221              \n",
       "...                                                  ...              \n",
       "12385                                           0.603770              \n",
       "12386                                           0.265210              \n",
       "12387                                           0.751026              \n",
       "12388                                           0.000700              \n",
       "12389                                           0.000230              \n",
       "\n",
       "       risk, women, infect, associ, studi, age, e, relat  \\\n",
       "0                                               0.353162   \n",
       "1                                               0.025144   \n",
       "2                                               0.000254   \n",
       "3                                               0.000445   \n",
       "4                                               0.018844   \n",
       "...                                                  ...   \n",
       "12385                                           0.128300   \n",
       "12386                                           0.056512   \n",
       "12387                                           0.001075   \n",
       "12388                                           0.000700   \n",
       "12389                                           0.000230   \n",
       "\n",
       "       immun, tumor, anti, immunotherapi, therapi, cell, respons, efficaci  \\\n",
       "0                                               0.000216                     \n",
       "1                                               0.724016                     \n",
       "2                                               0.435670                     \n",
       "3                                               0.073519                     \n",
       "4                                               0.000221                     \n",
       "...                                                  ...                     \n",
       "12385                                           0.000290                     \n",
       "12386                                           0.612050                     \n",
       "12387                                           0.059650                     \n",
       "12388                                           0.000700                     \n",
       "12389                                           0.000230                     \n",
       "\n",
       "       core, administr, support, resourc, share, servic, manag, provid  \\\n",
       "0                                               0.022623                 \n",
       "1                                               0.000234                 \n",
       "2                                               0.000254                 \n",
       "3                                               0.270870                 \n",
       "4                                               0.328585                 \n",
       "...                                                  ...                 \n",
       "12385                                           0.000290                 \n",
       "12386                                           0.000215                 \n",
       "12387                                           0.001075                 \n",
       "12388                                           0.365714                 \n",
       "12389                                           0.406253                 \n",
       "\n",
       "       inhibitor, drug, resist, prostat, target, leukemia, prostat cancer, molecul  \n",
       "0                                               0.000216                            \n",
       "1                                               0.063962                            \n",
       "2                                               0.223914                            \n",
       "3                                               0.000445                            \n",
       "4                                               0.000221                            \n",
       "...                                                  ...                            \n",
       "12385                                           0.048514                            \n",
       "12386                                           0.000215                            \n",
       "12387                                           0.001075                            \n",
       "12388                                           0.000700                            \n",
       "12389                                           0.213092                            \n",
       "\n",
       "[12390 rows x 10 columns]"
      ]
     },
     "execution_count": 27,
     "metadata": {},
     "output_type": "execute_result"
    }
   ],
   "source": [
    "# Save the results as a data frame with the top words for each topic as the colunn names \n",
    "topics_doc = pd.DataFrame(doctopic, columns = ls_keywords)\n",
    "\n",
    "# View the dataframe\n",
    "topics_doc"
   ]
  },
  {
   "cell_type": "markdown",
   "metadata": {},
   "source": [
    "### 17) join together the dataframe from 16 with your abstracts dataframe (filtered for the CI)(0.5 points)"
   ]
  },
  {
   "cell_type": "code",
   "execution_count": 28,
   "metadata": {},
   "outputs": [
    {
     "data": {
      "text/html": [
       "<div>\n",
       "<style scoped>\n",
       "    .dataframe tbody tr th:only-of-type {\n",
       "        vertical-align: middle;\n",
       "    }\n",
       "\n",
       "    .dataframe tbody tr th {\n",
       "        vertical-align: top;\n",
       "    }\n",
       "\n",
       "    .dataframe thead th {\n",
       "        text-align: right;\n",
       "    }\n",
       "</style>\n",
       "<table border=\"1\" class=\"dataframe\">\n",
       "  <thead>\n",
       "    <tr style=\"text-align: right;\">\n",
       "      <th></th>\n",
       "      <th>imag, technolog, method, tissu, analysi, use, quantit, sampl</th>\n",
       "      <th>research, program, fund, train, career, member, cancer research, center</th>\n",
       "      <th>patient, breast, breast cancer, biomark, tumor, predict, lung, clinic</th>\n",
       "      <th>health, intervent, care, dispar, communiti, implement, outcom, cancer</th>\n",
       "      <th>cell, genom, singl cell, gene, understand, biolog, tumor, singl</th>\n",
       "      <th>regul, cell, signal, role, mechan, express, protein, pathway</th>\n",
       "      <th>risk, women, infect, associ, studi, age, e, relat</th>\n",
       "      <th>immun, tumor, anti, immunotherapi, therapi, cell, respons, efficaci</th>\n",
       "      <th>core, administr, support, resourc, share, servic, manag, provid</th>\n",
       "      <th>inhibitor, drug, resist, prostat, target, leukemia, prostat cancer, molecul</th>\n",
       "      <th>index</th>\n",
       "      <th>APPLICATION_ID</th>\n",
       "      <th>IC_NAME</th>\n",
       "      <th>TOTAL_COST</th>\n",
       "      <th>ABSTRACT_TEXT</th>\n",
       "    </tr>\n",
       "  </thead>\n",
       "  <tbody>\n",
       "    <tr>\n",
       "      <th>0</th>\n",
       "      <td>0.094005</td>\n",
       "      <td>0.000216</td>\n",
       "      <td>0.000216</td>\n",
       "      <td>0.528912</td>\n",
       "      <td>0.000216</td>\n",
       "      <td>0.000216</td>\n",
       "      <td>0.353162</td>\n",
       "      <td>0.000216</td>\n",
       "      <td>0.022623</td>\n",
       "      <td>0.000216</td>\n",
       "      <td>18.0</td>\n",
       "      <td>10406126.0</td>\n",
       "      <td>NATIONAL CANCER INSTITUTE</td>\n",
       "      <td>219626.0</td>\n",
       "      <td>Project Summary/Abstract Title: Caribbean Inve...</td>\n",
       "    </tr>\n",
       "    <tr>\n",
       "      <th>1</th>\n",
       "      <td>0.000234</td>\n",
       "      <td>0.088802</td>\n",
       "      <td>0.000234</td>\n",
       "      <td>0.000234</td>\n",
       "      <td>0.096908</td>\n",
       "      <td>0.000234</td>\n",
       "      <td>0.025144</td>\n",
       "      <td>0.724016</td>\n",
       "      <td>0.000234</td>\n",
       "      <td>0.063962</td>\n",
       "      <td>29.0</td>\n",
       "      <td>10246936.0</td>\n",
       "      <td>NATIONAL CANCER INSTITUTE</td>\n",
       "      <td>636455.0</td>\n",
       "      <td>ABSTRACT Glioblastoma multiforme (GBM) is the ...</td>\n",
       "    </tr>\n",
       "    <tr>\n",
       "      <th>2</th>\n",
       "      <td>0.094845</td>\n",
       "      <td>0.000254</td>\n",
       "      <td>0.000254</td>\n",
       "      <td>0.000254</td>\n",
       "      <td>0.000254</td>\n",
       "      <td>0.244047</td>\n",
       "      <td>0.000254</td>\n",
       "      <td>0.435670</td>\n",
       "      <td>0.000254</td>\n",
       "      <td>0.223914</td>\n",
       "      <td>31.0</td>\n",
       "      <td>10131000.0</td>\n",
       "      <td>NATIONAL CANCER INSTITUTE</td>\n",
       "      <td>316405.0</td>\n",
       "      <td>Gene silencing using small interfering RNA (si...</td>\n",
       "    </tr>\n",
       "    <tr>\n",
       "      <th>3</th>\n",
       "      <td>0.000445</td>\n",
       "      <td>0.652497</td>\n",
       "      <td>0.000445</td>\n",
       "      <td>0.000445</td>\n",
       "      <td>0.000445</td>\n",
       "      <td>0.000445</td>\n",
       "      <td>0.000445</td>\n",
       "      <td>0.073519</td>\n",
       "      <td>0.270870</td>\n",
       "      <td>0.000445</td>\n",
       "      <td>35.0</td>\n",
       "      <td>10433611.0</td>\n",
       "      <td>NATIONAL CANCER INSTITUTE</td>\n",
       "      <td>35000.0</td>\n",
       "      <td>Project Summary/Abstract This application is b...</td>\n",
       "    </tr>\n",
       "    <tr>\n",
       "      <th>4</th>\n",
       "      <td>0.362122</td>\n",
       "      <td>0.138811</td>\n",
       "      <td>0.087666</td>\n",
       "      <td>0.000221</td>\n",
       "      <td>0.063087</td>\n",
       "      <td>0.000221</td>\n",
       "      <td>0.018844</td>\n",
       "      <td>0.000221</td>\n",
       "      <td>0.328585</td>\n",
       "      <td>0.000221</td>\n",
       "      <td>38.0</td>\n",
       "      <td>10118122.0</td>\n",
       "      <td>NATIONAL CANCER INSTITUTE</td>\n",
       "      <td>NaN</td>\n",
       "      <td>ABSTRACT ? BIOREPOSITORY &amp; PRECISION PATHOLOGY...</td>\n",
       "    </tr>\n",
       "  </tbody>\n",
       "</table>\n",
       "</div>"
      ],
      "text/plain": [
       "   imag, technolog, method, tissu, analysi, use, quantit, sampl  \\\n",
       "0                                           0.094005              \n",
       "1                                           0.000234              \n",
       "2                                           0.094845              \n",
       "3                                           0.000445              \n",
       "4                                           0.362122              \n",
       "\n",
       "   research, program, fund, train, career, member, cancer research, center  \\\n",
       "0                                           0.000216                         \n",
       "1                                           0.088802                         \n",
       "2                                           0.000254                         \n",
       "3                                           0.652497                         \n",
       "4                                           0.138811                         \n",
       "\n",
       "   patient, breast, breast cancer, biomark, tumor, predict, lung, clinic  \\\n",
       "0                                           0.000216                       \n",
       "1                                           0.000234                       \n",
       "2                                           0.000254                       \n",
       "3                                           0.000445                       \n",
       "4                                           0.087666                       \n",
       "\n",
       "   health, intervent, care, dispar, communiti, implement, outcom, cancer  \\\n",
       "0                                           0.528912                       \n",
       "1                                           0.000234                       \n",
       "2                                           0.000254                       \n",
       "3                                           0.000445                       \n",
       "4                                           0.000221                       \n",
       "\n",
       "   cell, genom, singl cell, gene, understand, biolog, tumor, singl  \\\n",
       "0                                           0.000216                 \n",
       "1                                           0.096908                 \n",
       "2                                           0.000254                 \n",
       "3                                           0.000445                 \n",
       "4                                           0.063087                 \n",
       "\n",
       "   regul, cell, signal, role, mechan, express, protein, pathway  \\\n",
       "0                                           0.000216              \n",
       "1                                           0.000234              \n",
       "2                                           0.244047              \n",
       "3                                           0.000445              \n",
       "4                                           0.000221              \n",
       "\n",
       "   risk, women, infect, associ, studi, age, e, relat  \\\n",
       "0                                           0.353162   \n",
       "1                                           0.025144   \n",
       "2                                           0.000254   \n",
       "3                                           0.000445   \n",
       "4                                           0.018844   \n",
       "\n",
       "   immun, tumor, anti, immunotherapi, therapi, cell, respons, efficaci  \\\n",
       "0                                           0.000216                     \n",
       "1                                           0.724016                     \n",
       "2                                           0.435670                     \n",
       "3                                           0.073519                     \n",
       "4                                           0.000221                     \n",
       "\n",
       "   core, administr, support, resourc, share, servic, manag, provid  \\\n",
       "0                                           0.022623                 \n",
       "1                                           0.000234                 \n",
       "2                                           0.000254                 \n",
       "3                                           0.270870                 \n",
       "4                                           0.328585                 \n",
       "\n",
       "   inhibitor, drug, resist, prostat, target, leukemia, prostat cancer, molecul  \\\n",
       "0                                           0.000216                             \n",
       "1                                           0.063962                             \n",
       "2                                           0.223914                             \n",
       "3                                           0.000445                             \n",
       "4                                           0.000221                             \n",
       "\n",
       "   index  APPLICATION_ID                    IC_NAME  TOTAL_COST  \\\n",
       "0   18.0      10406126.0  NATIONAL CANCER INSTITUTE    219626.0   \n",
       "1   29.0      10246936.0  NATIONAL CANCER INSTITUTE    636455.0   \n",
       "2   31.0      10131000.0  NATIONAL CANCER INSTITUTE    316405.0   \n",
       "3   35.0      10433611.0  NATIONAL CANCER INSTITUTE     35000.0   \n",
       "4   38.0      10118122.0  NATIONAL CANCER INSTITUTE         NaN   \n",
       "\n",
       "                                       ABSTRACT_TEXT  \n",
       "0  Project Summary/Abstract Title: Caribbean Inve...  \n",
       "1  ABSTRACT Glioblastoma multiforme (GBM) is the ...  \n",
       "2  Gene silencing using small interfering RNA (si...  \n",
       "3  Project Summary/Abstract This application is b...  \n",
       "4  ABSTRACT ? BIOREPOSITORY & PRECISION PATHOLOGY...  "
      ]
     },
     "execution_count": 28,
     "metadata": {},
     "output_type": "execute_result"
    }
   ],
   "source": [
    "# Reset the display options\n",
    "pd.reset_option('^display.', silent=True)\n",
    "\n",
    "# join together the topics_doc with the nci_abstracts dataframe\n",
    "topics_project = pd.concat([topics_doc,nci_abstracts],axis=1)\n",
    "\n",
    "# View the first 5 observations \n",
    "topics_project.head(5)"
   ]
  },
  {
   "cell_type": "markdown",
   "metadata": {},
   "source": [
    "### 19) Choose one topic per document with the highest score (0.5 points)"
   ]
  },
  {
   "cell_type": "code",
   "execution_count": 29,
   "metadata": {},
   "outputs": [
    {
     "data": {
      "text/plain": [
       "0        health, intervent, care, dispar, communiti, im...\n",
       "1        immun, tumor, anti, immunotherapi, therapi, ce...\n",
       "2        immun, tumor, anti, immunotherapi, therapi, ce...\n",
       "3        research, program, fund, train, career, member...\n",
       "4        imag, technolog, method, tissu, analysi, use, ...\n",
       "                               ...                        \n",
       "12385    regul, cell, signal, role, mechan, express, pr...\n",
       "12386    immun, tumor, anti, immunotherapi, therapi, ce...\n",
       "12387    regul, cell, signal, role, mechan, express, pr...\n",
       "12388    health, intervent, care, dispar, communiti, im...\n",
       "12389    core, administr, support, resourc, share, serv...\n",
       "Length: 12390, dtype: object"
      ]
     },
     "execution_count": 29,
     "metadata": {},
     "output_type": "execute_result"
    }
   ],
   "source": [
    "# Idxmax function and axis=1: return the column name of the max value in a row\n",
    "topics_doc.idxmax(axis=1)"
   ]
  },
  {
   "cell_type": "code",
   "execution_count": 30,
   "metadata": {},
   "outputs": [
    {
     "data": {
      "text/html": [
       "<div>\n",
       "<style scoped>\n",
       "    .dataframe tbody tr th:only-of-type {\n",
       "        vertical-align: middle;\n",
       "    }\n",
       "\n",
       "    .dataframe tbody tr th {\n",
       "        vertical-align: top;\n",
       "    }\n",
       "\n",
       "    .dataframe thead th {\n",
       "        text-align: right;\n",
       "    }\n",
       "</style>\n",
       "<table border=\"1\" class=\"dataframe\">\n",
       "  <thead>\n",
       "    <tr style=\"text-align: right;\">\n",
       "      <th></th>\n",
       "      <th>topic</th>\n",
       "      <th>index</th>\n",
       "      <th>APPLICATION_ID</th>\n",
       "      <th>IC_NAME</th>\n",
       "      <th>TOTAL_COST</th>\n",
       "      <th>ABSTRACT_TEXT</th>\n",
       "    </tr>\n",
       "  </thead>\n",
       "  <tbody>\n",
       "    <tr>\n",
       "      <th>0</th>\n",
       "      <td>health, intervent, care, dispar, communiti, implement, outcom, cancer</td>\n",
       "      <td>18.0</td>\n",
       "      <td>10406126.0</td>\n",
       "      <td>NATIONAL CANCER INSTITUTE</td>\n",
       "      <td>219626.0</td>\n",
       "      <td>Project Summary/Abstract Title: Caribbean Investigation of Cancer Stigma and its effect on Cervical Cancer Screening and HPV Vaccination This application is being submitted in response to the Noti...</td>\n",
       "    </tr>\n",
       "    <tr>\n",
       "      <th>1</th>\n",
       "      <td>immun, tumor, anti, immunotherapi, therapi, cell, respons, efficaci</td>\n",
       "      <td>29.0</td>\n",
       "      <td>10246936.0</td>\n",
       "      <td>NATIONAL CANCER INSTITUTE</td>\n",
       "      <td>636455.0</td>\n",
       "      <td>ABSTRACT Glioblastoma multiforme (GBM) is the most lethal primary brain cancer, with standard treatments based on surgery, radiotherapy, and chemotherapy promoting an overall survival of approxima...</td>\n",
       "    </tr>\n",
       "    <tr>\n",
       "      <th>2</th>\n",
       "      <td>immun, tumor, anti, immunotherapi, therapi, cell, respons, efficaci</td>\n",
       "      <td>31.0</td>\n",
       "      <td>10131000.0</td>\n",
       "      <td>NATIONAL CANCER INSTITUTE</td>\n",
       "      <td>316405.0</td>\n",
       "      <td>Gene silencing using small interfering RNA (siRNA) is a viable therapeutic approach but, limited in translation due to lack of effective delivery systems. Developing effective and non-toxic delive...</td>\n",
       "    </tr>\n",
       "    <tr>\n",
       "      <th>3</th>\n",
       "      <td>research, program, fund, train, career, member, cancer research, center</td>\n",
       "      <td>35.0</td>\n",
       "      <td>10433611.0</td>\n",
       "      <td>NATIONAL CANCER INSTITUTE</td>\n",
       "      <td>35000.0</td>\n",
       "      <td>Project Summary/Abstract This application is being submitted to continue accrual participation in the Early Drug Development Opportunity (EDDOP). The Rogel Cancer Center first received National Ca...</td>\n",
       "    </tr>\n",
       "    <tr>\n",
       "      <th>4</th>\n",
       "      <td>imag, technolog, method, tissu, analysi, use, quantit, sampl</td>\n",
       "      <td>38.0</td>\n",
       "      <td>10118122.0</td>\n",
       "      <td>NATIONAL CANCER INSTITUTE</td>\n",
       "      <td>NaN</td>\n",
       "      <td>ABSTRACT ? BIOREPOSITORY &amp; PRECISION PATHOLOGY CENTER SHARED RESOURCE  The BioRepository &amp; Precision Pathology Center (BRPC) provides patient tissue and blood-based research support for the Duke C...</td>\n",
       "    </tr>\n",
       "  </tbody>\n",
       "</table>\n",
       "</div>"
      ],
      "text/plain": [
       "                                                                     topic  \\\n",
       "0    health, intervent, care, dispar, communiti, implement, outcom, cancer   \n",
       "1      immun, tumor, anti, immunotherapi, therapi, cell, respons, efficaci   \n",
       "2      immun, tumor, anti, immunotherapi, therapi, cell, respons, efficaci   \n",
       "3  research, program, fund, train, career, member, cancer research, center   \n",
       "4             imag, technolog, method, tissu, analysi, use, quantit, sampl   \n",
       "\n",
       "   index  APPLICATION_ID                    IC_NAME  TOTAL_COST  \\\n",
       "0   18.0      10406126.0  NATIONAL CANCER INSTITUTE    219626.0   \n",
       "1   29.0      10246936.0  NATIONAL CANCER INSTITUTE    636455.0   \n",
       "2   31.0      10131000.0  NATIONAL CANCER INSTITUTE    316405.0   \n",
       "3   35.0      10433611.0  NATIONAL CANCER INSTITUTE     35000.0   \n",
       "4   38.0      10118122.0  NATIONAL CANCER INSTITUTE         NaN   \n",
       "\n",
       "                                                                                                                                                                                             ABSTRACT_TEXT  \n",
       "0  Project Summary/Abstract Title: Caribbean Investigation of Cancer Stigma and its effect on Cervical Cancer Screening and HPV Vaccination This application is being submitted in response to the Noti...  \n",
       "1  ABSTRACT Glioblastoma multiforme (GBM) is the most lethal primary brain cancer, with standard treatments based on surgery, radiotherapy, and chemotherapy promoting an overall survival of approxima...  \n",
       "2  Gene silencing using small interfering RNA (siRNA) is a viable therapeutic approach but, limited in translation due to lack of effective delivery systems. Developing effective and non-toxic delive...  \n",
       "3  Project Summary/Abstract This application is being submitted to continue accrual participation in the Early Drug Development Opportunity (EDDOP). The Rogel Cancer Center first received National Ca...  \n",
       "4  ABSTRACT ? BIOREPOSITORY & PRECISION PATHOLOGY CENTER SHARED RESOURCE  The BioRepository & Precision Pathology Center (BRPC) provides patient tissue and blood-based research support for the Duke C...  "
      ]
     },
     "execution_count": 30,
     "metadata": {},
     "output_type": "execute_result"
    }
   ],
   "source": [
    "# Reset the display option to see more of the abstract\n",
    "pd.set_option('display.max_colwidth', 200)\n",
    "\n",
    "# join the abstract with the topic with the greatest weight\n",
    "# Rename the first column topic\n",
    "topics_project_max = pd.concat([topics_doc.idxmax(axis=1),nci_abstracts],axis=1).rename(columns={0:'topic'})\n",
    "\n",
    "topics_project_max.head()"
   ]
  },
  {
   "cell_type": "code",
   "execution_count": null,
   "metadata": {},
   "outputs": [],
   "source": []
  }
 ],
 "metadata": {
  "kernelspec": {
   "display_name": "Python 3 (ipykernel)",
   "language": "python",
   "name": "python3"
  },
  "language_info": {
   "codemirror_mode": {
    "name": "ipython",
    "version": 3
   },
   "file_extension": ".py",
   "mimetype": "text/x-python",
   "name": "python",
   "nbconvert_exporter": "python",
   "pygments_lexer": "ipython3",
   "version": "3.9.13"
  }
 },
 "nbformat": 4,
 "nbformat_minor": 4
}
