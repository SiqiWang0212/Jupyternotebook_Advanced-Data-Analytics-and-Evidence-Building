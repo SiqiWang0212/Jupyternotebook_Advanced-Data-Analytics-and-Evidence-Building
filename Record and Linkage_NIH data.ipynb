{
 "cells": [
  {
   "cell_type": "markdown",
   "metadata": {},
   "source": [
    "# RECORD LINKAGE AND MEASUREMENT\n",
    "By Maryah Garner"
   ]
  },
  {
   "cell_type": "markdown",
   "metadata": {},
   "source": [
    "## Table of Contents\n",
    "* [Set Up Environment](#set-up)\n",
    "* [Organization names ](#orgs)\n",
    "* [PI Names](#pi_names)\n",
    " * [Cleaning PI Names](##clean_names)\n",
    "* [Develop Measures ](#measures)\n",
    "* [Checkpoint 1](#checkpoint1)\n",
    "* [Link Data on PI Name ](#link_name)\n",
    "* [Develop measures for change over time ](#change_measures)\n",
    "* [Results](#results)\n",
    "* [Checkpoint 2](#checkpoint2)"
   ]
  },
  {
   "cell_type": "markdown",
   "metadata": {},
   "source": [
    "We are going to read in projects data from 2015, create measures, and then link it to the 'DF_2017.csv' data that has already been prepared for you using the RePORTER_PRJ_C_FY2017_new data. This is a non-standard approach to performing analytics for data with the same structure over different years. \n",
    "\n",
    "We are using this approach to give you the extremely valuable experience of linking data without overwhelming you with different data sources. You will be able to use the code and skills developed in this notebook to link data from different sources in the future. "
   ]
  },
  {
   "cell_type": "markdown",
   "metadata": {},
   "source": [
    "## Set Up Environment  <a class=\"anchor\" id=\"set-up\"></a>"
   ]
  },
  {
   "cell_type": "code",
   "execution_count": 1,
   "metadata": {},
   "outputs": [],
   "source": [
    "# general use imports\n",
    "import pandas as pd"
   ]
  },
  {
   "cell_type": "markdown",
   "metadata": {},
   "source": [
    "### Read in Project Data"
   ]
  },
  {
   "cell_type": "code",
   "execution_count": 2,
   "metadata": {},
   "outputs": [],
   "source": [
    "# Specify a path with the data folder\n",
    "# Change \"NAME\" to your name as recorded on your computer\n",
    "# path = '/Users/wsq/Desktop/Advanced Data Analytics and Evidence Building/PADM-GP_2505/Data'\n",
    "Path = '/Users/wsq/Desktop/Advanced Data Analytics and Evidence Building/PADM-GP_2505/Data'"
   ]
  },
  {
   "cell_type": "markdown",
   "metadata": {},
   "source": [
    "#### Read in Pre-processed 2017 Data \n",
    "First, we will read in the Preprocessed 2017 (`DF_2017.csv`) data. If you still need to, make sure you download this data from Britespace and put it in your `PADM-GP_2505/Data` folder."
   ]
  },
  {
   "cell_type": "code",
   "execution_count": 3,
   "metadata": {},
   "outputs": [
    {
     "data": {
      "text/html": [
       "<div>\n",
       "<style scoped>\n",
       "    .dataframe tbody tr th:only-of-type {\n",
       "        vertical-align: middle;\n",
       "    }\n",
       "\n",
       "    .dataframe tbody tr th {\n",
       "        vertical-align: top;\n",
       "    }\n",
       "\n",
       "    .dataframe thead th {\n",
       "        text-align: right;\n",
       "    }\n",
       "</style>\n",
       "<table border=\"1\" class=\"dataframe\">\n",
       "  <thead>\n",
       "    <tr style=\"text-align: right;\">\n",
       "      <th></th>\n",
       "      <th>PI_NAME</th>\n",
       "      <th>Total_Projects_2017</th>\n",
       "      <th>Total_Cost_All_2017</th>\n",
       "      <th>Total_NCI_Projects_2017</th>\n",
       "      <th>NCI_Total_Cost_2017</th>\n",
       "      <th>Total_New_NCI_Projects_2017</th>\n",
       "      <th>NCI_New_Total_Cost_2017</th>\n",
       "      <th>Most_common_IC_2017</th>\n",
       "      <th>Most_common_IC_Count_2017</th>\n",
       "    </tr>\n",
       "  </thead>\n",
       "  <tbody>\n",
       "    <tr>\n",
       "      <th>0</th>\n",
       "      <td>CARROLL, WILLIAM L.</td>\n",
       "      <td>28</td>\n",
       "      <td>1010125</td>\n",
       "      <td>28.0</td>\n",
       "      <td>1010125.0</td>\n",
       "      <td>NaN</td>\n",
       "      <td>NaN</td>\n",
       "      <td>NATIONAL CANCER INSTITUTE</td>\n",
       "      <td>28</td>\n",
       "    </tr>\n",
       "    <tr>\n",
       "      <th>1</th>\n",
       "      <td>FISHER, EDWARD A</td>\n",
       "      <td>9</td>\n",
       "      <td>5139805</td>\n",
       "      <td>NaN</td>\n",
       "      <td>NaN</td>\n",
       "      <td>NaN</td>\n",
       "      <td>NaN</td>\n",
       "      <td>NATIONAL HEART, LUNG, AND BLOOD INSTITUTE</td>\n",
       "      <td>9</td>\n",
       "    </tr>\n",
       "    <tr>\n",
       "      <th>2</th>\n",
       "      <td>BUYON, JILL P</td>\n",
       "      <td>8</td>\n",
       "      <td>3506062</td>\n",
       "      <td>NaN</td>\n",
       "      <td>NaN</td>\n",
       "      <td>NaN</td>\n",
       "      <td>NaN</td>\n",
       "      <td>NATIONAL INSTITUTE OF ARTHRITIS AND MUSCULOSKE...</td>\n",
       "      <td>7</td>\n",
       "    </tr>\n",
       "    <tr>\n",
       "      <th>3</th>\n",
       "      <td>ROTROSEN, JOHN P</td>\n",
       "      <td>7</td>\n",
       "      <td>5786823</td>\n",
       "      <td>NaN</td>\n",
       "      <td>NaN</td>\n",
       "      <td>NaN</td>\n",
       "      <td>NaN</td>\n",
       "      <td>NATIONAL INSTITUTE ON DRUG ABUSE</td>\n",
       "      <td>7</td>\n",
       "    </tr>\n",
       "    <tr>\n",
       "      <th>4</th>\n",
       "      <td>AIFANTIS, IANNIS</td>\n",
       "      <td>6</td>\n",
       "      <td>2654279</td>\n",
       "      <td>6.0</td>\n",
       "      <td>2654279.0</td>\n",
       "      <td>1.0</td>\n",
       "      <td>536993.0</td>\n",
       "      <td>NATIONAL CANCER INSTITUTE</td>\n",
       "      <td>6</td>\n",
       "    </tr>\n",
       "  </tbody>\n",
       "</table>\n",
       "</div>"
      ],
      "text/plain": [
       "               PI_NAME  Total_Projects_2017  Total_Cost_All_2017  \\\n",
       "0  CARROLL, WILLIAM L.                   28              1010125   \n",
       "1     FISHER, EDWARD A                    9              5139805   \n",
       "2        BUYON, JILL P                    8              3506062   \n",
       "3     ROTROSEN, JOHN P                    7              5786823   \n",
       "4    AIFANTIS, IANNIS                     6              2654279   \n",
       "\n",
       "   Total_NCI_Projects_2017  NCI_Total_Cost_2017  Total_New_NCI_Projects_2017  \\\n",
       "0                     28.0            1010125.0                          NaN   \n",
       "1                      NaN                  NaN                          NaN   \n",
       "2                      NaN                  NaN                          NaN   \n",
       "3                      NaN                  NaN                          NaN   \n",
       "4                      6.0            2654279.0                          1.0   \n",
       "\n",
       "   NCI_New_Total_Cost_2017                                Most_common_IC_2017  \\\n",
       "0                      NaN                          NATIONAL CANCER INSTITUTE   \n",
       "1                      NaN          NATIONAL HEART, LUNG, AND BLOOD INSTITUTE   \n",
       "2                      NaN  NATIONAL INSTITUTE OF ARTHRITIS AND MUSCULOSKE...   \n",
       "3                      NaN                   NATIONAL INSTITUTE ON DRUG ABUSE   \n",
       "4                 536993.0                          NATIONAL CANCER INSTITUTE   \n",
       "\n",
       "   Most_common_IC_Count_2017  \n",
       "0                         28  \n",
       "1                          9  \n",
       "2                          7  \n",
       "3                          7  \n",
       "4                          6  "
      ]
     },
     "execution_count": 3,
     "metadata": {},
     "output_type": "execute_result"
    }
   ],
   "source": [
    "# Read-in the DF_2017 CSV file \n",
    "DF_2017 = pd.read_csv(Path + '/DF_2017.csv')\n",
    "\n",
    "# View the first 5 observations \n",
    "DF_2017.head(5)"
   ]
  },
  {
   "cell_type": "markdown",
   "metadata": {},
   "source": [
    "#### Read in 2015  Projects Data\n",
    "Next, we will read in the raw projects data from 2015. We will clean this data and use it to develop a data frame that has one observation per PI (for PIs from NYU), similar to the `DF_2017` seen above. "
   ]
  },
  {
   "cell_type": "code",
   "execution_count": 4,
   "metadata": {
    "scrolled": true
   },
   "outputs": [
    {
     "name": "stderr",
     "output_type": "stream",
     "text": [
      "/var/folders/rl/4_s3mzkj6ll5h2_4qxy9sftw0000gn/T/ipykernel_15654/2757390899.py:2: DtypeWarning: Columns (8) have mixed types. Specify dtype option on import or set low_memory=False.\n",
      "  grants_2015 = pd.read_csv(Path + '/Projects/RePORTER_PRJ_C_FY2015_new.csv', encoding='latin-1')\n"
     ]
    },
    {
     "data": {
      "text/html": [
       "<div>\n",
       "<style scoped>\n",
       "    .dataframe tbody tr th:only-of-type {\n",
       "        vertical-align: middle;\n",
       "    }\n",
       "\n",
       "    .dataframe tbody tr th {\n",
       "        vertical-align: top;\n",
       "    }\n",
       "\n",
       "    .dataframe thead th {\n",
       "        text-align: right;\n",
       "    }\n",
       "</style>\n",
       "<table border=\"1\" class=\"dataframe\">\n",
       "  <thead>\n",
       "    <tr style=\"text-align: right;\">\n",
       "      <th></th>\n",
       "      <th>APPLICATION_ID</th>\n",
       "      <th>ACTIVITY</th>\n",
       "      <th>ADMINISTERING_IC</th>\n",
       "      <th>APPLICATION_TYPE</th>\n",
       "      <th>ARRA_FUNDED</th>\n",
       "      <th>AWARD_NOTICE_DATE</th>\n",
       "      <th>BUDGET_START</th>\n",
       "      <th>BUDGET_END</th>\n",
       "      <th>CFDA_CODE</th>\n",
       "      <th>CORE_PROJECT_NUM</th>\n",
       "      <th>...</th>\n",
       "      <th>SERIAL_NUMBER</th>\n",
       "      <th>STUDY_SECTION</th>\n",
       "      <th>STUDY_SECTION_NAME</th>\n",
       "      <th>SUBPROJECT_ID</th>\n",
       "      <th>SUFFIX</th>\n",
       "      <th>SUPPORT_YEAR</th>\n",
       "      <th>DIRECT_COST_AMT</th>\n",
       "      <th>INDIRECT_COST_AMT</th>\n",
       "      <th>TOTAL_COST</th>\n",
       "      <th>TOTAL_COST_SUB_PROJECT</th>\n",
       "    </tr>\n",
       "  </thead>\n",
       "  <tbody>\n",
       "    <tr>\n",
       "      <th>0</th>\n",
       "      <td>8857469</td>\n",
       "      <td>T32</td>\n",
       "      <td>EY</td>\n",
       "      <td>5.0</td>\n",
       "      <td>N</td>\n",
       "      <td>3/23/2015</td>\n",
       "      <td>4/1/2015</td>\n",
       "      <td>12/31/2016</td>\n",
       "      <td>867</td>\n",
       "      <td>T32EY021451</td>\n",
       "      <td>...</td>\n",
       "      <td>21451</td>\n",
       "      <td>ZEY1</td>\n",
       "      <td>Special Emphasis Panel</td>\n",
       "      <td>NaN</td>\n",
       "      <td>NaN</td>\n",
       "      <td>5.0</td>\n",
       "      <td>157966.0</td>\n",
       "      <td>9717.0</td>\n",
       "      <td>152999.0</td>\n",
       "      <td>NaN</td>\n",
       "    </tr>\n",
       "    <tr>\n",
       "      <th>1</th>\n",
       "      <td>8931014</td>\n",
       "      <td>R03</td>\n",
       "      <td>HD</td>\n",
       "      <td>5.0</td>\n",
       "      <td>N</td>\n",
       "      <td>7/31/2015</td>\n",
       "      <td>9/1/2015</td>\n",
       "      <td>8/31/2016</td>\n",
       "      <td>865</td>\n",
       "      <td>R03HD079716</td>\n",
       "      <td>...</td>\n",
       "      <td>79716</td>\n",
       "      <td>CHHD</td>\n",
       "      <td>National Institute of Child Health and Human D...</td>\n",
       "      <td>NaN</td>\n",
       "      <td>NaN</td>\n",
       "      <td>2.0</td>\n",
       "      <td>48750.0</td>\n",
       "      <td>37820.0</td>\n",
       "      <td>86570.0</td>\n",
       "      <td>NaN</td>\n",
       "    </tr>\n",
       "    <tr>\n",
       "      <th>2</th>\n",
       "      <td>8849766</td>\n",
       "      <td>R37</td>\n",
       "      <td>HD</td>\n",
       "      <td>5.0</td>\n",
       "      <td>N</td>\n",
       "      <td>5/15/2015</td>\n",
       "      <td>6/1/2015</td>\n",
       "      <td>5/31/2016</td>\n",
       "      <td>865</td>\n",
       "      <td>R37HD045022</td>\n",
       "      <td>...</td>\n",
       "      <td>45022</td>\n",
       "      <td>NSS</td>\n",
       "      <td>Special Emphasis Panel</td>\n",
       "      <td>NaN</td>\n",
       "      <td>NaN</td>\n",
       "      <td>13.0</td>\n",
       "      <td>422527.0</td>\n",
       "      <td>401401.0</td>\n",
       "      <td>823928.0</td>\n",
       "      <td>NaN</td>\n",
       "    </tr>\n",
       "    <tr>\n",
       "      <th>3</th>\n",
       "      <td>8900204</td>\n",
       "      <td>U59</td>\n",
       "      <td>EH</td>\n",
       "      <td>5.0</td>\n",
       "      <td>N</td>\n",
       "      <td>8/12/2015</td>\n",
       "      <td>9/1/2015</td>\n",
       "      <td>8/31/2016</td>\n",
       "      <td>70</td>\n",
       "      <td>U59EH000524</td>\n",
       "      <td>...</td>\n",
       "      <td>524</td>\n",
       "      <td>ZEH1</td>\n",
       "      <td>Special Emphasis Panel</td>\n",
       "      <td>NaN</td>\n",
       "      <td>NaN</td>\n",
       "      <td>7.0</td>\n",
       "      <td>NaN</td>\n",
       "      <td>NaN</td>\n",
       "      <td>500000.0</td>\n",
       "      <td>NaN</td>\n",
       "    </tr>\n",
       "    <tr>\n",
       "      <th>4</th>\n",
       "      <td>8908443</td>\n",
       "      <td>F32</td>\n",
       "      <td>AI</td>\n",
       "      <td>1.0</td>\n",
       "      <td>N</td>\n",
       "      <td>1/13/2015</td>\n",
       "      <td>2/1/2015</td>\n",
       "      <td>8/1/2015</td>\n",
       "      <td>855</td>\n",
       "      <td>F32AI114190</td>\n",
       "      <td>...</td>\n",
       "      <td>114190</td>\n",
       "      <td>ZRG1</td>\n",
       "      <td>Special Emphasis Panel</td>\n",
       "      <td>NaN</td>\n",
       "      <td>A1</td>\n",
       "      <td>1.0</td>\n",
       "      <td>27097.0</td>\n",
       "      <td>NaN</td>\n",
       "      <td>27097.0</td>\n",
       "      <td>NaN</td>\n",
       "    </tr>\n",
       "  </tbody>\n",
       "</table>\n",
       "<p>5 rows × 46 columns</p>\n",
       "</div>"
      ],
      "text/plain": [
       "   APPLICATION_ID ACTIVITY ADMINISTERING_IC  APPLICATION_TYPE ARRA_FUNDED  \\\n",
       "0         8857469      T32               EY               5.0           N   \n",
       "1         8931014      R03               HD               5.0           N   \n",
       "2         8849766      R37               HD               5.0           N   \n",
       "3         8900204      U59               EH               5.0           N   \n",
       "4         8908443      F32               AI               1.0           N   \n",
       "\n",
       "  AWARD_NOTICE_DATE BUDGET_START  BUDGET_END CFDA_CODE CORE_PROJECT_NUM  ...  \\\n",
       "0         3/23/2015     4/1/2015  12/31/2016       867      T32EY021451  ...   \n",
       "1         7/31/2015     9/1/2015   8/31/2016       865      R03HD079716  ...   \n",
       "2         5/15/2015     6/1/2015   5/31/2016       865      R37HD045022  ...   \n",
       "3         8/12/2015     9/1/2015   8/31/2016        70      U59EH000524  ...   \n",
       "4         1/13/2015     2/1/2015    8/1/2015       855      F32AI114190  ...   \n",
       "\n",
       "  SERIAL_NUMBER STUDY_SECTION  \\\n",
       "0         21451          ZEY1   \n",
       "1         79716          CHHD   \n",
       "2         45022           NSS   \n",
       "3           524          ZEH1   \n",
       "4        114190          ZRG1   \n",
       "\n",
       "                                  STUDY_SECTION_NAME SUBPROJECT_ID SUFFIX  \\\n",
       "0                            Special Emphasis Panel            NaN    NaN   \n",
       "1  National Institute of Child Health and Human D...           NaN    NaN   \n",
       "2                            Special Emphasis Panel            NaN    NaN   \n",
       "3                            Special Emphasis Panel            NaN    NaN   \n",
       "4                            Special Emphasis Panel            NaN     A1   \n",
       "\n",
       "   SUPPORT_YEAR DIRECT_COST_AMT INDIRECT_COST_AMT TOTAL_COST  \\\n",
       "0           5.0        157966.0            9717.0   152999.0   \n",
       "1           2.0         48750.0           37820.0    86570.0   \n",
       "2          13.0        422527.0          401401.0   823928.0   \n",
       "3           7.0             NaN               NaN   500000.0   \n",
       "4           1.0         27097.0               NaN    27097.0   \n",
       "\n",
       "  TOTAL_COST_SUB_PROJECT  \n",
       "0                    NaN  \n",
       "1                    NaN  \n",
       "2                    NaN  \n",
       "3                    NaN  \n",
       "4                    NaN  \n",
       "\n",
       "[5 rows x 46 columns]"
      ]
     },
     "execution_count": 4,
     "metadata": {},
     "output_type": "execute_result"
    }
   ],
   "source": [
    "# Read-in a CSV file\n",
    "grants_2015 = pd.read_csv(Path + '/Projects/RePORTER_PRJ_C_FY2015_new.csv', encoding='latin-1')\n",
    "\n",
    "# View the first 5 observations \n",
    "grants_2015.head()"
   ]
  },
  {
   "cell_type": "markdown",
   "metadata": {},
   "source": [
    "### Organization Names  <a class=\"anchor\" id=\"orgs\"></a>\n",
    "We want to see how the organizations are recorded in the data\n",
    "\n",
    "First, we will select variables that will help us understand better how organizations are recorded in the data and then look at the data."
   ]
  },
  {
   "cell_type": "code",
   "execution_count": 5,
   "metadata": {
    "scrolled": false
   },
   "outputs": [
    {
     "data": {
      "text/html": [
       "<div>\n",
       "<style scoped>\n",
       "    .dataframe tbody tr th:only-of-type {\n",
       "        vertical-align: middle;\n",
       "    }\n",
       "\n",
       "    .dataframe tbody tr th {\n",
       "        vertical-align: top;\n",
       "    }\n",
       "\n",
       "    .dataframe thead th {\n",
       "        text-align: right;\n",
       "    }\n",
       "</style>\n",
       "<table border=\"1\" class=\"dataframe\">\n",
       "  <thead>\n",
       "    <tr style=\"text-align: right;\">\n",
       "      <th></th>\n",
       "      <th>APPLICATION_ID</th>\n",
       "      <th>ORG_DUNS</th>\n",
       "      <th>ORG_IPF_CODE</th>\n",
       "      <th>ORG_NAME</th>\n",
       "      <th>ORG_STATE</th>\n",
       "    </tr>\n",
       "  </thead>\n",
       "  <tbody>\n",
       "    <tr>\n",
       "      <th>0</th>\n",
       "      <td>8857469</td>\n",
       "      <td>42250712</td>\n",
       "      <td>6463801.0</td>\n",
       "      <td>UNIVERSITY OF PENNSYLVANIA</td>\n",
       "      <td>PA</td>\n",
       "    </tr>\n",
       "    <tr>\n",
       "      <th>1</th>\n",
       "      <td>8931014</td>\n",
       "      <td>4868105</td>\n",
       "      <td>6939101.0</td>\n",
       "      <td>RESEARCH TRIANGLE INSTITUTE</td>\n",
       "      <td>NC</td>\n",
       "    </tr>\n",
       "    <tr>\n",
       "      <th>2</th>\n",
       "      <td>8849766</td>\n",
       "      <td>120989983</td>\n",
       "      <td>1742101.0</td>\n",
       "      <td>WHITEHEAD INSTITUTE FOR BIOMEDICAL RES</td>\n",
       "      <td>MA</td>\n",
       "    </tr>\n",
       "    <tr>\n",
       "      <th>3</th>\n",
       "      <td>8900204</td>\n",
       "      <td>929922664</td>\n",
       "      <td>6963501.0</td>\n",
       "      <td>RHODE ISLAND STATE DEPT OF HEALTH</td>\n",
       "      <td>RI</td>\n",
       "    </tr>\n",
       "    <tr>\n",
       "      <th>4</th>\n",
       "      <td>8908443</td>\n",
       "      <td>804355790</td>\n",
       "      <td>577507.0</td>\n",
       "      <td>UNIVERSITY OF CALIFORNIA, SAN DIEGO</td>\n",
       "      <td>CA</td>\n",
       "    </tr>\n",
       "  </tbody>\n",
       "</table>\n",
       "</div>"
      ],
      "text/plain": [
       "   APPLICATION_ID   ORG_DUNS  ORG_IPF_CODE  \\\n",
       "0         8857469   42250712     6463801.0   \n",
       "1         8931014    4868105     6939101.0   \n",
       "2         8849766  120989983     1742101.0   \n",
       "3         8900204  929922664     6963501.0   \n",
       "4         8908443  804355790      577507.0   \n",
       "\n",
       "                                 ORG_NAME ORG_STATE  \n",
       "0              UNIVERSITY OF PENNSYLVANIA        PA  \n",
       "1             RESEARCH TRIANGLE INSTITUTE        NC  \n",
       "2  WHITEHEAD INSTITUTE FOR BIOMEDICAL RES        MA  \n",
       "3       RHODE ISLAND STATE DEPT OF HEALTH        RI  \n",
       "4     UNIVERSITY OF CALIFORNIA, SAN DIEGO        CA  "
      ]
     },
     "execution_count": 5,
     "metadata": {},
     "output_type": "execute_result"
    }
   ],
   "source": [
    "#View the first 5 observations for select varables \n",
    "grants_2015[['APPLICATION_ID', 'ORG_DUNS', 'ORG_IPF_CODE', 'ORG_NAME', 'ORG_STATE']].head(5)"
   ]
  },
  {
   "cell_type": "markdown",
   "metadata": {},
   "source": [
    "#### Subsetting string\n",
    "We will subset the grants_2015 for projects from NYU\n",
    "   - In order to use the str.contains function, we first need to convert the `ORG_NAME` variable into a string"
   ]
  },
  {
   "cell_type": "code",
   "execution_count": 6,
   "metadata": {
    "scrolled": true
   },
   "outputs": [
    {
     "data": {
      "text/plain": [
       "0     UNIVERSITY OF PENNSYLVANIA\n",
       "1    RESEARCH TRIANGLE INSTITUTE\n",
       "Name: ORG_NAME, dtype: object"
      ]
     },
     "execution_count": 6,
     "metadata": {},
     "output_type": "execute_result"
    }
   ],
   "source": [
    "# Convert ORG_NAME into a string variable # 将 ORG_NAME 转换为字符串变量\n",
    "grants_2015['ORG_NAME'] = grants_2015['ORG_NAME'].astype(str)\n",
    "grants_2015['ORG_NAME'].head(2)"
   ]
  },
  {
   "cell_type": "code",
   "execution_count": 7,
   "metadata": {
    "scrolled": true
   },
   "outputs": [
    {
     "data": {
      "text/html": [
       "<div>\n",
       "<style scoped>\n",
       "    .dataframe tbody tr th:only-of-type {\n",
       "        vertical-align: middle;\n",
       "    }\n",
       "\n",
       "    .dataframe tbody tr th {\n",
       "        vertical-align: top;\n",
       "    }\n",
       "\n",
       "    .dataframe thead th {\n",
       "        text-align: right;\n",
       "    }\n",
       "</style>\n",
       "<table border=\"1\" class=\"dataframe\">\n",
       "  <thead>\n",
       "    <tr style=\"text-align: right;\">\n",
       "      <th></th>\n",
       "      <th>APPLICATION_ID</th>\n",
       "      <th>ACTIVITY</th>\n",
       "      <th>ADMINISTERING_IC</th>\n",
       "      <th>APPLICATION_TYPE</th>\n",
       "      <th>ARRA_FUNDED</th>\n",
       "      <th>AWARD_NOTICE_DATE</th>\n",
       "      <th>BUDGET_START</th>\n",
       "      <th>BUDGET_END</th>\n",
       "      <th>CFDA_CODE</th>\n",
       "      <th>CORE_PROJECT_NUM</th>\n",
       "      <th>...</th>\n",
       "      <th>SERIAL_NUMBER</th>\n",
       "      <th>STUDY_SECTION</th>\n",
       "      <th>STUDY_SECTION_NAME</th>\n",
       "      <th>SUBPROJECT_ID</th>\n",
       "      <th>SUFFIX</th>\n",
       "      <th>SUPPORT_YEAR</th>\n",
       "      <th>DIRECT_COST_AMT</th>\n",
       "      <th>INDIRECT_COST_AMT</th>\n",
       "      <th>TOTAL_COST</th>\n",
       "      <th>TOTAL_COST_SUB_PROJECT</th>\n",
       "    </tr>\n",
       "  </thead>\n",
       "  <tbody>\n",
       "    <tr>\n",
       "      <th>18</th>\n",
       "      <td>8844008</td>\n",
       "      <td>R13</td>\n",
       "      <td>HS</td>\n",
       "      <td>1.0</td>\n",
       "      <td>N</td>\n",
       "      <td>2/25/2015</td>\n",
       "      <td>8/1/2015</td>\n",
       "      <td>7/31/2016</td>\n",
       "      <td>226</td>\n",
       "      <td>R13HS022520</td>\n",
       "      <td>...</td>\n",
       "      <td>22520</td>\n",
       "      <td>ZHS1</td>\n",
       "      <td>Special Emphasis Panel</td>\n",
       "      <td>NaN</td>\n",
       "      <td>A1</td>\n",
       "      <td>1.0</td>\n",
       "      <td>NaN</td>\n",
       "      <td>NaN</td>\n",
       "      <td>34950.0</td>\n",
       "      <td>NaN</td>\n",
       "    </tr>\n",
       "    <tr>\n",
       "      <th>180</th>\n",
       "      <td>8843273</td>\n",
       "      <td>T32</td>\n",
       "      <td>HD</td>\n",
       "      <td>5.0</td>\n",
       "      <td>N</td>\n",
       "      <td>4/29/2015</td>\n",
       "      <td>5/1/2015</td>\n",
       "      <td>4/30/2016</td>\n",
       "      <td>865</td>\n",
       "      <td>T32HD007520</td>\n",
       "      <td>...</td>\n",
       "      <td>7520</td>\n",
       "      <td>ZHD1</td>\n",
       "      <td>Special Emphasis Panel</td>\n",
       "      <td>NaN</td>\n",
       "      <td>NaN</td>\n",
       "      <td>17.0</td>\n",
       "      <td>174480.0</td>\n",
       "      <td>8838.0</td>\n",
       "      <td>151340.0</td>\n",
       "      <td>NaN</td>\n",
       "    </tr>\n",
       "  </tbody>\n",
       "</table>\n",
       "<p>2 rows × 46 columns</p>\n",
       "</div>"
      ],
      "text/plain": [
       "     APPLICATION_ID ACTIVITY ADMINISTERING_IC  APPLICATION_TYPE ARRA_FUNDED  \\\n",
       "18          8844008      R13               HS               1.0           N   \n",
       "180         8843273      T32               HD               5.0           N   \n",
       "\n",
       "    AWARD_NOTICE_DATE BUDGET_START BUDGET_END CFDA_CODE CORE_PROJECT_NUM  ...  \\\n",
       "18          2/25/2015     8/1/2015  7/31/2016       226      R13HS022520  ...   \n",
       "180         4/29/2015     5/1/2015  4/30/2016       865      T32HD007520  ...   \n",
       "\n",
       "    SERIAL_NUMBER STUDY_SECTION       STUDY_SECTION_NAME SUBPROJECT_ID SUFFIX  \\\n",
       "18          22520          ZHS1  Special Emphasis Panel            NaN     A1   \n",
       "180          7520          ZHD1  Special Emphasis Panel            NaN    NaN   \n",
       "\n",
       "     SUPPORT_YEAR DIRECT_COST_AMT INDIRECT_COST_AMT TOTAL_COST  \\\n",
       "18            1.0             NaN               NaN    34950.0   \n",
       "180          17.0        174480.0            8838.0   151340.0   \n",
       "\n",
       "    TOTAL_COST_SUB_PROJECT  \n",
       "18                     NaN  \n",
       "180                    NaN  \n",
       "\n",
       "[2 rows x 46 columns]"
      ]
     },
     "execution_count": 7,
     "metadata": {},
     "output_type": "execute_result"
    }
   ],
   "source": [
    "# Subsetting by a keyword in a string using str.contains()使用 str.contains() 通过字符串中的关键字进行子集化\n",
    "# Select all observations that have \"NEW YORK UNIVERSITY\" in the organization name.选择组织名称中包含“纽约大学”的所有观察结果。\n",
    "df_NYU = grants_2015[grants_2015['ORG_NAME'].str.contains('NEW YORK UNIVERSITY', na = False)]\n",
    "\n",
    "\n",
    "# View the first 2 observations \n",
    "df_NYU.head(2)"
   ]
  },
  {
   "cell_type": "code",
   "execution_count": 8,
   "metadata": {},
   "outputs": [
    {
     "data": {
      "text/html": [
       "<div>\n",
       "<style scoped>\n",
       "    .dataframe tbody tr th:only-of-type {\n",
       "        vertical-align: middle;\n",
       "    }\n",
       "\n",
       "    .dataframe tbody tr th {\n",
       "        vertical-align: top;\n",
       "    }\n",
       "\n",
       "    .dataframe thead th {\n",
       "        text-align: right;\n",
       "    }\n",
       "</style>\n",
       "<table border=\"1\" class=\"dataframe\">\n",
       "  <thead>\n",
       "    <tr style=\"text-align: right;\">\n",
       "      <th></th>\n",
       "      <th>APPLICATION_ID</th>\n",
       "      <th>ORG_DUNS</th>\n",
       "      <th>ORG_IPF_CODE</th>\n",
       "      <th>ORG_NAME</th>\n",
       "      <th>ORG_STATE</th>\n",
       "    </tr>\n",
       "  </thead>\n",
       "  <tbody>\n",
       "    <tr>\n",
       "      <th>18</th>\n",
       "      <td>8844008</td>\n",
       "      <td>41968306</td>\n",
       "      <td>5998301.0</td>\n",
       "      <td>NEW YORK UNIVERSITY</td>\n",
       "      <td>NY</td>\n",
       "    </tr>\n",
       "    <tr>\n",
       "      <th>180</th>\n",
       "      <td>8843273</td>\n",
       "      <td>121911077</td>\n",
       "      <td>5998304.0</td>\n",
       "      <td>NEW YORK UNIVERSITY SCHOOL OF MEDICINE</td>\n",
       "      <td>NY</td>\n",
       "    </tr>\n",
       "    <tr>\n",
       "      <th>301</th>\n",
       "      <td>8926934</td>\n",
       "      <td>41968306</td>\n",
       "      <td>5998301.0</td>\n",
       "      <td>NEW YORK UNIVERSITY</td>\n",
       "      <td>NY</td>\n",
       "    </tr>\n",
       "    <tr>\n",
       "      <th>361</th>\n",
       "      <td>9001539</td>\n",
       "      <td>121911077</td>\n",
       "      <td>5998304.0</td>\n",
       "      <td>NEW YORK UNIVERSITY SCHOOL OF MEDICINE</td>\n",
       "      <td>NY</td>\n",
       "    </tr>\n",
       "    <tr>\n",
       "      <th>390</th>\n",
       "      <td>8820075</td>\n",
       "      <td>41968306</td>\n",
       "      <td>5998301.0</td>\n",
       "      <td>NEW YORK UNIVERSITY</td>\n",
       "      <td>NY</td>\n",
       "    </tr>\n",
       "  </tbody>\n",
       "</table>\n",
       "</div>"
      ],
      "text/plain": [
       "     APPLICATION_ID   ORG_DUNS  ORG_IPF_CODE  \\\n",
       "18          8844008   41968306     5998301.0   \n",
       "180         8843273  121911077     5998304.0   \n",
       "301         8926934   41968306     5998301.0   \n",
       "361         9001539  121911077     5998304.0   \n",
       "390         8820075   41968306     5998301.0   \n",
       "\n",
       "                                   ORG_NAME ORG_STATE  \n",
       "18                      NEW YORK UNIVERSITY        NY  \n",
       "180  NEW YORK UNIVERSITY SCHOOL OF MEDICINE        NY  \n",
       "301                     NEW YORK UNIVERSITY        NY  \n",
       "361  NEW YORK UNIVERSITY SCHOOL OF MEDICINE        NY  \n",
       "390                     NEW YORK UNIVERSITY        NY  "
      ]
     },
     "execution_count": 8,
     "metadata": {},
     "output_type": "execute_result"
    }
   ],
   "source": [
    "# View the first 5 observations of select variables\n",
    "df_NYU[['APPLICATION_ID', 'ORG_DUNS', 'ORG_IPF_CODE', 'ORG_NAME', 'ORG_STATE']].head(5)"
   ]
  },
  {
   "cell_type": "markdown",
   "metadata": {},
   "source": [
    "As you can see NEW YORK UNIVERSITY and NEW YORK UNIVERSITY SCHOOL OF MEDICINE are considered different organizations in this data. Depending on your research question, it might be more appropriate to consider them as the same organization. You will find many organizations exhibit simular patterns, so you need to be thoughtful as to what you consider to be a single organization in your research projects. \n",
    "\n",
    "We will group ORG_NAME to get the number of Projects that were awarded for each. This will allow us to see the names of all ORG_NAMEs that have \"NEW YORK UNIVERSITY\" in its name. In this case there are only 2, but some organizations have more then two ORG_NAMEs which might not all displayed using the head command, so you need to be careful.\n",
    "\n",
    "如您所见，纽约大学和纽约大学医学院在该数据中被视为不同的组织。 根据您的研究问题，将它们视为同一组织可能更合适。 您会发现许多组织都表现出相似的模式，因此您需要仔细考虑在您的研究项目中您认为什么是单一组织。\n",
    "\n",
    "我们将对 ORG_NAME 进行分组，以获得为每个组织授予的项目数。 这将使我们能够看到名称中包含“NEW YORK UNIVERSITY”的所有 ORG_NAME 的名称。 在这种情况下只有 2 个，但有些组织有两个以上的 ORG_NAME，使用 head 命令可能不会全部显示，因此您需要小心。"
   ]
  },
  {
   "cell_type": "code",
   "execution_count": 9,
   "metadata": {
    "scrolled": false
   },
   "outputs": [
    {
     "data": {
      "text/plain": [
       "ORG_NAME\n",
       "NEW YORK UNIVERSITY SCHOOL OF MEDICINE    501\n",
       "NEW YORK UNIVERSITY                       153\n",
       "Name: APPLICATION_ID, dtype: int64"
      ]
     },
     "execution_count": 9,
     "metadata": {},
     "output_type": "execute_result"
    }
   ],
   "source": [
    "# calculate how many projects (unique application ids) that were awarded by each ORG_NAME \n",
    "# 计算每个 ORG_NAME 授予的项目数（唯一应用程序 ID）\n",
    "# df_NYU.groupby('ORG_NAME') 将 df_NYU DataFrame 中的行按 'ORG_NAME' 列中的唯一值分组，创建了一个 DataFrameGroupBy 对象。\n",
    "## ['APPLICATION_ID'] 从每个组中选择了 'APPLICATION_ID' 列。\n",
    "##.nunique() 对每个组的 'APPLICATION_ID' 列应用了 nunique() 方法，计算了该列中每个组的唯一值的数量。\n",
    "##.sort_values(ascending=False) 按降序排序了结果中唯一值的 Series（即从高到低），以便具有最多唯一 'APPLICATION_ID' 值的组首先出现在输出中。\n",
    "##因此，该代码生成了一个 Pandas Series，显示了 df_NYU DataFrame 中每个组织的唯一 'APPLICATION_ID' 值的数量，按照唯一 'APPLICATION_ID' 值的计数的降序排序。这对于识别 df_NYU 中具有最多不同项目/申请的组织非常有用。\n",
    "df_NYU.groupby('ORG_NAME')['APPLICATION_ID'].nunique().sort_values(ascending=False)"
   ]
  },
  {
   "cell_type": "markdown",
   "metadata": {},
   "source": [
    "#### Replace ORG_NAME \n",
    "For the purpose of this notebook, we will treat both NEW YORK UNIVERSITY and NEW YORK UNIVERSITY SCHOOL OF MEDICINE\tas the same organization.\n",
    "\n",
    "We will create a list of possible names for NEW YORK UNIVERSITY and then replace all Org names in that list with 'NEW YORK UNIVERSITY'.\n"
   ]
  },
  {
   "cell_type": "code",
   "execution_count": 10,
   "metadata": {},
   "outputs": [
    {
     "data": {
      "text/plain": [
       "ORG_NAME\n",
       "NEW YORK UNIVERSITY    654\n",
       "Name: APPLICATION_ID, dtype: int64"
      ]
     },
     "execution_count": 10,
     "metadata": {},
     "output_type": "execute_result"
    }
   ],
   "source": [
    "# Save a list of possible names for the organization (NYU in this case)\n",
    "possible_NYU_names = ['NEW YORK UNIVERSITY', 'NEW YORK UNIVERSITY SCHOOL OF MEDICINE']\n",
    "\n",
    "# Replace any instance you see a string in the list of possible_org_names with 'NEW YORK UNIVERSITY'\n",
    "df_NYU = df_NYU.replace(possible_NYU_names, 'NEW YORK UNIVERSITY')\n",
    "\n",
    "# recalculate how many projects that were awarded by each ORG_NAME\n",
    "df_NYU.groupby('ORG_NAME')['APPLICATION_ID'].nunique().sort_values(ascending=False)"
   ]
  },
  {
   "cell_type": "markdown",
   "metadata": {},
   "source": [
    "In your projects, you can create a list like we did for NYU, for each group of ORG_NAMEs you want to consolidate into a single organization. Then use the `replace` function for each of your created lists. "
   ]
  },
  {
   "cell_type": "markdown",
   "metadata": {},
   "source": [
    "## PI Names <a class=\"anchor\" id=\"pi_names\"></a>\n",
    "Recall our goal is to develop an analytic dataframe that we can link to the `DF_2017` data, linking on PI_NAME. To do this, we need to understand how the PI names are recorded. \n",
    "- We will begin by counting the number of projects for each of the unique `PI_NAMEs`. We will then carefully examine the `PI_NAMEs` in the output."
   ]
  },
  {
   "cell_type": "code",
   "execution_count": 11,
   "metadata": {
    "scrolled": true
   },
   "outputs": [
    {
     "data": {
      "text/html": [
       "<div>\n",
       "<style scoped>\n",
       "    .dataframe tbody tr th:only-of-type {\n",
       "        vertical-align: middle;\n",
       "    }\n",
       "\n",
       "    .dataframe tbody tr th {\n",
       "        vertical-align: top;\n",
       "    }\n",
       "\n",
       "    .dataframe thead th {\n",
       "        text-align: right;\n",
       "    }\n",
       "</style>\n",
       "<table border=\"1\" class=\"dataframe\">\n",
       "  <thead>\n",
       "    <tr style=\"text-align: right;\">\n",
       "      <th></th>\n",
       "      <th>PI_NAMEs</th>\n",
       "      <th>PI_IDS</th>\n",
       "      <th>APPLICATION_ID</th>\n",
       "    </tr>\n",
       "  </thead>\n",
       "  <tbody>\n",
       "    <tr>\n",
       "      <th>0</th>\n",
       "      <td>CARROLL, WILLIAM L.;</td>\n",
       "      <td>1897735;</td>\n",
       "      <td>27</td>\n",
       "    </tr>\n",
       "    <tr>\n",
       "      <th>1</th>\n",
       "      <td>COSTA, MAX ;</td>\n",
       "      <td>1884428;</td>\n",
       "      <td>11</td>\n",
       "    </tr>\n",
       "    <tr>\n",
       "      <th>2</th>\n",
       "      <td>MOVSHON, J ANTHONY;</td>\n",
       "      <td>1965976;</td>\n",
       "      <td>6</td>\n",
       "    </tr>\n",
       "    <tr>\n",
       "      <th>3</th>\n",
       "      <td>RUDY, BERNARDO ;</td>\n",
       "      <td>1867106;</td>\n",
       "      <td>5</td>\n",
       "    </tr>\n",
       "    <tr>\n",
       "      <th>4</th>\n",
       "      <td>WISNIEWSKI, THOMAS M;</td>\n",
       "      <td>1866058;</td>\n",
       "      <td>5</td>\n",
       "    </tr>\n",
       "    <tr>\n",
       "      <th>5</th>\n",
       "      <td>FISHELL, GORDON J;</td>\n",
       "      <td>1899280;</td>\n",
       "      <td>5</td>\n",
       "    </tr>\n",
       "    <tr>\n",
       "      <th>6</th>\n",
       "      <td>WU, XUE-RU ;</td>\n",
       "      <td>6115649;</td>\n",
       "      <td>4</td>\n",
       "    </tr>\n",
       "    <tr>\n",
       "      <th>7</th>\n",
       "      <td>OGEDEGBE, OLUGBENGA G. (contact); WILLIAMS, OL...</td>\n",
       "      <td>2667413 (contact); 8840097;</td>\n",
       "      <td>4</td>\n",
       "    </tr>\n",
       "    <tr>\n",
       "      <th>8</th>\n",
       "      <td>DESPLAN, CLAUDE ;</td>\n",
       "      <td>2452885;</td>\n",
       "      <td>4</td>\n",
       "    </tr>\n",
       "    <tr>\n",
       "      <th>9</th>\n",
       "      <td>NEEL, BENJAMIN G.;</td>\n",
       "      <td>1863874;</td>\n",
       "      <td>4</td>\n",
       "    </tr>\n",
       "  </tbody>\n",
       "</table>\n",
       "</div>"
      ],
      "text/plain": [
       "                                            PI_NAMEs  \\\n",
       "0                               CARROLL, WILLIAM L.;   \n",
       "1                                       COSTA, MAX ;   \n",
       "2                                MOVSHON, J ANTHONY;   \n",
       "3                                   RUDY, BERNARDO ;   \n",
       "4                              WISNIEWSKI, THOMAS M;   \n",
       "5                                 FISHELL, GORDON J;   \n",
       "6                                       WU, XUE-RU ;   \n",
       "7  OGEDEGBE, OLUGBENGA G. (contact); WILLIAMS, OL...   \n",
       "8                                  DESPLAN, CLAUDE ;   \n",
       "9                                 NEEL, BENJAMIN G.;   \n",
       "\n",
       "                         PI_IDS  APPLICATION_ID  \n",
       "0                     1897735;               27  \n",
       "1                     1884428;               11  \n",
       "2                     1965976;                6  \n",
       "3                     1867106;                5  \n",
       "4                     1866058;                5  \n",
       "5                     1899280;                5  \n",
       "6                     6115649;                4  \n",
       "7  2667413 (contact); 8840097;                4  \n",
       "8                     2452885;                4  \n",
       "9                     1863874;                4  "
      ]
     },
     "execution_count": 11,
     "metadata": {},
     "output_type": "execute_result"
    }
   ],
   "source": [
    "# Calculate how many Projects each unique observation for PI_NAMEs has\n",
    "df_NYU_CI = df_NYU.groupby(['PI_NAMEs','PI_IDS'])['APPLICATION_ID'].nunique().sort_values(ascending=False).to_frame().reset_index()\n",
    "\n",
    "# View the first 10 observations\n",
    "df_NYU_CI.head(10)"
   ]
  },
  {
   "cell_type": "markdown",
   "metadata": {},
   "source": [
    "As you can see from the output in row seven above (or if you read the codebook), sometimes more than one PI exists in an award. Thus we cannot treat each unique value recorded as the PI_NAMEs as a unique PI. We will look at all of the projects OGEDEGBE, OLUGBENGA G is a PI on, to exemplify this further."
   ]
  },
  {
   "cell_type": "code",
   "execution_count": 12,
   "metadata": {
    "scrolled": true
   },
   "outputs": [
    {
     "name": "stderr",
     "output_type": "stream",
     "text": [
      "/var/folders/rl/4_s3mzkj6ll5h2_4qxy9sftw0000gn/T/ipykernel_15654/1312624811.py:2: FutureWarning: Passing a negative integer is deprecated in version 1.0 and will not be supported in future version. Instead, use None to not limit the column width.\n",
      "  pd.set_option('display.max_colwidth', -1)\n"
     ]
    },
    {
     "data": {
      "text/html": [
       "<div>\n",
       "<style scoped>\n",
       "    .dataframe tbody tr th:only-of-type {\n",
       "        vertical-align: middle;\n",
       "    }\n",
       "\n",
       "    .dataframe tbody tr th {\n",
       "        vertical-align: top;\n",
       "    }\n",
       "\n",
       "    .dataframe thead th {\n",
       "        text-align: right;\n",
       "    }\n",
       "</style>\n",
       "<table border=\"1\" class=\"dataframe\">\n",
       "  <thead>\n",
       "    <tr style=\"text-align: right;\">\n",
       "      <th></th>\n",
       "      <th>PI_NAMEs</th>\n",
       "      <th>PI_IDS</th>\n",
       "      <th>APPLICATION_ID</th>\n",
       "    </tr>\n",
       "  </thead>\n",
       "  <tbody>\n",
       "    <tr>\n",
       "      <th>7</th>\n",
       "      <td>OGEDEGBE, OLUGBENGA G. (contact); WILLIAMS, OLAJIDE ;</td>\n",
       "      <td>2667413 (contact); 8840097;</td>\n",
       "      <td>4</td>\n",
       "    </tr>\n",
       "    <tr>\n",
       "      <th>70</th>\n",
       "      <td>OGEDEGBE, OLUGBENGA G.;</td>\n",
       "      <td>2667413;</td>\n",
       "      <td>2</td>\n",
       "    </tr>\n",
       "    <tr>\n",
       "      <th>79</th>\n",
       "      <td>JEAN-LOUIS, GIRARDIN  (contact); OGEDEGBE, OLUGBENGA G.;</td>\n",
       "      <td>1873301 (contact); 2667413;</td>\n",
       "      <td>2</td>\n",
       "    </tr>\n",
       "    <tr>\n",
       "      <th>148</th>\n",
       "      <td>OGEDEGBE, OLUGBENGA G.; WALL, STEPHEN P (contact);</td>\n",
       "      <td>2667413; 7897936 (contact);</td>\n",
       "      <td>1</td>\n",
       "    </tr>\n",
       "    <tr>\n",
       "      <th>321</th>\n",
       "      <td>AMOAH, ALBERT GEORGE BAIDOE; BINKA, FRED NEWTON; COOPER, RICHARD STANLEY; OGEDEGBE, OLUGBENGA G. (contact);</td>\n",
       "      <td>10720990; 10523236; 8225116; 2667413 (contact);</td>\n",
       "      <td>1</td>\n",
       "    </tr>\n",
       "    <tr>\n",
       "      <th>441</th>\n",
       "      <td>JEAN-LOUIS, GIRARDIN  (contact); OGEDEGBE, OLUGBENGA G.; WATKINS, BEVERLY-XAVIERA ;</td>\n",
       "      <td>1873301 (contact); 2667413; 7062916;</td>\n",
       "      <td>1</td>\n",
       "    </tr>\n",
       "  </tbody>\n",
       "</table>\n",
       "</div>"
      ],
      "text/plain": [
       "                                                                                                        PI_NAMEs  \\\n",
       "7    OGEDEGBE, OLUGBENGA G. (contact); WILLIAMS, OLAJIDE ;                                                         \n",
       "70   OGEDEGBE, OLUGBENGA G.;                                                                                       \n",
       "79   JEAN-LOUIS, GIRARDIN  (contact); OGEDEGBE, OLUGBENGA G.;                                                      \n",
       "148  OGEDEGBE, OLUGBENGA G.; WALL, STEPHEN P (contact);                                                            \n",
       "321  AMOAH, ALBERT GEORGE BAIDOE; BINKA, FRED NEWTON; COOPER, RICHARD STANLEY; OGEDEGBE, OLUGBENGA G. (contact);   \n",
       "441  JEAN-LOUIS, GIRARDIN  (contact); OGEDEGBE, OLUGBENGA G.; WATKINS, BEVERLY-XAVIERA ;                           \n",
       "\n",
       "                                               PI_IDS  APPLICATION_ID  \n",
       "7    2667413 (contact); 8840097;                       4               \n",
       "70   2667413;                                          2               \n",
       "79   1873301 (contact); 2667413;                       2               \n",
       "148  2667413; 7897936 (contact);                       1               \n",
       "321  10720990; 10523236; 8225116; 2667413 (contact);   1               \n",
       "441  1873301 (contact); 2667413; 7062916;              1               "
      ]
     },
     "execution_count": 12,
     "metadata": {},
     "output_type": "execute_result"
    }
   ],
   "source": [
    "# Show full text in a cell\n",
    "pd.set_option('display.max_colwidth', -1)\n",
    "\n",
    "# Show all PI_NAMEs which contain name \"OLUGBENGA\"\n",
    "df_NYU_CI[df_NYU_CI['PI_NAMEs'].str.contains('OLUGBENGA', na = False)]\n"
   ]
  },
  {
   "cell_type": "markdown",
   "metadata": {},
   "source": [
    "As you can see OGEDEGBE, OLUGBENGA G was a PI on 11 projects, not just the two projects that are associated with the string that only contains his name"
   ]
  },
  {
   "cell_type": "markdown",
   "metadata": {},
   "source": [
    "### Cleaning PI Names <a class=\"anchor\" id=\"clean_names\"></a>\n",
    "To clean the PI names, we will split up the names when more than one is recorded and then create a new column with a single PI for each observation.\n",
    "为了清理 PI 名称，我们将在记录多个名称时拆分名称，然后为每个观察创建一个包含单个 PI 的新列。"
   ]
  },
  {
   "cell_type": "markdown",
   "metadata": {},
   "source": [
    "#### Transform each element of a list-like to a row, replicating index values\n",
    "#### 将类似列表的每个元素转换为一行，复制索引值\n",
    "We will create a temporary dataframe with an index number and a single PI name for each observation. The index number will be repeated for each PI that is split up from a list of PIs in the PI_NAMEs variable.我们将为每个观察创建一个带有索引号和单个 PI 名称的临时数据框。 对于从 PI_NAMEs 变量中的 PI 列表中拆分出来的每个 PI，将重复索引号。\n",
    "- We will use the str.split function to split up the PI names, so we first need to convert PI_NAMEs into a string variable\n",
    "- We will then use the `str.split` function to separate the list of names into a different element for each PI. We are splitting the string at each `;` \n",
    "- We use the `explode` function to transform each element into a row, replicating index values\n",
    "- 我们将使用 str.split 函数拆分 PI 名称，因此我们首先需要将 PI_NAMEs 转换为字符串变量\n",
    "- 然后我们将使用 `str.split` 函数将名称列表分成每个 PI 的不同元素。 我们在每个 `;` 处拆分字符串\n",
    "- 我们使用 `explode` 函数将每个元素转换成一行，复制索引值"
   ]
  },
  {
   "cell_type": "code",
   "execution_count": 13,
   "metadata": {},
   "outputs": [],
   "source": [
    "# First we need to convert ORG_NAME into a string variable\n",
    "df_NYU['PI_NAMEs'] = df_NYU['PI_NAMEs'].astype(str)"
   ]
  },
  {
   "cell_type": "code",
   "execution_count": 14,
   "metadata": {
    "scrolled": true
   },
   "outputs": [
    {
     "data": {
      "text/html": [
       "<div>\n",
       "<style scoped>\n",
       "    .dataframe tbody tr th:only-of-type {\n",
       "        vertical-align: middle;\n",
       "    }\n",
       "\n",
       "    .dataframe tbody tr th {\n",
       "        vertical-align: top;\n",
       "    }\n",
       "\n",
       "    .dataframe thead th {\n",
       "        text-align: right;\n",
       "    }\n",
       "</style>\n",
       "<table border=\"1\" class=\"dataframe\">\n",
       "  <thead>\n",
       "    <tr style=\"text-align: right;\">\n",
       "      <th></th>\n",
       "      <th>index</th>\n",
       "      <th>PI_NAME</th>\n",
       "    </tr>\n",
       "  </thead>\n",
       "  <tbody>\n",
       "    <tr>\n",
       "      <th>0</th>\n",
       "      <td>18</td>\n",
       "      <td>CIOTOLI, CARLO</td>\n",
       "    </tr>\n",
       "    <tr>\n",
       "      <th>1</th>\n",
       "      <td>18</td>\n",
       "      <td></td>\n",
       "    </tr>\n",
       "    <tr>\n",
       "      <th>2</th>\n",
       "      <td>180</td>\n",
       "      <td>TREISMAN, JESSICA E</td>\n",
       "    </tr>\n",
       "    <tr>\n",
       "      <th>3</th>\n",
       "      <td>180</td>\n",
       "      <td></td>\n",
       "    </tr>\n",
       "    <tr>\n",
       "      <th>4</th>\n",
       "      <td>301</td>\n",
       "      <td>DAW, NATHANIEL DOUGLASS (contact)</td>\n",
       "    </tr>\n",
       "  </tbody>\n",
       "</table>\n",
       "</div>"
      ],
      "text/plain": [
       "   index                            PI_NAME\n",
       "0  18     CIOTOLI, CARLO                   \n",
       "1  18                                      \n",
       "2  180    TREISMAN, JESSICA E              \n",
       "3  180                                     \n",
       "4  301    DAW, NATHANIEL DOUGLASS (contact)"
      ]
     },
     "execution_count": 14,
     "metadata": {},
     "output_type": "execute_result"
    }
   ],
   "source": [
    "# Make a temperary dataframe that creates an observation for each PI. \n",
    "# Use the explode function to split the PI_Names at the ;\n",
    "# 制作一个临时数据框，为每个 PI 创建一个观察。\n",
    "# 使用 explode 函数在 ; 处拆分 Names\n",
    "temp = df_NYU['PI_NAMEs'].str.split(';').explode().reset_index()\n",
    "\n",
    "# Rename the PI_NAMEs variable\n",
    "temp = temp.rename(columns = {'PI_NAMEs': 'PI_NAME'})\n",
    "\n",
    "# look at the first 5 observations\n",
    "temp.head()"
   ]
  },
  {
   "cell_type": "markdown",
   "metadata": {},
   "source": [
    "#### Remove observations with empty strings \n",
    "Because we split the PI_NAMEs using a `;`, and there is a `;` at the end of every PI (even those without a name proceeding it in the string), we created many observations with an empty string for PI_NAME. We will proceed with removing the empty string."
   ]
  },
  {
   "cell_type": "code",
   "execution_count": 15,
   "metadata": {
    "scrolled": false
   },
   "outputs": [
    {
     "data": {
      "text/html": [
       "<div>\n",
       "<style scoped>\n",
       "    .dataframe tbody tr th:only-of-type {\n",
       "        vertical-align: middle;\n",
       "    }\n",
       "\n",
       "    .dataframe tbody tr th {\n",
       "        vertical-align: top;\n",
       "    }\n",
       "\n",
       "    .dataframe thead th {\n",
       "        text-align: right;\n",
       "    }\n",
       "</style>\n",
       "<table border=\"1\" class=\"dataframe\">\n",
       "  <thead>\n",
       "    <tr style=\"text-align: right;\">\n",
       "      <th></th>\n",
       "      <th>index</th>\n",
       "      <th>PI_NAME</th>\n",
       "    </tr>\n",
       "  </thead>\n",
       "  <tbody>\n",
       "    <tr>\n",
       "      <th>0</th>\n",
       "      <td>18</td>\n",
       "      <td>CIOTOLI, CARLO</td>\n",
       "    </tr>\n",
       "    <tr>\n",
       "      <th>2</th>\n",
       "      <td>180</td>\n",
       "      <td>TREISMAN, JESSICA E</td>\n",
       "    </tr>\n",
       "    <tr>\n",
       "      <th>4</th>\n",
       "      <td>301</td>\n",
       "      <td>DAW, NATHANIEL DOUGLASS (contact)</td>\n",
       "    </tr>\n",
       "    <tr>\n",
       "      <th>5</th>\n",
       "      <td>301</td>\n",
       "      <td>SHOHAMY, DAPHNA</td>\n",
       "    </tr>\n",
       "  </tbody>\n",
       "</table>\n",
       "</div>"
      ],
      "text/plain": [
       "   index                            PI_NAME\n",
       "0  18     CIOTOLI, CARLO                   \n",
       "2  180    TREISMAN, JESSICA E              \n",
       "4  301    DAW, NATHANIEL DOUGLASS (contact)\n",
       "5  301     SHOHAMY, DAPHNA                 "
      ]
     },
     "execution_count": 15,
     "metadata": {},
     "output_type": "execute_result"
    }
   ],
   "source": [
    "# Only keep observations in the temp dataframe where PI_NAME is not an empty string\n",
    "temp = temp[temp['PI_NAME'] !=\"\"]\n",
    "\n",
    "# View the first 4 observations \n",
    "temp.head(4)"
   ]
  },
  {
   "cell_type": "markdown",
   "metadata": {},
   "source": [
    "#### Remove undesired section of the string\n",
    "We are almost there, however we still need to remove the ` (contact)` part of the string from some of the names; otherwise PI_names like `DAW, NATHANIEL DOUGLASS (contact)` will not link to `DAW, NATHANIEL DOUGLASS` \n",
    "#### 删除不需要的字符串部分\n",
    "我们快完成了，但是我们仍然需要从一些名称中删除字符串的“(contact)”部分； 否则像“DAW, NATHANIEL DOUGLASS (contact)”这样的 PI_names 将不会链接到“DAW, NATHANIEL DOUGLASS”"
   ]
  },
  {
   "cell_type": "code",
   "execution_count": 16,
   "metadata": {
    "scrolled": true
   },
   "outputs": [
    {
     "name": "stderr",
     "output_type": "stream",
     "text": [
      "/var/folders/rl/4_s3mzkj6ll5h2_4qxy9sftw0000gn/T/ipykernel_15654/1310223397.py:2: FutureWarning: The default value of regex will change from True to False in a future version.\n",
      "  temp['PI_NAME'] = temp['PI_NAME'].str.replace(' \\(contact\\)', '')\n"
     ]
    },
    {
     "data": {
      "text/html": [
       "<div>\n",
       "<style scoped>\n",
       "    .dataframe tbody tr th:only-of-type {\n",
       "        vertical-align: middle;\n",
       "    }\n",
       "\n",
       "    .dataframe tbody tr th {\n",
       "        vertical-align: top;\n",
       "    }\n",
       "\n",
       "    .dataframe thead th {\n",
       "        text-align: right;\n",
       "    }\n",
       "</style>\n",
       "<table border=\"1\" class=\"dataframe\">\n",
       "  <thead>\n",
       "    <tr style=\"text-align: right;\">\n",
       "      <th></th>\n",
       "      <th>index</th>\n",
       "      <th>PI_NAME</th>\n",
       "    </tr>\n",
       "  </thead>\n",
       "  <tbody>\n",
       "    <tr>\n",
       "      <th>0</th>\n",
       "      <td>18</td>\n",
       "      <td>CIOTOLI, CARLO</td>\n",
       "    </tr>\n",
       "    <tr>\n",
       "      <th>2</th>\n",
       "      <td>180</td>\n",
       "      <td>TREISMAN, JESSICA E</td>\n",
       "    </tr>\n",
       "    <tr>\n",
       "      <th>4</th>\n",
       "      <td>301</td>\n",
       "      <td>DAW, NATHANIEL DOUGLASS</td>\n",
       "    </tr>\n",
       "    <tr>\n",
       "      <th>5</th>\n",
       "      <td>301</td>\n",
       "      <td>SHOHAMY, DAPHNA</td>\n",
       "    </tr>\n",
       "    <tr>\n",
       "      <th>7</th>\n",
       "      <td>361</td>\n",
       "      <td>BURDEN, STEVEN</td>\n",
       "    </tr>\n",
       "  </tbody>\n",
       "</table>\n",
       "</div>"
      ],
      "text/plain": [
       "   index                  PI_NAME\n",
       "0  18     CIOTOLI, CARLO         \n",
       "2  180    TREISMAN, JESSICA E    \n",
       "4  301    DAW, NATHANIEL DOUGLASS\n",
       "5  301     SHOHAMY, DAPHNA       \n",
       "7  361    BURDEN, STEVEN         "
      ]
     },
     "execution_count": 16,
     "metadata": {},
     "output_type": "execute_result"
    }
   ],
   "source": [
    "# For the the PI_NAME variable, use the str.replace fundtion to replace ` (contact)` with nothing \n",
    "temp['PI_NAME'] = temp['PI_NAME'].str.replace(' \\(contact\\)', '')\n",
    "\n",
    "temp.head()"
   ]
  },
  {
   "cell_type": "markdown",
   "metadata": {},
   "source": [
    "#### Merge dataframes\n",
    "Now that we have a clean list of PIs, we will merge this temporary dataframe with df_NYU. After doing so, we will see the new PI_NAME variable as well as the old PI_NAMEs variable. Note all other variables will repeat for each of the separated PI names. \n",
    "现在我们有了一个干净的 PI 列表，我们将把这个临时数据框与 df_NYU 合并。 这样做之后，我们将看到新的 PI_NAME 变量以及旧的 PI_NAMEs 变量。 请注意，对于每个单独的 PI 名称，所有其他变量都会重复。\n",
    "\n",
    "First, let's look at the df_NYU dataframe to make sure we are ready to merge on the index.\n",
    "首先，让我们看一下 df_NYU 数据框，以确保我们已准备好在索引上进行合并。"
   ]
  },
  {
   "cell_type": "code",
   "execution_count": 17,
   "metadata": {
    "scrolled": true
   },
   "outputs": [
    {
     "data": {
      "text/html": [
       "<div>\n",
       "<style scoped>\n",
       "    .dataframe tbody tr th:only-of-type {\n",
       "        vertical-align: middle;\n",
       "    }\n",
       "\n",
       "    .dataframe tbody tr th {\n",
       "        vertical-align: top;\n",
       "    }\n",
       "\n",
       "    .dataframe thead th {\n",
       "        text-align: right;\n",
       "    }\n",
       "</style>\n",
       "<table border=\"1\" class=\"dataframe\">\n",
       "  <thead>\n",
       "    <tr style=\"text-align: right;\">\n",
       "      <th></th>\n",
       "      <th>APPLICATION_ID</th>\n",
       "      <th>PI_NAMEs</th>\n",
       "      <th>FULL_PROJECT_NUM</th>\n",
       "      <th>PROJECT_TITLE</th>\n",
       "      <th>PROJECT_START</th>\n",
       "      <th>PROJECT_END</th>\n",
       "      <th>TOTAL_COST</th>\n",
       "    </tr>\n",
       "  </thead>\n",
       "  <tbody>\n",
       "    <tr>\n",
       "      <th>18</th>\n",
       "      <td>8844008</td>\n",
       "      <td>CIOTOLI, CARLO ;</td>\n",
       "      <td>1R13HS022520-01A1</td>\n",
       "      <td>Quality Improvement in College Health Conference</td>\n",
       "      <td>8/1/2015</td>\n",
       "      <td>7/31/2016</td>\n",
       "      <td>34950.0</td>\n",
       "    </tr>\n",
       "    <tr>\n",
       "      <th>180</th>\n",
       "      <td>8843273</td>\n",
       "      <td>TREISMAN, JESSICA E;</td>\n",
       "      <td>5T32HD007520-17</td>\n",
       "      <td>TRAINING PROGRAM IN DEVELOPMENTAL GENETICS</td>\n",
       "      <td>5/1/1999</td>\n",
       "      <td>4/30/2019</td>\n",
       "      <td>151340.0</td>\n",
       "    </tr>\n",
       "    <tr>\n",
       "      <th>301</th>\n",
       "      <td>8926934</td>\n",
       "      <td>DAW, NATHANIEL DOUGLASS (contact); SHOHAMY, DAPHNA ;</td>\n",
       "      <td>5R01DA038891-02</td>\n",
       "      <td>CRCNS: Computational and neural mechanisms of memory-guided decisions</td>\n",
       "      <td>9/15/2014</td>\n",
       "      <td>6/30/2016</td>\n",
       "      <td>329880.0</td>\n",
       "    </tr>\n",
       "    <tr>\n",
       "      <th>361</th>\n",
       "      <td>9001539</td>\n",
       "      <td>BURDEN, STEVEN ;</td>\n",
       "      <td>1R01AG051490-01</td>\n",
       "      <td>THE ROLE OF AGRIN/LRP4/MUSK/DOK-7 SIGNALING IN DISASSEMBLY OF NEUROMUSCULAR SYNAPSES DURING AGING.</td>\n",
       "      <td>9/30/2015</td>\n",
       "      <td>5/31/2020</td>\n",
       "      <td>423750.0</td>\n",
       "    </tr>\n",
       "    <tr>\n",
       "      <th>390</th>\n",
       "      <td>8820075</td>\n",
       "      <td>HOYT VON TRAPP, GARDINER ;</td>\n",
       "      <td>5F31DC013502-02</td>\n",
       "      <td>Impact of early hearing loss on cortical encoding during perceptual task performa</td>\n",
       "      <td>3/3/2014</td>\n",
       "      <td>3/2/2016</td>\n",
       "      <td>35355.0</td>\n",
       "    </tr>\n",
       "  </tbody>\n",
       "</table>\n",
       "</div>"
      ],
      "text/plain": [
       "     APPLICATION_ID                                              PI_NAMEs  \\\n",
       "18   8844008         CIOTOLI, CARLO ;                                       \n",
       "180  8843273         TREISMAN, JESSICA E;                                   \n",
       "301  8926934         DAW, NATHANIEL DOUGLASS (contact); SHOHAMY, DAPHNA ;   \n",
       "361  9001539         BURDEN, STEVEN ;                                       \n",
       "390  8820075         HOYT VON TRAPP, GARDINER ;                             \n",
       "\n",
       "      FULL_PROJECT_NUM  \\\n",
       "18   1R13HS022520-01A1   \n",
       "180  5T32HD007520-17     \n",
       "301  5R01DA038891-02     \n",
       "361  1R01AG051490-01     \n",
       "390  5F31DC013502-02     \n",
       "\n",
       "                                                                                          PROJECT_TITLE  \\\n",
       "18   Quality Improvement in College Health Conference                                                     \n",
       "180  TRAINING PROGRAM IN DEVELOPMENTAL GENETICS                                                           \n",
       "301  CRCNS: Computational and neural mechanisms of memory-guided decisions                                \n",
       "361  THE ROLE OF AGRIN/LRP4/MUSK/DOK-7 SIGNALING IN DISASSEMBLY OF NEUROMUSCULAR SYNAPSES DURING AGING.   \n",
       "390  Impact of early hearing loss on cortical encoding during perceptual task performa                    \n",
       "\n",
       "    PROJECT_START PROJECT_END  TOTAL_COST  \n",
       "18   8/1/2015      7/31/2016   34950.0     \n",
       "180  5/1/1999      4/30/2019   151340.0    \n",
       "301  9/15/2014     6/30/2016   329880.0    \n",
       "361  9/30/2015     5/31/2020   423750.0    \n",
       "390  3/3/2014      3/2/2016    35355.0     "
      ]
     },
     "execution_count": 17,
     "metadata": {},
     "output_type": "execute_result"
    }
   ],
   "source": [
    "# view the select variables for the firts 4 observations\n",
    "df_NYU[['APPLICATION_ID', 'PI_NAMEs','FULL_PROJECT_NUM', 'PROJECT_TITLE','PROJECT_START', 'PROJECT_END', 'TOTAL_COST']].head()"
   ]
  },
  {
   "cell_type": "markdown",
   "metadata": {},
   "source": [
    "##### reset the index\n",
    "Note that the index reflects the column number from the full dataframe, and the column number lines up with the index numbers from the temperary dataframe. Thus, we need to reset the index before merging."
   ]
  },
  {
   "cell_type": "markdown",
   "metadata": {},
   "source": [
    "#### 重置索引\n",
    "请注意，索引反映了完整数据框中的列号，列号与临时数据框中的索引号对齐。 因此，我们需要在合并之前重置索引。"
   ]
  },
  {
   "cell_type": "code",
   "execution_count": 18,
   "metadata": {},
   "outputs": [
    {
     "data": {
      "text/html": [
       "<div>\n",
       "<style scoped>\n",
       "    .dataframe tbody tr th:only-of-type {\n",
       "        vertical-align: middle;\n",
       "    }\n",
       "\n",
       "    .dataframe tbody tr th {\n",
       "        vertical-align: top;\n",
       "    }\n",
       "\n",
       "    .dataframe thead th {\n",
       "        text-align: right;\n",
       "    }\n",
       "</style>\n",
       "<table border=\"1\" class=\"dataframe\">\n",
       "  <thead>\n",
       "    <tr style=\"text-align: right;\">\n",
       "      <th></th>\n",
       "      <th>index</th>\n",
       "      <th>APPLICATION_ID</th>\n",
       "      <th>PI_NAMEs</th>\n",
       "      <th>FULL_PROJECT_NUM</th>\n",
       "      <th>PROJECT_TITLE</th>\n",
       "      <th>PROJECT_START</th>\n",
       "      <th>PROJECT_END</th>\n",
       "      <th>TOTAL_COST</th>\n",
       "    </tr>\n",
       "  </thead>\n",
       "  <tbody>\n",
       "    <tr>\n",
       "      <th>0</th>\n",
       "      <td>18</td>\n",
       "      <td>8844008</td>\n",
       "      <td>CIOTOLI, CARLO ;</td>\n",
       "      <td>1R13HS022520-01A1</td>\n",
       "      <td>Quality Improvement in College Health Conference</td>\n",
       "      <td>8/1/2015</td>\n",
       "      <td>7/31/2016</td>\n",
       "      <td>34950.0</td>\n",
       "    </tr>\n",
       "    <tr>\n",
       "      <th>1</th>\n",
       "      <td>180</td>\n",
       "      <td>8843273</td>\n",
       "      <td>TREISMAN, JESSICA E;</td>\n",
       "      <td>5T32HD007520-17</td>\n",
       "      <td>TRAINING PROGRAM IN DEVELOPMENTAL GENETICS</td>\n",
       "      <td>5/1/1999</td>\n",
       "      <td>4/30/2019</td>\n",
       "      <td>151340.0</td>\n",
       "    </tr>\n",
       "    <tr>\n",
       "      <th>2</th>\n",
       "      <td>301</td>\n",
       "      <td>8926934</td>\n",
       "      <td>DAW, NATHANIEL DOUGLASS (contact); SHOHAMY, DAPHNA ;</td>\n",
       "      <td>5R01DA038891-02</td>\n",
       "      <td>CRCNS: Computational and neural mechanisms of memory-guided decisions</td>\n",
       "      <td>9/15/2014</td>\n",
       "      <td>6/30/2016</td>\n",
       "      <td>329880.0</td>\n",
       "    </tr>\n",
       "    <tr>\n",
       "      <th>3</th>\n",
       "      <td>361</td>\n",
       "      <td>9001539</td>\n",
       "      <td>BURDEN, STEVEN ;</td>\n",
       "      <td>1R01AG051490-01</td>\n",
       "      <td>THE ROLE OF AGRIN/LRP4/MUSK/DOK-7 SIGNALING IN DISASSEMBLY OF NEUROMUSCULAR SYNAPSES DURING AGING.</td>\n",
       "      <td>9/30/2015</td>\n",
       "      <td>5/31/2020</td>\n",
       "      <td>423750.0</td>\n",
       "    </tr>\n",
       "    <tr>\n",
       "      <th>4</th>\n",
       "      <td>390</td>\n",
       "      <td>8820075</td>\n",
       "      <td>HOYT VON TRAPP, GARDINER ;</td>\n",
       "      <td>5F31DC013502-02</td>\n",
       "      <td>Impact of early hearing loss on cortical encoding during perceptual task performa</td>\n",
       "      <td>3/3/2014</td>\n",
       "      <td>3/2/2016</td>\n",
       "      <td>35355.0</td>\n",
       "    </tr>\n",
       "  </tbody>\n",
       "</table>\n",
       "</div>"
      ],
      "text/plain": [
       "   index  APPLICATION_ID  \\\n",
       "0  18     8844008          \n",
       "1  180    8843273          \n",
       "2  301    8926934          \n",
       "3  361    9001539          \n",
       "4  390    8820075          \n",
       "\n",
       "                                               PI_NAMEs   FULL_PROJECT_NUM  \\\n",
       "0  CIOTOLI, CARLO ;                                      1R13HS022520-01A1   \n",
       "1  TREISMAN, JESSICA E;                                  5T32HD007520-17     \n",
       "2  DAW, NATHANIEL DOUGLASS (contact); SHOHAMY, DAPHNA ;  5R01DA038891-02     \n",
       "3  BURDEN, STEVEN ;                                      1R01AG051490-01     \n",
       "4  HOYT VON TRAPP, GARDINER ;                            5F31DC013502-02     \n",
       "\n",
       "                                                                                        PROJECT_TITLE  \\\n",
       "0  Quality Improvement in College Health Conference                                                     \n",
       "1  TRAINING PROGRAM IN DEVELOPMENTAL GENETICS                                                           \n",
       "2  CRCNS: Computational and neural mechanisms of memory-guided decisions                                \n",
       "3  THE ROLE OF AGRIN/LRP4/MUSK/DOK-7 SIGNALING IN DISASSEMBLY OF NEUROMUSCULAR SYNAPSES DURING AGING.   \n",
       "4  Impact of early hearing loss on cortical encoding during perceptual task performa                    \n",
       "\n",
       "  PROJECT_START PROJECT_END  TOTAL_COST  \n",
       "0  8/1/2015      7/31/2016   34950.0     \n",
       "1  5/1/1999      4/30/2019   151340.0    \n",
       "2  9/15/2014     6/30/2016   329880.0    \n",
       "3  9/30/2015     5/31/2020   423750.0    \n",
       "4  3/3/2014      3/2/2016    35355.0     "
      ]
     },
     "execution_count": 18,
     "metadata": {},
     "output_type": "execute_result"
    }
   ],
   "source": [
    "# Reset the index\n",
    "df_NYU2 = df_NYU.reset_index()\n",
    "\n",
    "# view the select variables for the first 4 observations\n",
    "df_NYU2[['index', 'APPLICATION_ID', 'PI_NAMEs','FULL_PROJECT_NUM', 'PROJECT_TITLE','PROJECT_START', 'PROJECT_END', 'TOTAL_COST']].head()"
   ]
  },
  {
   "cell_type": "code",
   "execution_count": 19,
   "metadata": {},
   "outputs": [
    {
     "data": {
      "text/html": [
       "<div>\n",
       "<style scoped>\n",
       "    .dataframe tbody tr th:only-of-type {\n",
       "        vertical-align: middle;\n",
       "    }\n",
       "\n",
       "    .dataframe tbody tr th {\n",
       "        vertical-align: top;\n",
       "    }\n",
       "\n",
       "    .dataframe thead th {\n",
       "        text-align: right;\n",
       "    }\n",
       "</style>\n",
       "<table border=\"1\" class=\"dataframe\">\n",
       "  <thead>\n",
       "    <tr style=\"text-align: right;\">\n",
       "      <th></th>\n",
       "      <th>APPLICATION_ID</th>\n",
       "      <th>PI_NAMEs</th>\n",
       "      <th>PI_NAME</th>\n",
       "      <th>FULL_PROJECT_NUM</th>\n",
       "      <th>PROJECT_TITLE</th>\n",
       "      <th>PROJECT_START</th>\n",
       "      <th>PROJECT_END</th>\n",
       "      <th>TOTAL_COST</th>\n",
       "    </tr>\n",
       "  </thead>\n",
       "  <tbody>\n",
       "    <tr>\n",
       "      <th>0</th>\n",
       "      <td>8844008</td>\n",
       "      <td>CIOTOLI, CARLO ;</td>\n",
       "      <td>CIOTOLI, CARLO</td>\n",
       "      <td>1R13HS022520-01A1</td>\n",
       "      <td>Quality Improvement in College Health Conference</td>\n",
       "      <td>8/1/2015</td>\n",
       "      <td>7/31/2016</td>\n",
       "      <td>34950.0</td>\n",
       "    </tr>\n",
       "    <tr>\n",
       "      <th>1</th>\n",
       "      <td>8843273</td>\n",
       "      <td>TREISMAN, JESSICA E;</td>\n",
       "      <td>TREISMAN, JESSICA E</td>\n",
       "      <td>5T32HD007520-17</td>\n",
       "      <td>TRAINING PROGRAM IN DEVELOPMENTAL GENETICS</td>\n",
       "      <td>5/1/1999</td>\n",
       "      <td>4/30/2019</td>\n",
       "      <td>151340.0</td>\n",
       "    </tr>\n",
       "    <tr>\n",
       "      <th>2</th>\n",
       "      <td>8926934</td>\n",
       "      <td>DAW, NATHANIEL DOUGLASS (contact); SHOHAMY, DAPHNA ;</td>\n",
       "      <td>DAW, NATHANIEL DOUGLASS</td>\n",
       "      <td>5R01DA038891-02</td>\n",
       "      <td>CRCNS: Computational and neural mechanisms of memory-guided decisions</td>\n",
       "      <td>9/15/2014</td>\n",
       "      <td>6/30/2016</td>\n",
       "      <td>329880.0</td>\n",
       "    </tr>\n",
       "    <tr>\n",
       "      <th>3</th>\n",
       "      <td>8926934</td>\n",
       "      <td>DAW, NATHANIEL DOUGLASS (contact); SHOHAMY, DAPHNA ;</td>\n",
       "      <td>SHOHAMY, DAPHNA</td>\n",
       "      <td>5R01DA038891-02</td>\n",
       "      <td>CRCNS: Computational and neural mechanisms of memory-guided decisions</td>\n",
       "      <td>9/15/2014</td>\n",
       "      <td>6/30/2016</td>\n",
       "      <td>329880.0</td>\n",
       "    </tr>\n",
       "    <tr>\n",
       "      <th>4</th>\n",
       "      <td>9001539</td>\n",
       "      <td>BURDEN, STEVEN ;</td>\n",
       "      <td>BURDEN, STEVEN</td>\n",
       "      <td>1R01AG051490-01</td>\n",
       "      <td>THE ROLE OF AGRIN/LRP4/MUSK/DOK-7 SIGNALING IN DISASSEMBLY OF NEUROMUSCULAR SYNAPSES DURING AGING.</td>\n",
       "      <td>9/30/2015</td>\n",
       "      <td>5/31/2020</td>\n",
       "      <td>423750.0</td>\n",
       "    </tr>\n",
       "  </tbody>\n",
       "</table>\n",
       "</div>"
      ],
      "text/plain": [
       "   APPLICATION_ID                                              PI_NAMEs  \\\n",
       "0  8844008         CIOTOLI, CARLO ;                                       \n",
       "1  8843273         TREISMAN, JESSICA E;                                   \n",
       "2  8926934         DAW, NATHANIEL DOUGLASS (contact); SHOHAMY, DAPHNA ;   \n",
       "3  8926934         DAW, NATHANIEL DOUGLASS (contact); SHOHAMY, DAPHNA ;   \n",
       "4  9001539         BURDEN, STEVEN ;                                       \n",
       "\n",
       "                   PI_NAME   FULL_PROJECT_NUM  \\\n",
       "0  CIOTOLI, CARLO           1R13HS022520-01A1   \n",
       "1  TREISMAN, JESSICA E      5T32HD007520-17     \n",
       "2  DAW, NATHANIEL DOUGLASS  5R01DA038891-02     \n",
       "3   SHOHAMY, DAPHNA         5R01DA038891-02     \n",
       "4  BURDEN, STEVEN           1R01AG051490-01     \n",
       "\n",
       "                                                                                        PROJECT_TITLE  \\\n",
       "0  Quality Improvement in College Health Conference                                                     \n",
       "1  TRAINING PROGRAM IN DEVELOPMENTAL GENETICS                                                           \n",
       "2  CRCNS: Computational and neural mechanisms of memory-guided decisions                                \n",
       "3  CRCNS: Computational and neural mechanisms of memory-guided decisions                                \n",
       "4  THE ROLE OF AGRIN/LRP4/MUSK/DOK-7 SIGNALING IN DISASSEMBLY OF NEUROMUSCULAR SYNAPSES DURING AGING.   \n",
       "\n",
       "  PROJECT_START PROJECT_END  TOTAL_COST  \n",
       "0  8/1/2015      7/31/2016   34950.0     \n",
       "1  5/1/1999      4/30/2019   151340.0    \n",
       "2  9/15/2014     6/30/2016   329880.0    \n",
       "3  9/15/2014     6/30/2016   329880.0    \n",
       "4  9/30/2015     5/31/2020   423750.0    "
      ]
     },
     "execution_count": 19,
     "metadata": {},
     "output_type": "execute_result"
    }
   ],
   "source": [
    "# Merge this temperary dataframe with df_NYU\n",
    "\n",
    "df_NYU3 = df_NYU2.merge(temp, on = 'index')\n",
    "\n",
    "\n",
    "# view the select variables for the firts 4 observations\n",
    "df_NYU3[['APPLICATION_ID', 'PI_NAMEs', 'PI_NAME','FULL_PROJECT_NUM', 'PROJECT_TITLE','PROJECT_START', 'PROJECT_END', 'TOTAL_COST']].head()"
   ]
  },
  {
   "cell_type": "markdown",
   "metadata": {},
   "source": [
    "# Develop Measures <a class=\"anchor\" id=\"measures\"></a>\n",
    "Using the 2015 data, we want to create measures at the PI level that will allow us to research how the `Cancer Moonshot` influenced the people working on cancer research. \n",
    "\n",
    "#### All Projects \n",
    "- The number of projects \n",
    "- The total value all of projects\n",
    "\n",
    "#### All NCI Projects \n",
    "- Number of projects from the National cancer institute\n",
    "- Value of projects from the National cancer institute\n",
    "\n",
    "#### New NCI Projects\n",
    "- Number of new projects from the National cancer institute\n",
    "- Value of new projects from the National cancer institute\n",
    "\n",
    "#### Most Common CI for each PI? \n",
    "\n",
    "# 制定措施 <a class=\"anchor\" id=\"measures\"></a>\n",
    "使用 2015 年的数据，我们希望在 PI 级别创建措施，使我们能够研究“癌症登月计划”如何影响从事癌症研究的人们。\n",
    "\n",
    "#### 所有项目\n",
    "- 项目数量\n",
    "- 所有项目的总价值\n",
    "\n",
    "#### 所有 NCI 项目\n",
    "- 国家癌症研究所的项目数量\n",
    "- 国家癌症研究所项目的价值\n",
    "\n",
    "#### 新的 NCI 项目\n",
    "- 国家癌症研究所的新项目数量\n",
    "- 国家癌症研究所新项目的价值\n",
    "\n",
    "#### 每个 PI 最常见的 CI？"
   ]
  },
  {
   "cell_type": "markdown",
   "metadata": {},
   "source": [
    "## All Projects"
   ]
  },
  {
   "cell_type": "markdown",
   "metadata": {},
   "source": [
    "### Number of Projects"
   ]
  },
  {
   "cell_type": "code",
   "execution_count": 20,
   "metadata": {
    "scrolled": false
   },
   "outputs": [
    {
     "data": {
      "text/html": [
       "<div>\n",
       "<style scoped>\n",
       "    .dataframe tbody tr th:only-of-type {\n",
       "        vertical-align: middle;\n",
       "    }\n",
       "\n",
       "    .dataframe tbody tr th {\n",
       "        vertical-align: top;\n",
       "    }\n",
       "\n",
       "    .dataframe thead th {\n",
       "        text-align: right;\n",
       "    }\n",
       "</style>\n",
       "<table border=\"1\" class=\"dataframe\">\n",
       "  <thead>\n",
       "    <tr style=\"text-align: right;\">\n",
       "      <th></th>\n",
       "      <th>PI_NAME</th>\n",
       "      <th>Total_Projects_2015</th>\n",
       "    </tr>\n",
       "  </thead>\n",
       "  <tbody>\n",
       "    <tr>\n",
       "      <th>0</th>\n",
       "      <td>CARROLL, WILLIAM L.</td>\n",
       "      <td>27</td>\n",
       "    </tr>\n",
       "    <tr>\n",
       "      <th>1</th>\n",
       "      <td>COSTA, MAX</td>\n",
       "      <td>12</td>\n",
       "    </tr>\n",
       "  </tbody>\n",
       "</table>\n",
       "</div>"
      ],
      "text/plain": [
       "               PI_NAME  Total_Projects_2015\n",
       "0  CARROLL, WILLIAM L.  27                 \n",
       "1  COSTA, MAX           12                 "
      ]
     },
     "execution_count": 20,
     "metadata": {},
     "output_type": "execute_result"
    }
   ],
   "source": [
    "# Calculate how many Projects each PI has\n",
    "PI = df_NYU3.groupby(['PI_NAME'])['APPLICATION_ID'].nunique().sort_values(ascending=False)\n",
    "\n",
    "# Convert into a dataframe and reset index\n",
    "PI = PI.to_frame().reset_index()\n",
    "\n",
    "# Rename APPLICATION_ID to Total_Projects_2015\n",
    "PI.rename(columns={'APPLICATION_ID':'Total_Projects_2015'}, inplace = True)\n",
    "\n",
    "# View the first 2 observations \n",
    "PI.head(2)"
   ]
  },
  {
   "cell_type": "markdown",
   "metadata": {},
   "source": [
    "### Total Value of  All Projects"
   ]
  },
  {
   "cell_type": "code",
   "execution_count": 21,
   "metadata": {},
   "outputs": [
    {
     "data": {
      "text/html": [
       "<div>\n",
       "<style scoped>\n",
       "    .dataframe tbody tr th:only-of-type {\n",
       "        vertical-align: middle;\n",
       "    }\n",
       "\n",
       "    .dataframe tbody tr th {\n",
       "        vertical-align: top;\n",
       "    }\n",
       "\n",
       "    .dataframe thead th {\n",
       "        text-align: right;\n",
       "    }\n",
       "</style>\n",
       "<table border=\"1\" class=\"dataframe\">\n",
       "  <thead>\n",
       "    <tr style=\"text-align: right;\">\n",
       "      <th></th>\n",
       "      <th>PI_NAME</th>\n",
       "      <th>Total_Cost_All_2015</th>\n",
       "    </tr>\n",
       "  </thead>\n",
       "  <tbody>\n",
       "    <tr>\n",
       "      <th>0</th>\n",
       "      <td>BINKA, FRED NEWTON</td>\n",
       "      <td>222617.0</td>\n",
       "    </tr>\n",
       "    <tr>\n",
       "      <th>1</th>\n",
       "      <td>BRAITHWAITE, RONALD SCOTT</td>\n",
       "      <td>168491.0</td>\n",
       "    </tr>\n",
       "  </tbody>\n",
       "</table>\n",
       "</div>"
      ],
      "text/plain": [
       "                      PI_NAME  Total_Cost_All_2015\n",
       "0   BINKA, FRED NEWTON         222617.0           \n",
       "1   BRAITHWAITE, RONALD SCOTT  168491.0           "
      ]
     },
     "execution_count": 21,
     "metadata": {},
     "output_type": "execute_result"
    }
   ],
   "source": [
    "# Calculate the sum of the total costs for each PI\n",
    "Value_PI = df_NYU3.groupby('PI_NAME')['TOTAL_COST'].sum()\n",
    "\n",
    "# Convert into a dataframe and reset index\n",
    "Value_PI = Value_PI.to_frame().reset_index()\n",
    "\n",
    "# Rename TOTAL_COST to Total_Cost_All_2015\n",
    "Value_PI.rename(columns={'TOTAL_COST':'Total_Cost_All_2015'}, inplace = True)\n",
    "\n",
    "# View the first 2 observations \n",
    "Value_PI.head(2)"
   ]
  },
  {
   "cell_type": "code",
   "execution_count": 22,
   "metadata": {
    "scrolled": true
   },
   "outputs": [
    {
     "data": {
      "text/plain": [
       "(508, 2)"
      ]
     },
     "execution_count": 22,
     "metadata": {},
     "output_type": "execute_result"
    }
   ],
   "source": [
    "# Look at how many rows and columns there are\n",
    "Value_PI.shape"
   ]
  },
  {
   "cell_type": "code",
   "execution_count": 23,
   "metadata": {},
   "outputs": [
    {
     "data": {
      "text/plain": [
       "(508, 3)"
      ]
     },
     "execution_count": 23,
     "metadata": {},
     "output_type": "execute_result"
    }
   ],
   "source": [
    "# Marge together  `PI` and `Value_PI on PI_NAME`, creating a new data frame called `DF_2015.`\n",
    "# Use an outer merge. \n",
    "DF_2015 = pd.merge(PI, Value_PI, on='PI_NAME', how = 'outer')\n",
    "\n",
    "# Look at how many rows and columns there are\n",
    "DF_2015.shape"
   ]
  },
  {
   "cell_type": "code",
   "execution_count": 24,
   "metadata": {
    "scrolled": true
   },
   "outputs": [
    {
     "data": {
      "text/html": [
       "<div>\n",
       "<style scoped>\n",
       "    .dataframe tbody tr th:only-of-type {\n",
       "        vertical-align: middle;\n",
       "    }\n",
       "\n",
       "    .dataframe tbody tr th {\n",
       "        vertical-align: top;\n",
       "    }\n",
       "\n",
       "    .dataframe thead th {\n",
       "        text-align: right;\n",
       "    }\n",
       "</style>\n",
       "<table border=\"1\" class=\"dataframe\">\n",
       "  <thead>\n",
       "    <tr style=\"text-align: right;\">\n",
       "      <th></th>\n",
       "      <th>PI_NAME</th>\n",
       "      <th>Total_Projects_2015</th>\n",
       "      <th>Total_Cost_All_2015</th>\n",
       "    </tr>\n",
       "  </thead>\n",
       "  <tbody>\n",
       "    <tr>\n",
       "      <th>0</th>\n",
       "      <td>CARROLL, WILLIAM L.</td>\n",
       "      <td>27</td>\n",
       "      <td>432951.0</td>\n",
       "    </tr>\n",
       "    <tr>\n",
       "      <th>1</th>\n",
       "      <td>COSTA, MAX</td>\n",
       "      <td>12</td>\n",
       "      <td>2563657.0</td>\n",
       "    </tr>\n",
       "    <tr>\n",
       "      <th>2</th>\n",
       "      <td>OGEDEGBE, OLUGBENGA G.</td>\n",
       "      <td>7</td>\n",
       "      <td>3222047.0</td>\n",
       "    </tr>\n",
       "    <tr>\n",
       "      <th>3</th>\n",
       "      <td>WILLIAMS, OLAJIDE</td>\n",
       "      <td>7</td>\n",
       "      <td>2488067.0</td>\n",
       "    </tr>\n",
       "    <tr>\n",
       "      <th>4</th>\n",
       "      <td>MOVSHON, J ANTHONY</td>\n",
       "      <td>7</td>\n",
       "      <td>1968716.0</td>\n",
       "    </tr>\n",
       "  </tbody>\n",
       "</table>\n",
       "</div>"
      ],
      "text/plain": [
       "                  PI_NAME  Total_Projects_2015  Total_Cost_All_2015\n",
       "0  CARROLL, WILLIAM L.     27                   432951.0           \n",
       "1  COSTA, MAX              12                   2563657.0          \n",
       "2  OGEDEGBE, OLUGBENGA G.  7                    3222047.0          \n",
       "3   WILLIAMS, OLAJIDE      7                    2488067.0          \n",
       "4  MOVSHON, J ANTHONY      7                    1968716.0          "
      ]
     },
     "execution_count": 24,
     "metadata": {},
     "output_type": "execute_result"
    }
   ],
   "source": [
    "# View the first 5 observations \n",
    "DF_2015.head()"
   ]
  },
  {
   "cell_type": "markdown",
   "metadata": {},
   "source": [
    "## All Projects from the National Cancer Institute¶"
   ]
  },
  {
   "cell_type": "markdown",
   "metadata": {},
   "source": [
    "### Number of Projects from the National Cancer Institute "
   ]
  },
  {
   "cell_type": "code",
   "execution_count": 25,
   "metadata": {
    "scrolled": true
   },
   "outputs": [
    {
     "data": {
      "text/plain": [
       "(119, 48)"
      ]
     },
     "execution_count": 25,
     "metadata": {},
     "output_type": "execute_result"
    }
   ],
   "source": [
    "# Use a conditional statement do create a new dataframe were there are only projects where the IC_NAME is NATIONAL CANCER INSTITUTE. \n",
    "# 如果只有 IC_NAME 是 NATIONAL CANCER INSTITUTE 的项目，请使用条件语句创建一个新的数据框。\n",
    "NCI = df_NYU3[df_NYU3['IC_NAME'] == 'NATIONAL CANCER INSTITUTE']\n",
    "NCI.shape"
   ]
  },
  {
   "cell_type": "code",
   "execution_count": 26,
   "metadata": {},
   "outputs": [],
   "source": [
    "NCI.to_csv(Path + \"example_data.csv\", encoding='utf8')"
   ]
  },
  {
   "cell_type": "code",
   "execution_count": 27,
   "metadata": {},
   "outputs": [
    {
     "data": {
      "text/html": [
       "<div>\n",
       "<style scoped>\n",
       "    .dataframe tbody tr th:only-of-type {\n",
       "        vertical-align: middle;\n",
       "    }\n",
       "\n",
       "    .dataframe tbody tr th {\n",
       "        vertical-align: top;\n",
       "    }\n",
       "\n",
       "    .dataframe thead th {\n",
       "        text-align: right;\n",
       "    }\n",
       "</style>\n",
       "<table border=\"1\" class=\"dataframe\">\n",
       "  <thead>\n",
       "    <tr style=\"text-align: right;\">\n",
       "      <th></th>\n",
       "      <th>PI_NAME</th>\n",
       "      <th>Total_NCI_Projects_2015</th>\n",
       "    </tr>\n",
       "  </thead>\n",
       "  <tbody>\n",
       "    <tr>\n",
       "      <th>0</th>\n",
       "      <td>CARROLL, WILLIAM L.</td>\n",
       "      <td>27</td>\n",
       "    </tr>\n",
       "    <tr>\n",
       "      <th>1</th>\n",
       "      <td>NEEL, BENJAMIN G.</td>\n",
       "      <td>4</td>\n",
       "    </tr>\n",
       "    <tr>\n",
       "      <th>2</th>\n",
       "      <td>AIFANTIS, IANNIS</td>\n",
       "      <td>4</td>\n",
       "    </tr>\n",
       "    <tr>\n",
       "      <th>3</th>\n",
       "      <td>GOLD, LESLIE INA</td>\n",
       "      <td>3</td>\n",
       "    </tr>\n",
       "    <tr>\n",
       "      <th>4</th>\n",
       "      <td>WU, XUE-RU</td>\n",
       "      <td>3</td>\n",
       "    </tr>\n",
       "  </tbody>\n",
       "</table>\n",
       "</div>"
      ],
      "text/plain": [
       "               PI_NAME  Total_NCI_Projects_2015\n",
       "0  CARROLL, WILLIAM L.  27                     \n",
       "1  NEEL, BENJAMIN G.    4                      \n",
       "2  AIFANTIS, IANNIS     4                      \n",
       "3   GOLD, LESLIE INA    3                      \n",
       "4  WU, XUE-RU           3                      "
      ]
     },
     "execution_count": 27,
     "metadata": {},
     "output_type": "execute_result"
    }
   ],
   "source": [
    "# Calculate how many NCI Projects each PI has\n",
    "# 计算每个PI有多少个NCI Project\n",
    "NCI_PI = NCI.groupby(['PI_NAME'])['APPLICATION_ID'].nunique().sort_values(ascending=False)\n",
    "\n",
    "# Convert into a dataframe and reset index\n",
    "# 转换为数据帧并重置索引\n",
    "NCI_PI = NCI_PI.to_frame().reset_index()\n",
    "\n",
    "# Let's correct the columns names, this shouldn't be APPLICATION_ID but Total_NCI_Projects_2015\n",
    "# 让我们更正列名，这不应该是 APPLICATION_ID 而是 Total_NCI_Projects_2015\n",
    "NCI_PI.rename(columns={'APPLICATION_ID':'Total_NCI_Projects_2015'}, inplace = True)\n",
    "\n",
    "# View the first 5 observations \n",
    "# 查看前 5 个观察值\n",
    "NCI_PI.head()"
   ]
  },
  {
   "cell_type": "code",
   "execution_count": 28,
   "metadata": {},
   "outputs": [
    {
     "data": {
      "text/plain": [
       "(68, 2)"
      ]
     },
     "execution_count": 28,
     "metadata": {},
     "output_type": "execute_result"
    }
   ],
   "source": [
    "# Look at how many rows and columns there are before merging \n",
    "NCI_PI.shape"
   ]
  },
  {
   "cell_type": "code",
   "execution_count": 29,
   "metadata": {},
   "outputs": [
    {
     "data": {
      "text/plain": [
       "(508, 4)"
      ]
     },
     "execution_count": 29,
     "metadata": {},
     "output_type": "execute_result"
    }
   ],
   "source": [
    "# Merge NCI_PI into the DF_2015 data frame \n",
    "DF_2015 = pd.merge(DF_2015, NCI_PI, on='PI_NAME', how = 'outer')\n",
    "\n",
    "# Look at how many rows and columns there are after merging \n",
    "DF_2015.shape"
   ]
  },
  {
   "cell_type": "markdown",
   "metadata": {},
   "source": [
    "Note, we used an outer merge, so we are maintaining the total number of observations from the `DF_2015` data frame. If we had used an `inner merge,` we would only capture the PIs in both dataframes. This would be bad, since it would be dropping all the PIs who are not on an NCI grant."
   ]
  },
  {
   "cell_type": "markdown",
   "metadata": {},
   "source": [
    "### Total value of National Cancer Instute Projects"
   ]
  },
  {
   "cell_type": "code",
   "execution_count": 30,
   "metadata": {
    "scrolled": false
   },
   "outputs": [
    {
     "data": {
      "text/html": [
       "<div>\n",
       "<style scoped>\n",
       "    .dataframe tbody tr th:only-of-type {\n",
       "        vertical-align: middle;\n",
       "    }\n",
       "\n",
       "    .dataframe tbody tr th {\n",
       "        vertical-align: top;\n",
       "    }\n",
       "\n",
       "    .dataframe thead th {\n",
       "        text-align: right;\n",
       "    }\n",
       "</style>\n",
       "<table border=\"1\" class=\"dataframe\">\n",
       "  <thead>\n",
       "    <tr style=\"text-align: right;\">\n",
       "      <th></th>\n",
       "      <th>PI_NAME</th>\n",
       "      <th>NCI_Total_Cost_2015</th>\n",
       "    </tr>\n",
       "  </thead>\n",
       "  <tbody>\n",
       "    <tr>\n",
       "      <th>0</th>\n",
       "      <td>NEEL, BENJAMIN G.</td>\n",
       "      <td>3160475.0</td>\n",
       "    </tr>\n",
       "    <tr>\n",
       "      <th>1</th>\n",
       "      <td>AIFANTIS, IANNIS</td>\n",
       "      <td>1535056.0</td>\n",
       "    </tr>\n",
       "    <tr>\n",
       "      <th>2</th>\n",
       "      <td>WU, XUE-RU</td>\n",
       "      <td>1312471.0</td>\n",
       "    </tr>\n",
       "  </tbody>\n",
       "</table>\n",
       "</div>"
      ],
      "text/plain": [
       "             PI_NAME  NCI_Total_Cost_2015\n",
       "0  NEEL, BENJAMIN G.  3160475.0          \n",
       "1  AIFANTIS, IANNIS   1535056.0          \n",
       "2  WU, XUE-RU         1312471.0          "
      ]
     },
     "execution_count": 30,
     "metadata": {},
     "output_type": "execute_result"
    }
   ],
   "source": [
    "# Calculate the sum of the total NCI costs for each PI\n",
    "# 查看合并前有多少行和列 # 计算每个PI的总NCI成本之和\n",
    "NCI_Value = NCI.groupby('PI_NAME')['TOTAL_COST'].sum().sort_values(ascending=False)\n",
    "\n",
    "# Convert into a dataframe and reset index\n",
    "# 转换为数据帧并重置索引\n",
    "NCI_Value = NCI_Value.to_frame().reset_index()\n",
    "\n",
    "# Rename the colums New_TOTAL_COST\n",
    "# 重命名列 New TOTAL_COST\n",
    "NCI_Value.rename(columns={'TOTAL_COST':'NCI_Total_Cost_2015'}, inplace=True)\n",
    "\n",
    "# View the first 3 observations\n",
    "NCI_Value.head(3)"
   ]
  },
  {
   "cell_type": "code",
   "execution_count": 31,
   "metadata": {
    "scrolled": true
   },
   "outputs": [
    {
     "data": {
      "text/plain": [
       "(68, 2)"
      ]
     },
     "execution_count": 31,
     "metadata": {},
     "output_type": "execute_result"
    }
   ],
   "source": [
    "# Look at how many rows and columns there are before merging \n",
    "NCI_Value.shape"
   ]
  },
  {
   "cell_type": "code",
   "execution_count": 32,
   "metadata": {},
   "outputs": [
    {
     "data": {
      "text/plain": [
       "(508, 5)"
      ]
     },
     "execution_count": 32,
     "metadata": {},
     "output_type": "execute_result"
    }
   ],
   "source": [
    "# Merge the NCI_Value into the DF_2015 data frame \n",
    "DF_2015 = pd.merge(DF_2015, NCI_Value, on='PI_NAME', how = 'outer')\n",
    "\n",
    "# Look at how many rows and columns there are after merging \n",
    "DF_2015.shape"
   ]
  },
  {
   "cell_type": "code",
   "execution_count": 33,
   "metadata": {
    "scrolled": true
   },
   "outputs": [
    {
     "data": {
      "text/html": [
       "<div>\n",
       "<style scoped>\n",
       "    .dataframe tbody tr th:only-of-type {\n",
       "        vertical-align: middle;\n",
       "    }\n",
       "\n",
       "    .dataframe tbody tr th {\n",
       "        vertical-align: top;\n",
       "    }\n",
       "\n",
       "    .dataframe thead th {\n",
       "        text-align: right;\n",
       "    }\n",
       "</style>\n",
       "<table border=\"1\" class=\"dataframe\">\n",
       "  <thead>\n",
       "    <tr style=\"text-align: right;\">\n",
       "      <th></th>\n",
       "      <th>PI_NAME</th>\n",
       "      <th>Total_Projects_2015</th>\n",
       "      <th>Total_Cost_All_2015</th>\n",
       "      <th>Total_NCI_Projects_2015</th>\n",
       "      <th>NCI_Total_Cost_2015</th>\n",
       "    </tr>\n",
       "  </thead>\n",
       "  <tbody>\n",
       "    <tr>\n",
       "      <th>0</th>\n",
       "      <td>CARROLL, WILLIAM L.</td>\n",
       "      <td>27</td>\n",
       "      <td>432951.0</td>\n",
       "      <td>27.0</td>\n",
       "      <td>432951.0</td>\n",
       "    </tr>\n",
       "    <tr>\n",
       "      <th>1</th>\n",
       "      <td>COSTA, MAX</td>\n",
       "      <td>12</td>\n",
       "      <td>2563657.0</td>\n",
       "      <td>NaN</td>\n",
       "      <td>NaN</td>\n",
       "    </tr>\n",
       "    <tr>\n",
       "      <th>2</th>\n",
       "      <td>OGEDEGBE, OLUGBENGA G.</td>\n",
       "      <td>7</td>\n",
       "      <td>3222047.0</td>\n",
       "      <td>NaN</td>\n",
       "      <td>NaN</td>\n",
       "    </tr>\n",
       "  </tbody>\n",
       "</table>\n",
       "</div>"
      ],
      "text/plain": [
       "                  PI_NAME  Total_Projects_2015  Total_Cost_All_2015  \\\n",
       "0  CARROLL, WILLIAM L.     27                   432951.0              \n",
       "1  COSTA, MAX              12                   2563657.0             \n",
       "2  OGEDEGBE, OLUGBENGA G.  7                    3222047.0             \n",
       "\n",
       "   Total_NCI_Projects_2015  NCI_Total_Cost_2015  \n",
       "0  27.0                     432951.0             \n",
       "1 NaN                      NaN                   \n",
       "2 NaN                      NaN                   "
      ]
     },
     "execution_count": 33,
     "metadata": {},
     "output_type": "execute_result"
    }
   ],
   "source": [
    "# View the first 3 observations\n",
    "DF_2015.head(3)"
   ]
  },
  {
   "cell_type": "markdown",
   "metadata": {},
   "source": [
    "## New grants from the National Cancer Institute¶"
   ]
  },
  {
   "cell_type": "markdown",
   "metadata": {},
   "source": [
    "#### New projects\n",
    "We need to identify all projects that started this year we will do this in 3 steps \n",
    "1. Convert PROJECT_START into a date variable\n",
    "2. Use the project start date to create a `project_start_year` column\n",
    "3. Create a new data frame that only has a observations where the `PROJECT_START_YEAR` is 2015\n",
    "#### 新项目\n",
    "我们需要确定今年开始的所有项目，我们将分 3 个步骤进行\n",
    "1.将PROJECT_START转换为日期变量\n",
    "2. 使用项目开始日期创建一个“project_start_year”列\n",
    "3. 创建一个新的数据框，其中只有 `PROJECT_START_YEAR` 为 2015 年的观测值"
   ]
  },
  {
   "cell_type": "markdown",
   "metadata": {},
   "source": []
  },
  {
   "cell_type": "code",
   "execution_count": 34,
   "metadata": {
    "scrolled": true
   },
   "outputs": [
    {
     "name": "stderr",
     "output_type": "stream",
     "text": [
      "/var/folders/rl/4_s3mzkj6ll5h2_4qxy9sftw0000gn/T/ipykernel_15654/1589043985.py:2: SettingWithCopyWarning: \n",
      "A value is trying to be set on a copy of a slice from a DataFrame.\n",
      "Try using .loc[row_indexer,col_indexer] = value instead\n",
      "\n",
      "See the caveats in the documentation: https://pandas.pydata.org/pandas-docs/stable/user_guide/indexing.html#returning-a-view-versus-a-copy\n",
      "  NCI['PROJECT_START'] = pd.to_datetime(NCI['PROJECT_START'])\n",
      "/var/folders/rl/4_s3mzkj6ll5h2_4qxy9sftw0000gn/T/ipykernel_15654/1589043985.py:5: SettingWithCopyWarning: \n",
      "A value is trying to be set on a copy of a slice from a DataFrame.\n",
      "Try using .loc[row_indexer,col_indexer] = value instead\n",
      "\n",
      "See the caveats in the documentation: https://pandas.pydata.org/pandas-docs/stable/user_guide/indexing.html#returning-a-view-versus-a-copy\n",
      "  NCI['PROJECT_START_YEAR'] = NCI['PROJECT_START'].dt.year\n"
     ]
    },
    {
     "data": {
      "text/html": [
       "<div>\n",
       "<style scoped>\n",
       "    .dataframe tbody tr th:only-of-type {\n",
       "        vertical-align: middle;\n",
       "    }\n",
       "\n",
       "    .dataframe tbody tr th {\n",
       "        vertical-align: top;\n",
       "    }\n",
       "\n",
       "    .dataframe thead th {\n",
       "        text-align: right;\n",
       "    }\n",
       "</style>\n",
       "<table border=\"1\" class=\"dataframe\">\n",
       "  <thead>\n",
       "    <tr style=\"text-align: right;\">\n",
       "      <th></th>\n",
       "      <th>PROJECT_START_YEAR</th>\n",
       "      <th>PROJECT_START</th>\n",
       "    </tr>\n",
       "  </thead>\n",
       "  <tbody>\n",
       "    <tr>\n",
       "      <th>8</th>\n",
       "      <td>1985.0</td>\n",
       "      <td>1985-09-30</td>\n",
       "    </tr>\n",
       "    <tr>\n",
       "      <th>22</th>\n",
       "      <td>2012.0</td>\n",
       "      <td>2012-04-23</td>\n",
       "    </tr>\n",
       "    <tr>\n",
       "      <th>23</th>\n",
       "      <td>2012.0</td>\n",
       "      <td>2012-04-23</td>\n",
       "    </tr>\n",
       "  </tbody>\n",
       "</table>\n",
       "</div>"
      ],
      "text/plain": [
       "    PROJECT_START_YEAR PROJECT_START\n",
       "8   1985.0             1985-09-30   \n",
       "22  2012.0             2012-04-23   \n",
       "23  2012.0             2012-04-23   "
      ]
     },
     "execution_count": 34,
     "metadata": {},
     "output_type": "execute_result"
    }
   ],
   "source": [
    "# convert PROJECT_START into a date variable\n",
    "NCI['PROJECT_START'] = pd.to_datetime(NCI['PROJECT_START'])\n",
    "\n",
    "# Create a new year variable from the PROJECT_START\n",
    "NCI['PROJECT_START_YEAR'] = NCI['PROJECT_START'].dt.year\n",
    "\n",
    "# View the first 3 observarions for select variables \n",
    "NCI[['PROJECT_START_YEAR', 'PROJECT_START']].head(3)"
   ]
  },
  {
   "cell_type": "code",
   "execution_count": 35,
   "metadata": {
    "scrolled": true
   },
   "outputs": [
    {
     "data": {
      "text/html": [
       "<div>\n",
       "<style scoped>\n",
       "    .dataframe tbody tr th:only-of-type {\n",
       "        vertical-align: middle;\n",
       "    }\n",
       "\n",
       "    .dataframe tbody tr th {\n",
       "        vertical-align: top;\n",
       "    }\n",
       "\n",
       "    .dataframe thead th {\n",
       "        text-align: right;\n",
       "    }\n",
       "</style>\n",
       "<table border=\"1\" class=\"dataframe\">\n",
       "  <thead>\n",
       "    <tr style=\"text-align: right;\">\n",
       "      <th></th>\n",
       "      <th>PROJECT_START_YEAR</th>\n",
       "      <th>PROJECT_START</th>\n",
       "    </tr>\n",
       "  </thead>\n",
       "  <tbody>\n",
       "    <tr>\n",
       "      <th>78</th>\n",
       "      <td>2015.0</td>\n",
       "      <td>2015-08-12</td>\n",
       "    </tr>\n",
       "    <tr>\n",
       "      <th>146</th>\n",
       "      <td>2015.0</td>\n",
       "      <td>2015-05-01</td>\n",
       "    </tr>\n",
       "    <tr>\n",
       "      <th>168</th>\n",
       "      <td>2015.0</td>\n",
       "      <td>2015-05-05</td>\n",
       "    </tr>\n",
       "  </tbody>\n",
       "</table>\n",
       "</div>"
      ],
      "text/plain": [
       "     PROJECT_START_YEAR PROJECT_START\n",
       "78   2015.0             2015-08-12   \n",
       "146  2015.0             2015-05-01   \n",
       "168  2015.0             2015-05-05   "
      ]
     },
     "execution_count": 35,
     "metadata": {},
     "output_type": "execute_result"
    }
   ],
   "source": [
    "# Create a new data frame that has a variable where the PROJECT_START_YEAR is 2015\n",
    "NCI_new = NCI[NCI['PROJECT_START_YEAR'] == 2015]\n",
    "\n",
    "# View the first 3 observations for select variables \n",
    "NCI_new[['PROJECT_START_YEAR', 'PROJECT_START']].head(3)"
   ]
  },
  {
   "cell_type": "code",
   "execution_count": 36,
   "metadata": {},
   "outputs": [
    {
     "data": {
      "text/plain": [
       "(14, 49)"
      ]
     },
     "execution_count": 36,
     "metadata": {},
     "output_type": "execute_result"
    }
   ],
   "source": [
    "NCI_new.shape"
   ]
  },
  {
   "cell_type": "markdown",
   "metadata": {},
   "source": [
    "### Number of New Grants from the National Cancer Institute\n",
    "### 国家癌症研究所的新拨款数量"
   ]
  },
  {
   "cell_type": "code",
   "execution_count": 37,
   "metadata": {},
   "outputs": [
    {
     "data": {
      "text/html": [
       "<div>\n",
       "<style scoped>\n",
       "    .dataframe tbody tr th:only-of-type {\n",
       "        vertical-align: middle;\n",
       "    }\n",
       "\n",
       "    .dataframe tbody tr th {\n",
       "        vertical-align: top;\n",
       "    }\n",
       "\n",
       "    .dataframe thead th {\n",
       "        text-align: right;\n",
       "    }\n",
       "</style>\n",
       "<table border=\"1\" class=\"dataframe\">\n",
       "  <thead>\n",
       "    <tr style=\"text-align: right;\">\n",
       "      <th></th>\n",
       "      <th>PI_NAME</th>\n",
       "      <th>Total_New_NCI_Projects_2015</th>\n",
       "    </tr>\n",
       "  </thead>\n",
       "  <tbody>\n",
       "    <tr>\n",
       "      <th>0</th>\n",
       "      <td>AIFANTIS, IANNIS</td>\n",
       "      <td>1</td>\n",
       "    </tr>\n",
       "    <tr>\n",
       "      <th>1</th>\n",
       "      <td>BARCELLOS-HOFF, MARY HELEN</td>\n",
       "      <td>1</td>\n",
       "    </tr>\n",
       "    <tr>\n",
       "      <th>2</th>\n",
       "      <td>CARUCCI, JOHN A</td>\n",
       "      <td>1</td>\n",
       "    </tr>\n",
       "  </tbody>\n",
       "</table>\n",
       "</div>"
      ],
      "text/plain": [
       "                      PI_NAME  Total_New_NCI_Projects_2015\n",
       "0  AIFANTIS, IANNIS            1                          \n",
       "1  BARCELLOS-HOFF, MARY HELEN  1                          \n",
       "2  CARUCCI, JOHN A             1                          "
      ]
     },
     "execution_count": 37,
     "metadata": {},
     "output_type": "execute_result"
    }
   ],
   "source": [
    "# Calculate how many new NCI Projects each PI has\n",
    "# 计算每个 PI 有多少个新的 NCI 项目\n",
    "NCI_new_PI = NCI_new.groupby(['PI_NAME'])['APPLICATION_ID'].nunique().sort_values(ascending=False)\n",
    "\n",
    "# Convert into a dataframe and reset index\n",
    "# 转换为数据帧并重置索引\n",
    "NCI_new_PI = NCI_new_PI.to_frame().reset_index()\n",
    "\n",
    "# Let's correct the columns names, this shouldn't be APPLICATION_ID but Total_New_NCI_Projects_2015\n",
    "# 让我们更正列名，这不应该是 APPLICATION_ID 而是 Total_New_NCI_Projects_2015\n",
    "NCI_new_PI.rename(columns={'APPLICATION_ID':'Total_New_NCI_Projects_2015'}, inplace = True)\n",
    "\n",
    "# View the first 3 observations\n",
    "# 查看前 3 个观察值\n",
    "NCI_new_PI.head(3)"
   ]
  },
  {
   "cell_type": "code",
   "execution_count": 38,
   "metadata": {},
   "outputs": [
    {
     "data": {
      "text/plain": [
       "(14, 2)"
      ]
     },
     "execution_count": 38,
     "metadata": {},
     "output_type": "execute_result"
    }
   ],
   "source": [
    "# Look at how many rows and columns there are before merging\n",
    "# 查看合并前有多少行多少列\n",
    "NCI_new_PI.shape"
   ]
  },
  {
   "cell_type": "code",
   "execution_count": 39,
   "metadata": {},
   "outputs": [
    {
     "data": {
      "text/plain": [
       "(508, 6)"
      ]
     },
     "execution_count": 39,
     "metadata": {},
     "output_type": "execute_result"
    }
   ],
   "source": [
    "DF_2015 = pd.merge(DF_2015, NCI_new_PI, on='PI_NAME', how = 'outer')\n",
    "\n",
    "# Look at how many rows and columns there are after merging \n",
    "DF_2015.shape"
   ]
  },
  {
   "cell_type": "code",
   "execution_count": 40,
   "metadata": {},
   "outputs": [
    {
     "data": {
      "text/html": [
       "<div>\n",
       "<style scoped>\n",
       "    .dataframe tbody tr th:only-of-type {\n",
       "        vertical-align: middle;\n",
       "    }\n",
       "\n",
       "    .dataframe tbody tr th {\n",
       "        vertical-align: top;\n",
       "    }\n",
       "\n",
       "    .dataframe thead th {\n",
       "        text-align: right;\n",
       "    }\n",
       "</style>\n",
       "<table border=\"1\" class=\"dataframe\">\n",
       "  <thead>\n",
       "    <tr style=\"text-align: right;\">\n",
       "      <th></th>\n",
       "      <th>PI_NAME</th>\n",
       "      <th>Total_Projects_2015</th>\n",
       "      <th>Total_Cost_All_2015</th>\n",
       "      <th>Total_NCI_Projects_2015</th>\n",
       "      <th>NCI_Total_Cost_2015</th>\n",
       "      <th>Total_New_NCI_Projects_2015</th>\n",
       "    </tr>\n",
       "  </thead>\n",
       "  <tbody>\n",
       "    <tr>\n",
       "      <th>0</th>\n",
       "      <td>CARROLL, WILLIAM L.</td>\n",
       "      <td>27</td>\n",
       "      <td>432951.0</td>\n",
       "      <td>27.0</td>\n",
       "      <td>432951.0</td>\n",
       "      <td>NaN</td>\n",
       "    </tr>\n",
       "    <tr>\n",
       "      <th>1</th>\n",
       "      <td>COSTA, MAX</td>\n",
       "      <td>12</td>\n",
       "      <td>2563657.0</td>\n",
       "      <td>NaN</td>\n",
       "      <td>NaN</td>\n",
       "      <td>NaN</td>\n",
       "    </tr>\n",
       "    <tr>\n",
       "      <th>2</th>\n",
       "      <td>OGEDEGBE, OLUGBENGA G.</td>\n",
       "      <td>7</td>\n",
       "      <td>3222047.0</td>\n",
       "      <td>NaN</td>\n",
       "      <td>NaN</td>\n",
       "      <td>NaN</td>\n",
       "    </tr>\n",
       "  </tbody>\n",
       "</table>\n",
       "</div>"
      ],
      "text/plain": [
       "                  PI_NAME  Total_Projects_2015  Total_Cost_All_2015  \\\n",
       "0  CARROLL, WILLIAM L.     27                   432951.0              \n",
       "1  COSTA, MAX              12                   2563657.0             \n",
       "2  OGEDEGBE, OLUGBENGA G.  7                    3222047.0             \n",
       "\n",
       "   Total_NCI_Projects_2015  NCI_Total_Cost_2015  Total_New_NCI_Projects_2015  \n",
       "0  27.0                     432951.0            NaN                           \n",
       "1 NaN                      NaN                  NaN                           \n",
       "2 NaN                      NaN                  NaN                           "
      ]
     },
     "execution_count": 40,
     "metadata": {},
     "output_type": "execute_result"
    }
   ],
   "source": [
    "# Look at the first 3 observations \n",
    "DF_2015.head(3)"
   ]
  },
  {
   "cell_type": "markdown",
   "metadata": {},
   "source": [
    "# Check point 1: (Assignment 3 due March 10th)  <a class=\"anchor\" id=\"checkpoint1\"></a>\n",
    "Add a column to the `DF_2015` dataframe that has the total value of New National Cancer Instute Projects (3points)\n",
    "Due "
   ]
  },
  {
   "cell_type": "code",
   "execution_count": 41,
   "metadata": {},
   "outputs": [
    {
     "data": {
      "text/html": [
       "<div>\n",
       "<style scoped>\n",
       "    .dataframe tbody tr th:only-of-type {\n",
       "        vertical-align: middle;\n",
       "    }\n",
       "\n",
       "    .dataframe tbody tr th {\n",
       "        vertical-align: top;\n",
       "    }\n",
       "\n",
       "    .dataframe thead th {\n",
       "        text-align: right;\n",
       "    }\n",
       "</style>\n",
       "<table border=\"1\" class=\"dataframe\">\n",
       "  <thead>\n",
       "    <tr style=\"text-align: right;\">\n",
       "      <th></th>\n",
       "      <th>PI_NAME</th>\n",
       "      <th>NCI_New_Total_Cost_2015</th>\n",
       "      <th>Total_Projects_2015</th>\n",
       "      <th>Total_Cost_All_2015</th>\n",
       "      <th>Total_NCI_Projects_2015</th>\n",
       "      <th>NCI_Total_Cost_2015</th>\n",
       "      <th>Total_New_NCI_Projects_2015</th>\n",
       "    </tr>\n",
       "  </thead>\n",
       "  <tbody>\n",
       "    <tr>\n",
       "      <th>0</th>\n",
       "      <td>ZELENIUCH-JAQUOTTE, ANNE</td>\n",
       "      <td>788279.0</td>\n",
       "      <td>1</td>\n",
       "      <td>788279.0</td>\n",
       "      <td>1.0</td>\n",
       "      <td>788279.0</td>\n",
       "      <td>1.0</td>\n",
       "    </tr>\n",
       "    <tr>\n",
       "      <th>1</th>\n",
       "      <td>KIRCHHOFF, TOMAS</td>\n",
       "      <td>478926.0</td>\n",
       "      <td>2</td>\n",
       "      <td>663257.0</td>\n",
       "      <td>2.0</td>\n",
       "      <td>663257.0</td>\n",
       "      <td>1.0</td>\n",
       "    </tr>\n",
       "    <tr>\n",
       "      <th>2</th>\n",
       "      <td>AIFANTIS, IANNIS</td>\n",
       "      <td>457533.0</td>\n",
       "      <td>4</td>\n",
       "      <td>1535056.0</td>\n",
       "      <td>4.0</td>\n",
       "      <td>1535056.0</td>\n",
       "      <td>1.0</td>\n",
       "    </tr>\n",
       "    <tr>\n",
       "      <th>3</th>\n",
       "      <td>CARUCCI, JOHN A</td>\n",
       "      <td>444422.0</td>\n",
       "      <td>1</td>\n",
       "      <td>444422.0</td>\n",
       "      <td>1.0</td>\n",
       "      <td>444422.0</td>\n",
       "      <td>1.0</td>\n",
       "    </tr>\n",
       "    <tr>\n",
       "      <th>4</th>\n",
       "      <td>GOLD, HEATHER TAFFET</td>\n",
       "      <td>424833.0</td>\n",
       "      <td>1</td>\n",
       "      <td>424833.0</td>\n",
       "      <td>1.0</td>\n",
       "      <td>424833.0</td>\n",
       "      <td>1.0</td>\n",
       "    </tr>\n",
       "    <tr>\n",
       "      <th>5</th>\n",
       "      <td>SCHNEIDER, ROBERT</td>\n",
       "      <td>419016.0</td>\n",
       "      <td>1</td>\n",
       "      <td>419016.0</td>\n",
       "      <td>1.0</td>\n",
       "      <td>419016.0</td>\n",
       "      <td>1.0</td>\n",
       "    </tr>\n",
       "    <tr>\n",
       "      <th>6</th>\n",
       "      <td>ROTHENBERG, ELI</td>\n",
       "      <td>253893.0</td>\n",
       "      <td>2</td>\n",
       "      <td>580181.0</td>\n",
       "      <td>1.0</td>\n",
       "      <td>253893.0</td>\n",
       "      <td>1.0</td>\n",
       "    </tr>\n",
       "    <tr>\n",
       "      <th>7</th>\n",
       "      <td>MOSCATELLI, DAVID A</td>\n",
       "      <td>221198.0</td>\n",
       "      <td>1</td>\n",
       "      <td>221198.0</td>\n",
       "      <td>1.0</td>\n",
       "      <td>221198.0</td>\n",
       "      <td>1.0</td>\n",
       "    </tr>\n",
       "    <tr>\n",
       "      <th>8</th>\n",
       "      <td>POSSEMATO, RICHARD LEWIS</td>\n",
       "      <td>221198.0</td>\n",
       "      <td>2</td>\n",
       "      <td>470197.0</td>\n",
       "      <td>2.0</td>\n",
       "      <td>470197.0</td>\n",
       "      <td>1.0</td>\n",
       "    </tr>\n",
       "    <tr>\n",
       "      <th>9</th>\n",
       "      <td>SKOK, JANE AMANDA</td>\n",
       "      <td>220825.0</td>\n",
       "      <td>2</td>\n",
       "      <td>745991.0</td>\n",
       "      <td>1.0</td>\n",
       "      <td>220825.0</td>\n",
       "      <td>1.0</td>\n",
       "    </tr>\n",
       "    <tr>\n",
       "      <th>10</th>\n",
       "      <td>OSMAN, IMAN</td>\n",
       "      <td>203400.0</td>\n",
       "      <td>1</td>\n",
       "      <td>203400.0</td>\n",
       "      <td>1.0</td>\n",
       "      <td>203400.0</td>\n",
       "      <td>1.0</td>\n",
       "    </tr>\n",
       "    <tr>\n",
       "      <th>11</th>\n",
       "      <td>POLSKY, DAVID</td>\n",
       "      <td>184331.0</td>\n",
       "      <td>1</td>\n",
       "      <td>184331.0</td>\n",
       "      <td>1.0</td>\n",
       "      <td>184331.0</td>\n",
       "      <td>1.0</td>\n",
       "    </tr>\n",
       "    <tr>\n",
       "      <th>12</th>\n",
       "      <td>MILLER, GEORGE</td>\n",
       "      <td>149955.0</td>\n",
       "      <td>2</td>\n",
       "      <td>501668.0</td>\n",
       "      <td>2.0</td>\n",
       "      <td>501668.0</td>\n",
       "      <td>1.0</td>\n",
       "    </tr>\n",
       "    <tr>\n",
       "      <th>13</th>\n",
       "      <td>BARCELLOS-HOFF, MARY HELEN</td>\n",
       "      <td>30244.0</td>\n",
       "      <td>2</td>\n",
       "      <td>242119.0</td>\n",
       "      <td>1.0</td>\n",
       "      <td>30244.0</td>\n",
       "      <td>1.0</td>\n",
       "    </tr>\n",
       "    <tr>\n",
       "      <th>14</th>\n",
       "      <td>CARROLL, WILLIAM L.</td>\n",
       "      <td>NaN</td>\n",
       "      <td>27</td>\n",
       "      <td>432951.0</td>\n",
       "      <td>27.0</td>\n",
       "      <td>432951.0</td>\n",
       "      <td>NaN</td>\n",
       "    </tr>\n",
       "  </tbody>\n",
       "</table>\n",
       "</div>"
      ],
      "text/plain": [
       "                       PI_NAME  NCI_New_Total_Cost_2015  Total_Projects_2015  \\\n",
       "0   ZELENIUCH-JAQUOTTE, ANNE    788279.0                 1                     \n",
       "1   KIRCHHOFF, TOMAS            478926.0                 2                     \n",
       "2   AIFANTIS, IANNIS            457533.0                 4                     \n",
       "3   CARUCCI, JOHN A             444422.0                 1                     \n",
       "4   GOLD, HEATHER TAFFET        424833.0                 1                     \n",
       "5   SCHNEIDER, ROBERT           419016.0                 1                     \n",
       "6   ROTHENBERG, ELI             253893.0                 2                     \n",
       "7   MOSCATELLI, DAVID A         221198.0                 1                     \n",
       "8   POSSEMATO, RICHARD LEWIS    221198.0                 2                     \n",
       "9   SKOK, JANE AMANDA           220825.0                 2                     \n",
       "10  OSMAN, IMAN                 203400.0                 1                     \n",
       "11  POLSKY, DAVID               184331.0                 1                     \n",
       "12  MILLER, GEORGE              149955.0                 2                     \n",
       "13  BARCELLOS-HOFF, MARY HELEN  30244.0                  2                     \n",
       "14  CARROLL, WILLIAM L.        NaN                       27                    \n",
       "\n",
       "    Total_Cost_All_2015  Total_NCI_Projects_2015  NCI_Total_Cost_2015  \\\n",
       "0   788279.0             1.0                      788279.0              \n",
       "1   663257.0             2.0                      663257.0              \n",
       "2   1535056.0            4.0                      1535056.0             \n",
       "3   444422.0             1.0                      444422.0              \n",
       "4   424833.0             1.0                      424833.0              \n",
       "5   419016.0             1.0                      419016.0              \n",
       "6   580181.0             1.0                      253893.0              \n",
       "7   221198.0             1.0                      221198.0              \n",
       "8   470197.0             2.0                      470197.0              \n",
       "9   745991.0             1.0                      220825.0              \n",
       "10  203400.0             1.0                      203400.0              \n",
       "11  184331.0             1.0                      184331.0              \n",
       "12  501668.0             2.0                      501668.0              \n",
       "13  242119.0             1.0                      30244.0               \n",
       "14  432951.0             27.0                     432951.0              \n",
       "\n",
       "    Total_New_NCI_Projects_2015  \n",
       "0   1.0                          \n",
       "1   1.0                          \n",
       "2   1.0                          \n",
       "3   1.0                          \n",
       "4   1.0                          \n",
       "5   1.0                          \n",
       "6   1.0                          \n",
       "7   1.0                          \n",
       "8   1.0                          \n",
       "9   1.0                          \n",
       "10  1.0                          \n",
       "11  1.0                          \n",
       "12  1.0                          \n",
       "13  1.0                          \n",
       "14 NaN                           "
      ]
     },
     "execution_count": 41,
     "metadata": {},
     "output_type": "execute_result"
    }
   ],
   "source": [
    "# Calculate the sum of the total new NCI costs for each PI\n",
    "NCI_new_cost = NCI_new.groupby('PI_NAME')['TOTAL_COST'].sum().sort_values(ascending=False)\n",
    "\n",
    "# Convert into a dataframe and reset index\n",
    "NCI_new_cost = NCI_new_cost.to_frame().reset_index()\n",
    "NCI_new_cost\n",
    "\n",
    "# Rename the colums NCI_New_TOTAL_COST\n",
    "NCI_new_cost.rename(columns={'TOTAL_COST':'NCI_New_Total_Cost_2015'}, inplace=True)\n",
    "NCI_new_cost\n",
    "\n",
    "# Outer merge DF2015 and NCI_new_cost (https://pandas.pydata.org/docs/reference/api/pandas.DataFrame.sort_values.html)\n",
    "\n",
    "DF_2015 = pd.merge(NCI_new_cost,DF_2015, on='PI_NAME', how = 'outer')\n",
    "\n",
    "DF_2015.head(15)"
   ]
  },
  {
   "cell_type": "markdown",
   "metadata": {},
   "source": [
    "### What Is the Most Common CI for each PI? "
   ]
  },
  {
   "cell_type": "code",
   "execution_count": 42,
   "metadata": {
    "scrolled": true
   },
   "outputs": [
    {
     "data": {
      "text/html": [
       "<div>\n",
       "<style scoped>\n",
       "    .dataframe tbody tr th:only-of-type {\n",
       "        vertical-align: middle;\n",
       "    }\n",
       "\n",
       "    .dataframe tbody tr th {\n",
       "        vertical-align: top;\n",
       "    }\n",
       "\n",
       "    .dataframe thead th {\n",
       "        text-align: right;\n",
       "    }\n",
       "</style>\n",
       "<table border=\"1\" class=\"dataframe\">\n",
       "  <thead>\n",
       "    <tr style=\"text-align: right;\">\n",
       "      <th></th>\n",
       "      <th>PI_NAME</th>\n",
       "      <th>Most_common_IC_2015</th>\n",
       "      <th>Most_common_IC_Count_2015</th>\n",
       "    </tr>\n",
       "  </thead>\n",
       "  <tbody>\n",
       "    <tr>\n",
       "      <th>0</th>\n",
       "      <td>BINKA, FRED NEWTON</td>\n",
       "      <td>FOGARTY INTERNATIONAL CENTER</td>\n",
       "      <td>1</td>\n",
       "    </tr>\n",
       "    <tr>\n",
       "      <th>1</th>\n",
       "      <td>BRAITHWAITE, RONALD SCOTT</td>\n",
       "      <td>NATIONAL INSTITUTE OF BIOMEDICAL IMAGING AND BIOENGINEERING</td>\n",
       "      <td>1</td>\n",
       "    </tr>\n",
       "    <tr>\n",
       "      <th>2</th>\n",
       "      <td>CHANDARANA, HERSH</td>\n",
       "      <td>NATIONAL INSTITUTE OF BIOMEDICAL IMAGING AND BIOENGINEERING</td>\n",
       "      <td>1</td>\n",
       "    </tr>\n",
       "  </tbody>\n",
       "</table>\n",
       "</div>"
      ],
      "text/plain": [
       "                      PI_NAME  \\\n",
       "0   BINKA, FRED NEWTON          \n",
       "1   BRAITHWAITE, RONALD SCOTT   \n",
       "2   CHANDARANA, HERSH           \n",
       "\n",
       "                                           Most_common_IC_2015  \\\n",
       "0  FOGARTY INTERNATIONAL CENTER                                  \n",
       "1  NATIONAL INSTITUTE OF BIOMEDICAL IMAGING AND BIOENGINEERING   \n",
       "2  NATIONAL INSTITUTE OF BIOMEDICAL IMAGING AND BIOENGINEERING   \n",
       "\n",
       "   Most_common_IC_Count_2015  \n",
       "0  1                          \n",
       "1  1                          \n",
       "2  1                          "
      ]
     },
     "execution_count": 42,
     "metadata": {},
     "output_type": "execute_result"
    }
   ],
   "source": [
    "# Calculate how many projects each PI has with each CI\n",
    "temp = df_NYU3.groupby(['PI_NAME', 'IC_NAME'])['APPLICATION_ID'].nunique().sort_values(ascending=False)\n",
    "\n",
    "# Convert into a dataframe and reset index\n",
    "temp = temp.to_frame().reset_index()\n",
    "\n",
    "# Rename APPLICATION_ID Count\n",
    "temp.rename(columns={'APPLICATION_ID':'Count'}, inplace = True)\n",
    "\n",
    "# Group by PI_NAME and select the resultant rows with the max value in the (numerical column -> Count)\n",
    "# Sorted in ascending order of Count\n",
    "temp = temp.groupby(['PI_NAME'],sort=True)[['IC_NAME', 'Count']].max()\n",
    "\n",
    "# Rename IC_NAME Most_common_IC\n",
    "temp.rename(columns={'IC_NAME':'Most_common_IC_2015', 'Count': 'Most_common_IC_Count_2015'}, inplace = True)\n",
    "temp = temp.reset_index()\n",
    "\n",
    "# View the first 3 observations\n",
    "temp.head(3)"
   ]
  },
  {
   "cell_type": "code",
   "execution_count": 43,
   "metadata": {},
   "outputs": [
    {
     "data": {
      "text/plain": [
       "(508, 9)"
      ]
     },
     "execution_count": 43,
     "metadata": {},
     "output_type": "execute_result"
    }
   ],
   "source": [
    "# Merge the temp dataframe into the DF_2015 data frame \n",
    "# Use an outer merge\n",
    "DF_2015= pd.merge(DF_2015, temp, on='PI_NAME', how = 'outer')\n",
    "\n",
    "# Look at how many rows and columns there are\n",
    "DF_2015.shape"
   ]
  },
  {
   "cell_type": "code",
   "execution_count": 44,
   "metadata": {
    "scrolled": true
   },
   "outputs": [
    {
     "data": {
      "text/html": [
       "<div>\n",
       "<style scoped>\n",
       "    .dataframe tbody tr th:only-of-type {\n",
       "        vertical-align: middle;\n",
       "    }\n",
       "\n",
       "    .dataframe tbody tr th {\n",
       "        vertical-align: top;\n",
       "    }\n",
       "\n",
       "    .dataframe thead th {\n",
       "        text-align: right;\n",
       "    }\n",
       "</style>\n",
       "<table border=\"1\" class=\"dataframe\">\n",
       "  <thead>\n",
       "    <tr style=\"text-align: right;\">\n",
       "      <th></th>\n",
       "      <th>PI_NAME</th>\n",
       "      <th>NCI_New_Total_Cost_2015</th>\n",
       "      <th>Total_Projects_2015</th>\n",
       "      <th>Total_Cost_All_2015</th>\n",
       "      <th>Total_NCI_Projects_2015</th>\n",
       "      <th>NCI_Total_Cost_2015</th>\n",
       "      <th>Total_New_NCI_Projects_2015</th>\n",
       "      <th>Most_common_IC_2015</th>\n",
       "      <th>Most_common_IC_Count_2015</th>\n",
       "    </tr>\n",
       "  </thead>\n",
       "  <tbody>\n",
       "    <tr>\n",
       "      <th>0</th>\n",
       "      <td>ZELENIUCH-JAQUOTTE, ANNE</td>\n",
       "      <td>788279.0</td>\n",
       "      <td>1</td>\n",
       "      <td>788279.0</td>\n",
       "      <td>1.0</td>\n",
       "      <td>788279.0</td>\n",
       "      <td>1.0</td>\n",
       "      <td>NATIONAL CANCER INSTITUTE</td>\n",
       "      <td>1</td>\n",
       "    </tr>\n",
       "    <tr>\n",
       "      <th>1</th>\n",
       "      <td>KIRCHHOFF, TOMAS</td>\n",
       "      <td>478926.0</td>\n",
       "      <td>2</td>\n",
       "      <td>663257.0</td>\n",
       "      <td>2.0</td>\n",
       "      <td>663257.0</td>\n",
       "      <td>1.0</td>\n",
       "      <td>NATIONAL CANCER INSTITUTE</td>\n",
       "      <td>2</td>\n",
       "    </tr>\n",
       "    <tr>\n",
       "      <th>2</th>\n",
       "      <td>AIFANTIS, IANNIS</td>\n",
       "      <td>457533.0</td>\n",
       "      <td>4</td>\n",
       "      <td>1535056.0</td>\n",
       "      <td>4.0</td>\n",
       "      <td>1535056.0</td>\n",
       "      <td>1.0</td>\n",
       "      <td>NATIONAL CANCER INSTITUTE</td>\n",
       "      <td>4</td>\n",
       "    </tr>\n",
       "  </tbody>\n",
       "</table>\n",
       "</div>"
      ],
      "text/plain": [
       "                     PI_NAME  NCI_New_Total_Cost_2015  Total_Projects_2015  \\\n",
       "0  ZELENIUCH-JAQUOTTE, ANNE   788279.0                 1                     \n",
       "1  KIRCHHOFF, TOMAS           478926.0                 2                     \n",
       "2  AIFANTIS, IANNIS           457533.0                 4                     \n",
       "\n",
       "   Total_Cost_All_2015  Total_NCI_Projects_2015  NCI_Total_Cost_2015  \\\n",
       "0  788279.0             1.0                      788279.0              \n",
       "1  663257.0             2.0                      663257.0              \n",
       "2  1535056.0            4.0                      1535056.0             \n",
       "\n",
       "   Total_New_NCI_Projects_2015        Most_common_IC_2015  \\\n",
       "0  1.0                          NATIONAL CANCER INSTITUTE   \n",
       "1  1.0                          NATIONAL CANCER INSTITUTE   \n",
       "2  1.0                          NATIONAL CANCER INSTITUTE   \n",
       "\n",
       "   Most_common_IC_Count_2015  \n",
       "0  1                          \n",
       "1  2                          \n",
       "2  4                          "
      ]
     },
     "execution_count": 44,
     "metadata": {},
     "output_type": "execute_result"
    }
   ],
   "source": [
    "# View the first 3 observations\n",
    "DF_2015.head(3)"
   ]
  },
  {
   "cell_type": "markdown",
   "metadata": {},
   "source": [
    "# Link Data on PI Name <a class=\"anchor\" id=\"link_name\"></a>\n",
    "Now we will merge together the `DF_2015` Date we just created with the pre processed `DF_2017` we read in at the beginning of this notebook. We will use an `outer` joint, so that we capture PI's the had grant(s) in only 2015, both 2015 and 2017, and only 2017\n",
    "# PI 名称上的链接数据 <a class=\"anchor\" id=\"link_name\"></a>\n",
    "现在我们将把我们刚刚创建的 `DF_2015` 日期与我们在本笔记本开头读到的预处理的 `DF_2017` 合并在一起。 我们将使用“外部”联合，以便我们仅在 2015 年、2015 年和 2017 年以及仅 2017 年捕获 PI 的资助"
   ]
  },
  {
   "cell_type": "code",
   "execution_count": 45,
   "metadata": {},
   "outputs": [
    {
     "data": {
      "text/plain": [
       "(758, 17)"
      ]
     },
     "execution_count": 45,
     "metadata": {},
     "output_type": "execute_result"
    }
   ],
   "source": [
    "# Create a new dataframe by using an outer merge to merge the DF_2015 and DF_2017 dataframes\n",
    "# merging on PI_NAME\n",
    "DF = pd.merge(DF_2015, DF_2017, on='PI_NAME', how = 'outer')\n",
    "DF.shape"
   ]
  },
  {
   "cell_type": "code",
   "execution_count": 46,
   "metadata": {},
   "outputs": [
    {
     "data": {
      "text/html": [
       "<div>\n",
       "<style scoped>\n",
       "    .dataframe tbody tr th:only-of-type {\n",
       "        vertical-align: middle;\n",
       "    }\n",
       "\n",
       "    .dataframe tbody tr th {\n",
       "        vertical-align: top;\n",
       "    }\n",
       "\n",
       "    .dataframe thead th {\n",
       "        text-align: right;\n",
       "    }\n",
       "</style>\n",
       "<table border=\"1\" class=\"dataframe\">\n",
       "  <thead>\n",
       "    <tr style=\"text-align: right;\">\n",
       "      <th></th>\n",
       "      <th>PI_NAME</th>\n",
       "      <th>NCI_New_Total_Cost_2015</th>\n",
       "      <th>Total_Projects_2015</th>\n",
       "      <th>Total_Cost_All_2015</th>\n",
       "      <th>Total_NCI_Projects_2015</th>\n",
       "      <th>NCI_Total_Cost_2015</th>\n",
       "      <th>Total_New_NCI_Projects_2015</th>\n",
       "      <th>Most_common_IC_2015</th>\n",
       "      <th>Most_common_IC_Count_2015</th>\n",
       "      <th>Total_Projects_2017</th>\n",
       "      <th>Total_Cost_All_2017</th>\n",
       "      <th>Total_NCI_Projects_2017</th>\n",
       "      <th>NCI_Total_Cost_2017</th>\n",
       "      <th>Total_New_NCI_Projects_2017</th>\n",
       "      <th>NCI_New_Total_Cost_2017</th>\n",
       "      <th>Most_common_IC_2017</th>\n",
       "      <th>Most_common_IC_Count_2017</th>\n",
       "    </tr>\n",
       "  </thead>\n",
       "  <tbody>\n",
       "    <tr>\n",
       "      <th>0</th>\n",
       "      <td>ZELENIUCH-JAQUOTTE, ANNE</td>\n",
       "      <td>788279.0</td>\n",
       "      <td>1.0</td>\n",
       "      <td>788279.0</td>\n",
       "      <td>1.0</td>\n",
       "      <td>788279.0</td>\n",
       "      <td>1.0</td>\n",
       "      <td>NATIONAL CANCER INSTITUTE</td>\n",
       "      <td>1.0</td>\n",
       "      <td>1.0</td>\n",
       "      <td>694206.0</td>\n",
       "      <td>1.0</td>\n",
       "      <td>694206.0</td>\n",
       "      <td>NaN</td>\n",
       "      <td>NaN</td>\n",
       "      <td>NATIONAL CANCER INSTITUTE</td>\n",
       "      <td>1.0</td>\n",
       "    </tr>\n",
       "    <tr>\n",
       "      <th>1</th>\n",
       "      <td>KIRCHHOFF, TOMAS</td>\n",
       "      <td>478926.0</td>\n",
       "      <td>2.0</td>\n",
       "      <td>663257.0</td>\n",
       "      <td>2.0</td>\n",
       "      <td>663257.0</td>\n",
       "      <td>1.0</td>\n",
       "      <td>NATIONAL CANCER INSTITUTE</td>\n",
       "      <td>2.0</td>\n",
       "      <td>1.0</td>\n",
       "      <td>484247.0</td>\n",
       "      <td>1.0</td>\n",
       "      <td>484247.0</td>\n",
       "      <td>NaN</td>\n",
       "      <td>NaN</td>\n",
       "      <td>NATIONAL CANCER INSTITUTE</td>\n",
       "      <td>1.0</td>\n",
       "    </tr>\n",
       "    <tr>\n",
       "      <th>2</th>\n",
       "      <td>AIFANTIS, IANNIS</td>\n",
       "      <td>457533.0</td>\n",
       "      <td>4.0</td>\n",
       "      <td>1535056.0</td>\n",
       "      <td>4.0</td>\n",
       "      <td>1535056.0</td>\n",
       "      <td>1.0</td>\n",
       "      <td>NATIONAL CANCER INSTITUTE</td>\n",
       "      <td>4.0</td>\n",
       "      <td>6.0</td>\n",
       "      <td>2654279.0</td>\n",
       "      <td>6.0</td>\n",
       "      <td>2654279.0</td>\n",
       "      <td>1.0</td>\n",
       "      <td>536993.0</td>\n",
       "      <td>NATIONAL CANCER INSTITUTE</td>\n",
       "      <td>6.0</td>\n",
       "    </tr>\n",
       "    <tr>\n",
       "      <th>3</th>\n",
       "      <td>CARUCCI, JOHN A</td>\n",
       "      <td>444422.0</td>\n",
       "      <td>1.0</td>\n",
       "      <td>444422.0</td>\n",
       "      <td>1.0</td>\n",
       "      <td>444422.0</td>\n",
       "      <td>1.0</td>\n",
       "      <td>NATIONAL CANCER INSTITUTE</td>\n",
       "      <td>1.0</td>\n",
       "      <td>1.0</td>\n",
       "      <td>206473.0</td>\n",
       "      <td>1.0</td>\n",
       "      <td>206473.0</td>\n",
       "      <td>NaN</td>\n",
       "      <td>NaN</td>\n",
       "      <td>NATIONAL CANCER INSTITUTE</td>\n",
       "      <td>1.0</td>\n",
       "    </tr>\n",
       "    <tr>\n",
       "      <th>4</th>\n",
       "      <td>GOLD, HEATHER TAFFET</td>\n",
       "      <td>424833.0</td>\n",
       "      <td>1.0</td>\n",
       "      <td>424833.0</td>\n",
       "      <td>1.0</td>\n",
       "      <td>424833.0</td>\n",
       "      <td>1.0</td>\n",
       "      <td>NATIONAL CANCER INSTITUTE</td>\n",
       "      <td>1.0</td>\n",
       "      <td>1.0</td>\n",
       "      <td>406860.0</td>\n",
       "      <td>1.0</td>\n",
       "      <td>406860.0</td>\n",
       "      <td>NaN</td>\n",
       "      <td>NaN</td>\n",
       "      <td>NATIONAL CANCER INSTITUTE</td>\n",
       "      <td>1.0</td>\n",
       "    </tr>\n",
       "  </tbody>\n",
       "</table>\n",
       "</div>"
      ],
      "text/plain": [
       "                     PI_NAME  NCI_New_Total_Cost_2015  Total_Projects_2015  \\\n",
       "0  ZELENIUCH-JAQUOTTE, ANNE   788279.0                 1.0                   \n",
       "1  KIRCHHOFF, TOMAS           478926.0                 2.0                   \n",
       "2  AIFANTIS, IANNIS           457533.0                 4.0                   \n",
       "3  CARUCCI, JOHN A            444422.0                 1.0                   \n",
       "4  GOLD, HEATHER TAFFET       424833.0                 1.0                   \n",
       "\n",
       "   Total_Cost_All_2015  Total_NCI_Projects_2015  NCI_Total_Cost_2015  \\\n",
       "0  788279.0             1.0                      788279.0              \n",
       "1  663257.0             2.0                      663257.0              \n",
       "2  1535056.0            4.0                      1535056.0             \n",
       "3  444422.0             1.0                      444422.0              \n",
       "4  424833.0             1.0                      424833.0              \n",
       "\n",
       "   Total_New_NCI_Projects_2015        Most_common_IC_2015  \\\n",
       "0  1.0                          NATIONAL CANCER INSTITUTE   \n",
       "1  1.0                          NATIONAL CANCER INSTITUTE   \n",
       "2  1.0                          NATIONAL CANCER INSTITUTE   \n",
       "3  1.0                          NATIONAL CANCER INSTITUTE   \n",
       "4  1.0                          NATIONAL CANCER INSTITUTE   \n",
       "\n",
       "   Most_common_IC_Count_2015  Total_Projects_2017  Total_Cost_All_2017  \\\n",
       "0  1.0                        1.0                  694206.0              \n",
       "1  2.0                        1.0                  484247.0              \n",
       "2  4.0                        6.0                  2654279.0             \n",
       "3  1.0                        1.0                  206473.0              \n",
       "4  1.0                        1.0                  406860.0              \n",
       "\n",
       "   Total_NCI_Projects_2017  NCI_Total_Cost_2017  Total_New_NCI_Projects_2017  \\\n",
       "0  1.0                      694206.0            NaN                            \n",
       "1  1.0                      484247.0            NaN                            \n",
       "2  6.0                      2654279.0            1.0                           \n",
       "3  1.0                      206473.0            NaN                            \n",
       "4  1.0                      406860.0            NaN                            \n",
       "\n",
       "   NCI_New_Total_Cost_2017        Most_common_IC_2017  \\\n",
       "0 NaN                       NATIONAL CANCER INSTITUTE   \n",
       "1 NaN                       NATIONAL CANCER INSTITUTE   \n",
       "2  536993.0                 NATIONAL CANCER INSTITUTE   \n",
       "3 NaN                       NATIONAL CANCER INSTITUTE   \n",
       "4 NaN                       NATIONAL CANCER INSTITUTE   \n",
       "\n",
       "   Most_common_IC_Count_2017  \n",
       "0  1.0                        \n",
       "1  1.0                        \n",
       "2  6.0                        \n",
       "3  1.0                        \n",
       "4  1.0                        "
      ]
     },
     "execution_count": 46,
     "metadata": {},
     "output_type": "execute_result"
    }
   ],
   "source": [
    "# Look at the first 5 observations\n",
    "DF.head(5)"
   ]
  },
  {
   "cell_type": "code",
   "execution_count": 47,
   "metadata": {
    "scrolled": true
   },
   "outputs": [
    {
     "data": {
      "text/html": [
       "<div>\n",
       "<style scoped>\n",
       "    .dataframe tbody tr th:only-of-type {\n",
       "        vertical-align: middle;\n",
       "    }\n",
       "\n",
       "    .dataframe tbody tr th {\n",
       "        vertical-align: top;\n",
       "    }\n",
       "\n",
       "    .dataframe thead th {\n",
       "        text-align: right;\n",
       "    }\n",
       "</style>\n",
       "<table border=\"1\" class=\"dataframe\">\n",
       "  <thead>\n",
       "    <tr style=\"text-align: right;\">\n",
       "      <th></th>\n",
       "      <th>PI_NAME</th>\n",
       "      <th>NCI_New_Total_Cost_2015</th>\n",
       "      <th>Total_Projects_2015</th>\n",
       "      <th>Total_Cost_All_2015</th>\n",
       "      <th>Total_NCI_Projects_2015</th>\n",
       "      <th>NCI_Total_Cost_2015</th>\n",
       "      <th>Total_New_NCI_Projects_2015</th>\n",
       "      <th>Most_common_IC_2015</th>\n",
       "      <th>Most_common_IC_Count_2015</th>\n",
       "      <th>Total_Projects_2017</th>\n",
       "      <th>Total_Cost_All_2017</th>\n",
       "      <th>Total_NCI_Projects_2017</th>\n",
       "      <th>NCI_Total_Cost_2017</th>\n",
       "      <th>Total_New_NCI_Projects_2017</th>\n",
       "      <th>NCI_New_Total_Cost_2017</th>\n",
       "      <th>Most_common_IC_2017</th>\n",
       "      <th>Most_common_IC_Count_2017</th>\n",
       "    </tr>\n",
       "  </thead>\n",
       "  <tbody>\n",
       "    <tr>\n",
       "      <th>753</th>\n",
       "      <td>FALKNER, ANNEGRET LEA</td>\n",
       "      <td>NaN</td>\n",
       "      <td>NaN</td>\n",
       "      <td>NaN</td>\n",
       "      <td>NaN</td>\n",
       "      <td>NaN</td>\n",
       "      <td>NaN</td>\n",
       "      <td>NaN</td>\n",
       "      <td>NaN</td>\n",
       "      <td>1.0</td>\n",
       "      <td>102740.0</td>\n",
       "      <td>NaN</td>\n",
       "      <td>NaN</td>\n",
       "      <td>NaN</td>\n",
       "      <td>NaN</td>\n",
       "      <td>NATIONAL INSTITUTE OF MENTAL HEALTH</td>\n",
       "      <td>1.0</td>\n",
       "    </tr>\n",
       "    <tr>\n",
       "      <th>754</th>\n",
       "      <td>DOUTHIT, JESSICA P</td>\n",
       "      <td>NaN</td>\n",
       "      <td>NaN</td>\n",
       "      <td>NaN</td>\n",
       "      <td>NaN</td>\n",
       "      <td>NaN</td>\n",
       "      <td>NaN</td>\n",
       "      <td>NaN</td>\n",
       "      <td>NaN</td>\n",
       "      <td>1.0</td>\n",
       "      <td>34787.0</td>\n",
       "      <td>NaN</td>\n",
       "      <td>NaN</td>\n",
       "      <td>NaN</td>\n",
       "      <td>NaN</td>\n",
       "      <td>NATIONAL EYE INSTITUTE</td>\n",
       "      <td>1.0</td>\n",
       "    </tr>\n",
       "    <tr>\n",
       "      <th>755</th>\n",
       "      <td>DORAN, KELLY</td>\n",
       "      <td>NaN</td>\n",
       "      <td>NaN</td>\n",
       "      <td>NaN</td>\n",
       "      <td>NaN</td>\n",
       "      <td>NaN</td>\n",
       "      <td>NaN</td>\n",
       "      <td>NaN</td>\n",
       "      <td>NaN</td>\n",
       "      <td>1.0</td>\n",
       "      <td>200674.0</td>\n",
       "      <td>NaN</td>\n",
       "      <td>NaN</td>\n",
       "      <td>NaN</td>\n",
       "      <td>NaN</td>\n",
       "      <td>NATIONAL INSTITUTE ON DRUG ABUSE</td>\n",
       "      <td>1.0</td>\n",
       "    </tr>\n",
       "    <tr>\n",
       "      <th>756</th>\n",
       "      <td>DODSON, JOHN A</td>\n",
       "      <td>NaN</td>\n",
       "      <td>NaN</td>\n",
       "      <td>NaN</td>\n",
       "      <td>NaN</td>\n",
       "      <td>NaN</td>\n",
       "      <td>NaN</td>\n",
       "      <td>NaN</td>\n",
       "      <td>NaN</td>\n",
       "      <td>1.0</td>\n",
       "      <td>173824.0</td>\n",
       "      <td>NaN</td>\n",
       "      <td>NaN</td>\n",
       "      <td>NaN</td>\n",
       "      <td>NaN</td>\n",
       "      <td>NATIONAL INSTITUTE ON AGING</td>\n",
       "      <td>1.0</td>\n",
       "    </tr>\n",
       "    <tr>\n",
       "      <th>757</th>\n",
       "      <td>ZOTTER, BRENDAN CARL</td>\n",
       "      <td>NaN</td>\n",
       "      <td>NaN</td>\n",
       "      <td>NaN</td>\n",
       "      <td>NaN</td>\n",
       "      <td>NaN</td>\n",
       "      <td>NaN</td>\n",
       "      <td>NaN</td>\n",
       "      <td>NaN</td>\n",
       "      <td>1.0</td>\n",
       "      <td>35035.0</td>\n",
       "      <td>NaN</td>\n",
       "      <td>NaN</td>\n",
       "      <td>NaN</td>\n",
       "      <td>NaN</td>\n",
       "      <td>NATIONAL INSTITUTE OF NEUROLOGICAL DISORDERS AND STROKE</td>\n",
       "      <td>1.0</td>\n",
       "    </tr>\n",
       "  </tbody>\n",
       "</table>\n",
       "</div>"
      ],
      "text/plain": [
       "                   PI_NAME  NCI_New_Total_Cost_2015  Total_Projects_2015  \\\n",
       "753  FALKNER, ANNEGRET LEA NaN                      NaN                    \n",
       "754  DOUTHIT, JESSICA P    NaN                      NaN                    \n",
       "755  DORAN, KELLY          NaN                      NaN                    \n",
       "756  DODSON, JOHN A        NaN                      NaN                    \n",
       "757  ZOTTER, BRENDAN CARL  NaN                      NaN                    \n",
       "\n",
       "     Total_Cost_All_2015  Total_NCI_Projects_2015  NCI_Total_Cost_2015  \\\n",
       "753 NaN                  NaN                      NaN                    \n",
       "754 NaN                  NaN                      NaN                    \n",
       "755 NaN                  NaN                      NaN                    \n",
       "756 NaN                  NaN                      NaN                    \n",
       "757 NaN                  NaN                      NaN                    \n",
       "\n",
       "     Total_New_NCI_Projects_2015 Most_common_IC_2015  \\\n",
       "753 NaN                           NaN                  \n",
       "754 NaN                           NaN                  \n",
       "755 NaN                           NaN                  \n",
       "756 NaN                           NaN                  \n",
       "757 NaN                           NaN                  \n",
       "\n",
       "     Most_common_IC_Count_2015  Total_Projects_2017  Total_Cost_All_2017  \\\n",
       "753 NaN                         1.0                  102740.0              \n",
       "754 NaN                         1.0                  34787.0               \n",
       "755 NaN                         1.0                  200674.0              \n",
       "756 NaN                         1.0                  173824.0              \n",
       "757 NaN                         1.0                  35035.0               \n",
       "\n",
       "     Total_NCI_Projects_2017  NCI_Total_Cost_2017  \\\n",
       "753 NaN                      NaN                    \n",
       "754 NaN                      NaN                    \n",
       "755 NaN                      NaN                    \n",
       "756 NaN                      NaN                    \n",
       "757 NaN                      NaN                    \n",
       "\n",
       "     Total_New_NCI_Projects_2017  NCI_New_Total_Cost_2017  \\\n",
       "753 NaN                          NaN                        \n",
       "754 NaN                          NaN                        \n",
       "755 NaN                          NaN                        \n",
       "756 NaN                          NaN                        \n",
       "757 NaN                          NaN                        \n",
       "\n",
       "                                         Most_common_IC_2017  \\\n",
       "753  NATIONAL INSTITUTE OF MENTAL HEALTH                       \n",
       "754  NATIONAL EYE INSTITUTE                                    \n",
       "755  NATIONAL INSTITUTE ON DRUG ABUSE                          \n",
       "756  NATIONAL INSTITUTE ON AGING                               \n",
       "757  NATIONAL INSTITUTE OF NEUROLOGICAL DISORDERS AND STROKE   \n",
       "\n",
       "     Most_common_IC_Count_2017  \n",
       "753  1.0                        \n",
       "754  1.0                        \n",
       "755  1.0                        \n",
       "756  1.0                        \n",
       "757  1.0                        "
      ]
     },
     "execution_count": 47,
     "metadata": {},
     "output_type": "execute_result"
    }
   ],
   "source": [
    "# Look at the last 5 observations \n",
    "DF.tail(5)"
   ]
  },
  {
   "cell_type": "markdown",
   "metadata": {},
   "source": [
    "#### Fill in the Missing values with 0\n",
    "Caution! it is often not the case that you should fill missing values with Zero. It is appropriate in this case because we know for example, FALKNER ANNEGRET LEA, was not a PI on an NIH project for NYU in 2015. Note that this narrows the scope of the question, though, because FALKNER ANNEGRET LEA could have worked on non-NIH projects in 2015, or she could have worked on NIH projects at a different institution in 2015. You have to be very mindful of what assumptions you are making and how you are narrowing the scope of your research when you fill in missing values with zero for your own project. \n",
    "#### 用0填充缺失值\n",
    "警告！ 通常情况下，您不应该用零填充缺失值。 在这种情况下是合适的，因为我们知道，例如，FALKNER ANNEGRET LEA 不是 2015 年纽约大学 NIH 项目的 PI。请注意，这缩小了问题的范围，因为 FALKNER ANNEGRET LEA 本可以在非 - 2015 年的 NIH 项目，或者她本可以在 2015 年在不同的机构从事 NIH 项目。你必须非常注意你所做的假设以及当你用 您自己的项目为零。"
   ]
  },
  {
   "cell_type": "code",
   "execution_count": 48,
   "metadata": {
    "scrolled": true
   },
   "outputs": [
    {
     "data": {
      "text/html": [
       "<div>\n",
       "<style scoped>\n",
       "    .dataframe tbody tr th:only-of-type {\n",
       "        vertical-align: middle;\n",
       "    }\n",
       "\n",
       "    .dataframe tbody tr th {\n",
       "        vertical-align: top;\n",
       "    }\n",
       "\n",
       "    .dataframe thead th {\n",
       "        text-align: right;\n",
       "    }\n",
       "</style>\n",
       "<table border=\"1\" class=\"dataframe\">\n",
       "  <thead>\n",
       "    <tr style=\"text-align: right;\">\n",
       "      <th></th>\n",
       "      <th>PI_NAME</th>\n",
       "      <th>NCI_New_Total_Cost_2015</th>\n",
       "      <th>Total_Projects_2015</th>\n",
       "      <th>Total_Cost_All_2015</th>\n",
       "      <th>Total_NCI_Projects_2015</th>\n",
       "      <th>NCI_Total_Cost_2015</th>\n",
       "      <th>Total_New_NCI_Projects_2015</th>\n",
       "      <th>Most_common_IC_2015</th>\n",
       "      <th>Most_common_IC_Count_2015</th>\n",
       "      <th>Total_Projects_2017</th>\n",
       "      <th>Total_Cost_All_2017</th>\n",
       "      <th>Total_NCI_Projects_2017</th>\n",
       "      <th>NCI_Total_Cost_2017</th>\n",
       "      <th>Total_New_NCI_Projects_2017</th>\n",
       "      <th>NCI_New_Total_Cost_2017</th>\n",
       "      <th>Most_common_IC_2017</th>\n",
       "      <th>Most_common_IC_Count_2017</th>\n",
       "    </tr>\n",
       "  </thead>\n",
       "  <tbody>\n",
       "    <tr>\n",
       "      <th>0</th>\n",
       "      <td>ZELENIUCH-JAQUOTTE, ANNE</td>\n",
       "      <td>788279.0</td>\n",
       "      <td>1.0</td>\n",
       "      <td>788279.0</td>\n",
       "      <td>1.0</td>\n",
       "      <td>788279.0</td>\n",
       "      <td>1.0</td>\n",
       "      <td>NATIONAL CANCER INSTITUTE</td>\n",
       "      <td>1.0</td>\n",
       "      <td>1.0</td>\n",
       "      <td>694206.0</td>\n",
       "      <td>1.0</td>\n",
       "      <td>694206.0</td>\n",
       "      <td>0.0</td>\n",
       "      <td>0.0</td>\n",
       "      <td>NATIONAL CANCER INSTITUTE</td>\n",
       "      <td>1.0</td>\n",
       "    </tr>\n",
       "    <tr>\n",
       "      <th>1</th>\n",
       "      <td>KIRCHHOFF, TOMAS</td>\n",
       "      <td>478926.0</td>\n",
       "      <td>2.0</td>\n",
       "      <td>663257.0</td>\n",
       "      <td>2.0</td>\n",
       "      <td>663257.0</td>\n",
       "      <td>1.0</td>\n",
       "      <td>NATIONAL CANCER INSTITUTE</td>\n",
       "      <td>2.0</td>\n",
       "      <td>1.0</td>\n",
       "      <td>484247.0</td>\n",
       "      <td>1.0</td>\n",
       "      <td>484247.0</td>\n",
       "      <td>0.0</td>\n",
       "      <td>0.0</td>\n",
       "      <td>NATIONAL CANCER INSTITUTE</td>\n",
       "      <td>1.0</td>\n",
       "    </tr>\n",
       "    <tr>\n",
       "      <th>2</th>\n",
       "      <td>AIFANTIS, IANNIS</td>\n",
       "      <td>457533.0</td>\n",
       "      <td>4.0</td>\n",
       "      <td>1535056.0</td>\n",
       "      <td>4.0</td>\n",
       "      <td>1535056.0</td>\n",
       "      <td>1.0</td>\n",
       "      <td>NATIONAL CANCER INSTITUTE</td>\n",
       "      <td>4.0</td>\n",
       "      <td>6.0</td>\n",
       "      <td>2654279.0</td>\n",
       "      <td>6.0</td>\n",
       "      <td>2654279.0</td>\n",
       "      <td>1.0</td>\n",
       "      <td>536993.0</td>\n",
       "      <td>NATIONAL CANCER INSTITUTE</td>\n",
       "      <td>6.0</td>\n",
       "    </tr>\n",
       "    <tr>\n",
       "      <th>3</th>\n",
       "      <td>CARUCCI, JOHN A</td>\n",
       "      <td>444422.0</td>\n",
       "      <td>1.0</td>\n",
       "      <td>444422.0</td>\n",
       "      <td>1.0</td>\n",
       "      <td>444422.0</td>\n",
       "      <td>1.0</td>\n",
       "      <td>NATIONAL CANCER INSTITUTE</td>\n",
       "      <td>1.0</td>\n",
       "      <td>1.0</td>\n",
       "      <td>206473.0</td>\n",
       "      <td>1.0</td>\n",
       "      <td>206473.0</td>\n",
       "      <td>0.0</td>\n",
       "      <td>0.0</td>\n",
       "      <td>NATIONAL CANCER INSTITUTE</td>\n",
       "      <td>1.0</td>\n",
       "    </tr>\n",
       "    <tr>\n",
       "      <th>4</th>\n",
       "      <td>GOLD, HEATHER TAFFET</td>\n",
       "      <td>424833.0</td>\n",
       "      <td>1.0</td>\n",
       "      <td>424833.0</td>\n",
       "      <td>1.0</td>\n",
       "      <td>424833.0</td>\n",
       "      <td>1.0</td>\n",
       "      <td>NATIONAL CANCER INSTITUTE</td>\n",
       "      <td>1.0</td>\n",
       "      <td>1.0</td>\n",
       "      <td>406860.0</td>\n",
       "      <td>1.0</td>\n",
       "      <td>406860.0</td>\n",
       "      <td>0.0</td>\n",
       "      <td>0.0</td>\n",
       "      <td>NATIONAL CANCER INSTITUTE</td>\n",
       "      <td>1.0</td>\n",
       "    </tr>\n",
       "  </tbody>\n",
       "</table>\n",
       "</div>"
      ],
      "text/plain": [
       "                     PI_NAME  NCI_New_Total_Cost_2015  Total_Projects_2015  \\\n",
       "0  ZELENIUCH-JAQUOTTE, ANNE   788279.0                 1.0                   \n",
       "1  KIRCHHOFF, TOMAS           478926.0                 2.0                   \n",
       "2  AIFANTIS, IANNIS           457533.0                 4.0                   \n",
       "3  CARUCCI, JOHN A            444422.0                 1.0                   \n",
       "4  GOLD, HEATHER TAFFET       424833.0                 1.0                   \n",
       "\n",
       "   Total_Cost_All_2015  Total_NCI_Projects_2015  NCI_Total_Cost_2015  \\\n",
       "0  788279.0             1.0                      788279.0              \n",
       "1  663257.0             2.0                      663257.0              \n",
       "2  1535056.0            4.0                      1535056.0             \n",
       "3  444422.0             1.0                      444422.0              \n",
       "4  424833.0             1.0                      424833.0              \n",
       "\n",
       "   Total_New_NCI_Projects_2015        Most_common_IC_2015  \\\n",
       "0  1.0                          NATIONAL CANCER INSTITUTE   \n",
       "1  1.0                          NATIONAL CANCER INSTITUTE   \n",
       "2  1.0                          NATIONAL CANCER INSTITUTE   \n",
       "3  1.0                          NATIONAL CANCER INSTITUTE   \n",
       "4  1.0                          NATIONAL CANCER INSTITUTE   \n",
       "\n",
       "   Most_common_IC_Count_2015  Total_Projects_2017  Total_Cost_All_2017  \\\n",
       "0  1.0                        1.0                  694206.0              \n",
       "1  2.0                        1.0                  484247.0              \n",
       "2  4.0                        6.0                  2654279.0             \n",
       "3  1.0                        1.0                  206473.0              \n",
       "4  1.0                        1.0                  406860.0              \n",
       "\n",
       "   Total_NCI_Projects_2017  NCI_Total_Cost_2017  Total_New_NCI_Projects_2017  \\\n",
       "0  1.0                      694206.0             0.0                           \n",
       "1  1.0                      484247.0             0.0                           \n",
       "2  6.0                      2654279.0            1.0                           \n",
       "3  1.0                      206473.0             0.0                           \n",
       "4  1.0                      406860.0             0.0                           \n",
       "\n",
       "   NCI_New_Total_Cost_2017        Most_common_IC_2017  \\\n",
       "0  0.0                      NATIONAL CANCER INSTITUTE   \n",
       "1  0.0                      NATIONAL CANCER INSTITUTE   \n",
       "2  536993.0                 NATIONAL CANCER INSTITUTE   \n",
       "3  0.0                      NATIONAL CANCER INSTITUTE   \n",
       "4  0.0                      NATIONAL CANCER INSTITUTE   \n",
       "\n",
       "   Most_common_IC_Count_2017  \n",
       "0  1.0                        \n",
       "1  1.0                        \n",
       "2  6.0                        \n",
       "3  1.0                        \n",
       "4  1.0                        "
      ]
     },
     "execution_count": 48,
     "metadata": {},
     "output_type": "execute_result"
    }
   ],
   "source": [
    "# use the fillma function to fill all of the missing values with Zero\n",
    "DF= DF.fillna(0)\n",
    "\n",
    "# view the first 5 observations \n",
    "DF.head()"
   ]
  },
  {
   "cell_type": "markdown",
   "metadata": {},
   "source": [
    "## Develop measures for change over time  <a class=\"anchor\" id=\"change_measures\"></a>\n",
    "Now that we have brought together the 2015 and 2017 data, we can create measures for the change in outcomes. \n",
    "We will develop two measures\n",
    "1. Change in the number of NCI Projects\n",
    "2. Change in the Total cost of NCI Projects"
   ]
  },
  {
   "cell_type": "markdown",
   "metadata": {},
   "source": [
    "#### Change in the Number of National Cancer Institute Projects"
   ]
  },
  {
   "cell_type": "code",
   "execution_count": 49,
   "metadata": {},
   "outputs": [
    {
     "data": {
      "text/html": [
       "<div>\n",
       "<style scoped>\n",
       "    .dataframe tbody tr th:only-of-type {\n",
       "        vertical-align: middle;\n",
       "    }\n",
       "\n",
       "    .dataframe tbody tr th {\n",
       "        vertical-align: top;\n",
       "    }\n",
       "\n",
       "    .dataframe thead th {\n",
       "        text-align: right;\n",
       "    }\n",
       "</style>\n",
       "<table border=\"1\" class=\"dataframe\">\n",
       "  <thead>\n",
       "    <tr style=\"text-align: right;\">\n",
       "      <th></th>\n",
       "      <th>PI_NAME</th>\n",
       "      <th>Total_NCI_Projects_2017</th>\n",
       "      <th>Total_NCI_Projects_2015</th>\n",
       "      <th>Change_in_NCI_Projects</th>\n",
       "    </tr>\n",
       "  </thead>\n",
       "  <tbody>\n",
       "    <tr>\n",
       "      <th>0</th>\n",
       "      <td>ZELENIUCH-JAQUOTTE, ANNE</td>\n",
       "      <td>1.0</td>\n",
       "      <td>1.0</td>\n",
       "      <td>0.0</td>\n",
       "    </tr>\n",
       "    <tr>\n",
       "      <th>1</th>\n",
       "      <td>KIRCHHOFF, TOMAS</td>\n",
       "      <td>1.0</td>\n",
       "      <td>2.0</td>\n",
       "      <td>-1.0</td>\n",
       "    </tr>\n",
       "    <tr>\n",
       "      <th>2</th>\n",
       "      <td>AIFANTIS, IANNIS</td>\n",
       "      <td>6.0</td>\n",
       "      <td>4.0</td>\n",
       "      <td>2.0</td>\n",
       "    </tr>\n",
       "    <tr>\n",
       "      <th>3</th>\n",
       "      <td>CARUCCI, JOHN A</td>\n",
       "      <td>1.0</td>\n",
       "      <td>1.0</td>\n",
       "      <td>0.0</td>\n",
       "    </tr>\n",
       "    <tr>\n",
       "      <th>4</th>\n",
       "      <td>GOLD, HEATHER TAFFET</td>\n",
       "      <td>1.0</td>\n",
       "      <td>1.0</td>\n",
       "      <td>0.0</td>\n",
       "    </tr>\n",
       "  </tbody>\n",
       "</table>\n",
       "</div>"
      ],
      "text/plain": [
       "                     PI_NAME  Total_NCI_Projects_2017  \\\n",
       "0  ZELENIUCH-JAQUOTTE, ANNE   1.0                       \n",
       "1  KIRCHHOFF, TOMAS           1.0                       \n",
       "2  AIFANTIS, IANNIS           6.0                       \n",
       "3  CARUCCI, JOHN A            1.0                       \n",
       "4  GOLD, HEATHER TAFFET       1.0                       \n",
       "\n",
       "   Total_NCI_Projects_2015  Change_in_NCI_Projects  \n",
       "0  1.0                      0.0                     \n",
       "1  2.0                     -1.0                     \n",
       "2  4.0                      2.0                     \n",
       "3  1.0                      0.0                     \n",
       "4  1.0                      0.0                     "
      ]
     },
     "execution_count": 49,
     "metadata": {},
     "output_type": "execute_result"
    }
   ],
   "source": [
    "# Create a new column (Change_in_NCI_Projects) that is equal to the difference in Total_NCI_Projects_2017 and Total_NCI_Projects_2015'\n",
    "DF['Change_in_NCI_Projects'] = DF['Total_NCI_Projects_2017'] - DF['Total_NCI_Projects_2015']\n",
    "\n",
    "# Look at the first 5 observations for select variables \n",
    "DF[['PI_NAME','Total_NCI_Projects_2017', 'Total_NCI_Projects_2015', 'Change_in_NCI_Projects']].head()"
   ]
  },
  {
   "cell_type": "markdown",
   "metadata": {},
   "source": [
    "#### Change in the Cost of National Cancer Institute Projects"
   ]
  },
  {
   "cell_type": "code",
   "execution_count": 50,
   "metadata": {
    "scrolled": true
   },
   "outputs": [
    {
     "data": {
      "text/html": [
       "<div>\n",
       "<style scoped>\n",
       "    .dataframe tbody tr th:only-of-type {\n",
       "        vertical-align: middle;\n",
       "    }\n",
       "\n",
       "    .dataframe tbody tr th {\n",
       "        vertical-align: top;\n",
       "    }\n",
       "\n",
       "    .dataframe thead th {\n",
       "        text-align: right;\n",
       "    }\n",
       "</style>\n",
       "<table border=\"1\" class=\"dataframe\">\n",
       "  <thead>\n",
       "    <tr style=\"text-align: right;\">\n",
       "      <th></th>\n",
       "      <th>PI_NAME</th>\n",
       "      <th>NCI_Total_Cost_2017</th>\n",
       "      <th>NCI_Total_Cost_2015</th>\n",
       "      <th>Change_in_NCI_Cost</th>\n",
       "    </tr>\n",
       "  </thead>\n",
       "  <tbody>\n",
       "    <tr>\n",
       "      <th>0</th>\n",
       "      <td>ZELENIUCH-JAQUOTTE, ANNE</td>\n",
       "      <td>694206.0</td>\n",
       "      <td>788279.0</td>\n",
       "      <td>-94073.0</td>\n",
       "    </tr>\n",
       "    <tr>\n",
       "      <th>1</th>\n",
       "      <td>KIRCHHOFF, TOMAS</td>\n",
       "      <td>484247.0</td>\n",
       "      <td>663257.0</td>\n",
       "      <td>-179010.0</td>\n",
       "    </tr>\n",
       "    <tr>\n",
       "      <th>2</th>\n",
       "      <td>AIFANTIS, IANNIS</td>\n",
       "      <td>2654279.0</td>\n",
       "      <td>1535056.0</td>\n",
       "      <td>1119223.0</td>\n",
       "    </tr>\n",
       "    <tr>\n",
       "      <th>3</th>\n",
       "      <td>CARUCCI, JOHN A</td>\n",
       "      <td>206473.0</td>\n",
       "      <td>444422.0</td>\n",
       "      <td>-237949.0</td>\n",
       "    </tr>\n",
       "    <tr>\n",
       "      <th>4</th>\n",
       "      <td>GOLD, HEATHER TAFFET</td>\n",
       "      <td>406860.0</td>\n",
       "      <td>424833.0</td>\n",
       "      <td>-17973.0</td>\n",
       "    </tr>\n",
       "  </tbody>\n",
       "</table>\n",
       "</div>"
      ],
      "text/plain": [
       "                     PI_NAME  NCI_Total_Cost_2017  NCI_Total_Cost_2015  \\\n",
       "0  ZELENIUCH-JAQUOTTE, ANNE   694206.0             788279.0              \n",
       "1  KIRCHHOFF, TOMAS           484247.0             663257.0              \n",
       "2  AIFANTIS, IANNIS           2654279.0            1535056.0             \n",
       "3  CARUCCI, JOHN A            206473.0             444422.0              \n",
       "4  GOLD, HEATHER TAFFET       406860.0             424833.0              \n",
       "\n",
       "   Change_in_NCI_Cost  \n",
       "0 -94073.0             \n",
       "1 -179010.0            \n",
       "2  1119223.0           \n",
       "3 -237949.0            \n",
       "4 -17973.0             "
      ]
     },
     "execution_count": 50,
     "metadata": {},
     "output_type": "execute_result"
    }
   ],
   "source": [
    "# Create a new column (Change_in_NCI_Cost) that is equal to the difference in NCI_Total_Cost_2017 and NCI_Total_Cost_2015'\n",
    "DF['Change_in_NCI_Cost'] = DF['NCI_Total_Cost_2017'] - DF['NCI_Total_Cost_2015']\n",
    "\n",
    "# Look at the first 5 observations for select variables \n",
    "DF[['PI_NAME','NCI_Total_Cost_2017', 'NCI_Total_Cost_2015', 'Change_in_NCI_Cost']].head()\n"
   ]
  },
  {
   "cell_type": "markdown",
   "metadata": {},
   "source": [
    "# Results <a class=\"anchor\" id=\"results\"></a>\n",
    "Now that the data is prepaired, we have answer some questions about PIs in 2015 and 2017"
   ]
  },
  {
   "cell_type": "code",
   "execution_count": 51,
   "metadata": {},
   "outputs": [
    {
     "data": {
      "text/plain": [
       "Index(['PI_NAME', 'NCI_New_Total_Cost_2015', 'Total_Projects_2015',\n",
       "       'Total_Cost_All_2015', 'Total_NCI_Projects_2015', 'NCI_Total_Cost_2015',\n",
       "       'Total_New_NCI_Projects_2015', 'Most_common_IC_2015',\n",
       "       'Most_common_IC_Count_2015', 'Total_Projects_2017',\n",
       "       'Total_Cost_All_2017', 'Total_NCI_Projects_2017', 'NCI_Total_Cost_2017',\n",
       "       'Total_New_NCI_Projects_2017', 'NCI_New_Total_Cost_2017',\n",
       "       'Most_common_IC_2017', 'Most_common_IC_Count_2017',\n",
       "       'Change_in_NCI_Projects', 'Change_in_NCI_Cost'],\n",
       "      dtype='object')"
      ]
     },
     "execution_count": 51,
     "metadata": {},
     "output_type": "execute_result"
    }
   ],
   "source": [
    "DF.columns"
   ]
  },
  {
   "cell_type": "markdown",
   "metadata": {},
   "source": [
    "#### How many PIs form NYU were there in 2015?"
   ]
  },
  {
   "cell_type": "code",
   "execution_count": 52,
   "metadata": {},
   "outputs": [
    {
     "data": {
      "text/html": [
       "<div>\n",
       "<style scoped>\n",
       "    .dataframe tbody tr th:only-of-type {\n",
       "        vertical-align: middle;\n",
       "    }\n",
       "\n",
       "    .dataframe tbody tr th {\n",
       "        vertical-align: top;\n",
       "    }\n",
       "\n",
       "    .dataframe thead th {\n",
       "        text-align: right;\n",
       "    }\n",
       "</style>\n",
       "<table border=\"1\" class=\"dataframe\">\n",
       "  <thead>\n",
       "    <tr style=\"text-align: right;\">\n",
       "      <th></th>\n",
       "      <th>PI_NAME</th>\n",
       "      <th>NCI_New_Total_Cost_2015</th>\n",
       "      <th>Total_Projects_2015</th>\n",
       "      <th>Total_Cost_All_2015</th>\n",
       "      <th>Total_NCI_Projects_2015</th>\n",
       "      <th>NCI_Total_Cost_2015</th>\n",
       "      <th>Total_New_NCI_Projects_2015</th>\n",
       "      <th>Most_common_IC_2015</th>\n",
       "      <th>Most_common_IC_Count_2015</th>\n",
       "      <th>Total_Projects_2017</th>\n",
       "      <th>Total_Cost_All_2017</th>\n",
       "      <th>Total_NCI_Projects_2017</th>\n",
       "      <th>NCI_Total_Cost_2017</th>\n",
       "      <th>Total_New_NCI_Projects_2017</th>\n",
       "      <th>NCI_New_Total_Cost_2017</th>\n",
       "      <th>Most_common_IC_2017</th>\n",
       "      <th>Most_common_IC_Count_2017</th>\n",
       "      <th>Change_in_NCI_Projects</th>\n",
       "      <th>Change_in_NCI_Cost</th>\n",
       "    </tr>\n",
       "  </thead>\n",
       "  <tbody>\n",
       "    <tr>\n",
       "      <th>0</th>\n",
       "      <td>ZELENIUCH-JAQUOTTE, ANNE</td>\n",
       "      <td>788279.0</td>\n",
       "      <td>1.0</td>\n",
       "      <td>788279.0</td>\n",
       "      <td>1.0</td>\n",
       "      <td>788279.0</td>\n",
       "      <td>1.0</td>\n",
       "      <td>NATIONAL CANCER INSTITUTE</td>\n",
       "      <td>1.0</td>\n",
       "      <td>1.0</td>\n",
       "      <td>694206.0</td>\n",
       "      <td>1.0</td>\n",
       "      <td>694206.0</td>\n",
       "      <td>0.0</td>\n",
       "      <td>0.0</td>\n",
       "      <td>NATIONAL CANCER INSTITUTE</td>\n",
       "      <td>1.0</td>\n",
       "      <td>0.0</td>\n",
       "      <td>-94073.0</td>\n",
       "    </tr>\n",
       "    <tr>\n",
       "      <th>1</th>\n",
       "      <td>KIRCHHOFF, TOMAS</td>\n",
       "      <td>478926.0</td>\n",
       "      <td>2.0</td>\n",
       "      <td>663257.0</td>\n",
       "      <td>2.0</td>\n",
       "      <td>663257.0</td>\n",
       "      <td>1.0</td>\n",
       "      <td>NATIONAL CANCER INSTITUTE</td>\n",
       "      <td>2.0</td>\n",
       "      <td>1.0</td>\n",
       "      <td>484247.0</td>\n",
       "      <td>1.0</td>\n",
       "      <td>484247.0</td>\n",
       "      <td>0.0</td>\n",
       "      <td>0.0</td>\n",
       "      <td>NATIONAL CANCER INSTITUTE</td>\n",
       "      <td>1.0</td>\n",
       "      <td>-1.0</td>\n",
       "      <td>-179010.0</td>\n",
       "    </tr>\n",
       "  </tbody>\n",
       "</table>\n",
       "</div>"
      ],
      "text/plain": [
       "                     PI_NAME  NCI_New_Total_Cost_2015  Total_Projects_2015  \\\n",
       "0  ZELENIUCH-JAQUOTTE, ANNE   788279.0                 1.0                   \n",
       "1  KIRCHHOFF, TOMAS           478926.0                 2.0                   \n",
       "\n",
       "   Total_Cost_All_2015  Total_NCI_Projects_2015  NCI_Total_Cost_2015  \\\n",
       "0  788279.0             1.0                      788279.0              \n",
       "1  663257.0             2.0                      663257.0              \n",
       "\n",
       "   Total_New_NCI_Projects_2015        Most_common_IC_2015  \\\n",
       "0  1.0                          NATIONAL CANCER INSTITUTE   \n",
       "1  1.0                          NATIONAL CANCER INSTITUTE   \n",
       "\n",
       "   Most_common_IC_Count_2015  Total_Projects_2017  Total_Cost_All_2017  \\\n",
       "0  1.0                        1.0                  694206.0              \n",
       "1  2.0                        1.0                  484247.0              \n",
       "\n",
       "   Total_NCI_Projects_2017  NCI_Total_Cost_2017  Total_New_NCI_Projects_2017  \\\n",
       "0  1.0                      694206.0             0.0                           \n",
       "1  1.0                      484247.0             0.0                           \n",
       "\n",
       "   NCI_New_Total_Cost_2017        Most_common_IC_2017  \\\n",
       "0  0.0                      NATIONAL CANCER INSTITUTE   \n",
       "1  0.0                      NATIONAL CANCER INSTITUTE   \n",
       "\n",
       "   Most_common_IC_Count_2017  Change_in_NCI_Projects  Change_in_NCI_Cost  \n",
       "0  1.0                        0.0                    -94073.0             \n",
       "1  1.0                       -1.0                    -179010.0            "
      ]
     },
     "execution_count": 52,
     "metadata": {},
     "output_type": "execute_result"
    }
   ],
   "source": [
    "# Look at the first 2 observations for select variables \n",
    "DF.head(2)"
   ]
  },
  {
   "cell_type": "code",
   "execution_count": 53,
   "metadata": {},
   "outputs": [
    {
     "data": {
      "text/plain": [
       "508"
      ]
     },
     "execution_count": 53,
     "metadata": {},
     "output_type": "execute_result"
    }
   ],
   "source": [
    "# Subset dataframe for PIs who had more than zero total projects in 2015\n",
    "temp = DF[DF['Total_Projects_2015'] > 0] \n",
    "\n",
    "# Count the number of unique PI names\n",
    "temp[\"PI_NAME\"].nunique()"
   ]
  },
  {
   "cell_type": "markdown",
   "metadata": {},
   "source": [
    "#### How many PIs form NYU were there in 2017?"
   ]
  },
  {
   "cell_type": "code",
   "execution_count": 54,
   "metadata": {},
   "outputs": [
    {
     "data": {
      "text/plain": [
       "590"
      ]
     },
     "execution_count": 54,
     "metadata": {},
     "output_type": "execute_result"
    }
   ],
   "source": [
    "# Subset dataframe for PIs who had more than zero total projects in 2017\n",
    "temp = DF[DF['Total_Projects_2017'] > 0] \n",
    "\n",
    "# Count the number of unique PI names\n",
    "temp[\"PI_NAME\"].nunique()"
   ]
  },
  {
   "cell_type": "markdown",
   "metadata": {},
   "source": [
    "#### How many PIs from NYU had NCI projects in 2015?"
   ]
  },
  {
   "cell_type": "code",
   "execution_count": 55,
   "metadata": {},
   "outputs": [
    {
     "data": {
      "text/plain": [
       "68"
      ]
     },
     "execution_count": 55,
     "metadata": {},
     "output_type": "execute_result"
    }
   ],
   "source": [
    "# Subset dataframe for PIs who had more than zero NCI projects in 2015\n",
    "temp = DF[DF['Total_NCI_Projects_2015'] > 0] \n",
    "\n",
    "# Count the number of unique PI names\n",
    "temp[\"PI_NAME\"].nunique()"
   ]
  },
  {
   "cell_type": "markdown",
   "metadata": {},
   "source": [
    "#### How many PIs from NYU had NCI projects in 2017?"
   ]
  },
  {
   "cell_type": "code",
   "execution_count": 56,
   "metadata": {},
   "outputs": [
    {
     "data": {
      "text/plain": [
       "80"
      ]
     },
     "execution_count": 56,
     "metadata": {},
     "output_type": "execute_result"
    }
   ],
   "source": [
    "# Subset dataframe for PIs who had more than zero NCI projects in 2017\n",
    "temp = DF[DF['Total_NCI_Projects_2017'] > 0] \n",
    "\n",
    "# Count the number of unique PI names\n",
    "temp[\"PI_NAME\"].nunique()"
   ]
  },
  {
   "cell_type": "markdown",
   "metadata": {},
   "source": [
    "#### How many PIs from NYU had new NCI projects in 2015?"
   ]
  },
  {
   "cell_type": "code",
   "execution_count": 57,
   "metadata": {},
   "outputs": [
    {
     "data": {
      "text/plain": [
       "14"
      ]
     },
     "execution_count": 57,
     "metadata": {},
     "output_type": "execute_result"
    }
   ],
   "source": [
    "# Subset dataframe for PIs who had more than zero new NCI projects in 2015\n",
    "temp = DF[DF['Total_New_NCI_Projects_2015'] > 0] \n",
    "\n",
    "# Count the number of unique PI names\n",
    "temp[\"PI_NAME\"].nunique()"
   ]
  },
  {
   "cell_type": "markdown",
   "metadata": {},
   "source": [
    "#### How many PIs from NYU had new NCI projects in 2017?"
   ]
  },
  {
   "cell_type": "code",
   "execution_count": 58,
   "metadata": {},
   "outputs": [
    {
     "data": {
      "text/plain": [
       "26"
      ]
     },
     "execution_count": 58,
     "metadata": {},
     "output_type": "execute_result"
    }
   ],
   "source": [
    "# Subset dataframe for PIs who had more than zero new NCI projects in 2017\n",
    "temp = DF[DF['Total_New_NCI_Projects_2017'] > 0] \n",
    "\n",
    "# Count the number of unique PI names\n",
    "temp[\"PI_NAME\"].nunique()"
   ]
  },
  {
   "cell_type": "markdown",
   "metadata": {},
   "source": [
    "#### How many PIs only had non NCI Project(s) in 2015 but had at least one NCI project in 2017?"
   ]
  },
  {
   "cell_type": "code",
   "execution_count": 59,
   "metadata": {},
   "outputs": [
    {
     "data": {
      "text/plain": [
       "2"
      ]
     },
     "execution_count": 59,
     "metadata": {},
     "output_type": "execute_result"
    }
   ],
   "source": [
    "# Subset dataframe for PIs who had zero NCI projects in 2015\n",
    "# and more than zero projects in 2015\n",
    "# and more than zero NCI projects in 2017\n",
    "Converted_PIs = DF[(DF['Total_NCI_Projects_2015'] == 0) & \n",
    "           (DF['Total_Projects_2015'] > 0) &\n",
    "           (DF['Total_NCI_Projects_2017'] > 0)]\n",
    "\n",
    "# Count the number of unique PI names\n",
    "Converted_PIs[\"PI_NAME\"].nunique()"
   ]
  },
  {
   "cell_type": "code",
   "execution_count": 60,
   "metadata": {},
   "outputs": [
    {
     "data": {
      "text/html": [
       "<div>\n",
       "<style scoped>\n",
       "    .dataframe tbody tr th:only-of-type {\n",
       "        vertical-align: middle;\n",
       "    }\n",
       "\n",
       "    .dataframe tbody tr th {\n",
       "        vertical-align: top;\n",
       "    }\n",
       "\n",
       "    .dataframe thead th {\n",
       "        text-align: right;\n",
       "    }\n",
       "</style>\n",
       "<table border=\"1\" class=\"dataframe\">\n",
       "  <thead>\n",
       "    <tr style=\"text-align: right;\">\n",
       "      <th></th>\n",
       "      <th>PI_NAME</th>\n",
       "      <th>NCI_New_Total_Cost_2015</th>\n",
       "      <th>Total_Projects_2015</th>\n",
       "      <th>Total_Cost_All_2015</th>\n",
       "      <th>Total_NCI_Projects_2015</th>\n",
       "      <th>NCI_Total_Cost_2015</th>\n",
       "      <th>Total_New_NCI_Projects_2015</th>\n",
       "      <th>Most_common_IC_2015</th>\n",
       "      <th>Most_common_IC_Count_2015</th>\n",
       "      <th>Total_Projects_2017</th>\n",
       "      <th>Total_Cost_All_2017</th>\n",
       "      <th>Total_NCI_Projects_2017</th>\n",
       "      <th>NCI_Total_Cost_2017</th>\n",
       "      <th>Total_New_NCI_Projects_2017</th>\n",
       "      <th>NCI_New_Total_Cost_2017</th>\n",
       "      <th>Most_common_IC_2017</th>\n",
       "      <th>Most_common_IC_Count_2017</th>\n",
       "      <th>Change_in_NCI_Projects</th>\n",
       "      <th>Change_in_NCI_Cost</th>\n",
       "    </tr>\n",
       "  </thead>\n",
       "  <tbody>\n",
       "    <tr>\n",
       "      <th>73</th>\n",
       "      <td>DYNLACHT, BRIAN D</td>\n",
       "      <td>0.0</td>\n",
       "      <td>2.0</td>\n",
       "      <td>688410.0</td>\n",
       "      <td>0.0</td>\n",
       "      <td>0.0</td>\n",
       "      <td>0.0</td>\n",
       "      <td>NATIONAL INSTITUTE OF GENERAL MEDICAL SCIENCES</td>\n",
       "      <td>1.0</td>\n",
       "      <td>4.0</td>\n",
       "      <td>1152873.0</td>\n",
       "      <td>1.0</td>\n",
       "      <td>196577.0</td>\n",
       "      <td>1.0</td>\n",
       "      <td>196577.0</td>\n",
       "      <td>NATIONAL INSTITUTE OF GENERAL MEDICAL SCIENCES</td>\n",
       "      <td>2.0</td>\n",
       "      <td>1.0</td>\n",
       "      <td>196577.0</td>\n",
       "    </tr>\n",
       "    <tr>\n",
       "      <th>284</th>\n",
       "      <td>SCHMIDT, BRIAN L</td>\n",
       "      <td>0.0</td>\n",
       "      <td>1.0</td>\n",
       "      <td>396250.0</td>\n",
       "      <td>0.0</td>\n",
       "      <td>0.0</td>\n",
       "      <td>0.0</td>\n",
       "      <td>NATIONAL INSTITUTE OF DENTAL &amp; CRANIOFACIAL RESEARCH</td>\n",
       "      <td>1.0</td>\n",
       "      <td>3.0</td>\n",
       "      <td>1100085.0</td>\n",
       "      <td>1.0</td>\n",
       "      <td>587089.0</td>\n",
       "      <td>0.0</td>\n",
       "      <td>0.0</td>\n",
       "      <td>NATIONAL INSTITUTE OF DENTAL &amp; CRANIOFACIAL RESEARCH</td>\n",
       "      <td>2.0</td>\n",
       "      <td>1.0</td>\n",
       "      <td>587089.0</td>\n",
       "    </tr>\n",
       "  </tbody>\n",
       "</table>\n",
       "</div>"
      ],
      "text/plain": [
       "               PI_NAME  NCI_New_Total_Cost_2015  Total_Projects_2015  \\\n",
       "73   DYNLACHT, BRIAN D  0.0                      2.0                   \n",
       "284  SCHMIDT, BRIAN L   0.0                      1.0                   \n",
       "\n",
       "     Total_Cost_All_2015  Total_NCI_Projects_2015  NCI_Total_Cost_2015  \\\n",
       "73   688410.0             0.0                      0.0                   \n",
       "284  396250.0             0.0                      0.0                   \n",
       "\n",
       "     Total_New_NCI_Projects_2015  \\\n",
       "73   0.0                           \n",
       "284  0.0                           \n",
       "\n",
       "                                      Most_common_IC_2015  \\\n",
       "73   NATIONAL INSTITUTE OF GENERAL MEDICAL SCIENCES         \n",
       "284  NATIONAL INSTITUTE OF DENTAL & CRANIOFACIAL RESEARCH   \n",
       "\n",
       "     Most_common_IC_Count_2015  Total_Projects_2017  Total_Cost_All_2017  \\\n",
       "73   1.0                        4.0                  1152873.0             \n",
       "284  1.0                        3.0                  1100085.0             \n",
       "\n",
       "     Total_NCI_Projects_2017  NCI_Total_Cost_2017  \\\n",
       "73   1.0                      196577.0              \n",
       "284  1.0                      587089.0              \n",
       "\n",
       "     Total_New_NCI_Projects_2017  NCI_New_Total_Cost_2017  \\\n",
       "73   1.0                          196577.0                  \n",
       "284  0.0                          0.0                       \n",
       "\n",
       "                                      Most_common_IC_2017  \\\n",
       "73   NATIONAL INSTITUTE OF GENERAL MEDICAL SCIENCES         \n",
       "284  NATIONAL INSTITUTE OF DENTAL & CRANIOFACIAL RESEARCH   \n",
       "\n",
       "     Most_common_IC_Count_2017  Change_in_NCI_Projects  Change_in_NCI_Cost  \n",
       "73   2.0                        1.0                     196577.0            \n",
       "284  2.0                        1.0                     587089.0            "
      ]
     },
     "execution_count": 60,
     "metadata": {},
     "output_type": "execute_result"
    }
   ],
   "source": [
    "Converted_PIs.head()"
   ]
  },
  {
   "cell_type": "code",
   "execution_count": 61,
   "metadata": {
    "scrolled": true
   },
   "outputs": [
    {
     "data": {
      "text/html": [
       "<div>\n",
       "<style scoped>\n",
       "    .dataframe tbody tr th:only-of-type {\n",
       "        vertical-align: middle;\n",
       "    }\n",
       "\n",
       "    .dataframe tbody tr th {\n",
       "        vertical-align: top;\n",
       "    }\n",
       "\n",
       "    .dataframe thead th {\n",
       "        text-align: right;\n",
       "    }\n",
       "</style>\n",
       "<table border=\"1\" class=\"dataframe\">\n",
       "  <thead>\n",
       "    <tr style=\"text-align: right;\">\n",
       "      <th></th>\n",
       "      <th>PI_NAME</th>\n",
       "      <th>Total_Projects_2015</th>\n",
       "      <th>Total_Cost_All_2015</th>\n",
       "      <th>Total_NCI_Projects_2015</th>\n",
       "      <th>Total_NCI_Projects_2017</th>\n",
       "      <th>NCI_Total_Cost_2017</th>\n",
       "      <th>Most_common_IC_2015</th>\n",
       "    </tr>\n",
       "  </thead>\n",
       "  <tbody>\n",
       "    <tr>\n",
       "      <th>73</th>\n",
       "      <td>DYNLACHT, BRIAN D</td>\n",
       "      <td>2.0</td>\n",
       "      <td>688410.0</td>\n",
       "      <td>0.0</td>\n",
       "      <td>1.0</td>\n",
       "      <td>196577.0</td>\n",
       "      <td>NATIONAL INSTITUTE OF GENERAL MEDICAL SCIENCES</td>\n",
       "    </tr>\n",
       "    <tr>\n",
       "      <th>284</th>\n",
       "      <td>SCHMIDT, BRIAN L</td>\n",
       "      <td>1.0</td>\n",
       "      <td>396250.0</td>\n",
       "      <td>0.0</td>\n",
       "      <td>1.0</td>\n",
       "      <td>587089.0</td>\n",
       "      <td>NATIONAL INSTITUTE OF DENTAL &amp; CRANIOFACIAL RESEARCH</td>\n",
       "    </tr>\n",
       "  </tbody>\n",
       "</table>\n",
       "</div>"
      ],
      "text/plain": [
       "               PI_NAME  Total_Projects_2015  Total_Cost_All_2015  \\\n",
       "73   DYNLACHT, BRIAN D  2.0                  688410.0              \n",
       "284  SCHMIDT, BRIAN L   1.0                  396250.0              \n",
       "\n",
       "     Total_NCI_Projects_2015  Total_NCI_Projects_2017  NCI_Total_Cost_2017  \\\n",
       "73   0.0                      1.0                      196577.0              \n",
       "284  0.0                      1.0                      587089.0              \n",
       "\n",
       "                                      Most_common_IC_2015  \n",
       "73   NATIONAL INSTITUTE OF GENERAL MEDICAL SCIENCES        \n",
       "284  NATIONAL INSTITUTE OF DENTAL & CRANIOFACIAL RESEARCH  "
      ]
     },
     "execution_count": 61,
     "metadata": {},
     "output_type": "execute_result"
    }
   ],
   "source": [
    "# look at the first 5 observations for select variables\n",
    "Converted_PIs[['PI_NAME', 'Total_Projects_2015', 'Total_Cost_All_2015', 'Total_NCI_Projects_2015', \n",
    "      'Total_NCI_Projects_2017', 'NCI_Total_Cost_2017', 'Most_common_IC_2015']].head()"
   ]
  },
  {
   "cell_type": "markdown",
   "metadata": {},
   "source": [
    "# Checkpoint 2 (Assignment 3 due March 10th) <a class=\"anchor\" id=\"checkpoint2\"></a>\n",
    "\n",
    "How many PIs had a NCI funded projects in 2017 but not 2015? (1point)\n",
    "\n",
    "For those who have at least one NCI funded project in 2015, how many NCI funded projects do they have on average? (1point)\n",
    "\n",
    "For those who have at least one NCI funded project in 2017, how many NCI funded projects do they have on average? (1point)\n",
    "\n",
    "For the PIs who only had non-NCI Project(s) in 2015 but had at least one NCI project in 2017, what are the 5 most common ICs they are moving from (in total, not per PI)? (2points)\n",
    "\n",
    "Can we sum the `Total_Cost_All_2015` column in the `DF` dataframe to get the total cost of projects in 2015? Why or why not? (2points)\n",
    "- This is not a question you need code to answer, instead, create a Markdown cell, and answer in a complete sentence. "
   ]
  },
  {
   "cell_type": "markdown",
   "metadata": {},
   "source": [
    "#### 1. How many PIs had a NCI funded projects in 2017 but not 2015? (1point)"
   ]
  },
  {
   "cell_type": "code",
   "execution_count": 62,
   "metadata": {},
   "outputs": [
    {
     "data": {
      "text/plain": [
       "41"
      ]
     },
     "execution_count": 62,
     "metadata": {},
     "output_type": "execute_result"
    }
   ],
   "source": [
    "Converted_PIs = DF[(DF['Total_NCI_Projects_2017'] > 0) & \n",
    "           (DF['Total_NCI_Projects_2015'] == 0)]\n",
    "\n",
    "# Count the number of unique PI names\n",
    "Converted_PIs[\"PI_NAME\"].nunique()"
   ]
  },
  {
   "cell_type": "markdown",
   "metadata": {},
   "source": [
    "#### 2. For those who have at least one NCI funded project in 2015, how many NCI funded projects do they have on average? (1point)"
   ]
  },
  {
   "cell_type": "code",
   "execution_count": 63,
   "metadata": {},
   "outputs": [
    {
     "data": {
      "text/plain": [
       "1.75"
      ]
     },
     "execution_count": 63,
     "metadata": {},
     "output_type": "execute_result"
    }
   ],
   "source": [
    "# Subset dataframe for PIs who had more than zero NCI projects in 2015\n",
    "temp = DF[DF['Total_NCI_Projects_2015'] > 0] \n",
    "\n",
    "temp[\"PI_NAME\"].nunique()\n",
    "temp\n",
    "\n",
    "temp2 = temp [\"Total_NCI_Projects_2015\"].mean()\n",
    "temp2"
   ]
  },
  {
   "cell_type": "markdown",
   "metadata": {},
   "source": [
    "#### 3. For those who have at least one NCI funded project in 2017, how many NCI funded projects do they have on average? (1point)"
   ]
  },
  {
   "cell_type": "code",
   "execution_count": 64,
   "metadata": {},
   "outputs": [
    {
     "data": {
      "text/plain": [
       "1.75"
      ]
     },
     "execution_count": 64,
     "metadata": {},
     "output_type": "execute_result"
    }
   ],
   "source": [
    "# Subset dataframe for PIs who had more than zero NCI projects in 2017\n",
    "temp = DF[DF['Total_NCI_Projects_2017'] > 0] \n",
    "temp\n",
    "temp3=temp[\"Total_NCI_Projects_2017\"].mean()\n",
    "temp3"
   ]
  },
  {
   "cell_type": "markdown",
   "metadata": {},
   "source": [
    "#### 4. For the PIs who only had non-NCI Project(s) in 2015 but had at least one NCI project in 2017, what are the 5 most common ICs they are moving from (in total, not per PI)? (2points)"
   ]
  },
  {
   "cell_type": "code",
   "execution_count": 65,
   "metadata": {},
   "outputs": [
    {
     "data": {
      "text/html": [
       "<div>\n",
       "<style scoped>\n",
       "    .dataframe tbody tr th:only-of-type {\n",
       "        vertical-align: middle;\n",
       "    }\n",
       "\n",
       "    .dataframe tbody tr th {\n",
       "        vertical-align: top;\n",
       "    }\n",
       "\n",
       "    .dataframe thead th {\n",
       "        text-align: right;\n",
       "    }\n",
       "</style>\n",
       "<table border=\"1\" class=\"dataframe\">\n",
       "  <thead>\n",
       "    <tr style=\"text-align: right;\">\n",
       "      <th></th>\n",
       "      <th>PI_NAME</th>\n",
       "      <th>NCI_New_Total_Cost_2015</th>\n",
       "      <th>Total_Projects_2015</th>\n",
       "      <th>Total_Cost_All_2015</th>\n",
       "      <th>Total_NCI_Projects_2015</th>\n",
       "      <th>NCI_Total_Cost_2015</th>\n",
       "      <th>Total_New_NCI_Projects_2015</th>\n",
       "      <th>Most_common_IC_2015</th>\n",
       "      <th>Most_common_IC_Count_2015</th>\n",
       "      <th>Total_Projects_2017</th>\n",
       "      <th>Total_Cost_All_2017</th>\n",
       "      <th>Total_NCI_Projects_2017</th>\n",
       "      <th>NCI_Total_Cost_2017</th>\n",
       "      <th>Total_New_NCI_Projects_2017</th>\n",
       "      <th>NCI_New_Total_Cost_2017</th>\n",
       "      <th>Most_common_IC_2017</th>\n",
       "      <th>Most_common_IC_Count_2017</th>\n",
       "      <th>Change_in_NCI_Projects</th>\n",
       "      <th>Change_in_NCI_Cost</th>\n",
       "    </tr>\n",
       "  </thead>\n",
       "  <tbody>\n",
       "    <tr>\n",
       "      <th>73</th>\n",
       "      <td>DYNLACHT, BRIAN D</td>\n",
       "      <td>0.0</td>\n",
       "      <td>2.0</td>\n",
       "      <td>688410.0</td>\n",
       "      <td>0.0</td>\n",
       "      <td>0.0</td>\n",
       "      <td>0.0</td>\n",
       "      <td>NATIONAL INSTITUTE OF GENERAL MEDICAL SCIENCES</td>\n",
       "      <td>1.0</td>\n",
       "      <td>4.0</td>\n",
       "      <td>1152873.0</td>\n",
       "      <td>1.0</td>\n",
       "      <td>196577.0</td>\n",
       "      <td>1.0</td>\n",
       "      <td>196577.0</td>\n",
       "      <td>NATIONAL INSTITUTE OF GENERAL MEDICAL SCIENCES</td>\n",
       "      <td>2.0</td>\n",
       "      <td>1.0</td>\n",
       "      <td>196577.0</td>\n",
       "    </tr>\n",
       "    <tr>\n",
       "      <th>284</th>\n",
       "      <td>SCHMIDT, BRIAN L</td>\n",
       "      <td>0.0</td>\n",
       "      <td>1.0</td>\n",
       "      <td>396250.0</td>\n",
       "      <td>0.0</td>\n",
       "      <td>0.0</td>\n",
       "      <td>0.0</td>\n",
       "      <td>NATIONAL INSTITUTE OF DENTAL &amp; CRANIOFACIAL RESEARCH</td>\n",
       "      <td>1.0</td>\n",
       "      <td>3.0</td>\n",
       "      <td>1100085.0</td>\n",
       "      <td>1.0</td>\n",
       "      <td>587089.0</td>\n",
       "      <td>0.0</td>\n",
       "      <td>0.0</td>\n",
       "      <td>NATIONAL INSTITUTE OF DENTAL &amp; CRANIOFACIAL RESEARCH</td>\n",
       "      <td>2.0</td>\n",
       "      <td>1.0</td>\n",
       "      <td>587089.0</td>\n",
       "    </tr>\n",
       "  </tbody>\n",
       "</table>\n",
       "</div>"
      ],
      "text/plain": [
       "               PI_NAME  NCI_New_Total_Cost_2015  Total_Projects_2015  \\\n",
       "73   DYNLACHT, BRIAN D  0.0                      2.0                   \n",
       "284  SCHMIDT, BRIAN L   0.0                      1.0                   \n",
       "\n",
       "     Total_Cost_All_2015  Total_NCI_Projects_2015  NCI_Total_Cost_2015  \\\n",
       "73   688410.0             0.0                      0.0                   \n",
       "284  396250.0             0.0                      0.0                   \n",
       "\n",
       "     Total_New_NCI_Projects_2015  \\\n",
       "73   0.0                           \n",
       "284  0.0                           \n",
       "\n",
       "                                      Most_common_IC_2015  \\\n",
       "73   NATIONAL INSTITUTE OF GENERAL MEDICAL SCIENCES         \n",
       "284  NATIONAL INSTITUTE OF DENTAL & CRANIOFACIAL RESEARCH   \n",
       "\n",
       "     Most_common_IC_Count_2015  Total_Projects_2017  Total_Cost_All_2017  \\\n",
       "73   1.0                        4.0                  1152873.0             \n",
       "284  1.0                        3.0                  1100085.0             \n",
       "\n",
       "     Total_NCI_Projects_2017  NCI_Total_Cost_2017  \\\n",
       "73   1.0                      196577.0              \n",
       "284  1.0                      587089.0              \n",
       "\n",
       "     Total_New_NCI_Projects_2017  NCI_New_Total_Cost_2017  \\\n",
       "73   1.0                          196577.0                  \n",
       "284  0.0                          0.0                       \n",
       "\n",
       "                                      Most_common_IC_2017  \\\n",
       "73   NATIONAL INSTITUTE OF GENERAL MEDICAL SCIENCES         \n",
       "284  NATIONAL INSTITUTE OF DENTAL & CRANIOFACIAL RESEARCH   \n",
       "\n",
       "     Most_common_IC_Count_2017  Change_in_NCI_Projects  Change_in_NCI_Cost  \n",
       "73   2.0                        1.0                     196577.0            \n",
       "284  2.0                        1.0                     587089.0            "
      ]
     },
     "execution_count": 65,
     "metadata": {},
     "output_type": "execute_result"
    }
   ],
   "source": [
    "# Subset dataframe for PIs who had zero NCI projects in 2015\n",
    "# and more than zero projects in 2015\n",
    "# and more than zero NCI projects in 2017\n",
    "Converted_PIs = DF[(DF['Total_NCI_Projects_2015'] == 0) & \n",
    "           (DF['Total_Projects_2015'] > 0) &\n",
    "           (DF['Total_NCI_Projects_2017'] > 0)]\n",
    "Converted_PIs"
   ]
  },
  {
   "cell_type": "markdown",
   "metadata": {},
   "source": [
    "#### There are only 2 PI who only had non-NCI Project(s) in 2015 but had at least one NCI project in 2017. They are DYNLACHT, BRIAN D, and SCHMIDT, BRIAN L."
   ]
  },
  {
   "cell_type": "markdown",
   "metadata": {},
   "source": [
    "##### 5. Can we sum the `Total_Cost_All_2015` column in the `DF` dataframe to get the total cost of projects in 2015? Why or why not? (2points)\n",
    "- This is not a question you need code to answer, instead, create a Markdown cell, and answer in a complete sentence. "
   ]
  },
  {
   "cell_type": "markdown",
   "metadata": {},
   "source": [
    "#### No, because each project can have more than one PI, but each PI has one value of Total_Costs_All_2015 in the DF dataframe which in fact equals to the total cost of each project. If we sum them up, we will overcalculate the total costs of projects in 2015."
   ]
  }
 ],
 "metadata": {
  "anaconda-cloud": {},
  "kernelspec": {
   "display_name": "Python 3 (ipykernel)",
   "language": "python",
   "name": "python3"
  },
  "language_info": {
   "codemirror_mode": {
    "name": "ipython",
    "version": 3
   },
   "file_extension": ".py",
   "mimetype": "text/x-python",
   "name": "python",
   "nbconvert_exporter": "python",
   "pygments_lexer": "ipython3",
   "version": "3.9.13"
  }
 },
 "nbformat": 4,
 "nbformat_minor": 4
}
